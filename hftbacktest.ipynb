{
 "cells": [
  {
   "cell_type": "markdown",
   "metadata": {},
   "source": [
    "<div style=\"float:right; width:100px; text-align: center; margin: 10px;\">\n",
    "<img src=\"https://crypto-lake.com/assets/img/lake.png\" alt=\"Lake\"/>\n",
    "</div>\n",
    "\n",
    "# HFT backtest example\n",
    "\n",
    "We use [crypto-lake.com](https://crypto-lake.com/#data) sample/free market data.\n",
    "\n",
    "Quick links:\n",
    "- [edit this notebook online](https://mybinder.org/v2/gh/crypto-lake/analysis-sharing/main?filepath=hftbacktest.ipynb) using Binder\n",
    "- [follow our activity on twitter](https://twitter.com/intent/user?screen_name=crypto_lake_com)"
   ]
  },
  {
   "cell_type": "code",
   "execution_count": 1,
   "metadata": {},
   "outputs": [],
   "source": [
    "%load_ext autoreload\n",
    "%autoreload 2\n"
   ]
  },
  {
   "cell_type": "code",
   "execution_count": 2,
   "metadata": {},
   "outputs": [],
   "source": [
    "import datetime\n",
    "\n",
    "import pandas as pd\n",
    "import lakeapi\n",
    "import hftbacktest\n",
    "import lake_to_hftbacktest\n",
    "from numba import njit\n",
    "\n",
    "# lakeapi.use_sample_data(anonymous_access=True)\n"
   ]
  },
  {
   "cell_type": "code",
   "execution_count": 3,
   "metadata": {},
   "outputs": [],
   "source": [
    "# Parameters\n",
    "symbol = 'SOL-USDT'\n",
    "exchange = 'BINANCE'\n",
    "\n",
    "\n",
    "# Free sample data contain subset of the below time period\n",
    "start = datetime.datetime(2023, 12, 20)\n",
    "end = datetime.datetime(2023, 12, 22)\n"
   ]
  },
  {
   "cell_type": "markdown",
   "metadata": {},
   "source": [
    "## Data"
   ]
  },
  {
   "cell_type": "code",
   "execution_count": 4,
   "metadata": {},
   "outputs": [
    {
     "name": "stdout",
     "output_type": "stream",
     "text": [
      "Loading data\n"
     ]
    },
    {
     "data": {
      "application/vnd.jupyter.widget-view+json": {
       "model_id": "10510599cabc4d36b36d988325ca1795",
       "version_major": 2,
       "version_minor": 0
      },
      "text/plain": [
       "  0%|          | 0/2 [00:00<?, ?it/s]"
      ]
     },
     "metadata": {},
     "output_type": "display_data"
    },
    {
     "data": {
      "application/vnd.jupyter.widget-view+json": {
       "model_id": "ba69dda870a9407a88ad290bca9bdf43",
       "version_major": 2,
       "version_minor": 0
      },
      "text/plain": [
       "  0%|          | 0/2 [00:00<?, ?it/s]"
      ]
     },
     "metadata": {},
     "output_type": "display_data"
    }
   ],
   "source": [
    "print('Loading data')\n",
    "trades = lakeapi.load_data(\n",
    "    table = 'trades',\n",
    "    start = start,\n",
    "    end = end,\n",
    "    symbols = [symbol],\n",
    "    exchanges = [exchange],\n",
    "    drop_partition_cols = True,\n",
    ").sort_values('received_time')\n",
    "book = lakeapi.load_data(\n",
    "    table = 'book_delta_v2',\n",
    "    start = start,\n",
    "    end = end,\n",
    "    symbols = [symbol],\n",
    "    exchanges = [exchange],\n",
    "    drop_partition_cols = True,\n",
    ").sort_values('received_time')\n"
   ]
  },
  {
   "cell_type": "code",
   "execution_count": 5,
   "metadata": {},
   "outputs": [
    {
     "data": {
      "text/plain": [
       "796.1572408676147"
      ]
     },
     "execution_count": 5,
     "metadata": {},
     "output_type": "execute_result"
    }
   ],
   "source": [
    "book.memory_usage(deep=True).sum() / 1024**2\n"
   ]
  },
  {
   "cell_type": "code",
   "execution_count": 6,
   "metadata": {},
   "outputs": [
    {
     "data": {
      "text/html": [
       "<div>\n",
       "<style scoped>\n",
       "    .dataframe tbody tr th:only-of-type {\n",
       "        vertical-align: middle;\n",
       "    }\n",
       "\n",
       "    .dataframe tbody tr th {\n",
       "        vertical-align: top;\n",
       "    }\n",
       "\n",
       "    .dataframe thead th {\n",
       "        text-align: right;\n",
       "    }\n",
       "</style>\n",
       "<table border=\"1\" class=\"dataframe\">\n",
       "  <thead>\n",
       "    <tr style=\"text-align: right;\">\n",
       "      <th></th>\n",
       "      <th>side</th>\n",
       "      <th>quantity</th>\n",
       "      <th>price</th>\n",
       "      <th>trade_id</th>\n",
       "      <th>origin_time</th>\n",
       "      <th>received_time</th>\n",
       "    </tr>\n",
       "  </thead>\n",
       "  <tbody>\n",
       "    <tr>\n",
       "      <th>50477</th>\n",
       "      <td>buy</td>\n",
       "      <td>0.26</td>\n",
       "      <td>75.08</td>\n",
       "      <td>273042300</td>\n",
       "      <td>2023-12-20 04:19:48.719000064</td>\n",
       "      <td>2023-12-20 04:19:48.718803968</td>\n",
       "    </tr>\n",
       "    <tr>\n",
       "      <th>84634</th>\n",
       "      <td>sell</td>\n",
       "      <td>26.42</td>\n",
       "      <td>75.67</td>\n",
       "      <td>273076457</td>\n",
       "      <td>2023-12-20 07:17:26.040000000</td>\n",
       "      <td>2023-12-20 07:17:26.039465216</td>\n",
       "    </tr>\n",
       "    <tr>\n",
       "      <th>85716</th>\n",
       "      <td>sell</td>\n",
       "      <td>197.77</td>\n",
       "      <td>75.59</td>\n",
       "      <td>273077539</td>\n",
       "      <td>2023-12-20 07:25:42.822000128</td>\n",
       "      <td>2023-12-20 07:25:42.821731840</td>\n",
       "    </tr>\n",
       "    <tr>\n",
       "      <th>86333</th>\n",
       "      <td>buy</td>\n",
       "      <td>0.70</td>\n",
       "      <td>75.51</td>\n",
       "      <td>273078156</td>\n",
       "      <td>2023-12-20 07:32:31.742000128</td>\n",
       "      <td>2023-12-20 07:32:31.741917440</td>\n",
       "    </tr>\n",
       "    <tr>\n",
       "      <th>86688</th>\n",
       "      <td>sell</td>\n",
       "      <td>0.98</td>\n",
       "      <td>75.48</td>\n",
       "      <td>273078511</td>\n",
       "      <td>2023-12-20 07:36:05.150000128</td>\n",
       "      <td>2023-12-20 07:36:05.149893632</td>\n",
       "    </tr>\n",
       "    <tr>\n",
       "      <th>...</th>\n",
       "      <td>...</td>\n",
       "      <td>...</td>\n",
       "      <td>...</td>\n",
       "      <td>...</td>\n",
       "      <td>...</td>\n",
       "      <td>...</td>\n",
       "    </tr>\n",
       "    <tr>\n",
       "      <th>209636</th>\n",
       "      <td>buy</td>\n",
       "      <td>0.31</td>\n",
       "      <td>78.91</td>\n",
       "      <td>273203355</td>\n",
       "      <td>2023-12-20 14:08:39.488000000</td>\n",
       "      <td>2023-12-20 14:08:39.486791168</td>\n",
       "    </tr>\n",
       "    <tr>\n",
       "      <th>210418</th>\n",
       "      <td>sell</td>\n",
       "      <td>4.20</td>\n",
       "      <td>79.04</td>\n",
       "      <td>273204137</td>\n",
       "      <td>2023-12-20 14:10:25.019000064</td>\n",
       "      <td>2023-12-20 14:10:25.018881024</td>\n",
       "    </tr>\n",
       "    <tr>\n",
       "      <th>211078</th>\n",
       "      <td>sell</td>\n",
       "      <td>1.26</td>\n",
       "      <td>78.74</td>\n",
       "      <td>273204797</td>\n",
       "      <td>2023-12-20 14:12:34.342999808</td>\n",
       "      <td>2023-12-20 14:12:34.342224128</td>\n",
       "    </tr>\n",
       "    <tr>\n",
       "      <th>211974</th>\n",
       "      <td>sell</td>\n",
       "      <td>2.00</td>\n",
       "      <td>78.59</td>\n",
       "      <td>273205693</td>\n",
       "      <td>2023-12-20 14:15:10.252000000</td>\n",
       "      <td>2023-12-20 14:15:10.251852800</td>\n",
       "    </tr>\n",
       "    <tr>\n",
       "      <th>212929</th>\n",
       "      <td>sell</td>\n",
       "      <td>0.13</td>\n",
       "      <td>78.77</td>\n",
       "      <td>273206648</td>\n",
       "      <td>2023-12-20 14:17:39.642999808</td>\n",
       "      <td>2023-12-20 14:17:39.642552320</td>\n",
       "    </tr>\n",
       "  </tbody>\n",
       "</table>\n",
       "<p>348 rows × 6 columns</p>\n",
       "</div>"
      ],
      "text/plain": [
       "        side  quantity  price   trade_id                   origin_time  \\\n",
       "50477    buy      0.26  75.08  273042300 2023-12-20 04:19:48.719000064   \n",
       "84634   sell     26.42  75.67  273076457 2023-12-20 07:17:26.040000000   \n",
       "85716   sell    197.77  75.59  273077539 2023-12-20 07:25:42.822000128   \n",
       "86333    buy      0.70  75.51  273078156 2023-12-20 07:32:31.742000128   \n",
       "86688   sell      0.98  75.48  273078511 2023-12-20 07:36:05.150000128   \n",
       "...      ...       ...    ...        ...                           ...   \n",
       "209636   buy      0.31  78.91  273203355 2023-12-20 14:08:39.488000000   \n",
       "210418  sell      4.20  79.04  273204137 2023-12-20 14:10:25.019000064   \n",
       "211078  sell      1.26  78.74  273204797 2023-12-20 14:12:34.342999808   \n",
       "211974  sell      2.00  78.59  273205693 2023-12-20 14:15:10.252000000   \n",
       "212929  sell      0.13  78.77  273206648 2023-12-20 14:17:39.642999808   \n",
       "\n",
       "                       received_time  \n",
       "50477  2023-12-20 04:19:48.718803968  \n",
       "84634  2023-12-20 07:17:26.039465216  \n",
       "85716  2023-12-20 07:25:42.821731840  \n",
       "86333  2023-12-20 07:32:31.741917440  \n",
       "86688  2023-12-20 07:36:05.149893632  \n",
       "...                              ...  \n",
       "209636 2023-12-20 14:08:39.486791168  \n",
       "210418 2023-12-20 14:10:25.018881024  \n",
       "211078 2023-12-20 14:12:34.342224128  \n",
       "211974 2023-12-20 14:15:10.251852800  \n",
       "212929 2023-12-20 14:17:39.642552320  \n",
       "\n",
       "[348 rows x 6 columns]"
      ]
     },
     "execution_count": 6,
     "metadata": {},
     "output_type": "execute_result"
    }
   ],
   "source": [
    "# Wrong local-exchange time diff\n",
    "trades[trades.received_time < trades.origin_time][::100]\n"
   ]
  },
  {
   "cell_type": "code",
   "execution_count": 7,
   "metadata": {},
   "outputs": [
    {
     "data": {
      "application/vnd.jupyter.widget-view+json": {
       "model_id": "b181fbbd4ea7496ca90943f4d8f48b5a",
       "version_major": 2,
       "version_minor": 0
      },
      "text/plain": [
       "  0%|          | 0/17037375 [00:00<?, ?it/s]"
      ]
     },
     "metadata": {},
     "output_type": "display_data"
    },
    {
     "data": {
      "application/vnd.jupyter.widget-view+json": {
       "model_id": "6f60405350b24f0494873c36f0690eb7",
       "version_major": 2,
       "version_minor": 0
      },
      "text/plain": [
       "  0%|          | 0/1162256 [00:00<?, ?it/s]"
      ]
     },
     "metadata": {},
     "output_type": "display_data"
    },
    {
     "name": "stdout",
     "output_type": "stream",
     "text": [
      "Merging 1703237967.0982947\n",
      "Correcting 1703237968.7492285\n",
      "local_timestamp is ahead of exch_timestamp by 9905664.0\n",
      "1703237970.221567\n",
      "found 217266 rows that exch_timestamp is ahead of the previous exch_timestamp\n",
      "Correction is done.\n",
      "1703237970.5612276\n",
      "Saving to hftbacktest_data.npz\n",
      "1703237972.0816455\n"
     ]
    }
   ],
   "source": [
    "ret = None\n",
    "def convert():\n",
    "\tglobal ret\n",
    "\tret = lake_to_hftbacktest.convert(\n",
    "\t\tinput_dfs = [book, trades],\n",
    "\t\toutput_filename = 'hftbacktest_data.npz',\n",
    "\t\tmethod = 'keep',\n",
    "\t)\n",
    "\n",
    "# %prun convert()\n",
    "convert()\n"
   ]
  },
  {
   "cell_type": "code",
   "execution_count": 8,
   "metadata": {},
   "outputs": [],
   "source": [
    "np.set_printoptions(\n",
    "\t# suppress=True,\n",
    "\tlinewidth=180,\n",
    "\t# precision=9,\n",
    ")\n",
    "# (ret[10000:11000:100][:, [1,2]] / 1e9).astype(int)\n",
    "# (ret[2000:12000:1000][:, [1,2]] / 1e9).astype(int)\n",
    "# ret[9000:11000:100].astype(int)\n"
   ]
  },
  {
   "cell_type": "markdown",
   "metadata": {},
   "source": [
    "## Try out the data\n"
   ]
  },
  {
   "cell_type": "code",
   "execution_count": 9,
   "metadata": {},
   "outputs": [
    {
     "name": "stdout",
     "output_type": "stream",
     "text": [
      "Load hftbacktest_data.npz\n"
     ]
    }
   ],
   "source": [
    "hbt = hftbacktest.HftBacktest(\n",
    "    'hftbacktest_data.npz',\n",
    "    tick_size=0.01,   # Tick size of a target trading asset\n",
    "    lot_size=1,    # Lot size of a target trading asset, minimum trading unit.\n",
    "    maker_fee=0.0002, # 0.02%, Maker fee, rebates if it is negative.\n",
    "    taker_fee=0.0007, # 0.07%, Taker fee.\n",
    "    order_latency=hftbacktest.FeedLatency(), # Latency model: ConstantLatency, FeedLatency.\n",
    "    asset_type=hftbacktest.Linear, # Asset type: Linear, Inverse.\n",
    ")\n"
   ]
  },
  {
   "cell_type": "code",
   "execution_count": 15,
   "metadata": {},
   "outputs": [
    {
     "name": "stdout",
     "output_type": "stream",
     "text": [
      "Load hftbacktest_data.npz\n",
      "Running backtest\n",
      "timestamp_s: 1703074201.0 , best_bid: 76.62 , best_ask: 76.63 , position: 0.0 , equity: 0.0\n",
      "timestamp_s: 1703074801.0 , best_bid: 76.7 , best_ask: 76.71 , position: 10.0 , equity: 0.6967600000001364\n",
      "timestamp_s: 1703075401.0 , best_bid: 76.9 , best_ask: 76.91 , position: 10.0 , equity: 2.6967599999999092\n",
      "timestamp_s: 1703076001.0 , best_bid: 76.89 , best_ask: 76.9 , position: 20.0 , equity: 2.3929600000000453\n",
      "timestamp_s: 1703076601.0 , best_bid: 76.86 , best_ask: 76.87 , position: 30.0 , equity: 1.3891800000003638\n",
      "timestamp_s: 1703077201.0 , best_bid: 77.04 , best_ask: 77.05 , position: 40.0 , equity: 8.485460000000364\n",
      "timestamp_s: 1703077801.0 , best_bid: 77.79 , best_ask: 77.8 , position: 50.0 , equity: 45.88138000000009\n",
      "timestamp_s: 1703078401.0 , best_bid: 78.08 , best_ask: 78.09 , position: 60.0 , equity: 63.175800000000365\n",
      "timestamp_s: 1703079001.0 , best_bid: 78.2 , best_ask: 78.21 , position: 70.0 , equity: 71.46964000000109\n",
      "timestamp_s: 1703079601.0 , best_bid: 78.95 , best_ask: 78.96 , position: 80.0 , equity: 131.36324000000127\n",
      "timestamp_s: 1703080201.0 , best_bid: 78.92 , best_ask: 78.93 , position: 90.0 , equity: 128.55534000000074\n",
      "timestamp_s: 1703080801.0 , best_bid: 79.27 , best_ask: 79.28 , position: 100.0 , equity: 163.4475000000009\n",
      "timestamp_s: 1703081401.0 , best_bid: 78.94 , best_ask: 78.95 , position: 110.0 , equity: 127.03895999999818\n",
      "timestamp_s: 1703082001.0 , best_bid: 78.85 , best_ask: 78.86 , position: 120.0 , equity: 116.13108\n",
      "timestamp_s: 1703082601.0 , best_bid: 79.34 , best_ask: 79.35 , position: 130.0 , equity: 179.72338\n",
      "timestamp_s: 1703083201.0 , best_bid: 79.34 , best_ask: 79.35 , position: 140.0 , equity: 179.61469999999926\n",
      "timestamp_s: 1703083801.0 , best_bid: 79.08 , best_ask: 79.09 , position: 150.0 , equity: 140.5060200000022\n",
      "timestamp_s: 1703084401.0 , best_bid: 78.99 , best_ask: 79.0 , position: 160.0 , equity: 125.99786000000182\n",
      "timestamp_s: 1703085001.0 , best_bid: 80.4 , best_ask: 80.41 , position: 170.0 , equity: 365.5898800000018\n",
      "timestamp_s: 1703085601.0 , best_bid: 80.17 , best_ask: 80.19 , position: 180.0 , equity: 324.9790800000029\n",
      "timestamp_s: 1703086201.0 , best_bid: 80.57 , best_ask: 80.58 , position: 190.0 , equity: 399.9687400000007\n",
      "timestamp_s: 1703086801.0 , best_bid: 80.3 , best_ask: 80.31 , position: 200.0 , equity: 345.8576000000018\n",
      "timestamp_s: 1703087401.0 , best_bid: 80.4 , best_ask: 80.41 , position: 210.0 , equity: 366.7469999999993\n",
      "timestamp_s: 1703088001.0 , best_bid: 80.69 , best_ask: 80.7 , position: 220.0 , equity: 430.4361999999978\n",
      "timestamp_s: 1703088601.0 , best_bid: 80.54 , best_ask: 80.55 , position: 230.0 , equity: 395.8248200000007\n",
      "timestamp_s: 1703089201.0 , best_bid: 79.8 , best_ask: 79.81 , position: 240.0 , equity: 218.11373999999782\n",
      "timestamp_s: 1703089801.0 , best_bid: 79.49 , best_ask: 79.5 , position: 250.0 , equity: 140.50413999999708\n",
      "timestamp_s: 1703090401.0 , best_bid: 79.74 , best_ask: 79.75 , position: 260.0 , equity: 205.39515999999637\n",
      "timestamp_s: 1703091001.0 , best_bid: 79.93 , best_ask: 79.94 , position: 270.0 , equity: 256.5856799999949\n",
      "timestamp_s: 1703091601.0 , best_bid: 80.5 , best_ask: 80.51 , position: 280.0 , equity: 416.07581999999275\n",
      "timestamp_s: 1703092201.0 , best_bid: 80.46 , best_ask: 80.47 , position: 290.0 , equity: 404.3648199999971\n",
      "timestamp_s: 1703092801.0 , best_bid: 81.08 , best_ask: 81.09 , position: 300.0 , equity: 590.2539\n",
      "timestamp_s: 1703093401.0 , best_bid: 81.58 , best_ask: 81.59 , position: 310.0 , equity: 745.1417399999992\n",
      "timestamp_s: 1703094001.0 , best_bid: 81.98 , best_ask: 81.99 , position: 320.0 , equity: 873.0285799999986\n",
      "timestamp_s: 1703094601.0 , best_bid: 83.54 , best_ask: 83.56 , position: 330.0 , equity: 1389.364620000002\n",
      "timestamp_s: 1703095201.0 , best_bid: 83.24 , best_ask: 83.25 , position: 340.0 , equity: 1285.59754\n",
      "timestamp_s: 1703095801.0 , best_bid: 83.85 , best_ask: 83.86 , position: 350.0 , equity: 1498.9810599999955\n",
      "timestamp_s: 1703096401.0 , best_bid: 82.63 , best_ask: 82.64 , position: 360.0 , equity: 1059.663359999994\n",
      "timestamp_s: 1703097001.0 , best_bid: 82.2 , best_ask: 82.21 , position: 370.0 , equity: 900.4481000000022\n",
      "timestamp_s: 1703097601.0 , best_bid: 82.73 , best_ask: 82.74 , position: 370.0 , equity: 1096.548099999997\n",
      "timestamp_s: 1703098201.0 , best_bid: 83.19 , best_ask: 83.2 , position: 380.0 , equity: 1271.2326399999956\n",
      "timestamp_s: 1703098801.0 , best_bid: 82.91 , best_ask: 82.92 , position: 390.0 , equity: 1161.5003099999942\n",
      "timestamp_s: 1703099401.0 , best_bid: 82.49 , best_ask: 82.5 , position: 400.0 , equity: 993.3844899999971\n",
      "timestamp_s: 1703100001.0 , best_bid: 82.92 , best_ask: 82.93 , position: 420.0 , equity: 1176.6551100000029\n",
      "timestamp_s: 1703100601.0 , best_bid: 82.19 , best_ask: 82.2 , position: 430.0 , equity: 862.639269999997\n",
      "timestamp_s: 1703101201.0 , best_bid: 81.69 , best_ask: 81.7 , position: 440.0 , equity: 642.5248899999928\n",
      "timestamp_s: 1703101801.0 , best_bid: 81.47 , best_ask: 81.48 , position: 450.0 , equity: 543.4115099999956\n",
      "timestamp_s: 1703102401.0 , best_bid: 81.09 , best_ask: 81.1 , position: 460.0 , equity: 368.49856999999565\n",
      "timestamp_s: 1703103001.0 , best_bid: 79.82 , best_ask: 79.83 , position: 470.0 , equity: -228.5136100000029\n",
      "timestamp_s: 1703103601.0 , best_bid: 81.19 , best_ask: 81.2 , position: 480.0 , equity: 428.97674999999856\n",
      "timestamp_s: 1703104201.0 , best_bid: 80.41 , best_ask: 80.42 , position: 490.0 , equity: 46.664369999997085\n",
      "timestamp_s: 1703104801.0 , best_bid: 80.35 , best_ask: 80.36 , position: 500.0 , equity: 16.553549999999998\n",
      "timestamp_s: 1703105401.0 , best_bid: 79.89 , best_ask: 79.9 , position: 510.0 , equity: -218.15714999999562\n",
      "timestamp_s: 1703106001.0 , best_bid: 79.8 , best_ask: 79.81 , position: 520.0 , equity: -265.06692999999564\n",
      "timestamp_s: 1703106601.0 , best_bid: 80.46 , best_ask: 80.47 , position: 530.0 , equity: 84.62347000000291\n",
      "timestamp_s: 1703107201.0 , best_bid: 81.1 , best_ask: 81.11 , position: 540.0 , equity: 430.1125500000044\n",
      "timestamp_s: 1703107801.0 , best_bid: 81.18 , best_ask: 81.19 , position: 550.0 , equity: 474.00035\n",
      "timestamp_s: 1703108401.0 , best_bid: 80.54 , best_ask: 80.55 , position: 560.0 , equity: 115.48799000000145\n",
      "timestamp_s: 1703109001.0 , best_bid: 79.73 , best_ask: 79.74 , position: 570.0 , equity: -346.32309000000726\n",
      "timestamp_s: 1703109601.0 , best_bid: 79.94 , best_ask: 79.95 , position: 580.0 , equity: -224.63255000000873\n",
      "timestamp_s: 1703110201.0 , best_bid: 80.9 , best_ask: 80.91 , position: 590.0 , equity: 341.65756999998837\n",
      "timestamp_s: 1703110801.0 , best_bid: 81.54 , best_ask: 81.55 , position: 600.0 , equity: 725.5457699999913\n",
      "timestamp_s: 1703111401.0 , best_bid: 81.75 , best_ask: 81.76 , position: 610.0 , equity: 853.5326899999855\n",
      "timestamp_s: 1703112001.0 , best_bid: 81.8 , best_ask: 81.81 , position: 620.0 , equity: 884.4191899999956\n",
      "timestamp_s: 1703112601.0 , best_bid: 81.76 , best_ask: 81.77 , position: 630.0 , equity: 859.1055899999869\n",
      "timestamp_s: 1703113201.0 , best_bid: 81.62 , best_ask: 81.63 , position: 640.0 , equity: 769.3920699999912\n",
      "timestamp_s: 1703113801.0 , best_bid: 81.44 , best_ask: 81.45 , position: 650.0 , equity: 652.2788299999869\n",
      "timestamp_s: 1703114401.0 , best_bid: 81.64 , best_ask: 81.65 , position: 660.0 , equity: 784.1659499999971\n",
      "timestamp_s: 1703115001.0 , best_bid: 81.67 , best_ask: 81.68 , position: 670.0 , equity: 804.1526699999986\n",
      "timestamp_s: 1703115601.0 , best_bid: 81.92 , best_ask: 81.93 , position: 680.0 , equity: 974.0393300000014\n",
      "timestamp_s: 1703116201.0 , best_bid: 81.98 , best_ask: 81.99 , position: 690.0 , equity: 1015.3254899999986\n",
      "timestamp_s: 1703116801.0 , best_bid: 82.23 , best_ask: 82.24 , position: 700.0 , equity: 1190.2115299999941\n",
      "timestamp_s: 1703117401.0 , best_bid: 81.39 , best_ask: 81.4 , position: 710.0 , equity: 593.6970699999956\n",
      "timestamp_s: 1703118001.0 , best_bid: 82.3 , best_ask: 82.31 , position: 710.0 , equity: 1239.7970699999942\n",
      "timestamp_s: 1703118601.0 , best_bid: 82.19 , best_ask: 82.2 , position: 720.0 , equity: 1160.4824699999854\n",
      "timestamp_s: 1703119201.0 , best_bid: 83.0 , best_ask: 83.01 , position: 730.0 , equity: 1751.668089999984\n",
      "timestamp_s: 1703119801.0 , best_bid: 83.08 , best_ask: 83.09 , position: 740.0 , equity: 1810.7520899999986\n",
      "timestamp_s: 1703120401.0 , best_bid: 82.92 , best_ask: 82.93 , position: 750.0 , equity: 1690.6359299999942\n",
      "timestamp_s: 1703121001.0 , best_bid: 82.18 , best_ask: 82.19 , position: 760.0 , equity: 1128.1200899999883\n",
      "timestamp_s: 1703121601.0 , best_bid: 81.38 , best_ask: 81.39 , position: 780.0 , equity: 511.7929499999811\n",
      "timestamp_s: 1703122201.0 , best_bid: 82.24 , best_ask: 82.25 , position: 780.0 , equity: 1182.5929499999913\n",
      "timestamp_s: 1703122801.0 , best_bid: 82.31 , best_ask: 82.32 , position: 790.0 , equity: 1237.7784699999825\n",
      "timestamp_s: 1703123401.0 , best_bid: 82.8 , best_ask: 82.81 , position: 800.0 , equity: 1629.6638499999854\n",
      "timestamp_s: 1703124001.0 , best_bid: 82.76 , best_ask: 82.77 , position: 810.0 , equity: 1597.1482499999797\n",
      "timestamp_s: 1703124601.0 , best_bid: 81.91 , best_ask: 81.92 , position: 820.0 , equity: 900.032729999968\n",
      "timestamp_s: 1703125201.0 , best_bid: 83.9 , best_ask: 83.91 , position: 830.0 , equity: 2551.618909999968\n",
      "timestamp_s: 1703125801.0 , best_bid: 82.99 , best_ask: 83.0 , position: 840.0 , equity: 1787.1011099999766\n",
      "timestamp_s: 1703126401.0 , best_bid: 83.72 , best_ask: 83.73 , position: 850.0 , equity: 2407.4851299999796\n",
      "timestamp_s: 1703127001.0 , best_bid: 82.69 , best_ask: 82.7 , position: 860.0 , equity: 1521.5676899999796\n",
      "timestamp_s: 1703127601.0 , best_bid: 83.09 , best_ask: 83.1 , position: 870.0 , equity: 1869.4523099999826\n",
      "timestamp_s: 1703128201.0 , best_bid: 83.51 , best_ask: 83.52 , position: 880.0 , equity: 2238.9361299999914\n",
      "timestamp_s: 1703128801.0 , best_bid: 83.29 , best_ask: 83.3 , position: 890.0 , equity: 2043.0191099999913\n",
      "timestamp_s: 1703129401.0 , best_bid: 83.19 , best_ask: 83.2 , position: 900.0 , equity: 1952.9025299999942\n",
      "timestamp_s: 1703130001.0 , best_bid: 82.72 , best_ask: 82.73 , position: 910.0 , equity: 1525.08615\n",
      "timestamp_s: 1703130601.0 , best_bid: 83.0 , best_ask: 83.01 , position: 920.0 , equity: 1782.5707099999943\n",
      "timestamp_s: 1703131201.0 , best_bid: 83.36 , best_ask: 83.37 , position: 930.0 , equity: 2117.2547100000147\n",
      "timestamp_s: 1703131801.0 , best_bid: 83.29 , best_ask: 83.3 , position: 940.0 , equity: 2051.33799\n",
      "timestamp_s: 1703132401.0 , best_bid: 83.7 , best_ask: 83.71 , position: 950.0 , equity: 2440.7214100000174\n",
      "timestamp_s: 1703133001.0 , best_bid: 83.65 , best_ask: 83.66 , position: 960.0 , equity: 2392.604010000006\n",
      "timestamp_s: 1703133601.0 , best_bid: 84.12 , best_ask: 84.13 , position: 970.0 , equity: 2848.386710000003\n",
      "timestamp_s: 1703134201.0 , best_bid: 84.14 , best_ask: 84.15 , position: 980.0 , equity: 2867.8684700000117\n",
      "timestamp_s: 1703134801.0 , best_bid: 84.83 , best_ask: 84.84 , position: 990.0 , equity: 3550.8501900000206\n",
      "timestamp_s: 1703135401.0 , best_bid: 84.62 , best_ask: 84.63 , position: 1000.0 , equity: 3340.730530000009\n",
      "timestamp_s: 1703136001.0 , best_bid: 84.62 , best_ask: 84.63 , position: 1010.0 , equity: 3340.6112900000116\n",
      "timestamp_s: 1703136601.0 , best_bid: 84.3 , best_ask: 84.31 , position: 1020.0 , equity: 3014.09205000002\n",
      "timestamp_s: 1703137201.0 , best_bid: 84.01 , best_ask: 84.02 , position: 1030.0 , equity: 2715.2734500000115\n",
      "timestamp_s: 1703137801.0 , best_bid: 83.77 , best_ask: 83.78 , position: 1040.0 , equity: 2465.5554300000085\n",
      "timestamp_s: 1703138401.0 , best_bid: 83.96 , best_ask: 83.97 , position: 1050.0 , equity: 2664.9378900000115\n",
      "timestamp_s: 1703139001.0 , best_bid: 84.51 , best_ask: 84.52 , position: 1060.0 , equity: 3247.81997\n",
      "timestamp_s: 1703139601.0 , best_bid: 84.62 , best_ask: 84.63 , position: 1070.0 , equity: 3365.40095\n",
      "timestamp_s: 1703140201.0 , best_bid: 84.72 , best_ask: 84.73 , position: 1080.0 , equity: 3473.281710000003\n",
      "timestamp_s: 1703140801.0 , best_bid: 86.16 , best_ask: 86.17 , position: 1080.0 , equity: 5028.48171\n",
      "timestamp_s: 1703141401.0 , best_bid: 86.04 , best_ask: 86.05 , position: 1090.0 , equity: 4897.55939\n",
      "timestamp_s: 1703142001.0 , best_bid: 86.59 , best_ask: 86.6 , position: 1100.0 , equity: 5502.437310000003\n",
      "timestamp_s: 1703142601.0 , best_bid: 86.41 , best_ask: 86.42 , position: 1110.0 , equity: 5302.514130000003\n",
      "timestamp_s: 1703143201.0 , best_bid: 86.07 , best_ask: 86.08 , position: 1120.0 , equity: 4921.5913100000025\n",
      "timestamp_s: 1703143801.0 , best_bid: 86.19 , best_ask: 86.2 , position: 1130.0 , equity: 5057.069169999997\n",
      "timestamp_s: 1703144401.0 , best_bid: 86.14 , best_ask: 86.15 , position: 1140.0 , equity: 4999.946790000029\n",
      "timestamp_s: 1703145001.0 , best_bid: 86.54 , best_ask: 86.55 , position: 1150.0 , equity: 5459.824510000018\n",
      "timestamp_s: 1703145601.0 , best_bid: 86.84 , best_ask: 86.85 , position: 1160.0 , equity: 5807.70143000002\n",
      "timestamp_s: 1703146201.0 , best_bid: 86.95 , best_ask: 86.96 , position: 1170.0 , equity: 5936.277750000049\n",
      "timestamp_s: 1703146801.0 , best_bid: 86.85 , best_ask: 86.86 , position: 1180.0 , equity: 5818.153850000038\n",
      "timestamp_s: 1703147401.0 , best_bid: 86.71 , best_ask: 86.72 , position: 1190.0 , equity: 5651.430150000035\n",
      "timestamp_s: 1703148001.0 , best_bid: 86.52 , best_ask: 86.53 , position: 1200.0 , equity: 5423.306730000023\n",
      "timestamp_s: 1703148601.0 , best_bid: 86.15 , best_ask: 86.16 , position: 1210.0 , equity: 4975.483690000029\n",
      "timestamp_s: 1703149201.0 , best_bid: 86.03 , best_ask: 86.04 , position: 1220.0 , equity: 4828.961390000023\n",
      "timestamp_s: 1703149801.0 , best_bid: 86.28 , best_ask: 86.29 , position: 1230.0 , equity: 5136.339330000026\n",
      "timestamp_s: 1703150401.0 , best_bid: 86.12 , best_ask: 86.13 , position: 1240.0 , equity: 4937.81677000002\n",
      "timestamp_s: 1703151001.0 , best_bid: 85.67 , best_ask: 85.68 , position: 1250.0 , equity: 4375.194530000038\n",
      "timestamp_s: 1703151601.0 , best_bid: 85.54 , best_ask: 85.56 , position: 1260.0 , equity: 4217.573190000041\n",
      "timestamp_s: 1703152201.0 , best_bid: 85.3 , best_ask: 85.31 , position: 1270.0 , equity: 3906.352110000038\n",
      "timestamp_s: 1703152801.0 , best_bid: 86.31 , best_ask: 86.32 , position: 1280.0 , equity: 5199.031510000029\n",
      "timestamp_s: 1703153401.0 , best_bid: 86.84 , best_ask: 86.85 , position: 1290.0 , equity: 5882.6088900000295\n",
      "timestamp_s: 1703154001.0 , best_bid: 86.79 , best_ask: 86.8 , position: 1300.0 , equity: 5817.485210000032\n",
      "timestamp_s: 1703154601.0 , best_bid: 87.63 , best_ask: 87.64 , position: 1310.0 , equity: 6917.761630000029\n",
      "timestamp_s: 1703155201.0 , best_bid: 87.76 , best_ask: 87.77 , position: 1320.0 , equity: 7089.236370000038\n",
      "timestamp_s: 1703155801.0 , best_bid: 87.98 , best_ask: 87.99 , position: 1330.0 , equity: 7381.710850000032\n",
      "timestamp_s: 1703156401.0 , best_bid: 87.44 , best_ask: 87.45 , position: 1340.0 , equity: 6657.984890000014\n",
      "timestamp_s: 1703157001.0 , best_bid: 87.39 , best_ask: 87.4 , position: 1350.0 , equity: 6590.360010000047\n",
      "timestamp_s: 1703157601.0 , best_bid: 86.95 , best_ask: 86.96 , position: 1360.0 , equity: 5991.835230000055\n",
      "timestamp_s: 1703158201.0 , best_bid: 87.28 , best_ask: 87.29 , position: 1370.0 , equity: 6443.811330000035\n",
      "timestamp_s: 1703158801.0 , best_bid: 87.61 , best_ask: 87.62 , position: 1380.0 , equity: 6899.086770000046\n",
      "timestamp_s: 1703159401.0 , best_bid: 87.19 , best_ask: 87.2 , position: 1390.0 , equity: 6315.161550000017\n",
      "timestamp_s: 1703160001.0 , best_bid: 87.01 , best_ask: 87.02 , position: 1400.0 , equity: 6063.037170000035\n",
      "timestamp_s: 1703160601.0 , best_bid: 87.86 , best_ask: 87.87 , position: 1400.0 , equity: 7253.03717000005\n",
      "timestamp_s: 1703161201.0 , best_bid: 87.55 , best_ask: 87.56 , position: 1410.0 , equity: 6815.811450000032\n",
      "timestamp_s: 1703161801.0 , best_bid: 87.44 , best_ask: 87.45 , position: 1420.0 , equity: 6659.486350000023\n",
      "timestamp_s: 1703162401.0 , best_bid: 87.2 , best_ask: 87.21 , position: 1430.0 , equity: 6316.161470000058\n",
      "timestamp_s: 1703163001.0 , best_bid: 86.73 , best_ask: 86.74 , position: 1450.0 , equity: 5636.313050000029\n",
      "timestamp_s: 1703163601.0 , best_bid: 86.64 , best_ask: 86.65 , position: 1460.0 , equity: 5504.789590000038\n",
      "timestamp_s: 1703164201.0 , best_bid: 86.82 , best_ask: 86.83 , position: 1470.0 , equity: 5769.266310000032\n",
      "timestamp_s: 1703164801.0 , best_bid: 86.89 , best_ask: 86.9 , position: 1480.0 , equity: 5872.742670000055\n",
      "timestamp_s: 1703165401.0 , best_bid: 87.04 , best_ask: 87.05 , position: 1490.0 , equity: 6096.118890000043\n",
      "timestamp_s: 1703166001.0 , best_bid: 87.43 , best_ask: 87.44 , position: 1500.0 , equity: 6680.9948100000465\n",
      "timestamp_s: 1703166601.0 , best_bid: 87.42 , best_ask: 87.43 , position: 1510.0 , equity: 6665.769950000073\n",
      "timestamp_s: 1703167201.0 , best_bid: 87.81 , best_ask: 87.82 , position: 1520.0 , equity: 7258.445110000035\n",
      "timestamp_s: 1703167801.0 , best_bid: 87.09 , best_ask: 87.1 , position: 1530.0 , equity: 6156.719490000047\n",
      "timestamp_s: 1703168401.0 , best_bid: 86.25 , best_ask: 86.26 , position: 1540.0 , equity: 4862.995310000029\n",
      "timestamp_s: 1703169001.0 , best_bid: 85.98 , best_ask: 85.99 , position: 1550.0 , equity: 4444.372810000046\n",
      "timestamp_s: 1703169601.0 , best_bid: 86.76 , best_ask: 86.77 , position: 1560.0 , equity: 5661.050850000038\n",
      "timestamp_s: 1703170201.0 , best_bid: 86.64 , best_ask: 86.65 , position: 1570.0 , equity: 5472.527330000061\n",
      "timestamp_s: 1703170801.0 , best_bid: 86.17 , best_ask: 86.18 , position: 1580.0 , equity: 4729.804050000058\n",
      "timestamp_s: 1703171401.0 , best_bid: 86.38 , best_ask: 86.39 , position: 1590.0 , equity: 5063.581710000011\n",
      "timestamp_s: 1703172001.0 , best_bid: 87.31 , best_ask: 87.32 , position: 1600.0 , equity: 6551.458950000029\n",
      "timestamp_s: 1703172601.0 , best_bid: 87.56 , best_ask: 87.57 , position: 1610.0 , equity: 6953.834330000018\n",
      "timestamp_s: 1703173201.0 , best_bid: 87.21 , best_ask: 87.22 , position: 1620.0 , equity: 6386.709210000035\n",
      "timestamp_s: 1703173801.0 , best_bid: 87.38 , best_ask: 87.39 , position: 1630.0 , equity: 6663.68479\n",
      "timestamp_s: 1703174401.0 , best_bid: 87.48 , best_ask: 87.49 , position: 1640.0 , equity: 6827.560030000018\n",
      "timestamp_s: 1703175001.0 , best_bid: 88.98 , best_ask: 88.99 , position: 1640.0 , equity: 9287.560030000017\n",
      "timestamp_s: 1703175601.0 , best_bid: 88.9 , best_ask: 88.91 , position: 1650.0 , equity: 9155.432070000035\n",
      "timestamp_s: 1703176201.0 , best_bid: 88.56 , best_ask: 88.57 , position: 1660.0 , equity: 8590.90427000003\n",
      "timestamp_s: 1703176801.0 , best_bid: 88.48 , best_ask: 88.49 , position: 1670.0 , equity: 8457.177150000041\n",
      "timestamp_s: 1703177401.0 , best_bid: 88.96 , best_ask: 88.97 , position: 1680.0 , equity: 9263.450190000052\n",
      "timestamp_s: 1703178001.0 , best_bid: 89.35 , best_ask: 89.36 , position: 1680.0 , equity: 9918.650190000035\n",
      "timestamp_s: 1703178601.0 , best_bid: 88.8 , best_ask: 88.81 , position: 1700.0 , equity: 8987.293570000034\n",
      "timestamp_s: 1703179201.0 , best_bid: 89.09 , best_ask: 89.1 , position: 1710.0 , equity: 9483.065970000047\n",
      "timestamp_s: 1703179801.0 , best_bid: 92.09 , best_ask: 92.1 , position: 1710.0 , equity: 14613.065970000047\n",
      "timestamp_s: 1703180401.0 , best_bid: 92.78 , best_ask: 92.79 , position: 1720.0 , equity: 15799.731790000023\n",
      "timestamp_s: 1703181001.0 , best_bid: 92.75 , best_ask: 92.76 , position: 1730.0 , equity: 15747.696230000047\n",
      "timestamp_s: 1703181601.0 , best_bid: 92.52 , best_ask: 92.53 , position: 1740.0 , equity: 15347.360730000053\n",
      "timestamp_s: 1703182201.0 , best_bid: 93.13 , best_ask: 93.14 , position: 1750.0 , equity: 16414.72569000001\n",
      "timestamp_s: 1703182801.0 , best_bid: 93.84 , best_ask: 93.86 , position: 1760.0 , equity: 17672.989430000052\n",
      "timestamp_s: 1703183401.0 , best_bid: 94.19 , best_ask: 94.2 , position: 1770.0 , equity: 18283.551750000053\n",
      "timestamp_s: 1703184001.0 , best_bid: 93.61 , best_ask: 93.62 , position: 1780.0 , equity: 17251.013370000077\n",
      "timestamp_s: 1703184601.0 , best_bid: 92.4 , best_ask: 92.41 , position: 1790.0 , equity: 15084.97615000007\n",
      "timestamp_s: 1703185201.0 , best_bid: 91.78 , best_ask: 91.79 , position: 1800.0 , equity: 13968.841350000059\n",
      "timestamp_s: 1703185801.0 , best_bid: 92.57 , best_ask: 92.58 , position: 1800.0 , equity: 15390.841350000059\n",
      "timestamp_s: 1703186401.0 , best_bid: 91.69 , best_ask: 91.7 , position: 1820.0 , equity: 13796.872650000052\n",
      "timestamp_s: 1703187001.0 , best_bid: 91.84 , best_ask: 91.85 , position: 1830.0 , equity: 14071.23927000007\n",
      "timestamp_s: 1703187601.0 , best_bid: 92.18 , best_ask: 92.19 , position: 1840.0 , equity: 14696.705590000063\n",
      "timestamp_s: 1703188201.0 , best_bid: 92.24 , best_ask: 92.25 , position: 1850.0 , equity: 14807.571230000081\n",
      "timestamp_s: 1703188801.0 , best_bid: 92.89 , best_ask: 92.9 , position: 1860.0 , equity: 16016.436750000099\n",
      "timestamp_s: 1703189401.0 , best_bid: 92.99 , best_ask: 93.0 , position: 1870.0 , equity: 16203.300970000088\n",
      "timestamp_s: 1703190001.0 , best_bid: 92.58 , best_ask: 92.59 , position: 1880.0 , equity: 15432.364990000116\n",
      "timestamp_s: 1703190601.0 , best_bid: 93.33 , best_ask: 93.34 , position: 1890.0 , equity: 16849.729830000135\n",
      "timestamp_s: 1703191201.0 , best_bid: 93.02 , best_ask: 93.03 , position: 1900.0 , equity: 16260.593170000122\n",
      "timestamp_s: 1703191801.0 , best_bid: 92.63 , best_ask: 92.64 , position: 1910.0 , equity: 15515.557130000087\n",
      "timestamp_s: 1703192401.0 , best_bid: 93.08 , best_ask: 93.09 , position: 1920.0 , equity: 16379.421870000135\n",
      "timestamp_s: 1703193001.0 , best_bid: 92.37 , best_ask: 92.38 , position: 1930.0 , equity: 15008.985710000134\n",
      "timestamp_s: 1703193601.0 , best_bid: 92.2 , best_ask: 92.21 , position: 1940.0 , equity: 14679.050970000133\n",
      "timestamp_s: 1703194201.0 , best_bid: 91.95 , best_ask: 91.96 , position: 1950.0 , equity: 14191.416570000152\n",
      "timestamp_s: 1703194801.0 , best_bid: 91.88 , best_ask: 91.89 , position: 1960.0 , equity: 14054.0826700001\n",
      "timestamp_s: 1703195401.0 , best_bid: 91.3 , best_ask: 91.31 , position: 1970.0 , equity: 12911.348910000139\n",
      "timestamp_s: 1703196001.0 , best_bid: 92.1 , best_ask: 92.11 , position: 1980.0 , equity: 14495.216310000129\n",
      "timestamp_s: 1703196601.0 , best_bid: 92.53 , best_ask: 92.54 , position: 1990.0 , equity: 15350.782110000127\n",
      "timestamp_s: 1703197201.0 , best_bid: 93.06 , best_ask: 93.07 , position: 2000.0 , equity: 16410.647050000145\n",
      "timestamp_s: 1703197801.0 , best_bid: 93.57 , best_ask: 93.58 , position: 2010.0 , equity: 17435.61093000014\n",
      "timestamp_s: 1703198401.0 , best_bid: 93.93 , best_ask: 93.94 , position: 2020.0 , equity: 18162.67379000014\n",
      "timestamp_s: 1703199001.0 , best_bid: 94.34 , best_ask: 94.35 , position: 2020.0 , equity: 18990.87379000012\n",
      "timestamp_s: 1703199601.0 , best_bid: 94.6 , best_ask: 94.61 , position: 2030.0 , equity: 19518.535110000128\n",
      "timestamp_s: 1703200201.0 , best_bid: 95.14 , best_ask: 95.15 , position: 2040.0 , equity: 20619.99591000015\n",
      "timestamp_s: 1703200801.0 , best_bid: 93.86 , best_ask: 93.87 , position: 2060.0 , equity: 17995.017770000173\n",
      "timestamp_s: 1703201401.0 , best_bid: 94.07 , best_ask: 94.08 , position: 2070.0 , equity: 18429.580050000146\n",
      "timestamp_s: 1703202001.0 , best_bid: 93.72 , best_ask: 93.73 , position: 2080.0 , equity: 17701.441910000132\n",
      "timestamp_s: 1703202601.0 , best_bid: 93.92 , best_ask: 93.93 , position: 2080.0 , equity: 18117.44191000016\n"
     ]
    },
    {
     "data": {
      "text/plain": [
       "False"
      ]
     },
     "execution_count": 15,
     "metadata": {},
     "output_type": "execute_result"
    }
   ],
   "source": [
    "@njit(cache=True)\n",
    "def dca_every_10m(hbt, recorder):\n",
    "    ''' DCA with 10min frequency using limit order on best bid '''\n",
    "    order_id = 1\n",
    "    while hbt.run:\n",
    "        # Times are in nanoseconds\n",
    "        if not hbt.elapse(10 * 60 * 1e9):\n",
    "            return False\n",
    "        if hbt.best_bid < 0:\n",
    "            # We don't have data at the moment\n",
    "            continue\n",
    "\n",
    "        print(\n",
    "            'timestamp_s:', hbt.current_timestamp // 1e9,\n",
    "            ', best_bid:', round(hbt.best_bid, 9),\n",
    "            ', best_ask:', round(hbt.best_ask, 9),\n",
    "            ', position:', hbt.position,\n",
    "            ', equity:', hbt.equity,\n",
    "        )\n",
    "        # Record statistics for analysis in the next cell\n",
    "        recorder.record(hbt)\n",
    "        hbt.clear_inactive_orders()\n",
    "        # Try to buy some tokens every 10 minutes\n",
    "        hbt.submit_buy_order(order_id, hbt.best_bid, 10, hftbacktest.GTC)\n",
    "        order_id += 1\n",
    "    return True\n",
    "\n",
    "\n",
    "if not hbt.run:\n",
    "\t# If backtest already run and finished, reset it to be able to run this cell again\n",
    "\thftbacktest.reset(hbt, 'hftbacktest_data.npz')\n",
    "\n",
    "print('Running backtest')\n",
    "stat = hftbacktest.Stat(hbt, unit = 'ns')\n",
    "dca_every_10m(hbt, stat.recorder)\n"
   ]
  },
  {
   "cell_type": "code",
   "execution_count": 17,
   "metadata": {},
   "outputs": [
    {
     "name": "stdout",
     "output_type": "stream",
     "text": [
      "=========== Summary ===========\n",
      "Sharpe ratio: 26.3\n",
      "Sortino ratio: 50.0\n",
      "Risk return ratio: 934.5\n",
      "Annualised return: 4449.78 %\n",
      "Max. draw down: 4.76 %\n",
      "The number of trades per day: 93\n",
      "Avg. daily trading volume: 936\n",
      "Avg. daily trading amount: 77741\n",
      "Max leverage: 1.95\n",
      "Median leverage: 0.88\n"
     ]
    },
    {
     "data": {
      "image/png": "[encoded data removed]",
      "text/plain": [
       "<Figure size 1000x600 with 2 Axes>"
      ]
     },
     "metadata": {},
     "output_type": "display_data"
    }
   ],
   "source": [
    "stat.summary(capital=100_000, resample='15min')\n"
   ]
  },
  {
   "cell_type": "code",
   "execution_count": 18,
   "metadata": {},
   "outputs": [
    {
     "name": "stdout",
     "output_type": "stream",
     "text": [
      "                          book: 796.2 MiB\n",
      "                        trades: 62.1 MiB\n",
      "                            _6: 16.9 KiB\n",
      "                          _i13:  1.2 KiB\n",
      "                          _i10:  1.2 KiB\n",
      "                          _iii:  1.2 KiB\n",
      "                          _i15:  1.2 KiB\n",
      "                           _i4:  684.0 B\n",
      "                          _i12:  640.0 B\n",
      "                          _i18:  640.0 B\n"
     ]
    }
   ],
   "source": [
    "# DEBUG: Show notebook locals sorted by size\n",
    "import sys\n",
    "def sizeof_fmt(num, suffix='B'):\n",
    "    ''' by Fred Cirera,  https://stackoverflow.com/a/1094933/1870254, modified'''\n",
    "    for unit in ['','Ki','Mi','Gi','Ti','Pi','Ei','Zi']:\n",
    "        if abs(num) < 1024.0:\n",
    "            return \"%3.1f %s%s\" % (num, unit, suffix)\n",
    "        num /= 1024.0\n",
    "    return \"%.1f %s%s\" % (num, 'Yi', suffix)\n",
    "\n",
    "for name, size in sorted(((name, sys.getsizeof(value)) for name, value in list(\n",
    "                          locals().items())), key= lambda x: -x[1])[:10]:\n",
    "    print(\"{:>30}: {:>8}\".format(name, sizeof_fmt(size)))\n"
   ]
  }
 ],
 "metadata": {
  "kernelspec": {
   "display_name": "Python 3.10.6 ('env': venv)",
   "language": "python",
   "name": "python3"
  },
  "language_info": {
   "codemirror_mode": {
    "name": "ipython",
    "version": 3
   },
   "file_extension": ".py",
   "mimetype": "text/x-python",
   "name": "python",
   "nbconvert_exporter": "python",
   "pygments_lexer": "ipython3",
   "version": "3.11.4"
  },
  "orig_nbformat": 4,
  "vscode": {
   "interpreter": {
    "hash": "7291192e6945a3c8ed0f956f4124ad6de62ed7ea9152f7ae8e29637075883be3"
   }
  }
 },
 "nbformat": 4,
 "nbformat_minor": 2
}
