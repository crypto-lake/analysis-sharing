{
 "cells": [
  {
   "cell_type": "markdown",
   "metadata": {},
   "source": [
    "<div style=\"float:right; width:100px; text-align: center; margin: 10px;\">\n",
    "<img src=\"https://crypto-lake.com/assets/img/lake.png\" alt=\"Lake\"/>\n",
    "</div>\n",
    "\n",
    "# HFT backtest example\n",
    "\n",
    "We use [crypto-lake.com](https://crypto-lake.com/#data) sample/free market data.\n",
    "\n",
    "This is alpha version, not ready for usage yet.\n",
    "\n",
    "TODO for higher performance and precision on bigger tokens (BTC, ETH, ...):\n",
    "- update book_delta data to have structure without nesting\n",
    "- migrate old book_delta data to new structure\n",
    "- load book_delta data and implement conversion to hftbacktest\n",
    "\n",
    "Quick links:\n",
    "- [edit this notebook online](https://mybinder.org/v2/gh/crypto-lake/analysis-sharing/main?filepath=hftbacktest.ipynb) using Binder\n",
    "- [follow our activity on twitter](https://twitter.com/intent/user?screen_name=crypto_lake_com)"
   ]
  },
  {
   "cell_type": "code",
   "execution_count": 1,
   "metadata": {},
   "outputs": [],
   "source": [
    "%load_ext autoreload\n",
    "%autoreload 2\n"
   ]
  },
  {
   "cell_type": "code",
   "execution_count": 2,
   "metadata": {},
   "outputs": [],
   "source": [
    "import datetime\n",
    "\n",
    "import pandas as pd\n",
    "import lakeapi\n",
    "import hftbacktest\n",
    "import lake_to_hftbacktest\n",
    "from numba import njit\n",
    "\n",
    "# cf.go_offline()\n",
    "\n",
    "# lakeapi.use_sample_data(anonymous_access=True)\n"
   ]
  },
  {
   "cell_type": "code",
   "execution_count": 3,
   "metadata": {},
   "outputs": [],
   "source": [
    "# Parameters\n",
    "# symbol = 'FTRB-USDT'\n",
    "# exchange = 'ASCENDEX'\n",
    "symbol = 'SOL-USDT'\n",
    "exchange = 'BINANCE'\n",
    "\n",
    "\n",
    "# Free sample data contain subset of the below time period\n",
    "# start = datetime.datetime(2022, 11, 1)\n",
    "# end = datetime.datetime(2022, 11, 2)\n",
    "start = datetime.datetime(2023, 12, 20)\n",
    "end = datetime.datetime(2023, 12, 21)\n"
   ]
  },
  {
   "cell_type": "markdown",
   "metadata": {},
   "source": [
    "## Data"
   ]
  },
  {
   "cell_type": "code",
   "execution_count": 7,
   "metadata": {},
   "outputs": [
    {
     "name": "stdout",
     "output_type": "stream",
     "text": [
      "Loading data\n"
     ]
    },
    {
     "data": {
      "application/vnd.jupyter.widget-view+json": {
       "model_id": "f0d5338184724a24a79df2e492517eff",
       "version_major": 2,
       "version_minor": 0
      },
      "text/plain": [
       "  0%|          | 0/1 [00:00<?, ?it/s]"
      ]
     },
     "metadata": {},
     "output_type": "display_data"
    },
    {
     "data": {
      "application/vnd.jupyter.widget-view+json": {
       "model_id": "a67b9aa6add947869d5046fcac0b15d5",
       "version_major": 2,
       "version_minor": 0
      },
      "text/plain": [
       "  0%|          | 0/1 [00:00<?, ?it/s]"
      ]
     },
     "metadata": {},
     "output_type": "display_data"
    }
   ],
   "source": [
    "print('Loading data')\n",
    "trades = lakeapi.load_data(\n",
    "    table = 'trades',\n",
    "    start = start,\n",
    "    end = end,\n",
    "    symbols = [symbol],\n",
    "    exchanges = [exchange],\n",
    "    drop_partition_cols = True,\n",
    ").sort_values('received_time')\n",
    "# book = lakeapi.load_data(\n",
    "#     table = 'book',\n",
    "#     start = start,\n",
    "#     end = end,\n",
    "#     symbols = [symbol],\n",
    "#     exchanges = [exchange],\n",
    "#     drop_partition_cols = True,\n",
    "# ).sort_values('received_time')\n",
    "book = lakeapi.load_data(\n",
    "    table = 'book_delta_v2',\n",
    "    start = start,\n",
    "    end = end,\n",
    "    symbols = [symbol],\n",
    "    exchanges = [exchange],\n",
    "    drop_partition_cols = True,\n",
    ").sort_values('received_time')\n"
   ]
  },
  {
   "cell_type": "code",
   "execution_count": 14,
   "metadata": {},
   "outputs": [
    {
     "name": "stderr",
     "output_type": "stream",
     "text": [
      " 48%|████▊     | 2634474/5434573 [03:56<05:04, 9203.21it/s] "
     ]
    }
   ],
   "source": [
    "ret = lake_to_hftbacktest.convert(\n",
    "\tinput_dfs = [book, trades],\n",
    "\toutput_filename = 'hftbacktest_data.npz',\n",
    ")\n"
   ]
  },
  {
   "cell_type": "code",
   "execution_count": 10,
   "metadata": {},
   "outputs": [
    {
     "data": {
      "text/plain": [
       "0"
      ]
     },
     "execution_count": 10,
     "metadata": {},
     "output_type": "execute_result"
    }
   ],
   "source": [
    "book.iloc[0].origin_time.value\n"
   ]
  },
  {
   "cell_type": "markdown",
   "metadata": {},
   "source": [
    "## Try out the data\n"
   ]
  },
  {
   "cell_type": "code",
   "execution_count": 4,
   "metadata": {},
   "outputs": [
    {
     "name": "stdout",
     "output_type": "stream",
     "text": [
      "Load hftbacktest_data.npz\n"
     ]
    }
   ],
   "source": [
    "hbt = hftbacktest.HftBacktest(\n",
    "    'hftbacktest_data.npz',\n",
    "    tick_size=0.000001,   # Tick size of a target trading asset\n",
    "    lot_size=1,    # Lot size of a target trading asset, minimum trading unit.\n",
    "    maker_fee=0.0002, # 0.02%, Maker fee, rebates if it is negative.\n",
    "    taker_fee=0.0007, # 0.07%, Taker fee.\n",
    "    order_latency=hftbacktest.FeedLatency(), # Latency model: ConstantLatency, FeedLatency.\n",
    "    asset_type=hftbacktest.Linear, # Asset type: Linear, Inverse.\n",
    ")\n"
   ]
  },
  {
   "cell_type": "code",
   "execution_count": 7,
   "metadata": {},
   "outputs": [
    {
     "name": "stdout",
     "output_type": "stream",
     "text": [
      "Load hftbacktest_data.npz\n",
      "Running backtest\n",
      "timestamp_s: 1667320796.0 , best_bid: 0.015991 , best_ask: 0.016005 , position: 0.0 , equity: 0.0\n",
      "timestamp_s: 1667321396.0 , best_bid: 0.016064 , best_ask: 0.016073 , position: 0.0 , equity: 0.0\n",
      "timestamp_s: 1667321996.0 , best_bid: 0.016017 , best_ask: 0.016026 , position: 10000.0 , equity: -0.45712799999998294\n",
      "timestamp_s: 1667322596.0 , best_bid: 0.016005 , best_ask: 0.016015 , position: 20000.0 , equity: -0.6741620000000137\n",
      "timestamp_s: 1667323196.0 , best_bid: 0.016005 , best_ask: 0.016015 , position: 20000.0 , equity: -0.6741620000000137\n",
      "timestamp_s: 1667323796.0 , best_bid: 0.016005 , best_ask: 0.016015 , position: 20000.0 , equity: -0.6741620000000137\n",
      "timestamp_s: 1667324396.0 , best_bid: 0.016009 , best_ask: 0.016018 , position: 20000.0 , equity: -0.6041619999999637\n",
      "timestamp_s: 1667324996.0 , best_bid: 0.0161 , best_ask: 0.01611 , position: 20000.0 , equity: 1.2258380000000773\n",
      "timestamp_s: 1667325596.0 , best_bid: 0.016199 , best_ask: 0.016209 , position: 20000.0 , equity: 3.2058379999999818\n",
      "timestamp_s: 1667326196.0 , best_bid: 0.01619 , best_ask: 0.0162 , position: 20000.0 , equity: 3.0258380000000886\n",
      "timestamp_s: 1667326796.0 , best_bid: 0.0162 , best_ask: 0.016211 , position: 20000.0 , equity: 3.2358380000000113\n",
      "timestamp_s: 1667327396.0 , best_bid: 0.016201 , best_ask: 0.01621 , position: 20000.0 , equity: 3.2358380000000113\n",
      "timestamp_s: 1667327996.0 , best_bid: 0.016202 , best_ask: 0.016211 , position: 20000.0 , equity: 3.25583800000005\n",
      "timestamp_s: 1667328596.0 , best_bid: 0.016204 , best_ask: 0.016213 , position: 20000.0 , equity: 3.2958380000000704\n",
      "timestamp_s: 1667329196.0 , best_bid: 0.0162 , best_ask: 0.016207 , position: 30000.0 , equity: 3.1584300000000525\n",
      "timestamp_s: 1667329796.0 , best_bid: 0.0162 , best_ask: 0.016206 , position: 30000.0 , equity: 3.143430000000066\n",
      "timestamp_s: 1667330396.0 , best_bid: 0.0162 , best_ask: 0.016206 , position: 50000.0 , equity: 3.1086240000000958\n",
      "timestamp_s: 1667330996.0 , best_bid: 0.0162 , best_ask: 0.016206 , position: 50000.0 , equity: 3.1086240000000958\n",
      "timestamp_s: 1667331596.0 , best_bid: 0.016201 , best_ask: 0.016208 , position: 50000.0 , equity: 3.1836240000001412\n",
      "timestamp_s: 1667332196.0 , best_bid: 0.0162 , best_ask: 0.016208 , position: 50000.0 , equity: 3.1586240000000503\n",
      "timestamp_s: 1667332796.0 , best_bid: 0.016202 , best_ask: 0.016209 , position: 50000.0 , equity: 3.233623999999982\n",
      "timestamp_s: 1667333396.0 , best_bid: 0.016202 , best_ask: 0.01621 , position: 50000.0 , equity: 3.258624000000073\n",
      "timestamp_s: 1667333996.0 , best_bid: 0.016202 , best_ask: 0.01621 , position: 50000.0 , equity: 3.258624000000073\n",
      "timestamp_s: 1667334596.0 , best_bid: 0.016202 , best_ask: 0.01621 , position: 50000.0 , equity: 3.258624000000073\n",
      "timestamp_s: 1667335196.0 , best_bid: 0.016201 , best_ask: 0.016209 , position: 50000.0 , equity: 3.208624000000005\n",
      "timestamp_s: 1667335796.0 , best_bid: 0.016201 , best_ask: 0.016208 , position: 50000.0 , equity: 3.1836240000001412\n",
      "timestamp_s: 1667336396.0 , best_bid: 0.016201 , best_ask: 0.016208 , position: 50000.0 , equity: 3.1836240000001412\n",
      "timestamp_s: 1667336996.0 , best_bid: 0.016201 , best_ask: 0.016209 , position: 50000.0 , equity: 3.208624000000005\n",
      "timestamp_s: 1667337596.0 , best_bid: 0.016201 , best_ask: 0.016209 , position: 50000.0 , equity: 3.208624000000005\n",
      "timestamp_s: 1667338196.0 , best_bid: 0.016201 , best_ask: 0.016209 , position: 50000.0 , equity: 3.208624000000005\n",
      "timestamp_s: 1667338796.0 , best_bid: 0.016201 , best_ask: 0.016209 , position: 50000.0 , equity: 3.208624000000005\n",
      "timestamp_s: 1667339396.0 , best_bid: 0.0162 , best_ask: 0.016208 , position: 50000.0 , equity: 3.1586240000000503\n",
      "timestamp_s: 1667339996.0 , best_bid: 0.0162 , best_ask: 0.016207 , position: 50000.0 , equity: 3.133624000000073\n",
      "timestamp_s: 1667340596.0 , best_bid: 0.016201 , best_ask: 0.016209 , position: 50000.0 , equity: 3.208624000000005\n",
      "timestamp_s: 1667341196.0 , best_bid: 0.0162 , best_ask: 0.016209 , position: 50000.0 , equity: 3.183623999999914\n",
      "timestamp_s: 1667341796.0 , best_bid: 0.016201 , best_ask: 0.016209 , position: 50000.0 , equity: 3.208624000000005\n",
      "timestamp_s: 1667342396.0 , best_bid: 0.016161 , best_ask: 0.016182 , position: 300000.0 , equity: -6.471390000000909\n",
      "timestamp_s: 1667342996.0 , best_bid: 0.016149 , best_ask: 0.016159 , position: 310000.0 , equity: -11.82371199999971\n",
      "timestamp_s: 1667343596.0 , best_bid: 0.016153 , best_ask: 0.016162 , position: 310000.0 , equity: -10.738712000000582\n",
      "timestamp_s: 1667344196.0 , best_bid: 0.016145 , best_ask: 0.016155 , position: 320000.0 , equity: -13.126018000001055\n",
      "timestamp_s: 1667344796.0 , best_bid: 0.016136 , best_ask: 0.016146 , position: 340000.0 , equity: -16.190606000000145\n",
      "timestamp_s: 1667345396.0 , best_bid: 0.016128 , best_ask: 0.016138 , position: 340000.0 , equity: -18.91060599999949\n",
      "timestamp_s: 1667345996.0 , best_bid: 0.016112 , best_ask: 0.016121 , position: 360000.0 , equity: -24.895133999999562\n",
      "timestamp_s: 1667346596.0 , best_bid: 0.016112 , best_ask: 0.016118 , position: 360000.0 , equity: -25.435134000000435\n",
      "timestamp_s: 1667347196.0 , best_bid: 0.016112 , best_ask: 0.016118 , position: 360000.0 , equity: -25.435134000000435\n"
     ]
    },
    {
     "data": {
      "text/plain": [
       "False"
      ]
     },
     "execution_count": 7,
     "metadata": {},
     "output_type": "execute_result"
    }
   ],
   "source": [
    "@njit(cache=True)\n",
    "def dca_every_10m(hbt, recorder):\n",
    "    ''' DCA with 10min frequency using limit order on best bid '''\n",
    "    order_id = 1\n",
    "    while hbt.run:\n",
    "        # Times are in nanoseconds\n",
    "        if not hbt.elapse(10 * 60 * 1e9):\n",
    "            return False\n",
    "\n",
    "        print(\n",
    "            'timestamp_s:', hbt.current_timestamp // 1e9,\n",
    "            ', best_bid:', round(hbt.best_bid, 9),\n",
    "            ', best_ask:', round(hbt.best_ask, 9),\n",
    "            ', position:', hbt.position,\n",
    "            ', equity:', hbt.equity,\n",
    "        )\n",
    "        # Record statistics for analysis in the next cell\n",
    "        recorder.record(hbt)\n",
    "        hbt.clear_inactive_orders()\n",
    "        # Try to buy some tokens every 10 minutes\n",
    "        hbt.submit_buy_order(order_id, hbt.best_bid, 10_000, hftbacktest.GTC)\n",
    "        order_id += 1\n",
    "    return True\n",
    "\n",
    "\n",
    "if not hbt.run:\n",
    "\t# If backtest already run and finished, reset it to be able to run this cell again\n",
    "\thftbacktest.reset(hbt, 'hftbacktest_data.npz')\n",
    "\n",
    "print('Running backtest')\n",
    "stat = hftbacktest.Stat(hbt, unit = 'ns')\n",
    "dca_every_10m(hbt, stat.recorder)\n"
   ]
  },
  {
   "cell_type": "code",
   "execution_count": 8,
   "metadata": {},
   "outputs": [
    {
     "name": "stdout",
     "output_type": "stream",
     "text": [
      "=========== Summary ===========\n",
      "Sharpe ratio: -64.8\n",
      "Sortino ratio: -54.2\n",
      "Risk return ratio: -1058.9\n",
      "Annualised return: -303.83 %\n",
      "Max. draw down: 0.29 %\n",
      "The number of trades per day: 9\n",
      "Avg. daily trading volume: 97500\n",
      "Avg. daily trading amount: 1576\n",
      "Max leverage: 0.58\n",
      "Median leverage: 0.08\n"
     ]
    },
    {
     "data": {
      "image/png": "[encoded data removed]",
      "text/plain": [
       "<Figure size 1000x600 with 2 Axes>"
      ]
     },
     "metadata": {},
     "output_type": "display_data"
    }
   ],
   "source": [
    "stat.summary(capital=10_000, resample='15min')\n"
   ]
  }
 ],
 "metadata": {
  "kernelspec": {
   "display_name": "Python 3.10.6 ('env': venv)",
   "language": "python",
   "name": "python3"
  },
  "language_info": {
   "codemirror_mode": {
    "name": "ipython",
    "version": 3
   },
   "file_extension": ".py",
   "mimetype": "text/x-python",
   "name": "python",
   "nbconvert_exporter": "python",
   "pygments_lexer": "ipython3",
   "version": "3.11.4"
  },
  "orig_nbformat": 4,
  "vscode": {
   "interpreter": {
    "hash": "7291192e6945a3c8ed0f956f4124ad6de62ed7ea9152f7ae8e29637075883be3"
   }
  }
 },
 "nbformat": 4,
 "nbformat_minor": 2
}
