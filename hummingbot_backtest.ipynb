{
 "cells": [
  {
   "cell_type": "markdown",
   "metadata": {},
   "source": [
    "# Hummingbot simple backtest\n",
    "\n",
    "Assume we quote continuously to given spread. Measure short term profitability of our fills to future price, 1 000 \n",
    "trades later, for different spread settings. \n",
    "\n",
    "We use [crypto-lake.com](https://crypto-lake.com/#data) example market data, FTRB-USDT market on Ascendex."
   ]
  },
  {
   "cell_type": "code",
   "execution_count": null,
   "metadata": {},
   "outputs": [],
   "source": [
    "import datetime\n",
    "import math\n",
    "\n",
    "import numpy as np\n",
    "import pandas as pd\n",
    "import cufflinks as cf\n",
    "\n",
    "import lakeapi\n",
    "\n",
    "cf.go_offline()\n",
    "lakeapi.use_sample_data(anonymous_access=True)"
   ]
  },
  {
   "cell_type": "code",
   "execution_count": null,
   "metadata": {},
   "outputs": [],
   "source": [
    "# Parameters\n",
    "symbol = 'FTRB-USDT'\n",
    "exchange = 'ASCENDEX'\n",
    "tick_size_decimals = 6\n",
    "fees_bps = 16 # ascendex vip2, maker order, altcoin\n",
    "\n",
    "start = datetime.datetime(2022, 9, 1)\n",
    "end = datetime.datetime(2022, 10, 15)"
   ]
  },
  {
   "cell_type": "markdown",
   "metadata": {},
   "source": [
    "## Data"
   ]
  },
  {
   "cell_type": "code",
   "execution_count": null,
   "metadata": {},
   "outputs": [],
   "source": [
    "def load_data(table: str):\n",
    "\tprint('Loading', table)\n",
    "\treturn lakeapi.load_data(\n",
    "\t\ttable = table,\n",
    "\t\tstart = start,\n",
    "\t\tend = end,\n",
    "\t\tsymbols = [symbol],\n",
    "\t\texchanges = [exchange],\n",
    "\t\tdrop_partition_cols = True,\n",
    "\t).sort_values('received_time')\n",
    "\n",
    "# Load l1 data = top of the order book\n",
    "l1 = load_data('level_1')\n",
    "# Load trades\n",
    "trades = load_data('trades')"
   ]
  },
  {
   "cell_type": "code",
   "execution_count": null,
   "metadata": {},
   "outputs": [],
   "source": [
    "# Merge trades and l1 depth data\n",
    "df = pd.merge_asof(\n",
    "\tleft = trades.rename(columns = {'origin_time': 'trade_origin_time', 'received_time': 'trade_received_time'}),\n",
    "\tright = l1.rename(columns = {'received_time': 'depth_received_time'}),\n",
    "\tleft_on = 'trade_received_time',\n",
    "\tright_on = 'depth_received_time',\n",
    "\ttolerance = pd.Timedelta(minutes = 120),\n",
    ")\n",
    "df['mid'] = (df.bid_0_price + df.ask_0_price) / 2\n",
    "df.head(3)"
   ]
  },
  {
   "cell_type": "code",
   "execution_count": null,
   "metadata": {},
   "outputs": [],
   "source": [
    "# df['spread'] = df.ask_0_price - df.bid_0_price\n",
    "# df['spread_bps'] = (df.spread / df.mid) * 10_000 * coeff_pct / 100."
   ]
  },
  {
   "cell_type": "code",
   "execution_count": null,
   "metadata": {},
   "outputs": [],
   "source": [
    "# def hbot_spread_density(spread, spread_max):\n",
    "# \treturn math.exp(-2*spread/spread_max) if spread <= spread_max else 0"
   ]
  },
  {
   "cell_type": "markdown",
   "metadata": {},
   "source": [
    "## Backtest"
   ]
  },
  {
   "cell_type": "code",
   "execution_count": null,
   "metadata": {},
   "outputs": [],
   "source": [
    "results = []\n",
    "# Show details of 100bps spread variant in the plot below\n",
    "spread_to_plot = 100\n",
    "df_to_plot = None\n",
    "for spread_bps in range(20, 200, 10):\n",
    "# for coeff_pct in range(50, 1500, 50):\n",
    "\t# df['spread_bps'] = (df.spread / df.mid) * 10_000 * coeff_pct / 100.\n",
    "\t# df['spread_bps'] = df['spread_bps'].clip(40, 400)\n",
    "\tdf['spread_bps'] = spread_bps\n",
    "\tdf['future_price'] = df.mid.shift(-1000)\n",
    "\tdf['quote_bid'] = round(df.bid_0_price * (1 - df.spread_bps * 0.0001), tick_size_decimals)\n",
    "\tdf['quote_ask'] = round(df.ask_0_price * (1 + df.spread_bps * 0.0001), tick_size_decimals)\n",
    "\tdf['fill_sign'] = 0\n",
    "\tdf.loc[df.quote_bid > df.price, 'fill_sign'] = 1\n",
    "\tdf.loc[df.quote_ask < df.price, 'fill_sign'] = -1\n",
    "\tdf['gross_profitability_short_bps'] = 10_000 * (df.future_price - df.mid) / df.mid * df.fill_sign \n",
    "\tdf['net_profitability_short_bps'] = (df['gross_profitability_short_bps'] - fees_bps) * df.fill_sign.abs()\n",
    "\tfill_count = df.fill_sign.abs().sum()\n",
    "\tresults.append((spread_bps, fill_count, df.gross_profitability_short_bps.sum() / fill_count))\n",
    "\t# results.append((df.spread_bps.mean(), df.fill_sign.abs().sum(), df.gross_profitability_short_bps.mean()))\n",
    "\tif spread_to_plot == spread_bps:\n",
    "\t\tdf_to_plot = df.copy()\n",
    "\n",
    "result_df = pd.DataFrame(results, columns = ['spread_bps', 'fill_count', 'gross_profitability_short_bps'])\n",
    "result_df['net_profitability_short_bps'] = result_df.gross_profitability_short_bps - fees_bps\n",
    "result_df['total_gross_profit_bps'] = result_df.gross_profitability_short_bps * result_df.fill_count\n",
    "result_df['total_net_profit_bps'] = result_df.net_profitability_short_bps * result_df.fill_count\n",
    "result_df"
   ]
  },
  {
   "cell_type": "markdown",
   "metadata": {},
   "source": [
    "### Plots"
   ]
  },
  {
   "cell_type": "code",
   "execution_count": null,
   "metadata": {},
   "outputs": [],
   "source": [
    "# Plot trades and the spread\n",
    "df_to_plot.set_index('trade_received_time')[['bid_0_price', 'ask_0_price', 'price']][:3000].iplot(yTitle = 'price')"
   ]
  },
  {
   "cell_type": "code",
   "execution_count": null,
   "metadata": {},
   "outputs": [],
   "source": [
    "# df_to_plot.set_index('trade_received_time').net_profitability_short_bps.replace(0, np.nan).iplot(kind = 'hist', bins = 20)\n",
    "# df_to_plot.set_index('trade_received_time').net_profitability_short_bps.cumsum().iplot()"
   ]
  },
  {
   "cell_type": "markdown",
   "metadata": {},
   "source": [
    "## More data\n",
    "\n",
    "What data are available in the anonymous sample repository. Uncomment to explore:"
   ]
  },
  {
   "cell_type": "code",
   "execution_count": null,
   "metadata": {},
   "outputs": [],
   "source": [
    "# for table in ('level_1', 'trades', 'book', 'candles'):\n",
    "# \tavailable_data = pd.DataFrame(lakeapi.list_data(table = table))\n",
    "# \tprint(table)\n",
    "# \tdisplay(available_data[['exchange', 'symbol', 'dt']].groupby(['exchange', 'symbol']).aggregate({'dt': ['first', 'last']}))"
   ]
  },
  {
   "cell_type": "markdown",
   "metadata": {},
   "source": [
    "## Conclusion\n",
    "\n",
    "Average reward on FTRB-USDT is currently 358% p.a. for average spread of 40bps. In this model scenario with 40 bps spread, you would loose about 30% monthly, which would leave you with almost exactly zero profit.\n",
    "\n",
    "With wider spread such as 100bps, you can achieve better profitability of about +10% monthly at the cost of less rewards. This seems much better, but note that this backtest is far from a complete implementation of hummingbot trading logic and while it provides a good idea about the profitability, it is not very realistic.\n",
    "\n",
    "You can add more logic to your quoting strategy in order to increase profitability or shrink spread and increase rewards. I also suggest you improve this notebook and open a pull request on github to share it with the community. If you do so, I will check your code for mistakes and might provide tips for further improvement.\n",
    "\n",
    "### Follow ups\n",
    "\n",
    "- how are the results stable in time? how to stabilize them?\n",
    "- how much rewards would you get depending on spread? which spread maximizes trading profits + rewards?\n",
    "- how does inventory balancing affect profitability? can we simulate it?\n",
    "- how does the lag between quoting and fill affect profitability? can we simulate it?"
   ]
  }
 ],
 "metadata": {
  "kernelspec": {
   "display_name": "Python 3.11.0rc2 64-bit",
   "language": "python",
   "name": "python3"
  },
  "language_info": {
   "codemirror_mode": {
    "name": "ipython",
    "version": 3
   },
   "file_extension": ".py",
   "mimetype": "text/x-python",
   "name": "python",
   "nbconvert_exporter": "python",
   "pygments_lexer": "ipython3",
   "version": "3.11.0"
  },
  "orig_nbformat": 4,
  "vscode": {
   "interpreter": {
    "hash": "ead1b95f633dc9c51826328e1846203f51a198c6fb5f2884a80417ba131d4e82"
   }
  }
 },
 "nbformat": 4,
 "nbformat_minor": 2
}
