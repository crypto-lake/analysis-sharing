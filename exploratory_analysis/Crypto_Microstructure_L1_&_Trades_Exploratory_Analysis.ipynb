{
  "nbformat": 4,
  "nbformat_minor": 0,
  "metadata": {
    "colab": {
      "provenance": []
    },
    "kernelspec": {
      "name": "python3",
      "display_name": "Python 3"
    },
    "language_info": {
      "name": "python"
    },
    "widgets": {
      "application/vnd.jupyter.widget-state+json": {
        "ab81d4b86ea746fda14caeeeb597d16c": {
          "model_module": "@jupyter-widgets/controls",
          "model_name": "HBoxModel",
          "model_module_version": "1.5.0",
          "state": {
            "_dom_classes": [],
            "_model_module": "@jupyter-widgets/controls",
            "_model_module_version": "1.5.0",
            "_model_name": "HBoxModel",
            "_view_count": null,
            "_view_module": "@jupyter-widgets/controls",
            "_view_module_version": "1.5.0",
            "_view_name": "HBoxView",
            "box_style": "",
            "children": [
              "IPY_MODEL_b70dc6c0aa794b2d9f8aee12dd67f65f",
              "IPY_MODEL_36cba156c74640b6a30ec4edc7839117",
              "IPY_MODEL_029379ff5c7a45e7b0d92ba3e4615132"
            ],
            "layout": "IPY_MODEL_7e4d7f4fcb234d68b6f1b32039b9725b"
          }
        },
        "b70dc6c0aa794b2d9f8aee12dd67f65f": {
          "model_module": "@jupyter-widgets/controls",
          "model_name": "HTMLModel",
          "model_module_version": "1.5.0",
          "state": {
            "_dom_classes": [],
            "_model_module": "@jupyter-widgets/controls",
            "_model_module_version": "1.5.0",
            "_model_name": "HTMLModel",
            "_view_count": null,
            "_view_module": "@jupyter-widgets/controls",
            "_view_module_version": "1.5.0",
            "_view_name": "HTMLView",
            "description": "",
            "description_tooltip": null,
            "layout": "IPY_MODEL_ce2941b69ca54b2ca8b587772c3adf7e",
            "placeholder": "​",
            "style": "IPY_MODEL_0d1c0053d8f646168ab4ef555fc73184",
            "value": "100%"
          }
        },
        "36cba156c74640b6a30ec4edc7839117": {
          "model_module": "@jupyter-widgets/controls",
          "model_name": "FloatProgressModel",
          "model_module_version": "1.5.0",
          "state": {
            "_dom_classes": [],
            "_model_module": "@jupyter-widgets/controls",
            "_model_module_version": "1.5.0",
            "_model_name": "FloatProgressModel",
            "_view_count": null,
            "_view_module": "@jupyter-widgets/controls",
            "_view_module_version": "1.5.0",
            "_view_name": "ProgressView",
            "bar_style": "success",
            "description": "",
            "description_tooltip": null,
            "layout": "IPY_MODEL_befe94e1861142a3910bef9881b80c9a",
            "max": 80,
            "min": 0,
            "orientation": "horizontal",
            "style": "IPY_MODEL_94aec9a3d63c4bd7aeb72b3679464390",
            "value": 80
          }
        },
        "029379ff5c7a45e7b0d92ba3e4615132": {
          "model_module": "@jupyter-widgets/controls",
          "model_name": "HTMLModel",
          "model_module_version": "1.5.0",
          "state": {
            "_dom_classes": [],
            "_model_module": "@jupyter-widgets/controls",
            "_model_module_version": "1.5.0",
            "_model_name": "HTMLModel",
            "_view_count": null,
            "_view_module": "@jupyter-widgets/controls",
            "_view_module_version": "1.5.0",
            "_view_name": "HTMLView",
            "description": "",
            "description_tooltip": null,
            "layout": "IPY_MODEL_32361d046d904ac4a4b664109cd2c5c4",
            "placeholder": "​",
            "style": "IPY_MODEL_cb861c9809564d0a856a535e832f6967",
            "value": " 80/80 [00:54&lt;00:00,  1.68it/s]"
          }
        },
        "7e4d7f4fcb234d68b6f1b32039b9725b": {
          "model_module": "@jupyter-widgets/base",
          "model_name": "LayoutModel",
          "model_module_version": "1.2.0",
          "state": {
            "_model_module": "@jupyter-widgets/base",
            "_model_module_version": "1.2.0",
            "_model_name": "LayoutModel",
            "_view_count": null,
            "_view_module": "@jupyter-widgets/base",
            "_view_module_version": "1.2.0",
            "_view_name": "LayoutView",
            "align_content": null,
            "align_items": null,
            "align_self": null,
            "border": null,
            "bottom": null,
            "display": null,
            "flex": null,
            "flex_flow": null,
            "grid_area": null,
            "grid_auto_columns": null,
            "grid_auto_flow": null,
            "grid_auto_rows": null,
            "grid_column": null,
            "grid_gap": null,
            "grid_row": null,
            "grid_template_areas": null,
            "grid_template_columns": null,
            "grid_template_rows": null,
            "height": null,
            "justify_content": null,
            "justify_items": null,
            "left": null,
            "margin": null,
            "max_height": null,
            "max_width": null,
            "min_height": null,
            "min_width": null,
            "object_fit": null,
            "object_position": null,
            "order": null,
            "overflow": null,
            "overflow_x": null,
            "overflow_y": null,
            "padding": null,
            "right": null,
            "top": null,
            "visibility": null,
            "width": null
          }
        },
        "ce2941b69ca54b2ca8b587772c3adf7e": {
          "model_module": "@jupyter-widgets/base",
          "model_name": "LayoutModel",
          "model_module_version": "1.2.0",
          "state": {
            "_model_module": "@jupyter-widgets/base",
            "_model_module_version": "1.2.0",
            "_model_name": "LayoutModel",
            "_view_count": null,
            "_view_module": "@jupyter-widgets/base",
            "_view_module_version": "1.2.0",
            "_view_name": "LayoutView",
            "align_content": null,
            "align_items": null,
            "align_self": null,
            "border": null,
            "bottom": null,
            "display": null,
            "flex": null,
            "flex_flow": null,
            "grid_area": null,
            "grid_auto_columns": null,
            "grid_auto_flow": null,
            "grid_auto_rows": null,
            "grid_column": null,
            "grid_gap": null,
            "grid_row": null,
            "grid_template_areas": null,
            "grid_template_columns": null,
            "grid_template_rows": null,
            "height": null,
            "justify_content": null,
            "justify_items": null,
            "left": null,
            "margin": null,
            "max_height": null,
            "max_width": null,
            "min_height": null,
            "min_width": null,
            "object_fit": null,
            "object_position": null,
            "order": null,
            "overflow": null,
            "overflow_x": null,
            "overflow_y": null,
            "padding": null,
            "right": null,
            "top": null,
            "visibility": null,
            "width": null
          }
        },
        "0d1c0053d8f646168ab4ef555fc73184": {
          "model_module": "@jupyter-widgets/controls",
          "model_name": "DescriptionStyleModel",
          "model_module_version": "1.5.0",
          "state": {
            "_model_module": "@jupyter-widgets/controls",
            "_model_module_version": "1.5.0",
            "_model_name": "DescriptionStyleModel",
            "_view_count": null,
            "_view_module": "@jupyter-widgets/base",
            "_view_module_version": "1.2.0",
            "_view_name": "StyleView",
            "description_width": ""
          }
        },
        "befe94e1861142a3910bef9881b80c9a": {
          "model_module": "@jupyter-widgets/base",
          "model_name": "LayoutModel",
          "model_module_version": "1.2.0",
          "state": {
            "_model_module": "@jupyter-widgets/base",
            "_model_module_version": "1.2.0",
            "_model_name": "LayoutModel",
            "_view_count": null,
            "_view_module": "@jupyter-widgets/base",
            "_view_module_version": "1.2.0",
            "_view_name": "LayoutView",
            "align_content": null,
            "align_items": null,
            "align_self": null,
            "border": null,
            "bottom": null,
            "display": null,
            "flex": null,
            "flex_flow": null,
            "grid_area": null,
            "grid_auto_columns": null,
            "grid_auto_flow": null,
            "grid_auto_rows": null,
            "grid_column": null,
            "grid_gap": null,
            "grid_row": null,
            "grid_template_areas": null,
            "grid_template_columns": null,
            "grid_template_rows": null,
            "height": null,
            "justify_content": null,
            "justify_items": null,
            "left": null,
            "margin": null,
            "max_height": null,
            "max_width": null,
            "min_height": null,
            "min_width": null,
            "object_fit": null,
            "object_position": null,
            "order": null,
            "overflow": null,
            "overflow_x": null,
            "overflow_y": null,
            "padding": null,
            "right": null,
            "top": null,
            "visibility": null,
            "width": null
          }
        },
        "94aec9a3d63c4bd7aeb72b3679464390": {
          "model_module": "@jupyter-widgets/controls",
          "model_name": "ProgressStyleModel",
          "model_module_version": "1.5.0",
          "state": {
            "_model_module": "@jupyter-widgets/controls",
            "_model_module_version": "1.5.0",
            "_model_name": "ProgressStyleModel",
            "_view_count": null,
            "_view_module": "@jupyter-widgets/base",
            "_view_module_version": "1.2.0",
            "_view_name": "StyleView",
            "bar_color": null,
            "description_width": ""
          }
        },
        "32361d046d904ac4a4b664109cd2c5c4": {
          "model_module": "@jupyter-widgets/base",
          "model_name": "LayoutModel",
          "model_module_version": "1.2.0",
          "state": {
            "_model_module": "@jupyter-widgets/base",
            "_model_module_version": "1.2.0",
            "_model_name": "LayoutModel",
            "_view_count": null,
            "_view_module": "@jupyter-widgets/base",
            "_view_module_version": "1.2.0",
            "_view_name": "LayoutView",
            "align_content": null,
            "align_items": null,
            "align_self": null,
            "border": null,
            "bottom": null,
            "display": null,
            "flex": null,
            "flex_flow": null,
            "grid_area": null,
            "grid_auto_columns": null,
            "grid_auto_flow": null,
            "grid_auto_rows": null,
            "grid_column": null,
            "grid_gap": null,
            "grid_row": null,
            "grid_template_areas": null,
            "grid_template_columns": null,
            "grid_template_rows": null,
            "height": null,
            "justify_content": null,
            "justify_items": null,
            "left": null,
            "margin": null,
            "max_height": null,
            "max_width": null,
            "min_height": null,
            "min_width": null,
            "object_fit": null,
            "object_position": null,
            "order": null,
            "overflow": null,
            "overflow_x": null,
            "overflow_y": null,
            "padding": null,
            "right": null,
            "top": null,
            "visibility": null,
            "width": null
          }
        },
        "cb861c9809564d0a856a535e832f6967": {
          "model_module": "@jupyter-widgets/controls",
          "model_name": "DescriptionStyleModel",
          "model_module_version": "1.5.0",
          "state": {
            "_model_module": "@jupyter-widgets/controls",
            "_model_module_version": "1.5.0",
            "_model_name": "DescriptionStyleModel",
            "_view_count": null,
            "_view_module": "@jupyter-widgets/base",
            "_view_module_version": "1.2.0",
            "_view_name": "StyleView",
            "description_width": ""
          }
        },
        "27dfccb7472a4c04928f2799da3aee2e": {
          "model_module": "@jupyter-widgets/controls",
          "model_name": "HBoxModel",
          "model_module_version": "1.5.0",
          "state": {
            "_dom_classes": [],
            "_model_module": "@jupyter-widgets/controls",
            "_model_module_version": "1.5.0",
            "_model_name": "HBoxModel",
            "_view_count": null,
            "_view_module": "@jupyter-widgets/controls",
            "_view_module_version": "1.5.0",
            "_view_name": "HBoxView",
            "box_style": "",
            "children": [
              "IPY_MODEL_9294255b36f14d688890f32fa1876396",
              "IPY_MODEL_8fa3876d3f804c67ba72caa0b2f5bfdc",
              "IPY_MODEL_ead2ccf534574778acc4347d61e861c4"
            ],
            "layout": "IPY_MODEL_6abc265291164884b7b02bbbca178e51"
          }
        },
        "9294255b36f14d688890f32fa1876396": {
          "model_module": "@jupyter-widgets/controls",
          "model_name": "HTMLModel",
          "model_module_version": "1.5.0",
          "state": {
            "_dom_classes": [],
            "_model_module": "@jupyter-widgets/controls",
            "_model_module_version": "1.5.0",
            "_model_name": "HTMLModel",
            "_view_count": null,
            "_view_module": "@jupyter-widgets/controls",
            "_view_module_version": "1.5.0",
            "_view_name": "HTMLView",
            "description": "",
            "description_tooltip": null,
            "layout": "IPY_MODEL_05b744726efd481ea69980f7e52ccac3",
            "placeholder": "​",
            "style": "IPY_MODEL_a66414acbcf34ad38ef496e0a5f2a07f",
            "value": "100%"
          }
        },
        "8fa3876d3f804c67ba72caa0b2f5bfdc": {
          "model_module": "@jupyter-widgets/controls",
          "model_name": "FloatProgressModel",
          "model_module_version": "1.5.0",
          "state": {
            "_dom_classes": [],
            "_model_module": "@jupyter-widgets/controls",
            "_model_module_version": "1.5.0",
            "_model_name": "FloatProgressModel",
            "_view_count": null,
            "_view_module": "@jupyter-widgets/controls",
            "_view_module_version": "1.5.0",
            "_view_name": "ProgressView",
            "bar_style": "success",
            "description": "",
            "description_tooltip": null,
            "layout": "IPY_MODEL_c00066a2b1c642e4ba61d39f9122b1bf",
            "max": 80,
            "min": 0,
            "orientation": "horizontal",
            "style": "IPY_MODEL_629bcf1e60a441e293359d8a2e67f6fb",
            "value": 80
          }
        },
        "ead2ccf534574778acc4347d61e861c4": {
          "model_module": "@jupyter-widgets/controls",
          "model_name": "HTMLModel",
          "model_module_version": "1.5.0",
          "state": {
            "_dom_classes": [],
            "_model_module": "@jupyter-widgets/controls",
            "_model_module_version": "1.5.0",
            "_model_name": "HTMLModel",
            "_view_count": null,
            "_view_module": "@jupyter-widgets/controls",
            "_view_module_version": "1.5.0",
            "_view_name": "HTMLView",
            "description": "",
            "description_tooltip": null,
            "layout": "IPY_MODEL_bb4a39dcc5fe46a9b37f09bb3c53b920",
            "placeholder": "​",
            "style": "IPY_MODEL_d358156db7054000abb12404cb2e495d",
            "value": " 80/80 [00:56&lt;00:00,  1.33it/s]"
          }
        },
        "6abc265291164884b7b02bbbca178e51": {
          "model_module": "@jupyter-widgets/base",
          "model_name": "LayoutModel",
          "model_module_version": "1.2.0",
          "state": {
            "_model_module": "@jupyter-widgets/base",
            "_model_module_version": "1.2.0",
            "_model_name": "LayoutModel",
            "_view_count": null,
            "_view_module": "@jupyter-widgets/base",
            "_view_module_version": "1.2.0",
            "_view_name": "LayoutView",
            "align_content": null,
            "align_items": null,
            "align_self": null,
            "border": null,
            "bottom": null,
            "display": null,
            "flex": null,
            "flex_flow": null,
            "grid_area": null,
            "grid_auto_columns": null,
            "grid_auto_flow": null,
            "grid_auto_rows": null,
            "grid_column": null,
            "grid_gap": null,
            "grid_row": null,
            "grid_template_areas": null,
            "grid_template_columns": null,
            "grid_template_rows": null,
            "height": null,
            "justify_content": null,
            "justify_items": null,
            "left": null,
            "margin": null,
            "max_height": null,
            "max_width": null,
            "min_height": null,
            "min_width": null,
            "object_fit": null,
            "object_position": null,
            "order": null,
            "overflow": null,
            "overflow_x": null,
            "overflow_y": null,
            "padding": null,
            "right": null,
            "top": null,
            "visibility": null,
            "width": null
          }
        },
        "05b744726efd481ea69980f7e52ccac3": {
          "model_module": "@jupyter-widgets/base",
          "model_name": "LayoutModel",
          "model_module_version": "1.2.0",
          "state": {
            "_model_module": "@jupyter-widgets/base",
            "_model_module_version": "1.2.0",
            "_model_name": "LayoutModel",
            "_view_count": null,
            "_view_module": "@jupyter-widgets/base",
            "_view_module_version": "1.2.0",
            "_view_name": "LayoutView",
            "align_content": null,
            "align_items": null,
            "align_self": null,
            "border": null,
            "bottom": null,
            "display": null,
            "flex": null,
            "flex_flow": null,
            "grid_area": null,
            "grid_auto_columns": null,
            "grid_auto_flow": null,
            "grid_auto_rows": null,
            "grid_column": null,
            "grid_gap": null,
            "grid_row": null,
            "grid_template_areas": null,
            "grid_template_columns": null,
            "grid_template_rows": null,
            "height": null,
            "justify_content": null,
            "justify_items": null,
            "left": null,
            "margin": null,
            "max_height": null,
            "max_width": null,
            "min_height": null,
            "min_width": null,
            "object_fit": null,
            "object_position": null,
            "order": null,
            "overflow": null,
            "overflow_x": null,
            "overflow_y": null,
            "padding": null,
            "right": null,
            "top": null,
            "visibility": null,
            "width": null
          }
        },
        "a66414acbcf34ad38ef496e0a5f2a07f": {
          "model_module": "@jupyter-widgets/controls",
          "model_name": "DescriptionStyleModel",
          "model_module_version": "1.5.0",
          "state": {
            "_model_module": "@jupyter-widgets/controls",
            "_model_module_version": "1.5.0",
            "_model_name": "DescriptionStyleModel",
            "_view_count": null,
            "_view_module": "@jupyter-widgets/base",
            "_view_module_version": "1.2.0",
            "_view_name": "StyleView",
            "description_width": ""
          }
        },
        "c00066a2b1c642e4ba61d39f9122b1bf": {
          "model_module": "@jupyter-widgets/base",
          "model_name": "LayoutModel",
          "model_module_version": "1.2.0",
          "state": {
            "_model_module": "@jupyter-widgets/base",
            "_model_module_version": "1.2.0",
            "_model_name": "LayoutModel",
            "_view_count": null,
            "_view_module": "@jupyter-widgets/base",
            "_view_module_version": "1.2.0",
            "_view_name": "LayoutView",
            "align_content": null,
            "align_items": null,
            "align_self": null,
            "border": null,
            "bottom": null,
            "display": null,
            "flex": null,
            "flex_flow": null,
            "grid_area": null,
            "grid_auto_columns": null,
            "grid_auto_flow": null,
            "grid_auto_rows": null,
            "grid_column": null,
            "grid_gap": null,
            "grid_row": null,
            "grid_template_areas": null,
            "grid_template_columns": null,
            "grid_template_rows": null,
            "height": null,
            "justify_content": null,
            "justify_items": null,
            "left": null,
            "margin": null,
            "max_height": null,
            "max_width": null,
            "min_height": null,
            "min_width": null,
            "object_fit": null,
            "object_position": null,
            "order": null,
            "overflow": null,
            "overflow_x": null,
            "overflow_y": null,
            "padding": null,
            "right": null,
            "top": null,
            "visibility": null,
            "width": null
          }
        },
        "629bcf1e60a441e293359d8a2e67f6fb": {
          "model_module": "@jupyter-widgets/controls",
          "model_name": "ProgressStyleModel",
          "model_module_version": "1.5.0",
          "state": {
            "_model_module": "@jupyter-widgets/controls",
            "_model_module_version": "1.5.0",
            "_model_name": "ProgressStyleModel",
            "_view_count": null,
            "_view_module": "@jupyter-widgets/base",
            "_view_module_version": "1.2.0",
            "_view_name": "StyleView",
            "bar_color": null,
            "description_width": ""
          }
        },
        "bb4a39dcc5fe46a9b37f09bb3c53b920": {
          "model_module": "@jupyter-widgets/base",
          "model_name": "LayoutModel",
          "model_module_version": "1.2.0",
          "state": {
            "_model_module": "@jupyter-widgets/base",
            "_model_module_version": "1.2.0",
            "_model_name": "LayoutModel",
            "_view_count": null,
            "_view_module": "@jupyter-widgets/base",
            "_view_module_version": "1.2.0",
            "_view_name": "LayoutView",
            "align_content": null,
            "align_items": null,
            "align_self": null,
            "border": null,
            "bottom": null,
            "display": null,
            "flex": null,
            "flex_flow": null,
            "grid_area": null,
            "grid_auto_columns": null,
            "grid_auto_flow": null,
            "grid_auto_rows": null,
            "grid_column": null,
            "grid_gap": null,
            "grid_row": null,
            "grid_template_areas": null,
            "grid_template_columns": null,
            "grid_template_rows": null,
            "height": null,
            "justify_content": null,
            "justify_items": null,
            "left": null,
            "margin": null,
            "max_height": null,
            "max_width": null,
            "min_height": null,
            "min_width": null,
            "object_fit": null,
            "object_position": null,
            "order": null,
            "overflow": null,
            "overflow_x": null,
            "overflow_y": null,
            "padding": null,
            "right": null,
            "top": null,
            "visibility": null,
            "width": null
          }
        },
        "d358156db7054000abb12404cb2e495d": {
          "model_module": "@jupyter-widgets/controls",
          "model_name": "DescriptionStyleModel",
          "model_module_version": "1.5.0",
          "state": {
            "_model_module": "@jupyter-widgets/controls",
            "_model_module_version": "1.5.0",
            "_model_name": "DescriptionStyleModel",
            "_view_count": null,
            "_view_module": "@jupyter-widgets/base",
            "_view_module_version": "1.2.0",
            "_view_name": "StyleView",
            "description_width": ""
          }
        }
      }
    }
  },
  "cells": [
    {
      "cell_type": "markdown",
      "source": [
        "Looking at crypto orderbooks has been an intriguing for me. Yet I haven't the opportunity to dug into it other than starting at the exchanges. Thanks to the [crypto-lake.com](https://crypto-lake.com/)'s sample/free market data I have a source to dig into it. Fully aware that zooming in I might take in microstructure noise as well, so I have to be careful. Let's dig in."
      ],
      "metadata": {
        "id": "eu4Tnm1hrbel"
      }
    },
    {
      "cell_type": "code",
      "execution_count": null,
      "metadata": {
        "colab": {
          "base_uri": "https://localhost:8080/"
        },
        "id": "e9PwhiqBqwH3",
        "outputId": "25d5267e-5d46-4158-ccc4-784e59c925ef"
      },
      "outputs": [
        {
          "output_type": "stream",
          "name": "stdout",
          "text": [
            "Looking in indexes: https://pypi.org/simple, https://us-python.pkg.dev/colab-wheels/public/simple/\n",
            "Collecting lakeapi\n",
            "  Downloading lakeapi-0.4.1-py2.py3-none-any.whl (27 kB)\n",
            "Requirement already satisfied: Click>=7.0 in /usr/local/lib/python3.8/dist-packages (from lakeapi) (7.1.2)\n",
            "Requirement already satisfied: tqdm<5,>=4 in /usr/local/lib/python3.8/dist-packages (from lakeapi) (4.64.1)\n",
            "Collecting botocache<0.1.0,>=0.0.4\n",
            "  Downloading botocache-0.0.4-py3-none-any.whl (2.2 kB)\n",
            "Requirement already satisfied: pandas<2,>=1.0.5 in /usr/local/lib/python3.8/dist-packages (from lakeapi) (1.3.5)\n",
            "Requirement already satisfied: joblib>=1.0.0 in /usr/local/lib/python3.8/dist-packages (from lakeapi) (1.2.0)\n",
            "Collecting awswrangler==2.16.1\n",
            "  Downloading awswrangler-2.16.1-py3-none-any.whl (248 kB)\n",
            "\u001b[K     |████████████████████████████████| 248 kB 8.0 MB/s \n",
            "\u001b[?25hCollecting boto3<2,>=1.24\n",
            "  Downloading boto3-1.26.23-py3-none-any.whl (132 kB)\n",
            "\u001b[K     |████████████████████████████████| 132 kB 64.7 MB/s \n",
            "\u001b[?25hCollecting cachetools-ext<0.1.0,>=0.0.8\n",
            "  Downloading cachetools_ext-0.0.8-py3-none-any.whl (4.6 kB)\n",
            "Requirement already satisfied: numpy<2.0.0,>=1.21.0 in /usr/local/lib/python3.8/dist-packages (from awswrangler==2.16.1->lakeapi) (1.21.6)\n",
            "Collecting progressbar2<5.0.0,>=4.0.0\n",
            "  Downloading progressbar2-4.2.0-py2.py3-none-any.whl (27 kB)\n",
            "Collecting redshift-connector<2.1.0,>=2.0.889\n",
            "  Downloading redshift_connector-2.0.909-py3-none-any.whl (112 kB)\n",
            "\u001b[K     |████████████████████████████████| 112 kB 49.8 MB/s \n",
            "\u001b[?25hCollecting requests-aws4auth<2.0.0,>=1.1.1\n",
            "  Downloading requests_aws4auth-1.1.2-py2.py3-none-any.whl (24 kB)\n",
            "Collecting pyarrow<7.1.0,>=2.0.0\n",
            "  Downloading pyarrow-7.0.0-cp38-cp38-manylinux_2_17_x86_64.manylinux2014_x86_64.whl (26.7 MB)\n",
            "\u001b[K     |████████████████████████████████| 26.7 MB 1.7 MB/s \n",
            "\u001b[?25hCollecting pymysql<2.0.0,>=1.0.0\n",
            "  Downloading PyMySQL-1.0.2-py3-none-any.whl (43 kB)\n",
            "\u001b[K     |████████████████████████████████| 43 kB 1.2 MB/s \n",
            "\u001b[?25hCollecting backoff<3.0.0,>=1.11.1\n",
            "  Downloading backoff-2.2.1-py3-none-any.whl (15 kB)\n",
            "Collecting pg8000<2.0.0,>=1.20.0\n",
            "  Downloading pg8000-1.29.3-py3-none-any.whl (51 kB)\n",
            "\u001b[K     |████████████████████████████████| 51 kB 38 kB/s \n",
            "\u001b[?25hCollecting opensearch-py<2.0.0,>=1.0.0\n",
            "  Downloading opensearch_py-1.1.0-py2.py3-none-any.whl (207 kB)\n",
            "\u001b[K     |████████████████████████████████| 207 kB 60.3 MB/s \n",
            "\u001b[?25hRequirement already satisfied: openpyxl<3.1.0,>=3.0.0 in /usr/local/lib/python3.8/dist-packages (from awswrangler==2.16.1->lakeapi) (3.0.10)\n",
            "Collecting gremlinpython<4.0.0,>=3.5.2\n",
            "  Downloading gremlinpython-3.6.1-py2.py3-none-any.whl (73 kB)\n",
            "\u001b[K     |████████████████████████████████| 73 kB 871 kB/s \n",
            "\u001b[?25hCollecting jsonpath-ng<2.0.0,>=1.5.3\n",
            "  Downloading jsonpath_ng-1.5.3-py3-none-any.whl (29 kB)\n",
            "Collecting botocore<2.0.0,>=1.23.17\n",
            "  Downloading botocore-1.29.23-py3-none-any.whl (10.2 MB)\n",
            "\u001b[K     |████████████████████████████████| 10.2 MB 40.1 MB/s \n",
            "\u001b[?25hCollecting s3transfer<0.7.0,>=0.6.0\n",
            "  Downloading s3transfer-0.6.0-py3-none-any.whl (79 kB)\n",
            "\u001b[K     |████████████████████████████████| 79 kB 5.8 MB/s \n",
            "\u001b[?25hCollecting jmespath<2.0.0,>=0.7.1\n",
            "  Downloading jmespath-1.0.1-py3-none-any.whl (20 kB)\n",
            "Collecting cachetools==4.2.1\n",
            "  Downloading cachetools-4.2.1-py3-none-any.whl (12 kB)\n",
            "Requirement already satisfied: python-dateutil<3.0.0,>=2.1 in /usr/local/lib/python3.8/dist-packages (from botocore<2.0.0,>=1.23.17->awswrangler==2.16.1->lakeapi) (2.8.2)\n",
            "Collecting urllib3<1.27,>=1.25.4\n",
            "  Downloading urllib3-1.26.13-py2.py3-none-any.whl (140 kB)\n",
            "\u001b[K     |████████████████████████████████| 140 kB 51.9 MB/s \n",
            "\u001b[?25hCollecting nest-asyncio\n",
            "  Downloading nest_asyncio-1.5.6-py3-none-any.whl (5.2 kB)\n",
            "Collecting isodate<1.0.0,>=0.6.0\n",
            "  Downloading isodate-0.6.1-py2.py3-none-any.whl (41 kB)\n",
            "\u001b[K     |████████████████████████████████| 41 kB 417 kB/s \n",
            "\u001b[?25hCollecting aenum<4.0.0,>=1.4.5\n",
            "  Downloading aenum-3.1.11-py3-none-any.whl (131 kB)\n",
            "\u001b[K     |████████████████████████████████| 131 kB 55.4 MB/s \n",
            "\u001b[?25hCollecting aiohttp<=3.8.1,>=3.8.0\n",
            "  Downloading aiohttp-3.8.1-cp38-cp38-manylinux_2_5_x86_64.manylinux1_x86_64.manylinux_2_12_x86_64.manylinux2010_x86_64.whl (1.3 MB)\n",
            "\u001b[K     |████████████████████████████████| 1.3 MB 51.8 MB/s \n",
            "\u001b[?25hRequirement already satisfied: attrs>=17.3.0 in /usr/local/lib/python3.8/dist-packages (from aiohttp<=3.8.1,>=3.8.0->gremlinpython<4.0.0,>=3.5.2->awswrangler==2.16.1->lakeapi) (22.1.0)\n",
            "Requirement already satisfied: charset-normalizer<3.0,>=2.0 in /usr/local/lib/python3.8/dist-packages (from aiohttp<=3.8.1,>=3.8.0->gremlinpython<4.0.0,>=3.5.2->awswrangler==2.16.1->lakeapi) (2.1.1)\n",
            "Requirement already satisfied: multidict<7.0,>=4.5 in /usr/local/lib/python3.8/dist-packages (from aiohttp<=3.8.1,>=3.8.0->gremlinpython<4.0.0,>=3.5.2->awswrangler==2.16.1->lakeapi) (6.0.2)\n",
            "Requirement already satisfied: aiosignal>=1.1.2 in /usr/local/lib/python3.8/dist-packages (from aiohttp<=3.8.1,>=3.8.0->gremlinpython<4.0.0,>=3.5.2->awswrangler==2.16.1->lakeapi) (1.3.1)\n",
            "Requirement already satisfied: yarl<2.0,>=1.0 in /usr/local/lib/python3.8/dist-packages (from aiohttp<=3.8.1,>=3.8.0->gremlinpython<4.0.0,>=3.5.2->awswrangler==2.16.1->lakeapi) (1.8.1)\n",
            "Requirement already satisfied: async-timeout<5.0,>=4.0.0a3 in /usr/local/lib/python3.8/dist-packages (from aiohttp<=3.8.1,>=3.8.0->gremlinpython<4.0.0,>=3.5.2->awswrangler==2.16.1->lakeapi) (4.0.2)\n",
            "Requirement already satisfied: frozenlist>=1.1.1 in /usr/local/lib/python3.8/dist-packages (from aiohttp<=3.8.1,>=3.8.0->gremlinpython<4.0.0,>=3.5.2->awswrangler==2.16.1->lakeapi) (1.3.3)\n",
            "Requirement already satisfied: six in /usr/local/lib/python3.8/dist-packages (from isodate<1.0.0,>=0.6.0->gremlinpython<4.0.0,>=3.5.2->awswrangler==2.16.1->lakeapi) (1.15.0)\n",
            "Requirement already satisfied: decorator in /usr/local/lib/python3.8/dist-packages (from jsonpath-ng<2.0.0,>=1.5.3->awswrangler==2.16.1->lakeapi) (4.4.2)\n",
            "Collecting ply\n",
            "  Downloading ply-3.11-py2.py3-none-any.whl (49 kB)\n",
            "\u001b[K     |████████████████████████████████| 49 kB 4.7 MB/s \n",
            "\u001b[?25hRequirement already satisfied: et-xmlfile in /usr/local/lib/python3.8/dist-packages (from openpyxl<3.1.0,>=3.0.0->awswrangler==2.16.1->lakeapi) (1.1.0)\n",
            "Requirement already satisfied: certifi in /usr/local/lib/python3.8/dist-packages (from opensearch-py<2.0.0,>=1.0.0->awswrangler==2.16.1->lakeapi) (2022.9.24)\n",
            "Requirement already satisfied: pytz>=2017.3 in /usr/local/lib/python3.8/dist-packages (from pandas<2,>=1.0.5->lakeapi) (2022.6)\n",
            "Collecting scramp>=1.4.3\n",
            "  Downloading scramp-1.4.4-py3-none-any.whl (13 kB)\n",
            "Requirement already satisfied: python-utils>=3.0.0 in /usr/local/lib/python3.8/dist-packages (from progressbar2<5.0.0,>=4.0.0->awswrangler==2.16.1->lakeapi) (3.4.5)\n",
            "Requirement already satisfied: requests<3.0.0,>=2.23.0 in /usr/local/lib/python3.8/dist-packages (from redshift-connector<2.1.0,>=2.0.889->awswrangler==2.16.1->lakeapi) (2.23.0)\n",
            "Requirement already satisfied: setuptools in /usr/local/lib/python3.8/dist-packages (from redshift-connector<2.1.0,>=2.0.889->awswrangler==2.16.1->lakeapi) (57.4.0)\n",
            "Requirement already satisfied: lxml>=4.6.5 in /usr/local/lib/python3.8/dist-packages (from redshift-connector<2.1.0,>=2.0.889->awswrangler==2.16.1->lakeapi) (4.9.1)\n",
            "Requirement already satisfied: packaging in /usr/local/lib/python3.8/dist-packages (from redshift-connector<2.1.0,>=2.0.889->awswrangler==2.16.1->lakeapi) (21.3)\n",
            "Collecting beautifulsoup4<5.0.0,>=4.7.0\n",
            "  Downloading beautifulsoup4-4.11.1-py3-none-any.whl (128 kB)\n",
            "\u001b[K     |████████████████████████████████| 128 kB 59.3 MB/s \n",
            "\u001b[?25hCollecting soupsieve>1.2\n",
            "  Downloading soupsieve-2.3.2.post1-py3-none-any.whl (37 kB)\n",
            "Requirement already satisfied: idna<3,>=2.5 in /usr/local/lib/python3.8/dist-packages (from requests<3.0.0,>=2.23.0->redshift-connector<2.1.0,>=2.0.889->awswrangler==2.16.1->lakeapi) (2.10)\n",
            "Collecting urllib3<1.27,>=1.25.4\n",
            "  Downloading urllib3-1.25.11-py2.py3-none-any.whl (127 kB)\n",
            "\u001b[K     |████████████████████████████████| 127 kB 57.5 MB/s \n",
            "\u001b[?25hRequirement already satisfied: chardet<4,>=3.0.2 in /usr/local/lib/python3.8/dist-packages (from requests<3.0.0,>=2.23.0->redshift-connector<2.1.0,>=2.0.889->awswrangler==2.16.1->lakeapi) (3.0.4)\n",
            "Collecting asn1crypto>=1.5.1\n",
            "  Downloading asn1crypto-1.5.1-py2.py3-none-any.whl (105 kB)\n",
            "\u001b[K     |████████████████████████████████| 105 kB 51.8 MB/s \n",
            "\u001b[?25hRequirement already satisfied: pyparsing!=3.0.5,>=2.0.2 in /usr/local/lib/python3.8/dist-packages (from packaging->redshift-connector<2.1.0,>=2.0.889->awswrangler==2.16.1->lakeapi) (3.0.9)\n",
            "Installing collected packages: urllib3, jmespath, botocore, soupsieve, s3transfer, asn1crypto, scramp, ply, nest-asyncio, isodate, boto3, beautifulsoup4, aiohttp, aenum, requests-aws4auth, redshift-connector, pymysql, pyarrow, progressbar2, pg8000, opensearch-py, jsonpath-ng, gremlinpython, cachetools, backoff, cachetools-ext, botocache, awswrangler, lakeapi\n",
            "  Attempting uninstall: urllib3\n",
            "    Found existing installation: urllib3 1.24.3\n",
            "    Uninstalling urllib3-1.24.3:\n",
            "      Successfully uninstalled urllib3-1.24.3\n",
            "  Attempting uninstall: beautifulsoup4\n",
            "    Found existing installation: beautifulsoup4 4.6.3\n",
            "    Uninstalling beautifulsoup4-4.6.3:\n",
            "      Successfully uninstalled beautifulsoup4-4.6.3\n",
            "  Attempting uninstall: aiohttp\n",
            "    Found existing installation: aiohttp 3.8.3\n",
            "    Uninstalling aiohttp-3.8.3:\n",
            "      Successfully uninstalled aiohttp-3.8.3\n",
            "  Attempting uninstall: pyarrow\n",
            "    Found existing installation: pyarrow 9.0.0\n",
            "    Uninstalling pyarrow-9.0.0:\n",
            "      Successfully uninstalled pyarrow-9.0.0\n",
            "  Attempting uninstall: progressbar2\n",
            "    Found existing installation: progressbar2 3.38.0\n",
            "    Uninstalling progressbar2-3.38.0:\n",
            "      Successfully uninstalled progressbar2-3.38.0\n",
            "  Attempting uninstall: cachetools\n",
            "    Found existing installation: cachetools 5.2.0\n",
            "    Uninstalling cachetools-5.2.0:\n",
            "      Successfully uninstalled cachetools-5.2.0\n",
            "Successfully installed aenum-3.1.11 aiohttp-3.8.1 asn1crypto-1.5.1 awswrangler-2.16.1 backoff-2.2.1 beautifulsoup4-4.11.1 boto3-1.26.23 botocache-0.0.4 botocore-1.29.23 cachetools-4.2.1 cachetools-ext-0.0.8 gremlinpython-3.6.1 isodate-0.6.1 jmespath-1.0.1 jsonpath-ng-1.5.3 lakeapi-0.4.1 nest-asyncio-1.5.6 opensearch-py-1.1.0 pg8000-1.29.3 ply-3.11 progressbar2-4.2.0 pyarrow-7.0.0 pymysql-1.0.2 redshift-connector-2.0.909 requests-aws4auth-1.1.2 s3transfer-0.6.0 scramp-1.4.4 soupsieve-2.3.2.post1 urllib3-1.25.11\n"
          ]
        }
      ],
      "source": [
        "# Comment if not running in Colab\n",
        "!pip install lakeapi -q"
      ]
    },
    {
      "cell_type": "code",
      "source": [
        "#  Imports\n",
        "import datetime as dt\n",
        "import math\n",
        "import numpy as np\n",
        "import pandas as pd\n",
        "\n",
        "import matplotlib.pyplot as plt\n",
        "%matplotlib inline\n",
        "\n",
        "import lakeapi\n",
        "\n",
        "lakeapi.use_sample_data(anonymous_access=True)"
      ],
      "metadata": {
        "id": "Fn-bMQUYq3ai"
      },
      "execution_count": null,
      "outputs": []
    },
    {
      "cell_type": "markdown",
      "source": [
        "We'll do analysis on FTRB-USDT on AscendEX since there's the most amount of data available on this one."
      ],
      "metadata": {
        "id": "asua_-pgus0v"
      }
    },
    {
      "cell_type": "code",
      "source": [
        "# Parameters\n",
        "symbol = 'FTRB-USDT'\n",
        "exchange = 'ASCENDEX'\n",
        "\n",
        "start = dt.datetime(2022, 9, 1)\n",
        "end = dt.datetime(2022, 11, 20)"
      ],
      "metadata": {
        "id": "bJ24J_MyuN9a"
      },
      "execution_count": null,
      "outputs": []
    },
    {
      "cell_type": "code",
      "source": [
        "def load_data(table: str):\n",
        "    print('Loading', table)\n",
        "    return lakeapi.load_data(\n",
        "        table = table,\n",
        "        start = start,\n",
        "        end = end,\n",
        "        symbols = [symbol],\n",
        "        exchanges = [exchange],\n",
        "        drop_partition_cols = True,\n",
        "    ).sort_values('received_time')\n",
        "\n",
        "# Load l1 data = top of the order book\n",
        "l1 = load_data('level_1')\n",
        "# Load trades\n",
        "trades = load_data('trades')"
      ],
      "metadata": {
        "colab": {
          "base_uri": "https://localhost:8080/",
          "height": 116,
          "referenced_widgets": [
            "ab81d4b86ea746fda14caeeeb597d16c",
            "b70dc6c0aa794b2d9f8aee12dd67f65f",
            "36cba156c74640b6a30ec4edc7839117",
            "029379ff5c7a45e7b0d92ba3e4615132",
            "7e4d7f4fcb234d68b6f1b32039b9725b",
            "ce2941b69ca54b2ca8b587772c3adf7e",
            "0d1c0053d8f646168ab4ef555fc73184",
            "befe94e1861142a3910bef9881b80c9a",
            "94aec9a3d63c4bd7aeb72b3679464390",
            "32361d046d904ac4a4b664109cd2c5c4",
            "cb861c9809564d0a856a535e832f6967",
            "27dfccb7472a4c04928f2799da3aee2e",
            "9294255b36f14d688890f32fa1876396",
            "8fa3876d3f804c67ba72caa0b2f5bfdc",
            "ead2ccf534574778acc4347d61e861c4",
            "6abc265291164884b7b02bbbca178e51",
            "05b744726efd481ea69980f7e52ccac3",
            "a66414acbcf34ad38ef496e0a5f2a07f",
            "c00066a2b1c642e4ba61d39f9122b1bf",
            "629bcf1e60a441e293359d8a2e67f6fb",
            "bb4a39dcc5fe46a9b37f09bb3c53b920",
            "d358156db7054000abb12404cb2e495d"
          ]
        },
        "id": "XqsUsu2qtm9T",
        "outputId": "ce38f0b3-af1b-42e3-a036-98fb12e1585a"
      },
      "execution_count": null,
      "outputs": [
        {
          "output_type": "stream",
          "name": "stdout",
          "text": [
            "Loading level_1\n"
          ]
        },
        {
          "output_type": "display_data",
          "data": {
            "text/plain": [
              "  0%|          | 0/80 [00:00<?, ?it/s]"
            ],
            "application/vnd.jupyter.widget-view+json": {
              "version_major": 2,
              "version_minor": 0,
              "model_id": "ab81d4b86ea746fda14caeeeb597d16c"
            }
          },
          "metadata": {}
        },
        {
          "output_type": "stream",
          "name": "stdout",
          "text": [
            "Loading trades\n"
          ]
        },
        {
          "output_type": "display_data",
          "data": {
            "text/plain": [
              "  0%|          | 0/80 [00:00<?, ?it/s]"
            ],
            "application/vnd.jupyter.widget-view+json": {
              "version_major": 2,
              "version_minor": 0,
              "model_id": "27dfccb7472a4c04928f2799da3aee2e"
            }
          },
          "metadata": {}
        }
      ]
    },
    {
      "cell_type": "markdown",
      "source": [
        "## Is this a profitable pair?"
      ],
      "metadata": {
        "id": "XzDOqVGddI1L"
      }
    },
    {
      "cell_type": "markdown",
      "source": [
        "Before we go deep into this pair. The first big question is *\"Is this a pair that a market maker can make money?\"*. To do that let's prepare the data we need and create a simple proxy for \"pnl\". With gaps minutes at a time, there are methods to prepare the data, but I'd rather spend time doing a quick test now."
      ],
      "metadata": {
        "id": "SDMhNbtwfHJV"
      }
    },
    {
      "cell_type": "code",
      "source": [
        "# Merge trades and l1 data\n",
        "df = pd.merge_asof(\n",
        "\tleft = trades.rename(columns = {'origin_time': 'trade_origin_time', 'received_time': 'trade_received_time'}),\n",
        "\tright = l1.rename(columns = {'received_time': 'depth_received_time'}),\n",
        "\tleft_on = 'trade_received_time',\n",
        "\tright_on = 'depth_received_time',\n",
        "  tolerance = pd.Timedelta(minutes = 120),\n",
        ")\n",
        "df['mid'] = (df.bid_0_price + df.ask_0_price) / 2\n",
        "df"
      ],
      "metadata": {
        "colab": {
          "base_uri": "https://localhost:8080/",
          "height": 468
        },
        "id": "iKssqbaNtKwu",
        "outputId": "3abde203-cae4-40df-a4f5-1afdd0180e04"
      },
      "execution_count": null,
      "outputs": [
        {
          "output_type": "execute_result",
          "data": {
            "text/plain": [
              "       side  quantity     price            trade_id  \\\n",
              "0      sell    6000.0  0.010031  108086470184688960   \n",
              "1       buy    5000.0  0.010031  108086470184713728   \n",
              "2       buy    6000.0  0.010031  108086470184732864   \n",
              "3      sell    4424.0  0.010031  108086470184771408   \n",
              "4       buy    2952.0  0.010031  108086470184775520   \n",
              "...     ...       ...       ...                 ...   \n",
              "98387  sell   50000.0  0.010362  108086472329631232   \n",
              "98388   buy    4262.0  0.010362  108086472329650688   \n",
              "98389  sell    5000.0  0.010362  108086472329801952   \n",
              "98390  sell    4490.0  0.010361  108086472329840128   \n",
              "98391   buy    1865.0  0.010362  108086472329894160   \n",
              "\n",
              "                  trade_origin_time           trade_received_time  \\\n",
              "0     2022-09-01 14:27:52.234999808 2022-09-01 14:27:52.275970048   \n",
              "1     2022-09-01 14:28:40.232999936 2022-09-01 14:28:40.362131712   \n",
              "2     2022-09-01 14:29:18.233999872 2022-09-01 14:29:18.543058432   \n",
              "3     2022-09-01 14:30:39.234999808 2022-09-01 14:30:39.465233152   \n",
              "4     2022-09-01 14:30:49.234999808 2022-09-01 14:30:49.572868352   \n",
              "...                             ...                           ...   \n",
              "98387 2022-11-19 23:27:44.907000064 2022-11-19 23:27:45.037637376   \n",
              "98388 2022-11-19 23:30:08.908000000 2022-11-19 23:30:09.155018496   \n",
              "98389 2022-11-19 23:46:29.908000000 2022-11-19 23:46:29.965184512   \n",
              "98390 2022-11-19 23:51:27.908000000 2022-11-19 23:51:28.195243008   \n",
              "98391 2022-11-19 23:59:15.908000000 2022-11-19 23:59:15.996033536   \n",
              "\n",
              "                depth_received_time  bid_0_price  ask_0_price  bid_0_size  \\\n",
              "0     2022-09-01 14:27:43.411748864     0.010029     0.010033     46720.0   \n",
              "1     2022-09-01 14:28:18.765389568     0.010029     0.010033     41836.0   \n",
              "2     2022-09-01 14:28:18.765389568     0.010029     0.010033     41836.0   \n",
              "3     2022-09-01 14:29:21.274260480     0.010029     0.010033     41836.0   \n",
              "4     2022-09-01 14:29:21.274260480     0.010029     0.010033     41836.0   \n",
              "...                             ...          ...          ...         ...   \n",
              "98387 2022-11-19 22:41:08.987471360     0.010360     0.010363      3449.0   \n",
              "98388 2022-11-19 22:41:08.987471360     0.010360     0.010363      3449.0   \n",
              "98389 2022-11-19 22:41:08.987471360     0.010360     0.010363      3449.0   \n",
              "98390 2022-11-19 22:41:08.987471360     0.010360     0.010363      3449.0   \n",
              "98391 2022-11-19 22:41:08.987471360     0.010360     0.010363      3449.0   \n",
              "\n",
              "       ask_0_size       mid  \n",
              "0         13529.0  0.010031  \n",
              "1         18642.0  0.010031  \n",
              "2         18642.0  0.010031  \n",
              "3         23529.0  0.010031  \n",
              "4         23529.0  0.010031  \n",
              "...           ...       ...  \n",
              "98387     44192.0  0.010361  \n",
              "98388     44192.0  0.010361  \n",
              "98389     44192.0  0.010361  \n",
              "98390     44192.0  0.010361  \n",
              "98391     44192.0  0.010361  \n",
              "\n",
              "[98392 rows x 12 columns]"
            ],
            "text/html": [
              "\n",
              "  <div id=\"df-0bbe2c36-6fab-4ad1-8f7a-a6bf2765f118\">\n",
              "    <div class=\"colab-df-container\">\n",
              "      <div>\n",
              "<style scoped>\n",
              "    .dataframe tbody tr th:only-of-type {\n",
              "        vertical-align: middle;\n",
              "    }\n",
              "\n",
              "    .dataframe tbody tr th {\n",
              "        vertical-align: top;\n",
              "    }\n",
              "\n",
              "    .dataframe thead th {\n",
              "        text-align: right;\n",
              "    }\n",
              "</style>\n",
              "<table border=\"1\" class=\"dataframe\">\n",
              "  <thead>\n",
              "    <tr style=\"text-align: right;\">\n",
              "      <th></th>\n",
              "      <th>side</th>\n",
              "      <th>quantity</th>\n",
              "      <th>price</th>\n",
              "      <th>trade_id</th>\n",
              "      <th>trade_origin_time</th>\n",
              "      <th>trade_received_time</th>\n",
              "      <th>depth_received_time</th>\n",
              "      <th>bid_0_price</th>\n",
              "      <th>ask_0_price</th>\n",
              "      <th>bid_0_size</th>\n",
              "      <th>ask_0_size</th>\n",
              "      <th>mid</th>\n",
              "    </tr>\n",
              "  </thead>\n",
              "  <tbody>\n",
              "    <tr>\n",
              "      <th>0</th>\n",
              "      <td>sell</td>\n",
              "      <td>6000.0</td>\n",
              "      <td>0.010031</td>\n",
              "      <td>108086470184688960</td>\n",
              "      <td>2022-09-01 14:27:52.234999808</td>\n",
              "      <td>2022-09-01 14:27:52.275970048</td>\n",
              "      <td>2022-09-01 14:27:43.411748864</td>\n",
              "      <td>0.010029</td>\n",
              "      <td>0.010033</td>\n",
              "      <td>46720.0</td>\n",
              "      <td>13529.0</td>\n",
              "      <td>0.010031</td>\n",
              "    </tr>\n",
              "    <tr>\n",
              "      <th>1</th>\n",
              "      <td>buy</td>\n",
              "      <td>5000.0</td>\n",
              "      <td>0.010031</td>\n",
              "      <td>108086470184713728</td>\n",
              "      <td>2022-09-01 14:28:40.232999936</td>\n",
              "      <td>2022-09-01 14:28:40.362131712</td>\n",
              "      <td>2022-09-01 14:28:18.765389568</td>\n",
              "      <td>0.010029</td>\n",
              "      <td>0.010033</td>\n",
              "      <td>41836.0</td>\n",
              "      <td>18642.0</td>\n",
              "      <td>0.010031</td>\n",
              "    </tr>\n",
              "    <tr>\n",
              "      <th>2</th>\n",
              "      <td>buy</td>\n",
              "      <td>6000.0</td>\n",
              "      <td>0.010031</td>\n",
              "      <td>108086470184732864</td>\n",
              "      <td>2022-09-01 14:29:18.233999872</td>\n",
              "      <td>2022-09-01 14:29:18.543058432</td>\n",
              "      <td>2022-09-01 14:28:18.765389568</td>\n",
              "      <td>0.010029</td>\n",
              "      <td>0.010033</td>\n",
              "      <td>41836.0</td>\n",
              "      <td>18642.0</td>\n",
              "      <td>0.010031</td>\n",
              "    </tr>\n",
              "    <tr>\n",
              "      <th>3</th>\n",
              "      <td>sell</td>\n",
              "      <td>4424.0</td>\n",
              "      <td>0.010031</td>\n",
              "      <td>108086470184771408</td>\n",
              "      <td>2022-09-01 14:30:39.234999808</td>\n",
              "      <td>2022-09-01 14:30:39.465233152</td>\n",
              "      <td>2022-09-01 14:29:21.274260480</td>\n",
              "      <td>0.010029</td>\n",
              "      <td>0.010033</td>\n",
              "      <td>41836.0</td>\n",
              "      <td>23529.0</td>\n",
              "      <td>0.010031</td>\n",
              "    </tr>\n",
              "    <tr>\n",
              "      <th>4</th>\n",
              "      <td>buy</td>\n",
              "      <td>2952.0</td>\n",
              "      <td>0.010031</td>\n",
              "      <td>108086470184775520</td>\n",
              "      <td>2022-09-01 14:30:49.234999808</td>\n",
              "      <td>2022-09-01 14:30:49.572868352</td>\n",
              "      <td>2022-09-01 14:29:21.274260480</td>\n",
              "      <td>0.010029</td>\n",
              "      <td>0.010033</td>\n",
              "      <td>41836.0</td>\n",
              "      <td>23529.0</td>\n",
              "      <td>0.010031</td>\n",
              "    </tr>\n",
              "    <tr>\n",
              "      <th>...</th>\n",
              "      <td>...</td>\n",
              "      <td>...</td>\n",
              "      <td>...</td>\n",
              "      <td>...</td>\n",
              "      <td>...</td>\n",
              "      <td>...</td>\n",
              "      <td>...</td>\n",
              "      <td>...</td>\n",
              "      <td>...</td>\n",
              "      <td>...</td>\n",
              "      <td>...</td>\n",
              "      <td>...</td>\n",
              "    </tr>\n",
              "    <tr>\n",
              "      <th>98387</th>\n",
              "      <td>sell</td>\n",
              "      <td>50000.0</td>\n",
              "      <td>0.010362</td>\n",
              "      <td>108086472329631232</td>\n",
              "      <td>2022-11-19 23:27:44.907000064</td>\n",
              "      <td>2022-11-19 23:27:45.037637376</td>\n",
              "      <td>2022-11-19 22:41:08.987471360</td>\n",
              "      <td>0.010360</td>\n",
              "      <td>0.010363</td>\n",
              "      <td>3449.0</td>\n",
              "      <td>44192.0</td>\n",
              "      <td>0.010361</td>\n",
              "    </tr>\n",
              "    <tr>\n",
              "      <th>98388</th>\n",
              "      <td>buy</td>\n",
              "      <td>4262.0</td>\n",
              "      <td>0.010362</td>\n",
              "      <td>108086472329650688</td>\n",
              "      <td>2022-11-19 23:30:08.908000000</td>\n",
              "      <td>2022-11-19 23:30:09.155018496</td>\n",
              "      <td>2022-11-19 22:41:08.987471360</td>\n",
              "      <td>0.010360</td>\n",
              "      <td>0.010363</td>\n",
              "      <td>3449.0</td>\n",
              "      <td>44192.0</td>\n",
              "      <td>0.010361</td>\n",
              "    </tr>\n",
              "    <tr>\n",
              "      <th>98389</th>\n",
              "      <td>sell</td>\n",
              "      <td>5000.0</td>\n",
              "      <td>0.010362</td>\n",
              "      <td>108086472329801952</td>\n",
              "      <td>2022-11-19 23:46:29.908000000</td>\n",
              "      <td>2022-11-19 23:46:29.965184512</td>\n",
              "      <td>2022-11-19 22:41:08.987471360</td>\n",
              "      <td>0.010360</td>\n",
              "      <td>0.010363</td>\n",
              "      <td>3449.0</td>\n",
              "      <td>44192.0</td>\n",
              "      <td>0.010361</td>\n",
              "    </tr>\n",
              "    <tr>\n",
              "      <th>98390</th>\n",
              "      <td>sell</td>\n",
              "      <td>4490.0</td>\n",
              "      <td>0.010361</td>\n",
              "      <td>108086472329840128</td>\n",
              "      <td>2022-11-19 23:51:27.908000000</td>\n",
              "      <td>2022-11-19 23:51:28.195243008</td>\n",
              "      <td>2022-11-19 22:41:08.987471360</td>\n",
              "      <td>0.010360</td>\n",
              "      <td>0.010363</td>\n",
              "      <td>3449.0</td>\n",
              "      <td>44192.0</td>\n",
              "      <td>0.010361</td>\n",
              "    </tr>\n",
              "    <tr>\n",
              "      <th>98391</th>\n",
              "      <td>buy</td>\n",
              "      <td>1865.0</td>\n",
              "      <td>0.010362</td>\n",
              "      <td>108086472329894160</td>\n",
              "      <td>2022-11-19 23:59:15.908000000</td>\n",
              "      <td>2022-11-19 23:59:15.996033536</td>\n",
              "      <td>2022-11-19 22:41:08.987471360</td>\n",
              "      <td>0.010360</td>\n",
              "      <td>0.010363</td>\n",
              "      <td>3449.0</td>\n",
              "      <td>44192.0</td>\n",
              "      <td>0.010361</td>\n",
              "    </tr>\n",
              "  </tbody>\n",
              "</table>\n",
              "<p>98392 rows × 12 columns</p>\n",
              "</div>\n",
              "      <button class=\"colab-df-convert\" onclick=\"convertToInteractive('df-0bbe2c36-6fab-4ad1-8f7a-a6bf2765f118')\"\n",
              "              title=\"Convert this dataframe to an interactive table.\"\n",
              "              style=\"display:none;\">\n",
              "        \n",
              "  <svg xmlns=\"http://www.w3.org/2000/svg\" height=\"24px\"viewBox=\"0 0 24 24\"\n",
              "       width=\"24px\">\n",
              "    <path d=\"M0 0h24v24H0V0z\" fill=\"none\"/>\n",
              "    <path d=\"M18.56 5.44l.94 2.06.94-2.06 2.06-.94-2.06-.94-.94-2.06-.94 2.06-2.06.94zm-11 1L8.5 8.5l.94-2.06 2.06-.94-2.06-.94L8.5 2.5l-.94 2.06-2.06.94zm10 10l.94 2.06.94-2.06 2.06-.94-2.06-.94-.94-2.06-.94 2.06-2.06.94z\"/><path d=\"M17.41 7.96l-1.37-1.37c-.4-.4-.92-.59-1.43-.59-.52 0-1.04.2-1.43.59L10.3 9.45l-7.72 7.72c-.78.78-.78 2.05 0 2.83L4 21.41c.39.39.9.59 1.41.59.51 0 1.02-.2 1.41-.59l7.78-7.78 2.81-2.81c.8-.78.8-2.07 0-2.86zM5.41 20L4 18.59l7.72-7.72 1.47 1.35L5.41 20z\"/>\n",
              "  </svg>\n",
              "      </button>\n",
              "      \n",
              "  <style>\n",
              "    .colab-df-container {\n",
              "      display:flex;\n",
              "      flex-wrap:wrap;\n",
              "      gap: 12px;\n",
              "    }\n",
              "\n",
              "    .colab-df-convert {\n",
              "      background-color: #E8F0FE;\n",
              "      border: none;\n",
              "      border-radius: 50%;\n",
              "      cursor: pointer;\n",
              "      display: none;\n",
              "      fill: #1967D2;\n",
              "      height: 32px;\n",
              "      padding: 0 0 0 0;\n",
              "      width: 32px;\n",
              "    }\n",
              "\n",
              "    .colab-df-convert:hover {\n",
              "      background-color: #E2EBFA;\n",
              "      box-shadow: 0px 1px 2px rgba(60, 64, 67, 0.3), 0px 1px 3px 1px rgba(60, 64, 67, 0.15);\n",
              "      fill: #174EA6;\n",
              "    }\n",
              "\n",
              "    [theme=dark] .colab-df-convert {\n",
              "      background-color: #3B4455;\n",
              "      fill: #D2E3FC;\n",
              "    }\n",
              "\n",
              "    [theme=dark] .colab-df-convert:hover {\n",
              "      background-color: #434B5C;\n",
              "      box-shadow: 0px 1px 3px 1px rgba(0, 0, 0, 0.15);\n",
              "      filter: drop-shadow(0px 1px 2px rgba(0, 0, 0, 0.3));\n",
              "      fill: #FFFFFF;\n",
              "    }\n",
              "  </style>\n",
              "\n",
              "      <script>\n",
              "        const buttonEl =\n",
              "          document.querySelector('#df-0bbe2c36-6fab-4ad1-8f7a-a6bf2765f118 button.colab-df-convert');\n",
              "        buttonEl.style.display =\n",
              "          google.colab.kernel.accessAllowed ? 'block' : 'none';\n",
              "\n",
              "        async function convertToInteractive(key) {\n",
              "          const element = document.querySelector('#df-0bbe2c36-6fab-4ad1-8f7a-a6bf2765f118');\n",
              "          const dataTable =\n",
              "            await google.colab.kernel.invokeFunction('convertToInteractive',\n",
              "                                                     [key], {});\n",
              "          if (!dataTable) return;\n",
              "\n",
              "          const docLinkHtml = 'Like what you see? Visit the ' +\n",
              "            '<a target=\"_blank\" href=https://colab.research.google.com/notebooks/data_table.ipynb>data table notebook</a>'\n",
              "            + ' to learn more about interactive tables.';\n",
              "          element.innerHTML = '';\n",
              "          dataTable['output_type'] = 'display_data';\n",
              "          await google.colab.output.renderOutput(dataTable, element);\n",
              "          const docLink = document.createElement('div');\n",
              "          docLink.innerHTML = docLinkHtml;\n",
              "          element.appendChild(docLink);\n",
              "        }\n",
              "      </script>\n",
              "    </div>\n",
              "  </div>\n",
              "  "
            ]
          },
          "metadata": {},
          "execution_count": 5
        }
      ]
    },
    {
      "cell_type": "markdown",
      "source": [
        "From looking at a few rows I can see that the traded price don't happen "
      ],
      "metadata": {
        "id": "yOWfFKDV1UGa"
      }
    },
    {
      "cell_type": "code",
      "source": [
        "fig, ax = plt.subplots()\n",
        "# Add the time-series for 'mid' to the plot\n",
        "ax.plot(df.index, df['mid']);\n",
        "# Set the axis labels\n",
        "ax.set_xlabel('index');\n",
        "ax.set_ylabel('price');"
      ],
      "metadata": {
        "colab": {
          "base_uri": "https://localhost:8080/",
          "height": 279
        },
        "id": "OiU3cyNyv_G9",
        "outputId": "5a35baf9-28f7-4586-fcaf-1eb734b8507b"
      },
      "execution_count": null,
      "outputs": [
        {
          "output_type": "display_data",
          "data": {
            "text/plain": [
              "<Figure size 432x288 with 1 Axes>"
            ],
            "image/png": "[encoded data removed]"
          },
          "metadata": {
            "needs_background": "light"
          }
        }
      ]
    },
    {
      "cell_type": "markdown",
      "source": [
        "Ah, truly representative of small-cap crypto charts. From the look of the enormous spike, I'd guess that simply providing liquidity on it might not be a profitable venture."
      ],
      "metadata": {
        "id": "-J_OcYz_wuvT"
      }
    },
    {
      "cell_type": "code",
      "source": [
        "df1 = df[['side','price', 'mid']]\n",
        "df1['forward_mid'] = df1['mid'].shift(-1)\n",
        "df1 = df1.dropna()\n",
        "df1['pnl'] = np.where(df1['side'] == 'buy', df1['forward_mid'] - df1['price'], df1['price'] - df1['forward_mid'])"
      ],
      "metadata": {
        "colab": {
          "base_uri": "https://localhost:8080/"
        },
        "id": "1OY_5jDafDkq",
        "outputId": "2ad09b29-9c0a-4d81-bdd2-96277f30f84b"
      },
      "execution_count": null,
      "outputs": [
        {
          "output_type": "stream",
          "name": "stderr",
          "text": [
            "<ipython-input-7-ba85c96909d6>:2: SettingWithCopyWarning: \n",
            "A value is trying to be set on a copy of a slice from a DataFrame.\n",
            "Try using .loc[row_indexer,col_indexer] = value instead\n",
            "\n",
            "See the caveats in the documentation: https://pandas.pydata.org/pandas-docs/stable/user_guide/indexing.html#returning-a-view-versus-a-copy\n",
            "  df1['forward_mid'] = df1['mid'].shift(-1)\n"
          ]
        }
      ]
    },
    {
      "cell_type": "code",
      "source": [
        "df1['pnl'].describe()"
      ],
      "metadata": {
        "colab": {
          "base_uri": "https://localhost:8080/"
        },
        "id": "vQjMjKnnfDDI",
        "outputId": "57adac51-4759-4b17-c15d-c3ebd128d218"
      },
      "execution_count": null,
      "outputs": [
        {
          "output_type": "execute_result",
          "data": {
            "text/plain": [
              "count    9.339000e+04\n",
              "mean    -2.897650e-06\n",
              "std      3.929549e-05\n",
              "min     -2.357500e-03\n",
              "25%     -5.000000e-07\n",
              "50%      0.000000e+00\n",
              "75%      5.000000e-07\n",
              "max      1.098500e-03\n",
              "Name: pnl, dtype: float64"
            ]
          },
          "metadata": {},
          "execution_count": 8
        }
      ]
    },
    {
      "cell_type": "markdown",
      "source": [
        "Well at least that confirms the first statement, simply buying the bid or selling the offer isn't profitable by itself with half of the spread. The result is negative mean and nasty negative skew. This is before handling of inventory and fees. Let's see how this differs with the highly unrealistic assumption of collecting every trade. Also, the reverse logic is that it is positive mean and positive skew to take the orders...."
      ],
      "metadata": {
        "id": "5Xoj1e9lz1h-"
      }
    },
    {
      "cell_type": "code",
      "source": [
        "df2 = df[['side','price', 'mid']]\n",
        "df2['forward_mid'] = df2['mid'].shift(-1)\n",
        "df2 = df2.dropna()\n",
        "df2['pnl'] = np.where(df2['side'] == 'buy', df2['price'] - df2['forward_mid'], df2['forward_mid'] - df2['price'])"
      ],
      "metadata": {
        "colab": {
          "base_uri": "https://localhost:8080/"
        },
        "id": "iAr47MVHa9UF",
        "outputId": "25b52f38-69d7-43c1-8b78-d3b78b8a5e48"
      },
      "execution_count": null,
      "outputs": [
        {
          "output_type": "stream",
          "name": "stderr",
          "text": [
            "<ipython-input-9-940def3abe8b>:2: SettingWithCopyWarning: \n",
            "A value is trying to be set on a copy of a slice from a DataFrame.\n",
            "Try using .loc[row_indexer,col_indexer] = value instead\n",
            "\n",
            "See the caveats in the documentation: https://pandas.pydata.org/pandas-docs/stable/user_guide/indexing.html#returning-a-view-versus-a-copy\n",
            "  df2['forward_mid'] = df2['mid'].shift(-1)\n"
          ]
        }
      ]
    },
    {
      "cell_type": "code",
      "source": [
        "df2['pnl'].describe()"
      ],
      "metadata": {
        "colab": {
          "base_uri": "https://localhost:8080/"
        },
        "id": "w0PN1cJKyhrO",
        "outputId": "9fd5636d-d3c8-42f5-fb62-f85bff956032"
      },
      "execution_count": null,
      "outputs": [
        {
          "output_type": "execute_result",
          "data": {
            "text/plain": [
              "count    9.339000e+04\n",
              "mean     2.897650e-06\n",
              "std      3.929549e-05\n",
              "min     -1.098500e-03\n",
              "25%     -5.000000e-07\n",
              "50%      0.000000e+00\n",
              "75%      5.000000e-07\n",
              "max      2.357500e-03\n",
              "Name: pnl, dtype: float64"
            ]
          },
          "metadata": {},
          "execution_count": 10
        }
      ]
    },
    {
      "cell_type": "markdown",
      "source": [
        "As can be seen from [Hummingbot Backtest notebook](https://mybinder.org/v2/gh/crypto-lake/analysis-sharing/main?filepath=hummingbot_backtest.ipynb) on the same pair, the bulk of the volume is in 30 bps spread and below which is net unprofitable. And profit is realized from mid-price 1000 trades ahead. This means inventory management and great execution is required for successful market making operation even on a not hugely popular pair like this.   "
      ],
      "metadata": {
        "id": "f3-Bv00eb5Vr"
      }
    },
    {
      "cell_type": "markdown",
      "source": [
        "## Spread Factors"
      ],
      "metadata": {
        "id": "-6y1n5MKe_OF"
      }
    },
    {
      "cell_type": "markdown",
      "source": [
        "From the same [Hummingbot Backtest notebook](https://mybinder.org/v2/gh/crypto-lake/analysis-sharing/main?filepath=hummingbot_backtest.ipynb) the pair was profitable from 40 bps spread onwards. Wouldn't it be great to learn the behaviour of these spreads. Returns are notoriously difficult to forecast, we know that volatility is less difficult to forecast, same for volume, but what about spread?"
      ],
      "metadata": {
        "id": "jrGzf7y6fDgP"
      }
    },
    {
      "cell_type": "markdown",
      "source": [
        "### Spread\n",
        "\n",
        "I'll be looking at seasonality after so I resample the data to 5min. Since we now have spread data at reasonable frequency let's take a look."
      ],
      "metadata": {
        "id": "vcmgiKJEk1XA"
      }
    },
    {
      "cell_type": "code",
      "source": [
        "df3 = l1[['bid_0_price', 'ask_0_price']]\n",
        "df3 = df3.rename(columns = {'bid_0_price': 'bid', 'ask_0_price': 'ask'})\n",
        "df3['datetime'] = pd.to_datetime(l1['received_time'])\n",
        "df3 = df3.set_index('datetime')\n",
        "df4 = df3.resample('5min').first()\n",
        "df4 = df4.dropna()\n",
        "df4['minute'] = df4.index.minute\n",
        "df4['hour'] = df4.index.hour\n",
        "df4['spread'] = round((df4['ask'] - df4['bid']) / ((df4['ask'] + df4['bid']) / 2) * 10000)\n",
        "df4"
      ],
      "metadata": {
        "colab": {
          "base_uri": "https://localhost:8080/",
          "height": 455
        },
        "id": "VS8v2O1NfDC-",
        "outputId": "c3fb6c72-0e5e-4321-c279-4d83b9124608"
      },
      "execution_count": null,
      "outputs": [
        {
          "output_type": "execute_result",
          "data": {
            "text/plain": [
              "                          bid       ask  minute  hour  spread\n",
              "datetime                                                     \n",
              "2022-09-01 14:25:00  0.010029  0.010033      25    14     4.0\n",
              "2022-09-01 14:30:00  0.010029  0.010033      30    14     4.0\n",
              "2022-09-01 14:50:00  0.010029  0.010033      50    14     4.0\n",
              "2022-09-01 15:55:00  0.010028  0.010033      55    15     5.0\n",
              "2022-09-01 16:00:00  0.010013  0.010020       0    16     7.0\n",
              "...                       ...       ...     ...   ...     ...\n",
              "2022-11-19 22:20:00  0.010365  0.010367      20    22     2.0\n",
              "2022-11-19 22:25:00  0.010363  0.010367      25    22     4.0\n",
              "2022-11-19 22:30:00  0.010360  0.010363      30    22     3.0\n",
              "2022-11-19 22:35:00  0.010360  0.010363      35    22     3.0\n",
              "2022-11-19 22:40:00  0.010360  0.010363      40    22     3.0\n",
              "\n",
              "[10878 rows x 5 columns]"
            ],
            "text/html": [
              "\n",
              "  <div id=\"df-47aea290-a540-43bf-981d-a8001da32852\">\n",
              "    <div class=\"colab-df-container\">\n",
              "      <div>\n",
              "<style scoped>\n",
              "    .dataframe tbody tr th:only-of-type {\n",
              "        vertical-align: middle;\n",
              "    }\n",
              "\n",
              "    .dataframe tbody tr th {\n",
              "        vertical-align: top;\n",
              "    }\n",
              "\n",
              "    .dataframe thead th {\n",
              "        text-align: right;\n",
              "    }\n",
              "</style>\n",
              "<table border=\"1\" class=\"dataframe\">\n",
              "  <thead>\n",
              "    <tr style=\"text-align: right;\">\n",
              "      <th></th>\n",
              "      <th>bid</th>\n",
              "      <th>ask</th>\n",
              "      <th>minute</th>\n",
              "      <th>hour</th>\n",
              "      <th>spread</th>\n",
              "    </tr>\n",
              "    <tr>\n",
              "      <th>datetime</th>\n",
              "      <th></th>\n",
              "      <th></th>\n",
              "      <th></th>\n",
              "      <th></th>\n",
              "      <th></th>\n",
              "    </tr>\n",
              "  </thead>\n",
              "  <tbody>\n",
              "    <tr>\n",
              "      <th>2022-09-01 14:25:00</th>\n",
              "      <td>0.010029</td>\n",
              "      <td>0.010033</td>\n",
              "      <td>25</td>\n",
              "      <td>14</td>\n",
              "      <td>4.0</td>\n",
              "    </tr>\n",
              "    <tr>\n",
              "      <th>2022-09-01 14:30:00</th>\n",
              "      <td>0.010029</td>\n",
              "      <td>0.010033</td>\n",
              "      <td>30</td>\n",
              "      <td>14</td>\n",
              "      <td>4.0</td>\n",
              "    </tr>\n",
              "    <tr>\n",
              "      <th>2022-09-01 14:50:00</th>\n",
              "      <td>0.010029</td>\n",
              "      <td>0.010033</td>\n",
              "      <td>50</td>\n",
              "      <td>14</td>\n",
              "      <td>4.0</td>\n",
              "    </tr>\n",
              "    <tr>\n",
              "      <th>2022-09-01 15:55:00</th>\n",
              "      <td>0.010028</td>\n",
              "      <td>0.010033</td>\n",
              "      <td>55</td>\n",
              "      <td>15</td>\n",
              "      <td>5.0</td>\n",
              "    </tr>\n",
              "    <tr>\n",
              "      <th>2022-09-01 16:00:00</th>\n",
              "      <td>0.010013</td>\n",
              "      <td>0.010020</td>\n",
              "      <td>0</td>\n",
              "      <td>16</td>\n",
              "      <td>7.0</td>\n",
              "    </tr>\n",
              "    <tr>\n",
              "      <th>...</th>\n",
              "      <td>...</td>\n",
              "      <td>...</td>\n",
              "      <td>...</td>\n",
              "      <td>...</td>\n",
              "      <td>...</td>\n",
              "    </tr>\n",
              "    <tr>\n",
              "      <th>2022-11-19 22:20:00</th>\n",
              "      <td>0.010365</td>\n",
              "      <td>0.010367</td>\n",
              "      <td>20</td>\n",
              "      <td>22</td>\n",
              "      <td>2.0</td>\n",
              "    </tr>\n",
              "    <tr>\n",
              "      <th>2022-11-19 22:25:00</th>\n",
              "      <td>0.010363</td>\n",
              "      <td>0.010367</td>\n",
              "      <td>25</td>\n",
              "      <td>22</td>\n",
              "      <td>4.0</td>\n",
              "    </tr>\n",
              "    <tr>\n",
              "      <th>2022-11-19 22:30:00</th>\n",
              "      <td>0.010360</td>\n",
              "      <td>0.010363</td>\n",
              "      <td>30</td>\n",
              "      <td>22</td>\n",
              "      <td>3.0</td>\n",
              "    </tr>\n",
              "    <tr>\n",
              "      <th>2022-11-19 22:35:00</th>\n",
              "      <td>0.010360</td>\n",
              "      <td>0.010363</td>\n",
              "      <td>35</td>\n",
              "      <td>22</td>\n",
              "      <td>3.0</td>\n",
              "    </tr>\n",
              "    <tr>\n",
              "      <th>2022-11-19 22:40:00</th>\n",
              "      <td>0.010360</td>\n",
              "      <td>0.010363</td>\n",
              "      <td>40</td>\n",
              "      <td>22</td>\n",
              "      <td>3.0</td>\n",
              "    </tr>\n",
              "  </tbody>\n",
              "</table>\n",
              "<p>10878 rows × 5 columns</p>\n",
              "</div>\n",
              "      <button class=\"colab-df-convert\" onclick=\"convertToInteractive('df-47aea290-a540-43bf-981d-a8001da32852')\"\n",
              "              title=\"Convert this dataframe to an interactive table.\"\n",
              "              style=\"display:none;\">\n",
              "        \n",
              "  <svg xmlns=\"http://www.w3.org/2000/svg\" height=\"24px\"viewBox=\"0 0 24 24\"\n",
              "       width=\"24px\">\n",
              "    <path d=\"M0 0h24v24H0V0z\" fill=\"none\"/>\n",
              "    <path d=\"M18.56 5.44l.94 2.06.94-2.06 2.06-.94-2.06-.94-.94-2.06-.94 2.06-2.06.94zm-11 1L8.5 8.5l.94-2.06 2.06-.94-2.06-.94L8.5 2.5l-.94 2.06-2.06.94zm10 10l.94 2.06.94-2.06 2.06-.94-2.06-.94-.94-2.06-.94 2.06-2.06.94z\"/><path d=\"M17.41 7.96l-1.37-1.37c-.4-.4-.92-.59-1.43-.59-.52 0-1.04.2-1.43.59L10.3 9.45l-7.72 7.72c-.78.78-.78 2.05 0 2.83L4 21.41c.39.39.9.59 1.41.59.51 0 1.02-.2 1.41-.59l7.78-7.78 2.81-2.81c.8-.78.8-2.07 0-2.86zM5.41 20L4 18.59l7.72-7.72 1.47 1.35L5.41 20z\"/>\n",
              "  </svg>\n",
              "      </button>\n",
              "      \n",
              "  <style>\n",
              "    .colab-df-container {\n",
              "      display:flex;\n",
              "      flex-wrap:wrap;\n",
              "      gap: 12px;\n",
              "    }\n",
              "\n",
              "    .colab-df-convert {\n",
              "      background-color: #E8F0FE;\n",
              "      border: none;\n",
              "      border-radius: 50%;\n",
              "      cursor: pointer;\n",
              "      display: none;\n",
              "      fill: #1967D2;\n",
              "      height: 32px;\n",
              "      padding: 0 0 0 0;\n",
              "      width: 32px;\n",
              "    }\n",
              "\n",
              "    .colab-df-convert:hover {\n",
              "      background-color: #E2EBFA;\n",
              "      box-shadow: 0px 1px 2px rgba(60, 64, 67, 0.3), 0px 1px 3px 1px rgba(60, 64, 67, 0.15);\n",
              "      fill: #174EA6;\n",
              "    }\n",
              "\n",
              "    [theme=dark] .colab-df-convert {\n",
              "      background-color: #3B4455;\n",
              "      fill: #D2E3FC;\n",
              "    }\n",
              "\n",
              "    [theme=dark] .colab-df-convert:hover {\n",
              "      background-color: #434B5C;\n",
              "      box-shadow: 0px 1px 3px 1px rgba(0, 0, 0, 0.15);\n",
              "      filter: drop-shadow(0px 1px 2px rgba(0, 0, 0, 0.3));\n",
              "      fill: #FFFFFF;\n",
              "    }\n",
              "  </style>\n",
              "\n",
              "      <script>\n",
              "        const buttonEl =\n",
              "          document.querySelector('#df-47aea290-a540-43bf-981d-a8001da32852 button.colab-df-convert');\n",
              "        buttonEl.style.display =\n",
              "          google.colab.kernel.accessAllowed ? 'block' : 'none';\n",
              "\n",
              "        async function convertToInteractive(key) {\n",
              "          const element = document.querySelector('#df-47aea290-a540-43bf-981d-a8001da32852');\n",
              "          const dataTable =\n",
              "            await google.colab.kernel.invokeFunction('convertToInteractive',\n",
              "                                                     [key], {});\n",
              "          if (!dataTable) return;\n",
              "\n",
              "          const docLinkHtml = 'Like what you see? Visit the ' +\n",
              "            '<a target=\"_blank\" href=https://colab.research.google.com/notebooks/data_table.ipynb>data table notebook</a>'\n",
              "            + ' to learn more about interactive tables.';\n",
              "          element.innerHTML = '';\n",
              "          dataTable['output_type'] = 'display_data';\n",
              "          await google.colab.output.renderOutput(dataTable, element);\n",
              "          const docLink = document.createElement('div');\n",
              "          docLink.innerHTML = docLinkHtml;\n",
              "          element.appendChild(docLink);\n",
              "        }\n",
              "      </script>\n",
              "    </div>\n",
              "  </div>\n",
              "  "
            ]
          },
          "metadata": {},
          "execution_count": 11
        }
      ]
    },
    {
      "cell_type": "code",
      "source": [
        "df4['spread'].describe()"
      ],
      "metadata": {
        "colab": {
          "base_uri": "https://localhost:8080/"
        },
        "id": "lTtKYg0Jq-ng",
        "outputId": "09da67a0-5812-4e45-ca08-e508f4c4371e"
      },
      "execution_count": null,
      "outputs": [
        {
          "output_type": "execute_result",
          "data": {
            "text/plain": [
              "count    10878.000000\n",
              "mean         9.785806\n",
              "std         10.409175\n",
              "min          1.000000\n",
              "25%          4.000000\n",
              "50%          6.000000\n",
              "75%         11.000000\n",
              "max        193.000000\n",
              "Name: spread, dtype: float64"
            ]
          },
          "metadata": {},
          "execution_count": 12
        }
      ]
    },
    {
      "cell_type": "markdown",
      "source": [
        "From the 5min data resample. The mean spread is around 10 bps and the median spread is just 6 bps. Knowing that market making for this pair is only above 40 bps, it's notable that even the 75th percentile is just 12 bps. Let's do a count of rows above 40 bps. That's only 3% of the time."
      ],
      "metadata": {
        "id": "Ygn5DTcyrxuY"
      }
    },
    {
      "cell_type": "code",
      "source": [
        "len(df4[df4['spread']>=40]) / len(df4['spread']) * 100"
      ],
      "metadata": {
        "colab": {
          "base_uri": "https://localhost:8080/"
        },
        "id": "xY7JeSqssoNB",
        "outputId": "c3199e70-2f1e-4da9-c4d7-81b9b9505156"
      },
      "execution_count": null,
      "outputs": [
        {
          "output_type": "execute_result",
          "data": {
            "text/plain": [
              "2.9601029601029603"
            ]
          },
          "metadata": {},
          "execution_count": 13
        }
      ]
    },
    {
      "cell_type": "markdown",
      "source": [
        "This means that it's not a good businss case to market make on this pair for collecting the spread. But who are all these makers anyways, surely they're not giving away liquidity for charity? Even more friction is AscendEx charges maker fees for most tiers aside from the biggest whales. Turns out that FTRB is a pair that yields a lot in liquidity mining. [2.5% per day in yields as of Dec 6th, 2022](https://miner.hummingbot.io/).\n",
        "\n",
        "So for those interested in taking in yields should take research into how to maximise those yields while trying to minimize costs of providing liquidity. Directional traders now find a pair that is positive to take liquidity should research into what drives returns.\n",
        "\n",
        "Also notable that this is evidence there's a well capitalized market maker that's paying all the trading fees and eating all the toxic flow. Probably a first party affiliated MM bot. Third party market makers should quote outside of the danger zone as they're not compensated for the risk.\n",
        "\n",
        "We're probably witnessing how Alameda ran an MM operation. With unnaturally tight spread first party market maker clearly can't make money from providing liquidity so their profit must come from somewhere else.\n",
        "\n",
        "Sorry for the detour. But trading as a business we need to be upfront in what's our business case is. Meanwhile, learning about markets open up opportunities in the future."
      ],
      "metadata": {
        "id": "Dn4EmiKJtruh"
      }
    },
    {
      "cell_type": "markdown",
      "source": [
        "### Seasonality\n",
        "\n",
        "This is a factor that I often look at first. It's not always persistent but there's some basis for it in the real world as this is an asset that trades 24/7. We'll look at parts of the hour and zoom back out. I choose to skip day of the week analysis since we don't have much data."
      ],
      "metadata": {
        "id": "7GN_Ww5lvnI_"
      }
    },
    {
      "cell_type": "code",
      "source": [
        "df4.groupby('minute')['spread'].mean().plot(kind='bar', legend=True)"
      ],
      "metadata": {
        "colab": {
          "base_uri": "https://localhost:8080/",
          "height": 299
        },
        "id": "TxEiYCvugsmc",
        "outputId": "15661a71-950a-4aa3-a2dc-a141437723b5"
      },
      "execution_count": null,
      "outputs": [
        {
          "output_type": "execute_result",
          "data": {
            "text/plain": [
              "<matplotlib.axes._subplots.AxesSubplot at 0x7faca1df4430>"
            ]
          },
          "metadata": {},
          "execution_count": 14
        },
        {
          "output_type": "display_data",
          "data": {
            "text/plain": [
              "<Figure size 432x288 with 1 Axes>"
            ],
            "image/png": "[encoded data removed]"
          },
          "metadata": {
            "needs_background": "light"
          }
        }
      ]
    },
    {
      "cell_type": "markdown",
      "source": [
        "There's nothing to speak off here, it looks like there's some general rise from 30 min mark up to the end of the hour then lowers. But not to the point where it makes economical use anyways. Every 5-minute interval the spread is tight. It does seem to a little \"artificial\" though."
      ],
      "metadata": {
        "id": "4bLaTLcCvlAg"
      }
    },
    {
      "cell_type": "code",
      "source": [
        "df4.groupby('hour')['spread'].mean().plot(kind='bar', legend=True)"
      ],
      "metadata": {
        "colab": {
          "base_uri": "https://localhost:8080/",
          "height": 299
        },
        "id": "38Y4sWhFwf7X",
        "outputId": "d31ab4a8-5e97-4bcb-e539-fb5d49077982"
      },
      "execution_count": null,
      "outputs": [
        {
          "output_type": "execute_result",
          "data": {
            "text/plain": [
              "<matplotlib.axes._subplots.AxesSubplot at 0x7fac9865a4c0>"
            ]
          },
          "metadata": {},
          "execution_count": 15
        },
        {
          "output_type": "display_data",
          "data": {
            "text/plain": [
              "<Figure size 432x288 with 1 Axes>"
            ],
            "image/png": "[encoded data removed]"
          },
          "metadata": {
            "needs_background": "light"
          }
        }
      ]
    },
    {
      "cell_type": "markdown",
      "source": [
        "I've done research into other crypto data and found UTC 12 to be a notable time. Over here we see that the spread is highest there on average. Rising from 0 UTC. Probably a lot of trading programs go off around that time, providing liquidity and shrinking the spread. UTC 12 around the time that US Eastern Time wakes up the day."
      ],
      "metadata": {
        "id": "lHNNcG3Oxkbz"
      }
    },
    {
      "cell_type": "markdown",
      "source": [
        "### Bid/Ask Ratio\n",
        "\n",
        "This is what I've been most interested in looking at. My hunch was that if the top of the book is more bid than ask then with less friction on the upside, positive return might be likely. More buying, thing goes up. Common sense right?\n",
        "\n",
        "Well, now that we have data let's verify if this is actually supported by data."
      ],
      "metadata": {
        "id": "_yGcZT0cz1AB"
      }
    },
    {
      "cell_type": "code",
      "source": [
        "df5 = l1[['bid_0_price', 'ask_0_price', 'bid_0_size', 'ask_0_size']]\n",
        "df5['datetime'] = pd.to_datetime(l1['received_time'])\n",
        "df5['mid_price'] = (df5['bid_0_price'] + df5['ask_0_price']) / 2\n",
        "df5 = df5.set_index('datetime')\n",
        "df5 = df5.resample('5min').first()\n",
        "df5 = df5.dropna()\n",
        "df5['spread'] = round((df5['ask_0_price'] - df5['bid_0_price']) / ((df5['ask_0_price'] + df5['bid_0_price']) / 2) * 10000)\n",
        "df5['log_returns'] = np.log(df5['mid_price'] / df5['mid_price'].shift(1))\n",
        "df5 = df5.dropna()\n",
        "df5['ratio'] = round(df5['bid_0_size'] / df5['ask_0_size'], 1)\n",
        "df5['ratio'].describe()"
      ],
      "metadata": {
        "colab": {
          "base_uri": "https://localhost:8080/"
        },
        "id": "wahmmoQu3TVJ",
        "outputId": "f9a5a67b-2ad4-4818-8ffb-b19fbb1a12e9"
      },
      "execution_count": null,
      "outputs": [
        {
          "output_type": "execute_result",
          "data": {
            "text/plain": [
              "count    10877.000000\n",
              "mean         8.250722\n",
              "std         73.751122\n",
              "min          0.000000\n",
              "25%          0.300000\n",
              "50%          1.100000\n",
              "75%          5.000000\n",
              "max       7135.200000\n",
              "Name: ratio, dtype: float64"
            ]
          },
          "metadata": {},
          "execution_count": 16
        }
      ]
    },
    {
      "cell_type": "code",
      "source": [
        "df5.plot.scatter(x = 'ratio', y = 'log_returns', xlim = (0,5))"
      ],
      "metadata": {
        "colab": {
          "base_uri": "https://localhost:8080/",
          "height": 296
        },
        "id": "FmNm7JWV5OLe",
        "outputId": "a69de319-9ec3-4f59-9e0c-795cd182f545"
      },
      "execution_count": null,
      "outputs": [
        {
          "output_type": "execute_result",
          "data": {
            "text/plain": [
              "<matplotlib.axes._subplots.AxesSubplot at 0x7fac9864cdf0>"
            ]
          },
          "metadata": {},
          "execution_count": 17
        },
        {
          "output_type": "display_data",
          "data": {
            "text/plain": [
              "<Figure size 432x288 with 1 Axes>"
            ],
            "image/png": "[encoded data removed]"
          },
          "metadata": {
            "needs_background": "light"
          }
        }
      ]
    },
    {
      "cell_type": "markdown",
      "source": [
        "I've removed the insane bullish outliers since 75th percentile is just 5. Well it's looking pretty flat to me. Maybe there's more information with L2 data. At least for one pair I see that the very top of book doesn't contain all that much information and I don't have to fixate on it so much."
      ],
      "metadata": {
        "id": "nOxbr0YE0_9j"
      }
    },
    {
      "cell_type": "markdown",
      "source": [
        "## Wrapping Up\n",
        "\n",
        "Well I've learned a few things, such as get clear on what's the sort of trades I want to be paid on. I get some more experience at using Pandas for data analysis. No effect jumped out at me other than incentives and liquidity mining rewards will have concrete effects on how an instrument trades, especially for smaller ones.\n",
        "\n",
        "## What's Next?\n",
        "\n",
        "I'll be looking BTC's data. Since it's the Big Boy of Cryptoland, there's probably interesting effects to be found. Don't expect much inefficiency on one of the most "
      ],
      "metadata": {
        "id": "CeerIE1a-erP"
      }
    }
  ]
}