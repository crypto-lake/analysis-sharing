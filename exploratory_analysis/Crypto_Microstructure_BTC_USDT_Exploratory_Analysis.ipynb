{
  "nbformat": 4,
  "nbformat_minor": 0,
  "metadata": {
    "colab": {
      "provenance": []
    },
    "kernelspec": {
      "name": "python3",
      "display_name": "Python 3"
    },
    "language_info": {
      "name": "python"
    },
    "widgets": {
      "application/vnd.jupyter.widget-state+json": {
        "97daed4271ef4587807c85fbcbef5b9d": {
          "model_module": "@jupyter-widgets/controls",
          "model_name": "HBoxModel",
          "model_module_version": "1.5.0",
          "state": {
            "_dom_classes": [],
            "_model_module": "@jupyter-widgets/controls",
            "_model_module_version": "1.5.0",
            "_model_name": "HBoxModel",
            "_view_count": null,
            "_view_module": "@jupyter-widgets/controls",
            "_view_module_version": "1.5.0",
            "_view_name": "HBoxView",
            "box_style": "",
            "children": [
              "IPY_MODEL_7d26e42ccd964e69bdf29f848ee62690",
              "IPY_MODEL_9050b625b7ff43808648eb682802d4bd",
              "IPY_MODEL_39758f646cba4735b49d15759da771bc"
            ],
            "layout": "IPY_MODEL_396ee9b3229f494796cdbb4d23b28419"
          }
        },
        "7d26e42ccd964e69bdf29f848ee62690": {
          "model_module": "@jupyter-widgets/controls",
          "model_name": "HTMLModel",
          "model_module_version": "1.5.0",
          "state": {
            "_dom_classes": [],
            "_model_module": "@jupyter-widgets/controls",
            "_model_module_version": "1.5.0",
            "_model_name": "HTMLModel",
            "_view_count": null,
            "_view_module": "@jupyter-widgets/controls",
            "_view_module_version": "1.5.0",
            "_view_name": "HTMLView",
            "description": "",
            "description_tooltip": null,
            "layout": "IPY_MODEL_337d98e2c7334678bec58da9c77cd99d",
            "placeholder": "​",
            "style": "IPY_MODEL_c394455eb1a3472a842d095bd3e6bad1",
            "value": "100%"
          }
        },
        "9050b625b7ff43808648eb682802d4bd": {
          "model_module": "@jupyter-widgets/controls",
          "model_name": "FloatProgressModel",
          "model_module_version": "1.5.0",
          "state": {
            "_dom_classes": [],
            "_model_module": "@jupyter-widgets/controls",
            "_model_module_version": "1.5.0",
            "_model_name": "FloatProgressModel",
            "_view_count": null,
            "_view_module": "@jupyter-widgets/controls",
            "_view_module_version": "1.5.0",
            "_view_name": "ProgressView",
            "bar_style": "success",
            "description": "",
            "description_tooltip": null,
            "layout": "IPY_MODEL_23bd4970abdc4dd3a304b540b4423b3d",
            "max": 3,
            "min": 0,
            "orientation": "horizontal",
            "style": "IPY_MODEL_9fea009cabe948df9a15b339ec537b97",
            "value": 3
          }
        },
        "39758f646cba4735b49d15759da771bc": {
          "model_module": "@jupyter-widgets/controls",
          "model_name": "HTMLModel",
          "model_module_version": "1.5.0",
          "state": {
            "_dom_classes": [],
            "_model_module": "@jupyter-widgets/controls",
            "_model_module_version": "1.5.0",
            "_model_name": "HTMLModel",
            "_view_count": null,
            "_view_module": "@jupyter-widgets/controls",
            "_view_module_version": "1.5.0",
            "_view_name": "HTMLView",
            "description": "",
            "description_tooltip": null,
            "layout": "IPY_MODEL_22d17f7190464897a463f52ced9e31d4",
            "placeholder": "​",
            "style": "IPY_MODEL_780dbce4d1544b6aadda6d4bf0edb443",
            "value": " 3/3 [00:02&lt;00:00,  1.00it/s]"
          }
        },
        "396ee9b3229f494796cdbb4d23b28419": {
          "model_module": "@jupyter-widgets/base",
          "model_name": "LayoutModel",
          "model_module_version": "1.2.0",
          "state": {
            "_model_module": "@jupyter-widgets/base",
            "_model_module_version": "1.2.0",
            "_model_name": "LayoutModel",
            "_view_count": null,
            "_view_module": "@jupyter-widgets/base",
            "_view_module_version": "1.2.0",
            "_view_name": "LayoutView",
            "align_content": null,
            "align_items": null,
            "align_self": null,
            "border": null,
            "bottom": null,
            "display": null,
            "flex": null,
            "flex_flow": null,
            "grid_area": null,
            "grid_auto_columns": null,
            "grid_auto_flow": null,
            "grid_auto_rows": null,
            "grid_column": null,
            "grid_gap": null,
            "grid_row": null,
            "grid_template_areas": null,
            "grid_template_columns": null,
            "grid_template_rows": null,
            "height": null,
            "justify_content": null,
            "justify_items": null,
            "left": null,
            "margin": null,
            "max_height": null,
            "max_width": null,
            "min_height": null,
            "min_width": null,
            "object_fit": null,
            "object_position": null,
            "order": null,
            "overflow": null,
            "overflow_x": null,
            "overflow_y": null,
            "padding": null,
            "right": null,
            "top": null,
            "visibility": null,
            "width": null
          }
        },
        "337d98e2c7334678bec58da9c77cd99d": {
          "model_module": "@jupyter-widgets/base",
          "model_name": "LayoutModel",
          "model_module_version": "1.2.0",
          "state": {
            "_model_module": "@jupyter-widgets/base",
            "_model_module_version": "1.2.0",
            "_model_name": "LayoutModel",
            "_view_count": null,
            "_view_module": "@jupyter-widgets/base",
            "_view_module_version": "1.2.0",
            "_view_name": "LayoutView",
            "align_content": null,
            "align_items": null,
            "align_self": null,
            "border": null,
            "bottom": null,
            "display": null,
            "flex": null,
            "flex_flow": null,
            "grid_area": null,
            "grid_auto_columns": null,
            "grid_auto_flow": null,
            "grid_auto_rows": null,
            "grid_column": null,
            "grid_gap": null,
            "grid_row": null,
            "grid_template_areas": null,
            "grid_template_columns": null,
            "grid_template_rows": null,
            "height": null,
            "justify_content": null,
            "justify_items": null,
            "left": null,
            "margin": null,
            "max_height": null,
            "max_width": null,
            "min_height": null,
            "min_width": null,
            "object_fit": null,
            "object_position": null,
            "order": null,
            "overflow": null,
            "overflow_x": null,
            "overflow_y": null,
            "padding": null,
            "right": null,
            "top": null,
            "visibility": null,
            "width": null
          }
        },
        "c394455eb1a3472a842d095bd3e6bad1": {
          "model_module": "@jupyter-widgets/controls",
          "model_name": "DescriptionStyleModel",
          "model_module_version": "1.5.0",
          "state": {
            "_model_module": "@jupyter-widgets/controls",
            "_model_module_version": "1.5.0",
            "_model_name": "DescriptionStyleModel",
            "_view_count": null,
            "_view_module": "@jupyter-widgets/base",
            "_view_module_version": "1.2.0",
            "_view_name": "StyleView",
            "description_width": ""
          }
        },
        "23bd4970abdc4dd3a304b540b4423b3d": {
          "model_module": "@jupyter-widgets/base",
          "model_name": "LayoutModel",
          "model_module_version": "1.2.0",
          "state": {
            "_model_module": "@jupyter-widgets/base",
            "_model_module_version": "1.2.0",
            "_model_name": "LayoutModel",
            "_view_count": null,
            "_view_module": "@jupyter-widgets/base",
            "_view_module_version": "1.2.0",
            "_view_name": "LayoutView",
            "align_content": null,
            "align_items": null,
            "align_self": null,
            "border": null,
            "bottom": null,
            "display": null,
            "flex": null,
            "flex_flow": null,
            "grid_area": null,
            "grid_auto_columns": null,
            "grid_auto_flow": null,
            "grid_auto_rows": null,
            "grid_column": null,
            "grid_gap": null,
            "grid_row": null,
            "grid_template_areas": null,
            "grid_template_columns": null,
            "grid_template_rows": null,
            "height": null,
            "justify_content": null,
            "justify_items": null,
            "left": null,
            "margin": null,
            "max_height": null,
            "max_width": null,
            "min_height": null,
            "min_width": null,
            "object_fit": null,
            "object_position": null,
            "order": null,
            "overflow": null,
            "overflow_x": null,
            "overflow_y": null,
            "padding": null,
            "right": null,
            "top": null,
            "visibility": null,
            "width": null
          }
        },
        "9fea009cabe948df9a15b339ec537b97": {
          "model_module": "@jupyter-widgets/controls",
          "model_name": "ProgressStyleModel",
          "model_module_version": "1.5.0",
          "state": {
            "_model_module": "@jupyter-widgets/controls",
            "_model_module_version": "1.5.0",
            "_model_name": "ProgressStyleModel",
            "_view_count": null,
            "_view_module": "@jupyter-widgets/base",
            "_view_module_version": "1.2.0",
            "_view_name": "StyleView",
            "bar_color": null,
            "description_width": ""
          }
        },
        "22d17f7190464897a463f52ced9e31d4": {
          "model_module": "@jupyter-widgets/base",
          "model_name": "LayoutModel",
          "model_module_version": "1.2.0",
          "state": {
            "_model_module": "@jupyter-widgets/base",
            "_model_module_version": "1.2.0",
            "_model_name": "LayoutModel",
            "_view_count": null,
            "_view_module": "@jupyter-widgets/base",
            "_view_module_version": "1.2.0",
            "_view_name": "LayoutView",
            "align_content": null,
            "align_items": null,
            "align_self": null,
            "border": null,
            "bottom": null,
            "display": null,
            "flex": null,
            "flex_flow": null,
            "grid_area": null,
            "grid_auto_columns": null,
            "grid_auto_flow": null,
            "grid_auto_rows": null,
            "grid_column": null,
            "grid_gap": null,
            "grid_row": null,
            "grid_template_areas": null,
            "grid_template_columns": null,
            "grid_template_rows": null,
            "height": null,
            "justify_content": null,
            "justify_items": null,
            "left": null,
            "margin": null,
            "max_height": null,
            "max_width": null,
            "min_height": null,
            "min_width": null,
            "object_fit": null,
            "object_position": null,
            "order": null,
            "overflow": null,
            "overflow_x": null,
            "overflow_y": null,
            "padding": null,
            "right": null,
            "top": null,
            "visibility": null,
            "width": null
          }
        },
        "780dbce4d1544b6aadda6d4bf0edb443": {
          "model_module": "@jupyter-widgets/controls",
          "model_name": "DescriptionStyleModel",
          "model_module_version": "1.5.0",
          "state": {
            "_model_module": "@jupyter-widgets/controls",
            "_model_module_version": "1.5.0",
            "_model_name": "DescriptionStyleModel",
            "_view_count": null,
            "_view_module": "@jupyter-widgets/base",
            "_view_module_version": "1.2.0",
            "_view_name": "StyleView",
            "description_width": ""
          }
        },
        "74838f8f64354b7abc8e1ff337580cab": {
          "model_module": "@jupyter-widgets/controls",
          "model_name": "HBoxModel",
          "model_module_version": "1.5.0",
          "state": {
            "_dom_classes": [],
            "_model_module": "@jupyter-widgets/controls",
            "_model_module_version": "1.5.0",
            "_model_name": "HBoxModel",
            "_view_count": null,
            "_view_module": "@jupyter-widgets/controls",
            "_view_module_version": "1.5.0",
            "_view_name": "HBoxView",
            "box_style": "",
            "children": [
              "IPY_MODEL_a2646f1917b14e7f9374fe38758a1481",
              "IPY_MODEL_53f27b777528458fbae1e6f61351234f",
              "IPY_MODEL_6c984f4d260d4e77bfccde560bd88f1e"
            ],
            "layout": "IPY_MODEL_e9e141d41253480abf2b4f035f771b9c"
          }
        },
        "a2646f1917b14e7f9374fe38758a1481": {
          "model_module": "@jupyter-widgets/controls",
          "model_name": "HTMLModel",
          "model_module_version": "1.5.0",
          "state": {
            "_dom_classes": [],
            "_model_module": "@jupyter-widgets/controls",
            "_model_module_version": "1.5.0",
            "_model_name": "HTMLModel",
            "_view_count": null,
            "_view_module": "@jupyter-widgets/controls",
            "_view_module_version": "1.5.0",
            "_view_name": "HTMLView",
            "description": "",
            "description_tooltip": null,
            "layout": "IPY_MODEL_a2b099d8f3614636b9a427b68cfc4d6d",
            "placeholder": "​",
            "style": "IPY_MODEL_e1796c275c2d4bb8bc6504489b7ebeec",
            "value": "100%"
          }
        },
        "53f27b777528458fbae1e6f61351234f": {
          "model_module": "@jupyter-widgets/controls",
          "model_name": "FloatProgressModel",
          "model_module_version": "1.5.0",
          "state": {
            "_dom_classes": [],
            "_model_module": "@jupyter-widgets/controls",
            "_model_module_version": "1.5.0",
            "_model_name": "FloatProgressModel",
            "_view_count": null,
            "_view_module": "@jupyter-widgets/controls",
            "_view_module_version": "1.5.0",
            "_view_name": "ProgressView",
            "bar_style": "success",
            "description": "",
            "description_tooltip": null,
            "layout": "IPY_MODEL_63fb717fc4f34846902ccd4fe3fb0f92",
            "max": 3,
            "min": 0,
            "orientation": "horizontal",
            "style": "IPY_MODEL_e3d22d820f414a5bb579c4b55a348d2e",
            "value": 3
          }
        },
        "6c984f4d260d4e77bfccde560bd88f1e": {
          "model_module": "@jupyter-widgets/controls",
          "model_name": "HTMLModel",
          "model_module_version": "1.5.0",
          "state": {
            "_dom_classes": [],
            "_model_module": "@jupyter-widgets/controls",
            "_model_module_version": "1.5.0",
            "_model_name": "HTMLModel",
            "_view_count": null,
            "_view_module": "@jupyter-widgets/controls",
            "_view_module_version": "1.5.0",
            "_view_name": "HTMLView",
            "description": "",
            "description_tooltip": null,
            "layout": "IPY_MODEL_e0c3ffbe06084f42a5c9c406a13a339a",
            "placeholder": "​",
            "style": "IPY_MODEL_204399f805a345a6a2f72c538bcd0ef8",
            "value": " 3/3 [00:13&lt;00:00,  4.15s/it]"
          }
        },
        "e9e141d41253480abf2b4f035f771b9c": {
          "model_module": "@jupyter-widgets/base",
          "model_name": "LayoutModel",
          "model_module_version": "1.2.0",
          "state": {
            "_model_module": "@jupyter-widgets/base",
            "_model_module_version": "1.2.0",
            "_model_name": "LayoutModel",
            "_view_count": null,
            "_view_module": "@jupyter-widgets/base",
            "_view_module_version": "1.2.0",
            "_view_name": "LayoutView",
            "align_content": null,
            "align_items": null,
            "align_self": null,
            "border": null,
            "bottom": null,
            "display": null,
            "flex": null,
            "flex_flow": null,
            "grid_area": null,
            "grid_auto_columns": null,
            "grid_auto_flow": null,
            "grid_auto_rows": null,
            "grid_column": null,
            "grid_gap": null,
            "grid_row": null,
            "grid_template_areas": null,
            "grid_template_columns": null,
            "grid_template_rows": null,
            "height": null,
            "justify_content": null,
            "justify_items": null,
            "left": null,
            "margin": null,
            "max_height": null,
            "max_width": null,
            "min_height": null,
            "min_width": null,
            "object_fit": null,
            "object_position": null,
            "order": null,
            "overflow": null,
            "overflow_x": null,
            "overflow_y": null,
            "padding": null,
            "right": null,
            "top": null,
            "visibility": null,
            "width": null
          }
        },
        "a2b099d8f3614636b9a427b68cfc4d6d": {
          "model_module": "@jupyter-widgets/base",
          "model_name": "LayoutModel",
          "model_module_version": "1.2.0",
          "state": {
            "_model_module": "@jupyter-widgets/base",
            "_model_module_version": "1.2.0",
            "_model_name": "LayoutModel",
            "_view_count": null,
            "_view_module": "@jupyter-widgets/base",
            "_view_module_version": "1.2.0",
            "_view_name": "LayoutView",
            "align_content": null,
            "align_items": null,
            "align_self": null,
            "border": null,
            "bottom": null,
            "display": null,
            "flex": null,
            "flex_flow": null,
            "grid_area": null,
            "grid_auto_columns": null,
            "grid_auto_flow": null,
            "grid_auto_rows": null,
            "grid_column": null,
            "grid_gap": null,
            "grid_row": null,
            "grid_template_areas": null,
            "grid_template_columns": null,
            "grid_template_rows": null,
            "height": null,
            "justify_content": null,
            "justify_items": null,
            "left": null,
            "margin": null,
            "max_height": null,
            "max_width": null,
            "min_height": null,
            "min_width": null,
            "object_fit": null,
            "object_position": null,
            "order": null,
            "overflow": null,
            "overflow_x": null,
            "overflow_y": null,
            "padding": null,
            "right": null,
            "top": null,
            "visibility": null,
            "width": null
          }
        },
        "e1796c275c2d4bb8bc6504489b7ebeec": {
          "model_module": "@jupyter-widgets/controls",
          "model_name": "DescriptionStyleModel",
          "model_module_version": "1.5.0",
          "state": {
            "_model_module": "@jupyter-widgets/controls",
            "_model_module_version": "1.5.0",
            "_model_name": "DescriptionStyleModel",
            "_view_count": null,
            "_view_module": "@jupyter-widgets/base",
            "_view_module_version": "1.2.0",
            "_view_name": "StyleView",
            "description_width": ""
          }
        },
        "63fb717fc4f34846902ccd4fe3fb0f92": {
          "model_module": "@jupyter-widgets/base",
          "model_name": "LayoutModel",
          "model_module_version": "1.2.0",
          "state": {
            "_model_module": "@jupyter-widgets/base",
            "_model_module_version": "1.2.0",
            "_model_name": "LayoutModel",
            "_view_count": null,
            "_view_module": "@jupyter-widgets/base",
            "_view_module_version": "1.2.0",
            "_view_name": "LayoutView",
            "align_content": null,
            "align_items": null,
            "align_self": null,
            "border": null,
            "bottom": null,
            "display": null,
            "flex": null,
            "flex_flow": null,
            "grid_area": null,
            "grid_auto_columns": null,
            "grid_auto_flow": null,
            "grid_auto_rows": null,
            "grid_column": null,
            "grid_gap": null,
            "grid_row": null,
            "grid_template_areas": null,
            "grid_template_columns": null,
            "grid_template_rows": null,
            "height": null,
            "justify_content": null,
            "justify_items": null,
            "left": null,
            "margin": null,
            "max_height": null,
            "max_width": null,
            "min_height": null,
            "min_width": null,
            "object_fit": null,
            "object_position": null,
            "order": null,
            "overflow": null,
            "overflow_x": null,
            "overflow_y": null,
            "padding": null,
            "right": null,
            "top": null,
            "visibility": null,
            "width": null
          }
        },
        "e3d22d820f414a5bb579c4b55a348d2e": {
          "model_module": "@jupyter-widgets/controls",
          "model_name": "ProgressStyleModel",
          "model_module_version": "1.5.0",
          "state": {
            "_model_module": "@jupyter-widgets/controls",
            "_model_module_version": "1.5.0",
            "_model_name": "ProgressStyleModel",
            "_view_count": null,
            "_view_module": "@jupyter-widgets/base",
            "_view_module_version": "1.2.0",
            "_view_name": "StyleView",
            "bar_color": null,
            "description_width": ""
          }
        },
        "e0c3ffbe06084f42a5c9c406a13a339a": {
          "model_module": "@jupyter-widgets/base",
          "model_name": "LayoutModel",
          "model_module_version": "1.2.0",
          "state": {
            "_model_module": "@jupyter-widgets/base",
            "_model_module_version": "1.2.0",
            "_model_name": "LayoutModel",
            "_view_count": null,
            "_view_module": "@jupyter-widgets/base",
            "_view_module_version": "1.2.0",
            "_view_name": "LayoutView",
            "align_content": null,
            "align_items": null,
            "align_self": null,
            "border": null,
            "bottom": null,
            "display": null,
            "flex": null,
            "flex_flow": null,
            "grid_area": null,
            "grid_auto_columns": null,
            "grid_auto_flow": null,
            "grid_auto_rows": null,
            "grid_column": null,
            "grid_gap": null,
            "grid_row": null,
            "grid_template_areas": null,
            "grid_template_columns": null,
            "grid_template_rows": null,
            "height": null,
            "justify_content": null,
            "justify_items": null,
            "left": null,
            "margin": null,
            "max_height": null,
            "max_width": null,
            "min_height": null,
            "min_width": null,
            "object_fit": null,
            "object_position": null,
            "order": null,
            "overflow": null,
            "overflow_x": null,
            "overflow_y": null,
            "padding": null,
            "right": null,
            "top": null,
            "visibility": null,
            "width": null
          }
        },
        "204399f805a345a6a2f72c538bcd0ef8": {
          "model_module": "@jupyter-widgets/controls",
          "model_name": "DescriptionStyleModel",
          "model_module_version": "1.5.0",
          "state": {
            "_model_module": "@jupyter-widgets/controls",
            "_model_module_version": "1.5.0",
            "_model_name": "DescriptionStyleModel",
            "_view_count": null,
            "_view_module": "@jupyter-widgets/base",
            "_view_module_version": "1.2.0",
            "_view_name": "StyleView",
            "description_width": ""
          }
        },
        "898fdb2e2535420ca37bb1c9ade47271": {
          "model_module": "@jupyter-widgets/controls",
          "model_name": "HBoxModel",
          "model_module_version": "1.5.0",
          "state": {
            "_dom_classes": [],
            "_model_module": "@jupyter-widgets/controls",
            "_model_module_version": "1.5.0",
            "_model_name": "HBoxModel",
            "_view_count": null,
            "_view_module": "@jupyter-widgets/controls",
            "_view_module_version": "1.5.0",
            "_view_name": "HBoxView",
            "box_style": "",
            "children": [
              "IPY_MODEL_64dd98ed236b4052a7a3327474458d87",
              "IPY_MODEL_f8da82bbe2204dce9eedd6a050fd456b",
              "IPY_MODEL_ce64351091d64856aa9405a634f9a5ad"
            ],
            "layout": "IPY_MODEL_c1df16c8e13d4f089d5010e2481aa071"
          }
        },
        "64dd98ed236b4052a7a3327474458d87": {
          "model_module": "@jupyter-widgets/controls",
          "model_name": "HTMLModel",
          "model_module_version": "1.5.0",
          "state": {
            "_dom_classes": [],
            "_model_module": "@jupyter-widgets/controls",
            "_model_module_version": "1.5.0",
            "_model_name": "HTMLModel",
            "_view_count": null,
            "_view_module": "@jupyter-widgets/controls",
            "_view_module_version": "1.5.0",
            "_view_name": "HTMLView",
            "description": "",
            "description_tooltip": null,
            "layout": "IPY_MODEL_67554b7207f54ac883821b1bcd3588a1",
            "placeholder": "​",
            "style": "IPY_MODEL_8a7d7f5b5e16493abaa82e79491223eb",
            "value": "100%"
          }
        },
        "f8da82bbe2204dce9eedd6a050fd456b": {
          "model_module": "@jupyter-widgets/controls",
          "model_name": "FloatProgressModel",
          "model_module_version": "1.5.0",
          "state": {
            "_dom_classes": [],
            "_model_module": "@jupyter-widgets/controls",
            "_model_module_version": "1.5.0",
            "_model_name": "FloatProgressModel",
            "_view_count": null,
            "_view_module": "@jupyter-widgets/controls",
            "_view_module_version": "1.5.0",
            "_view_name": "ProgressView",
            "bar_style": "success",
            "description": "",
            "description_tooltip": null,
            "layout": "IPY_MODEL_14ef0a244e824ab9a9fb1d27a523b8d3",
            "max": 3,
            "min": 0,
            "orientation": "horizontal",
            "style": "IPY_MODEL_af102edb2b914d8ba079aca55118e983",
            "value": 3
          }
        },
        "ce64351091d64856aa9405a634f9a5ad": {
          "model_module": "@jupyter-widgets/controls",
          "model_name": "HTMLModel",
          "model_module_version": "1.5.0",
          "state": {
            "_dom_classes": [],
            "_model_module": "@jupyter-widgets/controls",
            "_model_module_version": "1.5.0",
            "_model_name": "HTMLModel",
            "_view_count": null,
            "_view_module": "@jupyter-widgets/controls",
            "_view_module_version": "1.5.0",
            "_view_name": "HTMLView",
            "description": "",
            "description_tooltip": null,
            "layout": "IPY_MODEL_4ff652e1d548490f91e573fd7dd90092",
            "placeholder": "​",
            "style": "IPY_MODEL_c288eaa8adb5431798bb2b7c5d056126",
            "value": " 3/3 [00:00&lt;00:00, 34.66it/s]"
          }
        },
        "c1df16c8e13d4f089d5010e2481aa071": {
          "model_module": "@jupyter-widgets/base",
          "model_name": "LayoutModel",
          "model_module_version": "1.2.0",
          "state": {
            "_model_module": "@jupyter-widgets/base",
            "_model_module_version": "1.2.0",
            "_model_name": "LayoutModel",
            "_view_count": null,
            "_view_module": "@jupyter-widgets/base",
            "_view_module_version": "1.2.0",
            "_view_name": "LayoutView",
            "align_content": null,
            "align_items": null,
            "align_self": null,
            "border": null,
            "bottom": null,
            "display": null,
            "flex": null,
            "flex_flow": null,
            "grid_area": null,
            "grid_auto_columns": null,
            "grid_auto_flow": null,
            "grid_auto_rows": null,
            "grid_column": null,
            "grid_gap": null,
            "grid_row": null,
            "grid_template_areas": null,
            "grid_template_columns": null,
            "grid_template_rows": null,
            "height": null,
            "justify_content": null,
            "justify_items": null,
            "left": null,
            "margin": null,
            "max_height": null,
            "max_width": null,
            "min_height": null,
            "min_width": null,
            "object_fit": null,
            "object_position": null,
            "order": null,
            "overflow": null,
            "overflow_x": null,
            "overflow_y": null,
            "padding": null,
            "right": null,
            "top": null,
            "visibility": null,
            "width": null
          }
        },
        "67554b7207f54ac883821b1bcd3588a1": {
          "model_module": "@jupyter-widgets/base",
          "model_name": "LayoutModel",
          "model_module_version": "1.2.0",
          "state": {
            "_model_module": "@jupyter-widgets/base",
            "_model_module_version": "1.2.0",
            "_model_name": "LayoutModel",
            "_view_count": null,
            "_view_module": "@jupyter-widgets/base",
            "_view_module_version": "1.2.0",
            "_view_name": "LayoutView",
            "align_content": null,
            "align_items": null,
            "align_self": null,
            "border": null,
            "bottom": null,
            "display": null,
            "flex": null,
            "flex_flow": null,
            "grid_area": null,
            "grid_auto_columns": null,
            "grid_auto_flow": null,
            "grid_auto_rows": null,
            "grid_column": null,
            "grid_gap": null,
            "grid_row": null,
            "grid_template_areas": null,
            "grid_template_columns": null,
            "grid_template_rows": null,
            "height": null,
            "justify_content": null,
            "justify_items": null,
            "left": null,
            "margin": null,
            "max_height": null,
            "max_width": null,
            "min_height": null,
            "min_width": null,
            "object_fit": null,
            "object_position": null,
            "order": null,
            "overflow": null,
            "overflow_x": null,
            "overflow_y": null,
            "padding": null,
            "right": null,
            "top": null,
            "visibility": null,
            "width": null
          }
        },
        "8a7d7f5b5e16493abaa82e79491223eb": {
          "model_module": "@jupyter-widgets/controls",
          "model_name": "DescriptionStyleModel",
          "model_module_version": "1.5.0",
          "state": {
            "_model_module": "@jupyter-widgets/controls",
            "_model_module_version": "1.5.0",
            "_model_name": "DescriptionStyleModel",
            "_view_count": null,
            "_view_module": "@jupyter-widgets/base",
            "_view_module_version": "1.2.0",
            "_view_name": "StyleView",
            "description_width": ""
          }
        },
        "14ef0a244e824ab9a9fb1d27a523b8d3": {
          "model_module": "@jupyter-widgets/base",
          "model_name": "LayoutModel",
          "model_module_version": "1.2.0",
          "state": {
            "_model_module": "@jupyter-widgets/base",
            "_model_module_version": "1.2.0",
            "_model_name": "LayoutModel",
            "_view_count": null,
            "_view_module": "@jupyter-widgets/base",
            "_view_module_version": "1.2.0",
            "_view_name": "LayoutView",
            "align_content": null,
            "align_items": null,
            "align_self": null,
            "border": null,
            "bottom": null,
            "display": null,
            "flex": null,
            "flex_flow": null,
            "grid_area": null,
            "grid_auto_columns": null,
            "grid_auto_flow": null,
            "grid_auto_rows": null,
            "grid_column": null,
            "grid_gap": null,
            "grid_row": null,
            "grid_template_areas": null,
            "grid_template_columns": null,
            "grid_template_rows": null,
            "height": null,
            "justify_content": null,
            "justify_items": null,
            "left": null,
            "margin": null,
            "max_height": null,
            "max_width": null,
            "min_height": null,
            "min_width": null,
            "object_fit": null,
            "object_position": null,
            "order": null,
            "overflow": null,
            "overflow_x": null,
            "overflow_y": null,
            "padding": null,
            "right": null,
            "top": null,
            "visibility": null,
            "width": null
          }
        },
        "af102edb2b914d8ba079aca55118e983": {
          "model_module": "@jupyter-widgets/controls",
          "model_name": "ProgressStyleModel",
          "model_module_version": "1.5.0",
          "state": {
            "_model_module": "@jupyter-widgets/controls",
            "_model_module_version": "1.5.0",
            "_model_name": "ProgressStyleModel",
            "_view_count": null,
            "_view_module": "@jupyter-widgets/base",
            "_view_module_version": "1.2.0",
            "_view_name": "StyleView",
            "bar_color": null,
            "description_width": ""
          }
        },
        "4ff652e1d548490f91e573fd7dd90092": {
          "model_module": "@jupyter-widgets/base",
          "model_name": "LayoutModel",
          "model_module_version": "1.2.0",
          "state": {
            "_model_module": "@jupyter-widgets/base",
            "_model_module_version": "1.2.0",
            "_model_name": "LayoutModel",
            "_view_count": null,
            "_view_module": "@jupyter-widgets/base",
            "_view_module_version": "1.2.0",
            "_view_name": "LayoutView",
            "align_content": null,
            "align_items": null,
            "align_self": null,
            "border": null,
            "bottom": null,
            "display": null,
            "flex": null,
            "flex_flow": null,
            "grid_area": null,
            "grid_auto_columns": null,
            "grid_auto_flow": null,
            "grid_auto_rows": null,
            "grid_column": null,
            "grid_gap": null,
            "grid_row": null,
            "grid_template_areas": null,
            "grid_template_columns": null,
            "grid_template_rows": null,
            "height": null,
            "justify_content": null,
            "justify_items": null,
            "left": null,
            "margin": null,
            "max_height": null,
            "max_width": null,
            "min_height": null,
            "min_width": null,
            "object_fit": null,
            "object_position": null,
            "order": null,
            "overflow": null,
            "overflow_x": null,
            "overflow_y": null,
            "padding": null,
            "right": null,
            "top": null,
            "visibility": null,
            "width": null
          }
        },
        "c288eaa8adb5431798bb2b7c5d056126": {
          "model_module": "@jupyter-widgets/controls",
          "model_name": "DescriptionStyleModel",
          "model_module_version": "1.5.0",
          "state": {
            "_model_module": "@jupyter-widgets/controls",
            "_model_module_version": "1.5.0",
            "_model_name": "DescriptionStyleModel",
            "_view_count": null,
            "_view_module": "@jupyter-widgets/base",
            "_view_module_version": "1.2.0",
            "_view_name": "StyleView",
            "description_width": ""
          }
        }
      }
    }
  },
  "cells": [
    {
      "cell_type": "markdown",
      "source": [
        "Here come one of the most important trading pairs of crypto. In very high density data too. Let's see if we can spot some interesting effects from the data."
      ],
      "metadata": {
        "id": "eu4Tnm1hrbel"
      }
    },
    {
      "cell_type": "code",
      "execution_count": null,
      "metadata": {
        "colab": {
          "base_uri": "https://localhost:8080/"
        },
        "id": "e9PwhiqBqwH3",
        "outputId": "553ddb5f-c094-444f-ebc7-88a408037aea"
      },
      "outputs": [
        {
          "output_type": "stream",
          "name": "stdout",
          "text": [
            "Looking in indexes: https://pypi.org/simple, https://us-python.pkg.dev/colab-wheels/public/simple/\n",
            "Requirement already satisfied: lakeapi in /usr/local/lib/python3.8/dist-packages (0.4.1)\n",
            "Requirement already satisfied: Click>=7.0 in /usr/local/lib/python3.8/dist-packages (from lakeapi) (7.1.2)\n",
            "Requirement already satisfied: joblib>=1.0.0 in /usr/local/lib/python3.8/dist-packages (from lakeapi) (1.2.0)\n",
            "Requirement already satisfied: cachetools-ext<0.1.0,>=0.0.8 in /usr/local/lib/python3.8/dist-packages (from lakeapi) (0.0.8)\n",
            "Requirement already satisfied: pandas<2,>=1.0.5 in /usr/local/lib/python3.8/dist-packages (from lakeapi) (1.3.5)\n",
            "Requirement already satisfied: tqdm<5,>=4 in /usr/local/lib/python3.8/dist-packages (from lakeapi) (4.64.1)\n",
            "Requirement already satisfied: botocache<0.1.0,>=0.0.4 in /usr/local/lib/python3.8/dist-packages (from lakeapi) (0.0.4)\n",
            "Requirement already satisfied: boto3<2,>=1.24 in /usr/local/lib/python3.8/dist-packages (from lakeapi) (1.26.25)\n",
            "Requirement already satisfied: awswrangler==2.16.1 in /usr/local/lib/python3.8/dist-packages (from lakeapi) (2.16.1)\n",
            "Requirement already satisfied: pg8000<2.0.0,>=1.20.0 in /usr/local/lib/python3.8/dist-packages (from awswrangler==2.16.1->lakeapi) (1.29.3)\n",
            "Requirement already satisfied: progressbar2<5.0.0,>=4.0.0 in /usr/local/lib/python3.8/dist-packages (from awswrangler==2.16.1->lakeapi) (4.2.0)\n",
            "Requirement already satisfied: botocore<2.0.0,>=1.23.17 in /usr/local/lib/python3.8/dist-packages (from awswrangler==2.16.1->lakeapi) (1.29.25)\n",
            "Requirement already satisfied: gremlinpython<4.0.0,>=3.5.2 in /usr/local/lib/python3.8/dist-packages (from awswrangler==2.16.1->lakeapi) (3.6.1)\n",
            "Requirement already satisfied: numpy<2.0.0,>=1.21.0 in /usr/local/lib/python3.8/dist-packages (from awswrangler==2.16.1->lakeapi) (1.21.6)\n",
            "Requirement already satisfied: requests-aws4auth<2.0.0,>=1.1.1 in /usr/local/lib/python3.8/dist-packages (from awswrangler==2.16.1->lakeapi) (1.1.2)\n",
            "Requirement already satisfied: pymysql<2.0.0,>=1.0.0 in /usr/local/lib/python3.8/dist-packages (from awswrangler==2.16.1->lakeapi) (1.0.2)\n",
            "Requirement already satisfied: pyarrow<7.1.0,>=2.0.0 in /usr/local/lib/python3.8/dist-packages (from awswrangler==2.16.1->lakeapi) (7.0.0)\n",
            "Requirement already satisfied: opensearch-py<2.0.0,>=1.0.0 in /usr/local/lib/python3.8/dist-packages (from awswrangler==2.16.1->lakeapi) (1.1.0)\n",
            "Requirement already satisfied: openpyxl<3.1.0,>=3.0.0 in /usr/local/lib/python3.8/dist-packages (from awswrangler==2.16.1->lakeapi) (3.0.10)\n",
            "Requirement already satisfied: redshift-connector<2.1.0,>=2.0.889 in /usr/local/lib/python3.8/dist-packages (from awswrangler==2.16.1->lakeapi) (2.0.909)\n",
            "Requirement already satisfied: backoff<3.0.0,>=1.11.1 in /usr/local/lib/python3.8/dist-packages (from awswrangler==2.16.1->lakeapi) (2.2.1)\n",
            "Requirement already satisfied: jsonpath-ng<2.0.0,>=1.5.3 in /usr/local/lib/python3.8/dist-packages (from awswrangler==2.16.1->lakeapi) (1.5.3)\n",
            "Requirement already satisfied: jmespath<2.0.0,>=0.7.1 in /usr/local/lib/python3.8/dist-packages (from boto3<2,>=1.24->lakeapi) (1.0.1)\n",
            "Requirement already satisfied: s3transfer<0.7.0,>=0.6.0 in /usr/local/lib/python3.8/dist-packages (from boto3<2,>=1.24->lakeapi) (0.6.0)\n",
            "Requirement already satisfied: cachetools==4.2.1 in /usr/local/lib/python3.8/dist-packages (from botocache<0.1.0,>=0.0.4->lakeapi) (4.2.1)\n",
            "Requirement already satisfied: python-dateutil<3.0.0,>=2.1 in /usr/local/lib/python3.8/dist-packages (from botocore<2.0.0,>=1.23.17->awswrangler==2.16.1->lakeapi) (2.8.2)\n",
            "Requirement already satisfied: urllib3<1.27,>=1.25.4 in /usr/local/lib/python3.8/dist-packages (from botocore<2.0.0,>=1.23.17->awswrangler==2.16.1->lakeapi) (1.25.11)\n",
            "Requirement already satisfied: isodate<1.0.0,>=0.6.0 in /usr/local/lib/python3.8/dist-packages (from gremlinpython<4.0.0,>=3.5.2->awswrangler==2.16.1->lakeapi) (0.6.1)\n",
            "Requirement already satisfied: aiohttp<=3.8.1,>=3.8.0 in /usr/local/lib/python3.8/dist-packages (from gremlinpython<4.0.0,>=3.5.2->awswrangler==2.16.1->lakeapi) (3.8.1)\n",
            "Requirement already satisfied: nest-asyncio in /usr/local/lib/python3.8/dist-packages (from gremlinpython<4.0.0,>=3.5.2->awswrangler==2.16.1->lakeapi) (1.5.6)\n",
            "Requirement already satisfied: aenum<4.0.0,>=1.4.5 in /usr/local/lib/python3.8/dist-packages (from gremlinpython<4.0.0,>=3.5.2->awswrangler==2.16.1->lakeapi) (3.1.11)\n",
            "Requirement already satisfied: frozenlist>=1.1.1 in /usr/local/lib/python3.8/dist-packages (from aiohttp<=3.8.1,>=3.8.0->gremlinpython<4.0.0,>=3.5.2->awswrangler==2.16.1->lakeapi) (1.3.3)\n",
            "Requirement already satisfied: yarl<2.0,>=1.0 in /usr/local/lib/python3.8/dist-packages (from aiohttp<=3.8.1,>=3.8.0->gremlinpython<4.0.0,>=3.5.2->awswrangler==2.16.1->lakeapi) (1.8.2)\n",
            "Requirement already satisfied: aiosignal>=1.1.2 in /usr/local/lib/python3.8/dist-packages (from aiohttp<=3.8.1,>=3.8.0->gremlinpython<4.0.0,>=3.5.2->awswrangler==2.16.1->lakeapi) (1.3.1)\n",
            "Requirement already satisfied: multidict<7.0,>=4.5 in /usr/local/lib/python3.8/dist-packages (from aiohttp<=3.8.1,>=3.8.0->gremlinpython<4.0.0,>=3.5.2->awswrangler==2.16.1->lakeapi) (6.0.3)\n",
            "Requirement already satisfied: attrs>=17.3.0 in /usr/local/lib/python3.8/dist-packages (from aiohttp<=3.8.1,>=3.8.0->gremlinpython<4.0.0,>=3.5.2->awswrangler==2.16.1->lakeapi) (22.1.0)\n",
            "Requirement already satisfied: async-timeout<5.0,>=4.0.0a3 in /usr/local/lib/python3.8/dist-packages (from aiohttp<=3.8.1,>=3.8.0->gremlinpython<4.0.0,>=3.5.2->awswrangler==2.16.1->lakeapi) (4.0.2)\n",
            "Requirement already satisfied: charset-normalizer<3.0,>=2.0 in /usr/local/lib/python3.8/dist-packages (from aiohttp<=3.8.1,>=3.8.0->gremlinpython<4.0.0,>=3.5.2->awswrangler==2.16.1->lakeapi) (2.1.1)\n",
            "Requirement already satisfied: six in /usr/local/lib/python3.8/dist-packages (from isodate<1.0.0,>=0.6.0->gremlinpython<4.0.0,>=3.5.2->awswrangler==2.16.1->lakeapi) (1.15.0)\n",
            "Requirement already satisfied: decorator in /usr/local/lib/python3.8/dist-packages (from jsonpath-ng<2.0.0,>=1.5.3->awswrangler==2.16.1->lakeapi) (4.4.2)\n",
            "Requirement already satisfied: ply in /usr/local/lib/python3.8/dist-packages (from jsonpath-ng<2.0.0,>=1.5.3->awswrangler==2.16.1->lakeapi) (3.11)\n",
            "Requirement already satisfied: et-xmlfile in /usr/local/lib/python3.8/dist-packages (from openpyxl<3.1.0,>=3.0.0->awswrangler==2.16.1->lakeapi) (1.1.0)\n",
            "Requirement already satisfied: certifi in /usr/local/lib/python3.8/dist-packages (from opensearch-py<2.0.0,>=1.0.0->awswrangler==2.16.1->lakeapi) (2022.9.24)\n",
            "Requirement already satisfied: pytz>=2017.3 in /usr/local/lib/python3.8/dist-packages (from pandas<2,>=1.0.5->lakeapi) (2022.6)\n",
            "Requirement already satisfied: scramp>=1.4.3 in /usr/local/lib/python3.8/dist-packages (from pg8000<2.0.0,>=1.20.0->awswrangler==2.16.1->lakeapi) (1.4.4)\n",
            "Requirement already satisfied: python-utils>=3.0.0 in /usr/local/lib/python3.8/dist-packages (from progressbar2<5.0.0,>=4.0.0->awswrangler==2.16.1->lakeapi) (3.4.5)\n",
            "Requirement already satisfied: setuptools in /usr/local/lib/python3.8/dist-packages (from redshift-connector<2.1.0,>=2.0.889->awswrangler==2.16.1->lakeapi) (57.4.0)\n",
            "Requirement already satisfied: requests<3.0.0,>=2.23.0 in /usr/local/lib/python3.8/dist-packages (from redshift-connector<2.1.0,>=2.0.889->awswrangler==2.16.1->lakeapi) (2.23.0)\n",
            "Requirement already satisfied: lxml>=4.6.5 in /usr/local/lib/python3.8/dist-packages (from redshift-connector<2.1.0,>=2.0.889->awswrangler==2.16.1->lakeapi) (4.9.1)\n",
            "Requirement already satisfied: beautifulsoup4<5.0.0,>=4.7.0 in /usr/local/lib/python3.8/dist-packages (from redshift-connector<2.1.0,>=2.0.889->awswrangler==2.16.1->lakeapi) (4.11.1)\n",
            "Requirement already satisfied: packaging in /usr/local/lib/python3.8/dist-packages (from redshift-connector<2.1.0,>=2.0.889->awswrangler==2.16.1->lakeapi) (21.3)\n",
            "Requirement already satisfied: soupsieve>1.2 in /usr/local/lib/python3.8/dist-packages (from beautifulsoup4<5.0.0,>=4.7.0->redshift-connector<2.1.0,>=2.0.889->awswrangler==2.16.1->lakeapi) (2.3.2.post1)\n",
            "Requirement already satisfied: idna<3,>=2.5 in /usr/local/lib/python3.8/dist-packages (from requests<3.0.0,>=2.23.0->redshift-connector<2.1.0,>=2.0.889->awswrangler==2.16.1->lakeapi) (2.10)\n",
            "Requirement already satisfied: chardet<4,>=3.0.2 in /usr/local/lib/python3.8/dist-packages (from requests<3.0.0,>=2.23.0->redshift-connector<2.1.0,>=2.0.889->awswrangler==2.16.1->lakeapi) (3.0.4)\n",
            "Requirement already satisfied: asn1crypto>=1.5.1 in /usr/local/lib/python3.8/dist-packages (from scramp>=1.4.3->pg8000<2.0.0,>=1.20.0->awswrangler==2.16.1->lakeapi) (1.5.1)\n",
            "Requirement already satisfied: pyparsing!=3.0.5,>=2.0.2 in /usr/local/lib/python3.8/dist-packages (from packaging->redshift-connector<2.1.0,>=2.0.889->awswrangler==2.16.1->lakeapi) (3.0.9)\n"
          ]
        }
      ],
      "source": [
        "# Comment if not running in Colab\n",
        "!pip install lakeapi"
      ]
    },
    {
      "cell_type": "code",
      "source": [
        "#  Imports\n",
        "import datetime as dt\n",
        "import math\n",
        "import numpy as np\n",
        "import pandas as pd\n",
        "\n",
        "import matplotlib.pyplot as plt\n",
        "from statsmodels.graphics.tsaplots import plot_acf\n",
        "%matplotlib inline\n",
        "\n",
        "import lakeapi\n",
        "\n",
        "lakeapi.use_sample_data(anonymous_access=True)"
      ],
      "metadata": {
        "id": "Fn-bMQUYq3ai"
      },
      "execution_count": null,
      "outputs": []
    },
    {
      "cell_type": "markdown",
      "source": [
        "We'll do analysis on BTC-USDT since it's the highest volume and density data we've got available."
      ],
      "metadata": {
        "id": "asua_-pgus0v"
      }
    },
    {
      "cell_type": "code",
      "source": [
        "for table in ('trades', 'book', 'candles'):\n",
        " \tavailable_data = pd.DataFrame(lakeapi.list_data(table = table))\n",
        " \tprint(table)\n",
        " \tdisplay(available_data[['exchange', 'symbol', 'dt']].groupby(['exchange', 'symbol']).aggregate({'dt': ['first', 'last']}))"
      ],
      "metadata": {
        "colab": {
          "base_uri": "https://localhost:8080/",
          "height": 720
        },
        "id": "zLHPPjUEtHCA",
        "outputId": "694c68d7-5f4c-49db-bd8f-efabe84afa20"
      },
      "execution_count": null,
      "outputs": [
        {
          "output_type": "stream",
          "name": "stderr",
          "text": [
            "ERROR:botocache.botocache:Error encountered : 'NoneType' object has no attribute 'access_key'. Retrying the same call without cached context.\n"
          ]
        },
        {
          "output_type": "stream",
          "name": "stdout",
          "text": [
            "trades\n"
          ]
        },
        {
          "output_type": "display_data",
          "data": {
            "text/plain": [
              "                            dt            \n",
              "                         first        last\n",
              "exchange symbol                           \n",
              "ASCENDEX CNS-USDT   2022-09-01  2022-10-15\n",
              "         FINE-USDT  2022-09-01  2022-10-15\n",
              "         FTRB-USDT  2022-09-01  2022-11-20\n",
              "BINANCE  BTC-USDT   2022-10-01  2022-10-03\n",
              "         RLC-USDT   2022-09-01  2022-10-15\n",
              "GATEIO   AVAX-USDT  2022-11-01  2022-11-15\n",
              "         FTRB-USDT  2022-11-01  2022-11-20"
            ],
            "text/html": [
              "\n",
              "  <div id=\"df-e535d77a-8835-4bf0-bb9f-81e4454ecc98\">\n",
              "    <div class=\"colab-df-container\">\n",
              "      <div>\n",
              "<style scoped>\n",
              "    .dataframe tbody tr th:only-of-type {\n",
              "        vertical-align: middle;\n",
              "    }\n",
              "\n",
              "    .dataframe tbody tr th {\n",
              "        vertical-align: top;\n",
              "    }\n",
              "\n",
              "    .dataframe thead tr th {\n",
              "        text-align: left;\n",
              "    }\n",
              "\n",
              "    .dataframe thead tr:last-of-type th {\n",
              "        text-align: right;\n",
              "    }\n",
              "</style>\n",
              "<table border=\"1\" class=\"dataframe\">\n",
              "  <thead>\n",
              "    <tr>\n",
              "      <th></th>\n",
              "      <th></th>\n",
              "      <th colspan=\"2\" halign=\"left\">dt</th>\n",
              "    </tr>\n",
              "    <tr>\n",
              "      <th></th>\n",
              "      <th></th>\n",
              "      <th>first</th>\n",
              "      <th>last</th>\n",
              "    </tr>\n",
              "    <tr>\n",
              "      <th>exchange</th>\n",
              "      <th>symbol</th>\n",
              "      <th></th>\n",
              "      <th></th>\n",
              "    </tr>\n",
              "  </thead>\n",
              "  <tbody>\n",
              "    <tr>\n",
              "      <th rowspan=\"3\" valign=\"top\">ASCENDEX</th>\n",
              "      <th>CNS-USDT</th>\n",
              "      <td>2022-09-01</td>\n",
              "      <td>2022-10-15</td>\n",
              "    </tr>\n",
              "    <tr>\n",
              "      <th>FINE-USDT</th>\n",
              "      <td>2022-09-01</td>\n",
              "      <td>2022-10-15</td>\n",
              "    </tr>\n",
              "    <tr>\n",
              "      <th>FTRB-USDT</th>\n",
              "      <td>2022-09-01</td>\n",
              "      <td>2022-11-20</td>\n",
              "    </tr>\n",
              "    <tr>\n",
              "      <th rowspan=\"2\" valign=\"top\">BINANCE</th>\n",
              "      <th>BTC-USDT</th>\n",
              "      <td>2022-10-01</td>\n",
              "      <td>2022-10-03</td>\n",
              "    </tr>\n",
              "    <tr>\n",
              "      <th>RLC-USDT</th>\n",
              "      <td>2022-09-01</td>\n",
              "      <td>2022-10-15</td>\n",
              "    </tr>\n",
              "    <tr>\n",
              "      <th rowspan=\"2\" valign=\"top\">GATEIO</th>\n",
              "      <th>AVAX-USDT</th>\n",
              "      <td>2022-11-01</td>\n",
              "      <td>2022-11-15</td>\n",
              "    </tr>\n",
              "    <tr>\n",
              "      <th>FTRB-USDT</th>\n",
              "      <td>2022-11-01</td>\n",
              "      <td>2022-11-20</td>\n",
              "    </tr>\n",
              "  </tbody>\n",
              "</table>\n",
              "</div>\n",
              "      <button class=\"colab-df-convert\" onclick=\"convertToInteractive('df-e535d77a-8835-4bf0-bb9f-81e4454ecc98')\"\n",
              "              title=\"Convert this dataframe to an interactive table.\"\n",
              "              style=\"display:none;\">\n",
              "        \n",
              "  <svg xmlns=\"http://www.w3.org/2000/svg\" height=\"24px\"viewBox=\"0 0 24 24\"\n",
              "       width=\"24px\">\n",
              "    <path d=\"M0 0h24v24H0V0z\" fill=\"none\"/>\n",
              "    <path d=\"M18.56 5.44l.94 2.06.94-2.06 2.06-.94-2.06-.94-.94-2.06-.94 2.06-2.06.94zm-11 1L8.5 8.5l.94-2.06 2.06-.94-2.06-.94L8.5 2.5l-.94 2.06-2.06.94zm10 10l.94 2.06.94-2.06 2.06-.94-2.06-.94-.94-2.06-.94 2.06-2.06.94z\"/><path d=\"M17.41 7.96l-1.37-1.37c-.4-.4-.92-.59-1.43-.59-.52 0-1.04.2-1.43.59L10.3 9.45l-7.72 7.72c-.78.78-.78 2.05 0 2.83L4 21.41c.39.39.9.59 1.41.59.51 0 1.02-.2 1.41-.59l7.78-7.78 2.81-2.81c.8-.78.8-2.07 0-2.86zM5.41 20L4 18.59l7.72-7.72 1.47 1.35L5.41 20z\"/>\n",
              "  </svg>\n",
              "      </button>\n",
              "      \n",
              "  <style>\n",
              "    .colab-df-container {\n",
              "      display:flex;\n",
              "      flex-wrap:wrap;\n",
              "      gap: 12px;\n",
              "    }\n",
              "\n",
              "    .colab-df-convert {\n",
              "      background-color: #E8F0FE;\n",
              "      border: none;\n",
              "      border-radius: 50%;\n",
              "      cursor: pointer;\n",
              "      display: none;\n",
              "      fill: #1967D2;\n",
              "      height: 32px;\n",
              "      padding: 0 0 0 0;\n",
              "      width: 32px;\n",
              "    }\n",
              "\n",
              "    .colab-df-convert:hover {\n",
              "      background-color: #E2EBFA;\n",
              "      box-shadow: 0px 1px 2px rgba(60, 64, 67, 0.3), 0px 1px 3px 1px rgba(60, 64, 67, 0.15);\n",
              "      fill: #174EA6;\n",
              "    }\n",
              "\n",
              "    [theme=dark] .colab-df-convert {\n",
              "      background-color: #3B4455;\n",
              "      fill: #D2E3FC;\n",
              "    }\n",
              "\n",
              "    [theme=dark] .colab-df-convert:hover {\n",
              "      background-color: #434B5C;\n",
              "      box-shadow: 0px 1px 3px 1px rgba(0, 0, 0, 0.15);\n",
              "      filter: drop-shadow(0px 1px 2px rgba(0, 0, 0, 0.3));\n",
              "      fill: #FFFFFF;\n",
              "    }\n",
              "  </style>\n",
              "\n",
              "      <script>\n",
              "        const buttonEl =\n",
              "          document.querySelector('#df-e535d77a-8835-4bf0-bb9f-81e4454ecc98 button.colab-df-convert');\n",
              "        buttonEl.style.display =\n",
              "          google.colab.kernel.accessAllowed ? 'block' : 'none';\n",
              "\n",
              "        async function convertToInteractive(key) {\n",
              "          const element = document.querySelector('#df-e535d77a-8835-4bf0-bb9f-81e4454ecc98');\n",
              "          const dataTable =\n",
              "            await google.colab.kernel.invokeFunction('convertToInteractive',\n",
              "                                                     [key], {});\n",
              "          if (!dataTable) return;\n",
              "\n",
              "          const docLinkHtml = 'Like what you see? Visit the ' +\n",
              "            '<a target=\"_blank\" href=https://colab.research.google.com/notebooks/data_table.ipynb>data table notebook</a>'\n",
              "            + ' to learn more about interactive tables.';\n",
              "          element.innerHTML = '';\n",
              "          dataTable['output_type'] = 'display_data';\n",
              "          await google.colab.output.renderOutput(dataTable, element);\n",
              "          const docLink = document.createElement('div');\n",
              "          docLink.innerHTML = docLinkHtml;\n",
              "          element.appendChild(docLink);\n",
              "        }\n",
              "      </script>\n",
              "    </div>\n",
              "  </div>\n",
              "  "
            ]
          },
          "metadata": {}
        },
        {
          "output_type": "stream",
          "name": "stderr",
          "text": [
            "ERROR:botocache.botocache:Error encountered : 'NoneType' object has no attribute 'access_key'. Retrying the same call without cached context.\n"
          ]
        },
        {
          "output_type": "stream",
          "name": "stdout",
          "text": [
            "book\n"
          ]
        },
        {
          "output_type": "display_data",
          "data": {
            "text/plain": [
              "                            dt            \n",
              "                         first        last\n",
              "exchange symbol                           \n",
              "ASCENDEX FTRB-USDT  2022-11-01  2022-11-20\n",
              "BINANCE  BTC-USDT   2022-10-01  2022-10-03"
            ],
            "text/html": [
              "\n",
              "  <div id=\"df-72f21a0b-6696-4d38-8cd5-9d42b722d187\">\n",
              "    <div class=\"colab-df-container\">\n",
              "      <div>\n",
              "<style scoped>\n",
              "    .dataframe tbody tr th:only-of-type {\n",
              "        vertical-align: middle;\n",
              "    }\n",
              "\n",
              "    .dataframe tbody tr th {\n",
              "        vertical-align: top;\n",
              "    }\n",
              "\n",
              "    .dataframe thead tr th {\n",
              "        text-align: left;\n",
              "    }\n",
              "\n",
              "    .dataframe thead tr:last-of-type th {\n",
              "        text-align: right;\n",
              "    }\n",
              "</style>\n",
              "<table border=\"1\" class=\"dataframe\">\n",
              "  <thead>\n",
              "    <tr>\n",
              "      <th></th>\n",
              "      <th></th>\n",
              "      <th colspan=\"2\" halign=\"left\">dt</th>\n",
              "    </tr>\n",
              "    <tr>\n",
              "      <th></th>\n",
              "      <th></th>\n",
              "      <th>first</th>\n",
              "      <th>last</th>\n",
              "    </tr>\n",
              "    <tr>\n",
              "      <th>exchange</th>\n",
              "      <th>symbol</th>\n",
              "      <th></th>\n",
              "      <th></th>\n",
              "    </tr>\n",
              "  </thead>\n",
              "  <tbody>\n",
              "    <tr>\n",
              "      <th>ASCENDEX</th>\n",
              "      <th>FTRB-USDT</th>\n",
              "      <td>2022-11-01</td>\n",
              "      <td>2022-11-20</td>\n",
              "    </tr>\n",
              "    <tr>\n",
              "      <th>BINANCE</th>\n",
              "      <th>BTC-USDT</th>\n",
              "      <td>2022-10-01</td>\n",
              "      <td>2022-10-03</td>\n",
              "    </tr>\n",
              "  </tbody>\n",
              "</table>\n",
              "</div>\n",
              "      <button class=\"colab-df-convert\" onclick=\"convertToInteractive('df-72f21a0b-6696-4d38-8cd5-9d42b722d187')\"\n",
              "              title=\"Convert this dataframe to an interactive table.\"\n",
              "              style=\"display:none;\">\n",
              "        \n",
              "  <svg xmlns=\"http://www.w3.org/2000/svg\" height=\"24px\"viewBox=\"0 0 24 24\"\n",
              "       width=\"24px\">\n",
              "    <path d=\"M0 0h24v24H0V0z\" fill=\"none\"/>\n",
              "    <path d=\"M18.56 5.44l.94 2.06.94-2.06 2.06-.94-2.06-.94-.94-2.06-.94 2.06-2.06.94zm-11 1L8.5 8.5l.94-2.06 2.06-.94-2.06-.94L8.5 2.5l-.94 2.06-2.06.94zm10 10l.94 2.06.94-2.06 2.06-.94-2.06-.94-.94-2.06-.94 2.06-2.06.94z\"/><path d=\"M17.41 7.96l-1.37-1.37c-.4-.4-.92-.59-1.43-.59-.52 0-1.04.2-1.43.59L10.3 9.45l-7.72 7.72c-.78.78-.78 2.05 0 2.83L4 21.41c.39.39.9.59 1.41.59.51 0 1.02-.2 1.41-.59l7.78-7.78 2.81-2.81c.8-.78.8-2.07 0-2.86zM5.41 20L4 18.59l7.72-7.72 1.47 1.35L5.41 20z\"/>\n",
              "  </svg>\n",
              "      </button>\n",
              "      \n",
              "  <style>\n",
              "    .colab-df-container {\n",
              "      display:flex;\n",
              "      flex-wrap:wrap;\n",
              "      gap: 12px;\n",
              "    }\n",
              "\n",
              "    .colab-df-convert {\n",
              "      background-color: #E8F0FE;\n",
              "      border: none;\n",
              "      border-radius: 50%;\n",
              "      cursor: pointer;\n",
              "      display: none;\n",
              "      fill: #1967D2;\n",
              "      height: 32px;\n",
              "      padding: 0 0 0 0;\n",
              "      width: 32px;\n",
              "    }\n",
              "\n",
              "    .colab-df-convert:hover {\n",
              "      background-color: #E2EBFA;\n",
              "      box-shadow: 0px 1px 2px rgba(60, 64, 67, 0.3), 0px 1px 3px 1px rgba(60, 64, 67, 0.15);\n",
              "      fill: #174EA6;\n",
              "    }\n",
              "\n",
              "    [theme=dark] .colab-df-convert {\n",
              "      background-color: #3B4455;\n",
              "      fill: #D2E3FC;\n",
              "    }\n",
              "\n",
              "    [theme=dark] .colab-df-convert:hover {\n",
              "      background-color: #434B5C;\n",
              "      box-shadow: 0px 1px 3px 1px rgba(0, 0, 0, 0.15);\n",
              "      filter: drop-shadow(0px 1px 2px rgba(0, 0, 0, 0.3));\n",
              "      fill: #FFFFFF;\n",
              "    }\n",
              "  </style>\n",
              "\n",
              "      <script>\n",
              "        const buttonEl =\n",
              "          document.querySelector('#df-72f21a0b-6696-4d38-8cd5-9d42b722d187 button.colab-df-convert');\n",
              "        buttonEl.style.display =\n",
              "          google.colab.kernel.accessAllowed ? 'block' : 'none';\n",
              "\n",
              "        async function convertToInteractive(key) {\n",
              "          const element = document.querySelector('#df-72f21a0b-6696-4d38-8cd5-9d42b722d187');\n",
              "          const dataTable =\n",
              "            await google.colab.kernel.invokeFunction('convertToInteractive',\n",
              "                                                     [key], {});\n",
              "          if (!dataTable) return;\n",
              "\n",
              "          const docLinkHtml = 'Like what you see? Visit the ' +\n",
              "            '<a target=\"_blank\" href=https://colab.research.google.com/notebooks/data_table.ipynb>data table notebook</a>'\n",
              "            + ' to learn more about interactive tables.';\n",
              "          element.innerHTML = '';\n",
              "          dataTable['output_type'] = 'display_data';\n",
              "          await google.colab.output.renderOutput(dataTable, element);\n",
              "          const docLink = document.createElement('div');\n",
              "          docLink.innerHTML = docLinkHtml;\n",
              "          element.appendChild(docLink);\n",
              "        }\n",
              "      </script>\n",
              "    </div>\n",
              "  </div>\n",
              "  "
            ]
          },
          "metadata": {}
        },
        {
          "output_type": "stream",
          "name": "stderr",
          "text": [
            "ERROR:botocache.botocache:Error encountered : 'NoneType' object has no attribute 'access_key'. Retrying the same call without cached context.\n"
          ]
        },
        {
          "output_type": "stream",
          "name": "stdout",
          "text": [
            "candles\n"
          ]
        },
        {
          "output_type": "display_data",
          "data": {
            "text/plain": [
              "                           dt            \n",
              "                        first        last\n",
              "exchange symbol                          \n",
              "BINANCE  BTC-USDT  2022-10-01  2022-10-03"
            ],
            "text/html": [
              "\n",
              "  <div id=\"df-15dee5b5-a2c5-4736-abf1-19e6cf851046\">\n",
              "    <div class=\"colab-df-container\">\n",
              "      <div>\n",
              "<style scoped>\n",
              "    .dataframe tbody tr th:only-of-type {\n",
              "        vertical-align: middle;\n",
              "    }\n",
              "\n",
              "    .dataframe tbody tr th {\n",
              "        vertical-align: top;\n",
              "    }\n",
              "\n",
              "    .dataframe thead tr th {\n",
              "        text-align: left;\n",
              "    }\n",
              "\n",
              "    .dataframe thead tr:last-of-type th {\n",
              "        text-align: right;\n",
              "    }\n",
              "</style>\n",
              "<table border=\"1\" class=\"dataframe\">\n",
              "  <thead>\n",
              "    <tr>\n",
              "      <th></th>\n",
              "      <th></th>\n",
              "      <th colspan=\"2\" halign=\"left\">dt</th>\n",
              "    </tr>\n",
              "    <tr>\n",
              "      <th></th>\n",
              "      <th></th>\n",
              "      <th>first</th>\n",
              "      <th>last</th>\n",
              "    </tr>\n",
              "    <tr>\n",
              "      <th>exchange</th>\n",
              "      <th>symbol</th>\n",
              "      <th></th>\n",
              "      <th></th>\n",
              "    </tr>\n",
              "  </thead>\n",
              "  <tbody>\n",
              "    <tr>\n",
              "      <th>BINANCE</th>\n",
              "      <th>BTC-USDT</th>\n",
              "      <td>2022-10-01</td>\n",
              "      <td>2022-10-03</td>\n",
              "    </tr>\n",
              "  </tbody>\n",
              "</table>\n",
              "</div>\n",
              "      <button class=\"colab-df-convert\" onclick=\"convertToInteractive('df-15dee5b5-a2c5-4736-abf1-19e6cf851046')\"\n",
              "              title=\"Convert this dataframe to an interactive table.\"\n",
              "              style=\"display:none;\">\n",
              "        \n",
              "  <svg xmlns=\"http://www.w3.org/2000/svg\" height=\"24px\"viewBox=\"0 0 24 24\"\n",
              "       width=\"24px\">\n",
              "    <path d=\"M0 0h24v24H0V0z\" fill=\"none\"/>\n",
              "    <path d=\"M18.56 5.44l.94 2.06.94-2.06 2.06-.94-2.06-.94-.94-2.06-.94 2.06-2.06.94zm-11 1L8.5 8.5l.94-2.06 2.06-.94-2.06-.94L8.5 2.5l-.94 2.06-2.06.94zm10 10l.94 2.06.94-2.06 2.06-.94-2.06-.94-.94-2.06-.94 2.06-2.06.94z\"/><path d=\"M17.41 7.96l-1.37-1.37c-.4-.4-.92-.59-1.43-.59-.52 0-1.04.2-1.43.59L10.3 9.45l-7.72 7.72c-.78.78-.78 2.05 0 2.83L4 21.41c.39.39.9.59 1.41.59.51 0 1.02-.2 1.41-.59l7.78-7.78 2.81-2.81c.8-.78.8-2.07 0-2.86zM5.41 20L4 18.59l7.72-7.72 1.47 1.35L5.41 20z\"/>\n",
              "  </svg>\n",
              "      </button>\n",
              "      \n",
              "  <style>\n",
              "    .colab-df-container {\n",
              "      display:flex;\n",
              "      flex-wrap:wrap;\n",
              "      gap: 12px;\n",
              "    }\n",
              "\n",
              "    .colab-df-convert {\n",
              "      background-color: #E8F0FE;\n",
              "      border: none;\n",
              "      border-radius: 50%;\n",
              "      cursor: pointer;\n",
              "      display: none;\n",
              "      fill: #1967D2;\n",
              "      height: 32px;\n",
              "      padding: 0 0 0 0;\n",
              "      width: 32px;\n",
              "    }\n",
              "\n",
              "    .colab-df-convert:hover {\n",
              "      background-color: #E2EBFA;\n",
              "      box-shadow: 0px 1px 2px rgba(60, 64, 67, 0.3), 0px 1px 3px 1px rgba(60, 64, 67, 0.15);\n",
              "      fill: #174EA6;\n",
              "    }\n",
              "\n",
              "    [theme=dark] .colab-df-convert {\n",
              "      background-color: #3B4455;\n",
              "      fill: #D2E3FC;\n",
              "    }\n",
              "\n",
              "    [theme=dark] .colab-df-convert:hover {\n",
              "      background-color: #434B5C;\n",
              "      box-shadow: 0px 1px 3px 1px rgba(0, 0, 0, 0.15);\n",
              "      filter: drop-shadow(0px 1px 2px rgba(0, 0, 0, 0.3));\n",
              "      fill: #FFFFFF;\n",
              "    }\n",
              "  </style>\n",
              "\n",
              "      <script>\n",
              "        const buttonEl =\n",
              "          document.querySelector('#df-15dee5b5-a2c5-4736-abf1-19e6cf851046 button.colab-df-convert');\n",
              "        buttonEl.style.display =\n",
              "          google.colab.kernel.accessAllowed ? 'block' : 'none';\n",
              "\n",
              "        async function convertToInteractive(key) {\n",
              "          const element = document.querySelector('#df-15dee5b5-a2c5-4736-abf1-19e6cf851046');\n",
              "          const dataTable =\n",
              "            await google.colab.kernel.invokeFunction('convertToInteractive',\n",
              "                                                     [key], {});\n",
              "          if (!dataTable) return;\n",
              "\n",
              "          const docLinkHtml = 'Like what you see? Visit the ' +\n",
              "            '<a target=\"_blank\" href=https://colab.research.google.com/notebooks/data_table.ipynb>data table notebook</a>'\n",
              "            + ' to learn more about interactive tables.';\n",
              "          element.innerHTML = '';\n",
              "          dataTable['output_type'] = 'display_data';\n",
              "          await google.colab.output.renderOutput(dataTable, element);\n",
              "          const docLink = document.createElement('div');\n",
              "          docLink.innerHTML = docLinkHtml;\n",
              "          element.appendChild(docLink);\n",
              "        }\n",
              "      </script>\n",
              "    </div>\n",
              "  </div>\n",
              "  "
            ]
          },
          "metadata": {}
        }
      ]
    },
    {
      "cell_type": "code",
      "source": [
        "# Parameters\n",
        "symbol = 'BTC-USDT'\n",
        "exchange = 'BINANCE'\n",
        "\n",
        "start = dt.datetime(2022, 9, 1)\n",
        "end = dt.datetime(2022, 11, 20)"
      ],
      "metadata": {
        "id": "bJ24J_MyuN9a"
      },
      "execution_count": null,
      "outputs": []
    },
    {
      "cell_type": "code",
      "source": [
        "def load_data(table: str):\n",
        "    print('Loading', table)\n",
        "    return lakeapi.load_data(\n",
        "        table = table,\n",
        "        start = start,\n",
        "        end = end,\n",
        "        symbols = [symbol],\n",
        "        exchanges = [exchange],\n",
        "        drop_partition_cols = True,\n",
        "    ).sort_values('received_time')\n",
        "\n",
        "# Load trades\n",
        "trades = load_data('trades')\n",
        "# Load book\n",
        "book = load_data('book')\n",
        "# Load candles\n",
        "candles = load_data('candles')"
      ],
      "metadata": {
        "colab": {
          "base_uri": "https://localhost:8080/",
          "height": 165,
          "referenced_widgets": [
            "97daed4271ef4587807c85fbcbef5b9d",
            "7d26e42ccd964e69bdf29f848ee62690",
            "9050b625b7ff43808648eb682802d4bd",
            "39758f646cba4735b49d15759da771bc",
            "396ee9b3229f494796cdbb4d23b28419",
            "337d98e2c7334678bec58da9c77cd99d",
            "c394455eb1a3472a842d095bd3e6bad1",
            "23bd4970abdc4dd3a304b540b4423b3d",
            "9fea009cabe948df9a15b339ec537b97",
            "22d17f7190464897a463f52ced9e31d4",
            "780dbce4d1544b6aadda6d4bf0edb443",
            "74838f8f64354b7abc8e1ff337580cab",
            "a2646f1917b14e7f9374fe38758a1481",
            "53f27b777528458fbae1e6f61351234f",
            "6c984f4d260d4e77bfccde560bd88f1e",
            "e9e141d41253480abf2b4f035f771b9c",
            "a2b099d8f3614636b9a427b68cfc4d6d",
            "e1796c275c2d4bb8bc6504489b7ebeec",
            "63fb717fc4f34846902ccd4fe3fb0f92",
            "e3d22d820f414a5bb579c4b55a348d2e",
            "e0c3ffbe06084f42a5c9c406a13a339a",
            "204399f805a345a6a2f72c538bcd0ef8",
            "898fdb2e2535420ca37bb1c9ade47271",
            "64dd98ed236b4052a7a3327474458d87",
            "f8da82bbe2204dce9eedd6a050fd456b",
            "ce64351091d64856aa9405a634f9a5ad",
            "c1df16c8e13d4f089d5010e2481aa071",
            "67554b7207f54ac883821b1bcd3588a1",
            "8a7d7f5b5e16493abaa82e79491223eb",
            "14ef0a244e824ab9a9fb1d27a523b8d3",
            "af102edb2b914d8ba079aca55118e983",
            "4ff652e1d548490f91e573fd7dd90092",
            "c288eaa8adb5431798bb2b7c5d056126"
          ]
        },
        "id": "XqsUsu2qtm9T",
        "outputId": "f7183c89-7417-4d84-d082-ad1f3e2e7a07"
      },
      "execution_count": null,
      "outputs": [
        {
          "output_type": "stream",
          "name": "stdout",
          "text": [
            "Loading trades\n"
          ]
        },
        {
          "output_type": "display_data",
          "data": {
            "text/plain": [
              "  0%|          | 0/3 [00:00<?, ?it/s]"
            ],
            "application/vnd.jupyter.widget-view+json": {
              "version_major": 2,
              "version_minor": 0,
              "model_id": "97daed4271ef4587807c85fbcbef5b9d"
            }
          },
          "metadata": {}
        },
        {
          "output_type": "stream",
          "name": "stdout",
          "text": [
            "Loading book\n"
          ]
        },
        {
          "output_type": "display_data",
          "data": {
            "text/plain": [
              "  0%|          | 0/3 [00:00<?, ?it/s]"
            ],
            "application/vnd.jupyter.widget-view+json": {
              "version_major": 2,
              "version_minor": 0,
              "model_id": "74838f8f64354b7abc8e1ff337580cab"
            }
          },
          "metadata": {}
        },
        {
          "output_type": "stream",
          "name": "stdout",
          "text": [
            "Loading candles\n"
          ]
        },
        {
          "output_type": "display_data",
          "data": {
            "text/plain": [
              "  0%|          | 0/3 [00:00<?, ?it/s]"
            ],
            "application/vnd.jupyter.widget-view+json": {
              "version_major": 2,
              "version_minor": 0,
              "model_id": "898fdb2e2535420ca37bb1c9ade47271"
            }
          },
          "metadata": {}
        }
      ]
    },
    {
      "cell_type": "markdown",
      "source": [
        "## Is this a profitable pair?"
      ],
      "metadata": {
        "id": "XzDOqVGddI1L"
      }
    },
    {
      "cell_type": "markdown",
      "source": [
        "The first big question is *\"Is this a pair that a market maker can make money?\"*. Since the full book is huge can will easily crash Colab we'll get the l1 sub-set first to answer this question."
      ],
      "metadata": {
        "id": "SDMhNbtwfHJV"
      }
    },
    {
      "cell_type": "code",
      "source": [
        "l1 = book[['received_time', 'bid_0_price', 'bid_0_size', 'ask_0_price', 'ask_0_size']]"
      ],
      "metadata": {
        "id": "IMGU_y8VJcYt"
      },
      "execution_count": null,
      "outputs": []
    },
    {
      "cell_type": "code",
      "source": [
        "df = pd.merge_asof(\n",
        "\tleft = trades.rename(columns = {'origin_time': 'trade_origin_time', 'received_time': 'trade_received_time'}),\n",
        "\tright = l1.rename(columns = {'received_time': 'depth_received_time'}),\n",
        "\tleft_on = 'trade_received_time',\n",
        "\tright_on = 'depth_received_time',\n",
        "  tolerance = pd.Timedelta(minutes = 120),\n",
        ")\n",
        "df = df.dropna()\n",
        "df['mid'] = (df.bid_0_price + df.ask_0_price) / 2\n",
        "df"
      ],
      "metadata": {
        "colab": {
          "base_uri": "https://localhost:8080/",
          "height": 528
        },
        "id": "iKssqbaNtKwu",
        "outputId": "25cdbb8d-4fe3-4bbb-ff76-7433d740f2f5"
      },
      "execution_count": null,
      "outputs": [
        {
          "output_type": "stream",
          "name": "stderr",
          "text": [
            "<ipython-input-44-e2ecd7e4db32>:9: SettingWithCopyWarning: \n",
            "A value is trying to be set on a copy of a slice from a DataFrame.\n",
            "Try using .loc[row_indexer,col_indexer] = value instead\n",
            "\n",
            "See the caveats in the documentation: https://pandas.pydata.org/pandas-docs/stable/user_guide/indexing.html#returning-a-view-versus-a-copy\n",
            "  df['mid'] = (df.bid_0_price + df.ask_0_price) / 2\n"
          ]
        },
        {
          "output_type": "execute_result",
          "data": {
            "text/plain": [
              "         side  quantity     price    trade_id             trade_origin_time  \\\n",
              "40        buy   0.00131  19423.92  1640546282 2022-10-01 00:00:00.032999936   \n",
              "41       sell   0.00079  19422.61  1640546283 2022-10-01 00:00:00.036999936   \n",
              "42       sell   0.00087  19422.61  1640546284 2022-10-01 00:00:00.036999936   \n",
              "43       sell   0.01656  19422.61  1640546285 2022-10-01 00:00:00.043000064   \n",
              "44       sell   1.54602  19422.60  1640546286 2022-10-01 00:00:00.043000064   \n",
              "...       ...       ...       ...         ...                           ...   \n",
              "8979886   buy   0.01568  19628.56  1649526367 2022-10-03 23:59:59.989000192   \n",
              "8979887   buy   0.00754  19628.82  1649526368 2022-10-03 23:59:59.989000192   \n",
              "8979888   buy   0.02031  19628.90  1649526369 2022-10-03 23:59:59.989000192   \n",
              "8979889   buy   0.00075  19628.90  1649526370 2022-10-03 23:59:59.990000128   \n",
              "8979890   buy   0.00101  19628.90  1649526371 2022-10-03 23:59:59.990000128   \n",
              "\n",
              "                  trade_received_time           depth_received_time  \\\n",
              "40      2022-10-01 00:00:00.286983936 2022-10-01 00:00:00.279075840   \n",
              "41      2022-10-01 00:00:00.287016704 2022-10-01 00:00:00.279075840   \n",
              "42      2022-10-01 00:00:00.287030784 2022-10-01 00:00:00.279075840   \n",
              "43      2022-10-01 00:00:00.287042816 2022-10-01 00:00:00.279075840   \n",
              "44      2022-10-01 00:00:00.287054848 2022-10-01 00:00:00.279075840   \n",
              "...                               ...                           ...   \n",
              "8979886 2022-10-03 23:59:59.993817600 2022-10-03 23:59:59.923665152   \n",
              "8979887 2022-10-03 23:59:59.993905152 2022-10-03 23:59:59.923665152   \n",
              "8979888 2022-10-03 23:59:59.994291968 2022-10-03 23:59:59.923665152   \n",
              "8979889 2022-10-03 23:59:59.994332160 2022-10-03 23:59:59.923665152   \n",
              "8979890 2022-10-03 23:59:59.994352128 2022-10-03 23:59:59.923665152   \n",
              "\n",
              "         bid_0_price  bid_0_size  ask_0_price  ask_0_size        mid  \n",
              "40          19422.61     0.01822     19423.92     0.00150  19423.265  \n",
              "41          19422.61     0.01822     19423.92     0.00150  19423.265  \n",
              "42          19422.61     0.01822     19423.92     0.00150  19423.265  \n",
              "43          19422.61     0.01822     19423.92     0.00150  19423.265  \n",
              "44          19422.61     0.01822     19423.92     0.00150  19423.265  \n",
              "...              ...         ...          ...         ...        ...  \n",
              "8979886     19627.39     0.23124     19628.19     0.00056  19627.790  \n",
              "8979887     19627.39     0.23124     19628.19     0.00056  19627.790  \n",
              "8979888     19627.39     0.23124     19628.19     0.00056  19627.790  \n",
              "8979889     19627.39     0.23124     19628.19     0.00056  19627.790  \n",
              "8979890     19627.39     0.23124     19628.19     0.00056  19627.790  \n",
              "\n",
              "[8979851 rows x 12 columns]"
            ],
            "text/html": [
              "\n",
              "  <div id=\"df-267edfe3-2afd-45c3-a817-ca9c9b1a9efb\">\n",
              "    <div class=\"colab-df-container\">\n",
              "      <div>\n",
              "<style scoped>\n",
              "    .dataframe tbody tr th:only-of-type {\n",
              "        vertical-align: middle;\n",
              "    }\n",
              "\n",
              "    .dataframe tbody tr th {\n",
              "        vertical-align: top;\n",
              "    }\n",
              "\n",
              "    .dataframe thead th {\n",
              "        text-align: right;\n",
              "    }\n",
              "</style>\n",
              "<table border=\"1\" class=\"dataframe\">\n",
              "  <thead>\n",
              "    <tr style=\"text-align: right;\">\n",
              "      <th></th>\n",
              "      <th>side</th>\n",
              "      <th>quantity</th>\n",
              "      <th>price</th>\n",
              "      <th>trade_id</th>\n",
              "      <th>trade_origin_time</th>\n",
              "      <th>trade_received_time</th>\n",
              "      <th>depth_received_time</th>\n",
              "      <th>bid_0_price</th>\n",
              "      <th>bid_0_size</th>\n",
              "      <th>ask_0_price</th>\n",
              "      <th>ask_0_size</th>\n",
              "      <th>mid</th>\n",
              "    </tr>\n",
              "  </thead>\n",
              "  <tbody>\n",
              "    <tr>\n",
              "      <th>40</th>\n",
              "      <td>buy</td>\n",
              "      <td>0.00131</td>\n",
              "      <td>19423.92</td>\n",
              "      <td>1640546282</td>\n",
              "      <td>2022-10-01 00:00:00.032999936</td>\n",
              "      <td>2022-10-01 00:00:00.286983936</td>\n",
              "      <td>2022-10-01 00:00:00.279075840</td>\n",
              "      <td>19422.61</td>\n",
              "      <td>0.01822</td>\n",
              "      <td>19423.92</td>\n",
              "      <td>0.00150</td>\n",
              "      <td>19423.265</td>\n",
              "    </tr>\n",
              "    <tr>\n",
              "      <th>41</th>\n",
              "      <td>sell</td>\n",
              "      <td>0.00079</td>\n",
              "      <td>19422.61</td>\n",
              "      <td>1640546283</td>\n",
              "      <td>2022-10-01 00:00:00.036999936</td>\n",
              "      <td>2022-10-01 00:00:00.287016704</td>\n",
              "      <td>2022-10-01 00:00:00.279075840</td>\n",
              "      <td>19422.61</td>\n",
              "      <td>0.01822</td>\n",
              "      <td>19423.92</td>\n",
              "      <td>0.00150</td>\n",
              "      <td>19423.265</td>\n",
              "    </tr>\n",
              "    <tr>\n",
              "      <th>42</th>\n",
              "      <td>sell</td>\n",
              "      <td>0.00087</td>\n",
              "      <td>19422.61</td>\n",
              "      <td>1640546284</td>\n",
              "      <td>2022-10-01 00:00:00.036999936</td>\n",
              "      <td>2022-10-01 00:00:00.287030784</td>\n",
              "      <td>2022-10-01 00:00:00.279075840</td>\n",
              "      <td>19422.61</td>\n",
              "      <td>0.01822</td>\n",
              "      <td>19423.92</td>\n",
              "      <td>0.00150</td>\n",
              "      <td>19423.265</td>\n",
              "    </tr>\n",
              "    <tr>\n",
              "      <th>43</th>\n",
              "      <td>sell</td>\n",
              "      <td>0.01656</td>\n",
              "      <td>19422.61</td>\n",
              "      <td>1640546285</td>\n",
              "      <td>2022-10-01 00:00:00.043000064</td>\n",
              "      <td>2022-10-01 00:00:00.287042816</td>\n",
              "      <td>2022-10-01 00:00:00.279075840</td>\n",
              "      <td>19422.61</td>\n",
              "      <td>0.01822</td>\n",
              "      <td>19423.92</td>\n",
              "      <td>0.00150</td>\n",
              "      <td>19423.265</td>\n",
              "    </tr>\n",
              "    <tr>\n",
              "      <th>44</th>\n",
              "      <td>sell</td>\n",
              "      <td>1.54602</td>\n",
              "      <td>19422.60</td>\n",
              "      <td>1640546286</td>\n",
              "      <td>2022-10-01 00:00:00.043000064</td>\n",
              "      <td>2022-10-01 00:00:00.287054848</td>\n",
              "      <td>2022-10-01 00:00:00.279075840</td>\n",
              "      <td>19422.61</td>\n",
              "      <td>0.01822</td>\n",
              "      <td>19423.92</td>\n",
              "      <td>0.00150</td>\n",
              "      <td>19423.265</td>\n",
              "    </tr>\n",
              "    <tr>\n",
              "      <th>...</th>\n",
              "      <td>...</td>\n",
              "      <td>...</td>\n",
              "      <td>...</td>\n",
              "      <td>...</td>\n",
              "      <td>...</td>\n",
              "      <td>...</td>\n",
              "      <td>...</td>\n",
              "      <td>...</td>\n",
              "      <td>...</td>\n",
              "      <td>...</td>\n",
              "      <td>...</td>\n",
              "      <td>...</td>\n",
              "    </tr>\n",
              "    <tr>\n",
              "      <th>8979886</th>\n",
              "      <td>buy</td>\n",
              "      <td>0.01568</td>\n",
              "      <td>19628.56</td>\n",
              "      <td>1649526367</td>\n",
              "      <td>2022-10-03 23:59:59.989000192</td>\n",
              "      <td>2022-10-03 23:59:59.993817600</td>\n",
              "      <td>2022-10-03 23:59:59.923665152</td>\n",
              "      <td>19627.39</td>\n",
              "      <td>0.23124</td>\n",
              "      <td>19628.19</td>\n",
              "      <td>0.00056</td>\n",
              "      <td>19627.790</td>\n",
              "    </tr>\n",
              "    <tr>\n",
              "      <th>8979887</th>\n",
              "      <td>buy</td>\n",
              "      <td>0.00754</td>\n",
              "      <td>19628.82</td>\n",
              "      <td>1649526368</td>\n",
              "      <td>2022-10-03 23:59:59.989000192</td>\n",
              "      <td>2022-10-03 23:59:59.993905152</td>\n",
              "      <td>2022-10-03 23:59:59.923665152</td>\n",
              "      <td>19627.39</td>\n",
              "      <td>0.23124</td>\n",
              "      <td>19628.19</td>\n",
              "      <td>0.00056</td>\n",
              "      <td>19627.790</td>\n",
              "    </tr>\n",
              "    <tr>\n",
              "      <th>8979888</th>\n",
              "      <td>buy</td>\n",
              "      <td>0.02031</td>\n",
              "      <td>19628.90</td>\n",
              "      <td>1649526369</td>\n",
              "      <td>2022-10-03 23:59:59.989000192</td>\n",
              "      <td>2022-10-03 23:59:59.994291968</td>\n",
              "      <td>2022-10-03 23:59:59.923665152</td>\n",
              "      <td>19627.39</td>\n",
              "      <td>0.23124</td>\n",
              "      <td>19628.19</td>\n",
              "      <td>0.00056</td>\n",
              "      <td>19627.790</td>\n",
              "    </tr>\n",
              "    <tr>\n",
              "      <th>8979889</th>\n",
              "      <td>buy</td>\n",
              "      <td>0.00075</td>\n",
              "      <td>19628.90</td>\n",
              "      <td>1649526370</td>\n",
              "      <td>2022-10-03 23:59:59.990000128</td>\n",
              "      <td>2022-10-03 23:59:59.994332160</td>\n",
              "      <td>2022-10-03 23:59:59.923665152</td>\n",
              "      <td>19627.39</td>\n",
              "      <td>0.23124</td>\n",
              "      <td>19628.19</td>\n",
              "      <td>0.00056</td>\n",
              "      <td>19627.790</td>\n",
              "    </tr>\n",
              "    <tr>\n",
              "      <th>8979890</th>\n",
              "      <td>buy</td>\n",
              "      <td>0.00101</td>\n",
              "      <td>19628.90</td>\n",
              "      <td>1649526371</td>\n",
              "      <td>2022-10-03 23:59:59.990000128</td>\n",
              "      <td>2022-10-03 23:59:59.994352128</td>\n",
              "      <td>2022-10-03 23:59:59.923665152</td>\n",
              "      <td>19627.39</td>\n",
              "      <td>0.23124</td>\n",
              "      <td>19628.19</td>\n",
              "      <td>0.00056</td>\n",
              "      <td>19627.790</td>\n",
              "    </tr>\n",
              "  </tbody>\n",
              "</table>\n",
              "<p>8979851 rows × 12 columns</p>\n",
              "</div>\n",
              "      <button class=\"colab-df-convert\" onclick=\"convertToInteractive('df-267edfe3-2afd-45c3-a817-ca9c9b1a9efb')\"\n",
              "              title=\"Convert this dataframe to an interactive table.\"\n",
              "              style=\"display:none;\">\n",
              "        \n",
              "  <svg xmlns=\"http://www.w3.org/2000/svg\" height=\"24px\"viewBox=\"0 0 24 24\"\n",
              "       width=\"24px\">\n",
              "    <path d=\"M0 0h24v24H0V0z\" fill=\"none\"/>\n",
              "    <path d=\"M18.56 5.44l.94 2.06.94-2.06 2.06-.94-2.06-.94-.94-2.06-.94 2.06-2.06.94zm-11 1L8.5 8.5l.94-2.06 2.06-.94-2.06-.94L8.5 2.5l-.94 2.06-2.06.94zm10 10l.94 2.06.94-2.06 2.06-.94-2.06-.94-.94-2.06-.94 2.06-2.06.94z\"/><path d=\"M17.41 7.96l-1.37-1.37c-.4-.4-.92-.59-1.43-.59-.52 0-1.04.2-1.43.59L10.3 9.45l-7.72 7.72c-.78.78-.78 2.05 0 2.83L4 21.41c.39.39.9.59 1.41.59.51 0 1.02-.2 1.41-.59l7.78-7.78 2.81-2.81c.8-.78.8-2.07 0-2.86zM5.41 20L4 18.59l7.72-7.72 1.47 1.35L5.41 20z\"/>\n",
              "  </svg>\n",
              "      </button>\n",
              "      \n",
              "  <style>\n",
              "    .colab-df-container {\n",
              "      display:flex;\n",
              "      flex-wrap:wrap;\n",
              "      gap: 12px;\n",
              "    }\n",
              "\n",
              "    .colab-df-convert {\n",
              "      background-color: #E8F0FE;\n",
              "      border: none;\n",
              "      border-radius: 50%;\n",
              "      cursor: pointer;\n",
              "      display: none;\n",
              "      fill: #1967D2;\n",
              "      height: 32px;\n",
              "      padding: 0 0 0 0;\n",
              "      width: 32px;\n",
              "    }\n",
              "\n",
              "    .colab-df-convert:hover {\n",
              "      background-color: #E2EBFA;\n",
              "      box-shadow: 0px 1px 2px rgba(60, 64, 67, 0.3), 0px 1px 3px 1px rgba(60, 64, 67, 0.15);\n",
              "      fill: #174EA6;\n",
              "    }\n",
              "\n",
              "    [theme=dark] .colab-df-convert {\n",
              "      background-color: #3B4455;\n",
              "      fill: #D2E3FC;\n",
              "    }\n",
              "\n",
              "    [theme=dark] .colab-df-convert:hover {\n",
              "      background-color: #434B5C;\n",
              "      box-shadow: 0px 1px 3px 1px rgba(0, 0, 0, 0.15);\n",
              "      filter: drop-shadow(0px 1px 2px rgba(0, 0, 0, 0.3));\n",
              "      fill: #FFFFFF;\n",
              "    }\n",
              "  </style>\n",
              "\n",
              "      <script>\n",
              "        const buttonEl =\n",
              "          document.querySelector('#df-267edfe3-2afd-45c3-a817-ca9c9b1a9efb button.colab-df-convert');\n",
              "        buttonEl.style.display =\n",
              "          google.colab.kernel.accessAllowed ? 'block' : 'none';\n",
              "\n",
              "        async function convertToInteractive(key) {\n",
              "          const element = document.querySelector('#df-267edfe3-2afd-45c3-a817-ca9c9b1a9efb');\n",
              "          const dataTable =\n",
              "            await google.colab.kernel.invokeFunction('convertToInteractive',\n",
              "                                                     [key], {});\n",
              "          if (!dataTable) return;\n",
              "\n",
              "          const docLinkHtml = 'Like what you see? Visit the ' +\n",
              "            '<a target=\"_blank\" href=https://colab.research.google.com/notebooks/data_table.ipynb>data table notebook</a>'\n",
              "            + ' to learn more about interactive tables.';\n",
              "          element.innerHTML = '';\n",
              "          dataTable['output_type'] = 'display_data';\n",
              "          await google.colab.output.renderOutput(dataTable, element);\n",
              "          const docLink = document.createElement('div');\n",
              "          docLink.innerHTML = docLinkHtml;\n",
              "          element.appendChild(docLink);\n",
              "        }\n",
              "      </script>\n",
              "    </div>\n",
              "  </div>\n",
              "  "
            ]
          },
          "metadata": {},
          "execution_count": 44
        }
      ]
    },
    {
      "cell_type": "markdown",
      "source": [
        "From looking at a few rows I can see that the traded price don't happen "
      ],
      "metadata": {
        "id": "yOWfFKDV1UGa"
      }
    },
    {
      "cell_type": "code",
      "source": [
        "fig, ax = plt.subplots()\n",
        "ax.plot(df.index, df['mid']);\n",
        "ax.set_xlabel('index');\n",
        "ax.set_ylabel('price');"
      ],
      "metadata": {
        "colab": {
          "base_uri": "https://localhost:8080/",
          "height": 279
        },
        "id": "OiU3cyNyv_G9",
        "outputId": "d6f459fa-3fd4-425d-d22d-3251975e2772"
      },
      "execution_count": null,
      "outputs": [
        {
          "output_type": "display_data",
          "data": {
            "text/plain": [
              "<Figure size 432x288 with 1 Axes>"
            ],
            "image/png": "[encoded data removed]"
          },
          "metadata": {
            "needs_background": "light"
          }
        }
      ]
    },
    {
      "cell_type": "markdown",
      "source": [
        "Looks like BTC-USDT, no gaps."
      ],
      "metadata": {
        "id": "-J_OcYz_wuvT"
      }
    },
    {
      "cell_type": "code",
      "source": [
        "df1 = df[['side','price', 'mid']]\n",
        "df1['forward_mid'] = df1['mid'].shift(-1)\n",
        "df1 = df1.dropna()\n",
        "df1['pnl'] = np.where(df1['side'] == 'buy', df1['forward_mid'] - df1['price'], df1['price'] - df1['forward_mid'])"
      ],
      "metadata": {
        "colab": {
          "base_uri": "https://localhost:8080/"
        },
        "id": "1OY_5jDafDkq",
        "outputId": "52ff2b4a-1a99-4fdf-f3c4-3b8277ca3e7c"
      },
      "execution_count": null,
      "outputs": [
        {
          "output_type": "stream",
          "name": "stderr",
          "text": [
            "<ipython-input-46-ba85c96909d6>:2: SettingWithCopyWarning: \n",
            "A value is trying to be set on a copy of a slice from a DataFrame.\n",
            "Try using .loc[row_indexer,col_indexer] = value instead\n",
            "\n",
            "See the caveats in the documentation: https://pandas.pydata.org/pandas-docs/stable/user_guide/indexing.html#returning-a-view-versus-a-copy\n",
            "  df1['forward_mid'] = df1['mid'].shift(-1)\n"
          ]
        }
      ]
    },
    {
      "cell_type": "code",
      "source": [
        "df1['pnl'].describe().round(2)"
      ],
      "metadata": {
        "colab": {
          "base_uri": "https://localhost:8080/"
        },
        "id": "vQjMjKnnfDDI",
        "outputId": "9fd3b991-b234-4727-ef95-08dcc69c31e5"
      },
      "execution_count": null,
      "outputs": [
        {
          "output_type": "execute_result",
          "data": {
            "text/plain": [
              "count    8979850.00\n",
              "mean          -0.74\n",
              "std            1.37\n",
              "min          -32.24\n",
              "25%           -0.90\n",
              "50%           -0.45\n",
              "75%           -0.17\n",
              "max           28.44\n",
              "Name: pnl, dtype: float64"
            ]
          },
          "metadata": {},
          "execution_count": 47
        }
      ]
    },
    {
      "cell_type": "markdown",
      "source": [
        "As the most liquid pair in the world. Not surprisingly the bid-ask spread is negative mean. I assume there's the combination of aggressive hedging in perp and exchange rebates help soften the pain million cuts. To think that this period is rather gentle..."
      ],
      "metadata": {
        "id": "5Xoj1e9lz1h-"
      }
    },
    {
      "cell_type": "markdown",
      "source": [
        "## Spread Factors"
      ],
      "metadata": {
        "id": "-6y1n5MKe_OF"
      }
    },
    {
      "cell_type": "markdown",
      "source": [
        "From the previous notebook [Crypto Microstructure - L1 & Trades Exploratory Analysis](https://colab.research.google.com/drive/1FgtFjTgJ_EHgppunODOm7kRwtYToGnHe?usp=sharing) I took a look at the factors affecting the spread. Though we're working with fewer days of data here it's a lot more dense. Let's see if we can spot some interesting effects."
      ],
      "metadata": {
        "id": "jrGzf7y6fDgP"
      }
    },
    {
      "cell_type": "markdown",
      "source": [
        "### Spread\n",
        "\n",
        "I'll be looking at seasonality after so I resample the data to 5min. Since we now have spread data at reasonable frequency let's take a look."
      ],
      "metadata": {
        "id": "vcmgiKJEk1XA"
      }
    },
    {
      "cell_type": "code",
      "source": [
        "df3 = l1[['bid_0_price', 'ask_0_price']]\n",
        "df3 = df3.rename(columns = {'bid_0_price': 'bid', 'ask_0_price': 'ask'})\n",
        "df3['datetime'] = pd.to_datetime(l1['received_time'])\n",
        "df3 = df3.set_index('datetime')\n",
        "df4 = df3.resample('5min').first()\n",
        "df4 = df4.dropna()\n",
        "df4['minute'] = df4.index.minute\n",
        "df4['hour'] = df4.index.hour\n",
        "df4['spread'] = round((df4['ask'] - df4['bid']) / ((df4['ask'] + df4['bid']) / 2) * 10000, 2)\n",
        "df4"
      ],
      "metadata": {
        "colab": {
          "base_uri": "https://localhost:8080/",
          "height": 455
        },
        "id": "VS8v2O1NfDC-",
        "outputId": "f5026eba-0ed8-4894-b1a6-a98cb2777ae7"
      },
      "execution_count": null,
      "outputs": [
        {
          "output_type": "execute_result",
          "data": {
            "text/plain": [
              "                          bid       ask  minute  hour  spread\n",
              "datetime                                                     \n",
              "2022-10-01 00:00:00  19422.61  19423.92       0     0    0.67\n",
              "2022-10-01 00:05:00  19425.56  19426.99       5     0    0.74\n",
              "2022-10-01 00:10:00  19441.78  19442.88      10     0    0.57\n",
              "2022-10-01 00:15:00  19459.45  19460.16      15     0    0.36\n",
              "2022-10-01 00:20:00  19471.54  19471.55      20     0    0.01\n",
              "...                       ...       ...     ...   ...     ...\n",
              "2022-10-03 23:35:00  19646.42  19648.49      35    23    1.05\n",
              "2022-10-03 23:40:00  19649.42  19650.52      40    23    0.56\n",
              "2022-10-03 23:45:00  19623.65  19625.21      45    23    0.79\n",
              "2022-10-03 23:50:00  19607.93  19609.14      50    23    0.62\n",
              "2022-10-03 23:55:00  19613.90  19615.13      55    23    0.63\n",
              "\n",
              "[864 rows x 5 columns]"
            ],
            "text/html": [
              "\n",
              "  <div id=\"df-62a632a8-cbbf-4846-812c-9e36d4872d50\">\n",
              "    <div class=\"colab-df-container\">\n",
              "      <div>\n",
              "<style scoped>\n",
              "    .dataframe tbody tr th:only-of-type {\n",
              "        vertical-align: middle;\n",
              "    }\n",
              "\n",
              "    .dataframe tbody tr th {\n",
              "        vertical-align: top;\n",
              "    }\n",
              "\n",
              "    .dataframe thead th {\n",
              "        text-align: right;\n",
              "    }\n",
              "</style>\n",
              "<table border=\"1\" class=\"dataframe\">\n",
              "  <thead>\n",
              "    <tr style=\"text-align: right;\">\n",
              "      <th></th>\n",
              "      <th>bid</th>\n",
              "      <th>ask</th>\n",
              "      <th>minute</th>\n",
              "      <th>hour</th>\n",
              "      <th>spread</th>\n",
              "    </tr>\n",
              "    <tr>\n",
              "      <th>datetime</th>\n",
              "      <th></th>\n",
              "      <th></th>\n",
              "      <th></th>\n",
              "      <th></th>\n",
              "      <th></th>\n",
              "    </tr>\n",
              "  </thead>\n",
              "  <tbody>\n",
              "    <tr>\n",
              "      <th>2022-10-01 00:00:00</th>\n",
              "      <td>19422.61</td>\n",
              "      <td>19423.92</td>\n",
              "      <td>0</td>\n",
              "      <td>0</td>\n",
              "      <td>0.67</td>\n",
              "    </tr>\n",
              "    <tr>\n",
              "      <th>2022-10-01 00:05:00</th>\n",
              "      <td>19425.56</td>\n",
              "      <td>19426.99</td>\n",
              "      <td>5</td>\n",
              "      <td>0</td>\n",
              "      <td>0.74</td>\n",
              "    </tr>\n",
              "    <tr>\n",
              "      <th>2022-10-01 00:10:00</th>\n",
              "      <td>19441.78</td>\n",
              "      <td>19442.88</td>\n",
              "      <td>10</td>\n",
              "      <td>0</td>\n",
              "      <td>0.57</td>\n",
              "    </tr>\n",
              "    <tr>\n",
              "      <th>2022-10-01 00:15:00</th>\n",
              "      <td>19459.45</td>\n",
              "      <td>19460.16</td>\n",
              "      <td>15</td>\n",
              "      <td>0</td>\n",
              "      <td>0.36</td>\n",
              "    </tr>\n",
              "    <tr>\n",
              "      <th>2022-10-01 00:20:00</th>\n",
              "      <td>19471.54</td>\n",
              "      <td>19471.55</td>\n",
              "      <td>20</td>\n",
              "      <td>0</td>\n",
              "      <td>0.01</td>\n",
              "    </tr>\n",
              "    <tr>\n",
              "      <th>...</th>\n",
              "      <td>...</td>\n",
              "      <td>...</td>\n",
              "      <td>...</td>\n",
              "      <td>...</td>\n",
              "      <td>...</td>\n",
              "    </tr>\n",
              "    <tr>\n",
              "      <th>2022-10-03 23:35:00</th>\n",
              "      <td>19646.42</td>\n",
              "      <td>19648.49</td>\n",
              "      <td>35</td>\n",
              "      <td>23</td>\n",
              "      <td>1.05</td>\n",
              "    </tr>\n",
              "    <tr>\n",
              "      <th>2022-10-03 23:40:00</th>\n",
              "      <td>19649.42</td>\n",
              "      <td>19650.52</td>\n",
              "      <td>40</td>\n",
              "      <td>23</td>\n",
              "      <td>0.56</td>\n",
              "    </tr>\n",
              "    <tr>\n",
              "      <th>2022-10-03 23:45:00</th>\n",
              "      <td>19623.65</td>\n",
              "      <td>19625.21</td>\n",
              "      <td>45</td>\n",
              "      <td>23</td>\n",
              "      <td>0.79</td>\n",
              "    </tr>\n",
              "    <tr>\n",
              "      <th>2022-10-03 23:50:00</th>\n",
              "      <td>19607.93</td>\n",
              "      <td>19609.14</td>\n",
              "      <td>50</td>\n",
              "      <td>23</td>\n",
              "      <td>0.62</td>\n",
              "    </tr>\n",
              "    <tr>\n",
              "      <th>2022-10-03 23:55:00</th>\n",
              "      <td>19613.90</td>\n",
              "      <td>19615.13</td>\n",
              "      <td>55</td>\n",
              "      <td>23</td>\n",
              "      <td>0.63</td>\n",
              "    </tr>\n",
              "  </tbody>\n",
              "</table>\n",
              "<p>864 rows × 5 columns</p>\n",
              "</div>\n",
              "      <button class=\"colab-df-convert\" onclick=\"convertToInteractive('df-62a632a8-cbbf-4846-812c-9e36d4872d50')\"\n",
              "              title=\"Convert this dataframe to an interactive table.\"\n",
              "              style=\"display:none;\">\n",
              "        \n",
              "  <svg xmlns=\"http://www.w3.org/2000/svg\" height=\"24px\"viewBox=\"0 0 24 24\"\n",
              "       width=\"24px\">\n",
              "    <path d=\"M0 0h24v24H0V0z\" fill=\"none\"/>\n",
              "    <path d=\"M18.56 5.44l.94 2.06.94-2.06 2.06-.94-2.06-.94-.94-2.06-.94 2.06-2.06.94zm-11 1L8.5 8.5l.94-2.06 2.06-.94-2.06-.94L8.5 2.5l-.94 2.06-2.06.94zm10 10l.94 2.06.94-2.06 2.06-.94-2.06-.94-.94-2.06-.94 2.06-2.06.94z\"/><path d=\"M17.41 7.96l-1.37-1.37c-.4-.4-.92-.59-1.43-.59-.52 0-1.04.2-1.43.59L10.3 9.45l-7.72 7.72c-.78.78-.78 2.05 0 2.83L4 21.41c.39.39.9.59 1.41.59.51 0 1.02-.2 1.41-.59l7.78-7.78 2.81-2.81c.8-.78.8-2.07 0-2.86zM5.41 20L4 18.59l7.72-7.72 1.47 1.35L5.41 20z\"/>\n",
              "  </svg>\n",
              "      </button>\n",
              "      \n",
              "  <style>\n",
              "    .colab-df-container {\n",
              "      display:flex;\n",
              "      flex-wrap:wrap;\n",
              "      gap: 12px;\n",
              "    }\n",
              "\n",
              "    .colab-df-convert {\n",
              "      background-color: #E8F0FE;\n",
              "      border: none;\n",
              "      border-radius: 50%;\n",
              "      cursor: pointer;\n",
              "      display: none;\n",
              "      fill: #1967D2;\n",
              "      height: 32px;\n",
              "      padding: 0 0 0 0;\n",
              "      width: 32px;\n",
              "    }\n",
              "\n",
              "    .colab-df-convert:hover {\n",
              "      background-color: #E2EBFA;\n",
              "      box-shadow: 0px 1px 2px rgba(60, 64, 67, 0.3), 0px 1px 3px 1px rgba(60, 64, 67, 0.15);\n",
              "      fill: #174EA6;\n",
              "    }\n",
              "\n",
              "    [theme=dark] .colab-df-convert {\n",
              "      background-color: #3B4455;\n",
              "      fill: #D2E3FC;\n",
              "    }\n",
              "\n",
              "    [theme=dark] .colab-df-convert:hover {\n",
              "      background-color: #434B5C;\n",
              "      box-shadow: 0px 1px 3px 1px rgba(0, 0, 0, 0.15);\n",
              "      filter: drop-shadow(0px 1px 2px rgba(0, 0, 0, 0.3));\n",
              "      fill: #FFFFFF;\n",
              "    }\n",
              "  </style>\n",
              "\n",
              "      <script>\n",
              "        const buttonEl =\n",
              "          document.querySelector('#df-62a632a8-cbbf-4846-812c-9e36d4872d50 button.colab-df-convert');\n",
              "        buttonEl.style.display =\n",
              "          google.colab.kernel.accessAllowed ? 'block' : 'none';\n",
              "\n",
              "        async function convertToInteractive(key) {\n",
              "          const element = document.querySelector('#df-62a632a8-cbbf-4846-812c-9e36d4872d50');\n",
              "          const dataTable =\n",
              "            await google.colab.kernel.invokeFunction('convertToInteractive',\n",
              "                                                     [key], {});\n",
              "          if (!dataTable) return;\n",
              "\n",
              "          const docLinkHtml = 'Like what you see? Visit the ' +\n",
              "            '<a target=\"_blank\" href=https://colab.research.google.com/notebooks/data_table.ipynb>data table notebook</a>'\n",
              "            + ' to learn more about interactive tables.';\n",
              "          element.innerHTML = '';\n",
              "          dataTable['output_type'] = 'display_data';\n",
              "          await google.colab.output.renderOutput(dataTable, element);\n",
              "          const docLink = document.createElement('div');\n",
              "          docLink.innerHTML = docLinkHtml;\n",
              "          element.appendChild(docLink);\n",
              "        }\n",
              "      </script>\n",
              "    </div>\n",
              "  </div>\n",
              "  "
            ]
          },
          "metadata": {},
          "execution_count": 48
        }
      ]
    },
    {
      "cell_type": "code",
      "source": [
        "df4['spread'].describe().round(2)"
      ],
      "metadata": {
        "colab": {
          "base_uri": "https://localhost:8080/"
        },
        "id": "lTtKYg0Jq-ng",
        "outputId": "7b65bf5b-e948-426d-bbd9-019883eaf3c5"
      },
      "execution_count": null,
      "outputs": [
        {
          "output_type": "execute_result",
          "data": {
            "text/plain": [
              "count    864.00\n",
              "mean       0.43\n",
              "std        0.23\n",
              "min        0.01\n",
              "25%        0.29\n",
              "50%        0.43\n",
              "75%        0.54\n",
              "max        2.17\n",
              "Name: spread, dtype: float64"
            ]
          },
          "metadata": {},
          "execution_count": 49
        }
      ]
    },
    {
      "cell_type": "markdown",
      "source": [
        "From the 5min data resample. The mean and median spread is just 0.4 bps. Sounds like it's hard to trade at a bad price for a highly liquid instrument."
      ],
      "metadata": {
        "id": "Ygn5DTcyrxuY"
      }
    },
    {
      "cell_type": "markdown",
      "source": [
        "### Seasonality\n",
        "\n",
        "We'll look at parts of the hour and zoom back out. Remember we're just working with just a few days of data. That said, this looks flat in 5 min sequence."
      ],
      "metadata": {
        "id": "7GN_Ww5lvnI_"
      }
    },
    {
      "cell_type": "code",
      "source": [
        "df4.groupby('minute')['spread'].mean().plot(kind='bar', legend=True)"
      ],
      "metadata": {
        "colab": {
          "base_uri": "https://localhost:8080/",
          "height": 299
        },
        "id": "TxEiYCvugsmc",
        "outputId": "d7df4380-59b6-43bc-df20-a6c481a6099c"
      },
      "execution_count": null,
      "outputs": [
        {
          "output_type": "execute_result",
          "data": {
            "text/plain": [
              "<matplotlib.axes._subplots.AxesSubplot at 0x7fa30a4d3700>"
            ]
          },
          "metadata": {},
          "execution_count": 50
        },
        {
          "output_type": "display_data",
          "data": {
            "text/plain": [
              "<Figure size 432x288 with 1 Axes>"
            ],
            "image/png": "[encoded data removed]"
          },
          "metadata": {
            "needs_background": "light"
          }
        }
      ]
    },
    {
      "cell_type": "markdown",
      "source": [
        "Hmm, something here seems to be different. From the 12-hour peak in some other data the peak spread here is at 13-hour. Again, too few days to tell but assuming this is persistent suggests a lead-lag relationship. For which happening on a pair like BTC-USDT would be a huge anomaly indeed."
      ],
      "metadata": {
        "id": "4bLaTLcCvlAg"
      }
    },
    {
      "cell_type": "code",
      "source": [
        "df4.groupby('hour')['spread'].mean().plot(kind='bar', legend=True)"
      ],
      "metadata": {
        "colab": {
          "base_uri": "https://localhost:8080/",
          "height": 299
        },
        "id": "38Y4sWhFwf7X",
        "outputId": "39512ac1-b437-4be4-e9ab-490fbed77537"
      },
      "execution_count": null,
      "outputs": [
        {
          "output_type": "execute_result",
          "data": {
            "text/plain": [
              "<matplotlib.axes._subplots.AxesSubplot at 0x7fa30a287490>"
            ]
          },
          "metadata": {},
          "execution_count": 51
        },
        {
          "output_type": "display_data",
          "data": {
            "text/plain": [
              "<Figure size 432x288 with 1 Axes>"
            ],
            "image/png": "[encoded data removed]"
          },
          "metadata": {
            "needs_background": "light"
          }
        }
      ]
    },
    {
      "cell_type": "markdown",
      "source": [
        "### Bid/Ask Volume Ratio\n",
        "\n",
        "Let's start with the top of book then figure out how we're going to look deeper into the book. Bid/ask ratio is meant to look at the amount of buy and sell orders in the book. Number below 1 means there's more sell orders in the book, the assumption is that it is bearish. Number above 1 means there's more buy orders in the book, the assumption is that it is bullish."
      ],
      "metadata": {
        "id": "_yGcZT0cz1AB"
      }
    },
    {
      "cell_type": "code",
      "source": [
        "df5 = l1[['bid_0_price', 'ask_0_price', 'bid_0_size', 'ask_0_size']]\n",
        "df5['datetime'] = pd.to_datetime(l1['received_time'])\n",
        "df5['mid_price'] = (df5['bid_0_price'] + df5['ask_0_price']) / 2\n",
        "df5 = df5.set_index('datetime')\n",
        "df5 = df5.resample('5min').first()\n",
        "df5 = df5.dropna()\n",
        "df5['spread'] = round((df5['ask_0_price'] - df5['bid_0_price']) / ((df5['ask_0_price'] + df5['bid_0_price']) / 2) * 10000)\n",
        "df5['log_returns'] = np.log(df5['mid_price'] / df5['mid_price'].shift(1))\n",
        "df5 = df5.dropna()\n",
        "df5['ratio'] = round(df5['bid_0_size'] / df5['ask_0_size'], 1)\n",
        "df5['ratio'].describe().round(2)"
      ],
      "metadata": {
        "colab": {
          "base_uri": "https://localhost:8080/"
        },
        "id": "wahmmoQu3TVJ",
        "outputId": "958d7fb4-757c-4e9d-ae34-f346e2d95ef8"
      },
      "execution_count": null,
      "outputs": [
        {
          "output_type": "execute_result",
          "data": {
            "text/plain": [
              "count      863.00\n",
              "mean        36.91\n",
              "std        403.55\n",
              "min          0.00\n",
              "25%          0.10\n",
              "50%          1.00\n",
              "75%          6.45\n",
              "max      11514.90\n",
              "Name: ratio, dtype: float64"
            ]
          },
          "metadata": {},
          "execution_count": 52
        }
      ]
    },
    {
      "cell_type": "code",
      "source": [
        "df5.plot.scatter(x = 'ratio', y = 'log_returns', xlim = (0,6))"
      ],
      "metadata": {
        "colab": {
          "base_uri": "https://localhost:8080/",
          "height": 299
        },
        "id": "FmNm7JWV5OLe",
        "outputId": "24e39464-f344-47ef-b902-739922cfbc46"
      },
      "execution_count": null,
      "outputs": [
        {
          "output_type": "execute_result",
          "data": {
            "text/plain": [
              "<matplotlib.axes._subplots.AxesSubplot at 0x7fa310198a00>"
            ]
          },
          "metadata": {},
          "execution_count": 53
        },
        {
          "output_type": "display_data",
          "data": {
            "text/plain": [
              "<Figure size 432x288 with 1 Axes>"
            ],
            "image/png": "[encoded data removed]"
          },
          "metadata": {
            "needs_background": "light"
          }
        }
      ]
    },
    {
      "cell_type": "markdown",
      "source": [
        "I had the cut off at 75th percentile of 6 bid/ask ratio. Well it's looking pretty flat to me. The heavily negative returns come when ratio is below 1, and it doesn't happen above 1. However, even in very low ratio number we got even more points of positive returns. This ratio is quite notable that below 1 is most volatile while say bullish markets the price stay within a tame band. The effect is small but might be tested as a safety net for HFT plays. "
      ],
      "metadata": {
        "id": "nOxbr0YE0_9j"
      }
    },
    {
      "cell_type": "markdown",
      "source": [
        "## Book Data\n",
        "\n",
        "I've crashed Colab a few times trying to crunch the entire dataframe. I'll create a new dataframe that contains the data that we'll be looking at. Still the ratio but aggregating the L2 book.\n"
      ],
      "metadata": {
        "id": "9ve6uZ4vSsyK"
      }
    },
    {
      "cell_type": "code",
      "source": [
        "book"
      ],
      "metadata": {
        "id": "-CC9mcZZSuMN",
        "colab": {
          "base_uri": "https://localhost:8080/",
          "height": 661
        },
        "outputId": "01b888b0-e839-40e5-db10-df2e99724341"
      },
      "execution_count": null,
      "outputs": [
        {
          "output_type": "execute_result",
          "data": {
            "text/plain": [
              "                          origin_time                 received_time  \\\n",
              "0       2022-10-01 00:00:00.032000000 2022-10-01 00:00:00.279075840   \n",
              "1       2022-10-01 00:00:00.132000000 2022-10-01 00:00:00.287162112   \n",
              "2       2022-10-01 00:00:00.232999936 2022-10-01 00:00:00.294583040   \n",
              "3       2022-10-01 00:00:00.332999936 2022-10-01 00:00:00.962390272   \n",
              "4       2022-10-01 00:00:00.433000192 2022-10-01 00:00:00.969885440   \n",
              "...                               ...                           ...   \n",
              "2590398 2022-10-03 23:59:59.519000064 2022-10-03 23:59:59.523761664   \n",
              "2590399 2022-10-03 23:59:59.619000064 2022-10-03 23:59:59.624189184   \n",
              "2590400 2022-10-03 23:59:59.719000064 2022-10-03 23:59:59.723825920   \n",
              "2590401 2022-10-03 23:59:59.819000064 2022-10-03 23:59:59.821303808   \n",
              "2590402 2022-10-03 23:59:59.918999808 2022-10-03 23:59:59.923665152   \n",
              "\n",
              "         sequence_number  bid_0_price  bid_0_size  bid_1_price  bid_1_size  \\\n",
              "0            25095473073     19422.61     0.01822     19422.60     1.95358   \n",
              "1            25095473151     19422.32     0.00675     19422.25     0.02000   \n",
              "2            25095473227     19422.37     0.25742     19422.33     0.00233   \n",
              "3            25095473285     19422.38     0.08603     19422.37     0.25742   \n",
              "4            25095473369     19422.02     0.02000     19422.01     0.82559   \n",
              "...                  ...          ...         ...          ...         ...   \n",
              "2590398      25210698129     19625.19     1.70863     19625.11     0.00056   \n",
              "2590399      25210698185     19625.20     0.24378     19625.19     1.70744   \n",
              "2590400      25210698232     19626.54     0.03437     19625.22     0.42000   \n",
              "2590401      25210698456     19628.00     0.03437     19627.76     0.42000   \n",
              "2590402      25210698530     19627.39     0.23124     19626.92     0.07422   \n",
              "\n",
              "         bid_2_price  bid_2_size  bid_3_price  ...  ask_15_price  ask_15_size  \\\n",
              "0           19422.41     0.00634     19422.38  ...      19424.95      1.07075   \n",
              "1           19422.15     0.00695     19422.08  ...      19424.94      0.69584   \n",
              "2           19422.15     0.00695     19422.01  ...      19424.64      0.10000   \n",
              "3           19422.15     0.00695     19422.01  ...      19424.64      0.10000   \n",
              "4           19421.98     0.00122     19421.92  ...      19424.29      0.00645   \n",
              "...              ...         ...          ...  ...           ...          ...   \n",
              "2590398     19624.80     0.00114     19624.63  ...      19627.94      0.01000   \n",
              "2590399     19625.11     0.00056     19624.89  ...      19627.94      0.01000   \n",
              "2590400     19625.21     0.00887     19625.19  ...      19627.94      0.01000   \n",
              "2590401     19626.86     0.00898     19626.82  ...      19630.25      0.00657   \n",
              "2590402     19626.87     0.07485     19626.86  ...      19630.03      0.50936   \n",
              "\n",
              "         ask_16_price  ask_16_size  ask_17_price  ask_17_size  ask_18_price  \\\n",
              "0            19424.98      0.02365      19425.00      0.02343      19425.04   \n",
              "1            19424.95      1.07075      19424.98      0.02365      19425.00   \n",
              "2            19424.67      0.00090      19424.73      0.00257      19424.78   \n",
              "3            19424.67      0.00090      19424.73      0.00257      19424.78   \n",
              "4            19424.37      0.01524      19424.56      0.00479      19424.57   \n",
              "...               ...          ...           ...          ...           ...   \n",
              "2590398      19628.31      0.08250      19628.33      0.00254      19628.44   \n",
              "2590399      19628.31      0.08250      19628.33      0.00254      19628.44   \n",
              "2590400      19628.31      0.08250      19628.33      0.00254      19628.44   \n",
              "2590401      19630.33      0.00060      19630.41      0.12065      19630.61   \n",
              "2590402      19630.12      0.27555      19630.16      0.37000      19630.22   \n",
              "\n",
              "         ask_18_size  ask_19_price  ask_19_size  \n",
              "0            0.00056      19425.06      0.51477  \n",
              "1            0.02343      19425.04      0.00056  \n",
              "2            0.00554      19424.93      0.06490  \n",
              "3            0.00554      19424.93      0.06490  \n",
              "4            0.34500      19424.64      0.10000  \n",
              "...              ...           ...          ...  \n",
              "2590398      0.00999      19628.64      0.01456  \n",
              "2590399      0.00999      19628.64      0.01456  \n",
              "2590400      0.00999      19628.64      0.01456  \n",
              "2590401      0.01265      19630.67      0.01000  \n",
              "2590402      0.42000      19630.25      0.00657  \n",
              "\n",
              "[2590403 rows x 83 columns]"
            ],
            "text/html": [
              "\n",
              "  <div id=\"df-f63ec69b-7eee-4ccf-9730-7411d1b01677\">\n",
              "    <div class=\"colab-df-container\">\n",
              "      <div>\n",
              "<style scoped>\n",
              "    .dataframe tbody tr th:only-of-type {\n",
              "        vertical-align: middle;\n",
              "    }\n",
              "\n",
              "    .dataframe tbody tr th {\n",
              "        vertical-align: top;\n",
              "    }\n",
              "\n",
              "    .dataframe thead th {\n",
              "        text-align: right;\n",
              "    }\n",
              "</style>\n",
              "<table border=\"1\" class=\"dataframe\">\n",
              "  <thead>\n",
              "    <tr style=\"text-align: right;\">\n",
              "      <th></th>\n",
              "      <th>origin_time</th>\n",
              "      <th>received_time</th>\n",
              "      <th>sequence_number</th>\n",
              "      <th>bid_0_price</th>\n",
              "      <th>bid_0_size</th>\n",
              "      <th>bid_1_price</th>\n",
              "      <th>bid_1_size</th>\n",
              "      <th>bid_2_price</th>\n",
              "      <th>bid_2_size</th>\n",
              "      <th>bid_3_price</th>\n",
              "      <th>...</th>\n",
              "      <th>ask_15_price</th>\n",
              "      <th>ask_15_size</th>\n",
              "      <th>ask_16_price</th>\n",
              "      <th>ask_16_size</th>\n",
              "      <th>ask_17_price</th>\n",
              "      <th>ask_17_size</th>\n",
              "      <th>ask_18_price</th>\n",
              "      <th>ask_18_size</th>\n",
              "      <th>ask_19_price</th>\n",
              "      <th>ask_19_size</th>\n",
              "    </tr>\n",
              "  </thead>\n",
              "  <tbody>\n",
              "    <tr>\n",
              "      <th>0</th>\n",
              "      <td>2022-10-01 00:00:00.032000000</td>\n",
              "      <td>2022-10-01 00:00:00.279075840</td>\n",
              "      <td>25095473073</td>\n",
              "      <td>19422.61</td>\n",
              "      <td>0.01822</td>\n",
              "      <td>19422.60</td>\n",
              "      <td>1.95358</td>\n",
              "      <td>19422.41</td>\n",
              "      <td>0.00634</td>\n",
              "      <td>19422.38</td>\n",
              "      <td>...</td>\n",
              "      <td>19424.95</td>\n",
              "      <td>1.07075</td>\n",
              "      <td>19424.98</td>\n",
              "      <td>0.02365</td>\n",
              "      <td>19425.00</td>\n",
              "      <td>0.02343</td>\n",
              "      <td>19425.04</td>\n",
              "      <td>0.00056</td>\n",
              "      <td>19425.06</td>\n",
              "      <td>0.51477</td>\n",
              "    </tr>\n",
              "    <tr>\n",
              "      <th>1</th>\n",
              "      <td>2022-10-01 00:00:00.132000000</td>\n",
              "      <td>2022-10-01 00:00:00.287162112</td>\n",
              "      <td>25095473151</td>\n",
              "      <td>19422.32</td>\n",
              "      <td>0.00675</td>\n",
              "      <td>19422.25</td>\n",
              "      <td>0.02000</td>\n",
              "      <td>19422.15</td>\n",
              "      <td>0.00695</td>\n",
              "      <td>19422.08</td>\n",
              "      <td>...</td>\n",
              "      <td>19424.94</td>\n",
              "      <td>0.69584</td>\n",
              "      <td>19424.95</td>\n",
              "      <td>1.07075</td>\n",
              "      <td>19424.98</td>\n",
              "      <td>0.02365</td>\n",
              "      <td>19425.00</td>\n",
              "      <td>0.02343</td>\n",
              "      <td>19425.04</td>\n",
              "      <td>0.00056</td>\n",
              "    </tr>\n",
              "    <tr>\n",
              "      <th>2</th>\n",
              "      <td>2022-10-01 00:00:00.232999936</td>\n",
              "      <td>2022-10-01 00:00:00.294583040</td>\n",
              "      <td>25095473227</td>\n",
              "      <td>19422.37</td>\n",
              "      <td>0.25742</td>\n",
              "      <td>19422.33</td>\n",
              "      <td>0.00233</td>\n",
              "      <td>19422.15</td>\n",
              "      <td>0.00695</td>\n",
              "      <td>19422.01</td>\n",
              "      <td>...</td>\n",
              "      <td>19424.64</td>\n",
              "      <td>0.10000</td>\n",
              "      <td>19424.67</td>\n",
              "      <td>0.00090</td>\n",
              "      <td>19424.73</td>\n",
              "      <td>0.00257</td>\n",
              "      <td>19424.78</td>\n",
              "      <td>0.00554</td>\n",
              "      <td>19424.93</td>\n",
              "      <td>0.06490</td>\n",
              "    </tr>\n",
              "    <tr>\n",
              "      <th>3</th>\n",
              "      <td>2022-10-01 00:00:00.332999936</td>\n",
              "      <td>2022-10-01 00:00:00.962390272</td>\n",
              "      <td>25095473285</td>\n",
              "      <td>19422.38</td>\n",
              "      <td>0.08603</td>\n",
              "      <td>19422.37</td>\n",
              "      <td>0.25742</td>\n",
              "      <td>19422.15</td>\n",
              "      <td>0.00695</td>\n",
              "      <td>19422.01</td>\n",
              "      <td>...</td>\n",
              "      <td>19424.64</td>\n",
              "      <td>0.10000</td>\n",
              "      <td>19424.67</td>\n",
              "      <td>0.00090</td>\n",
              "      <td>19424.73</td>\n",
              "      <td>0.00257</td>\n",
              "      <td>19424.78</td>\n",
              "      <td>0.00554</td>\n",
              "      <td>19424.93</td>\n",
              "      <td>0.06490</td>\n",
              "    </tr>\n",
              "    <tr>\n",
              "      <th>4</th>\n",
              "      <td>2022-10-01 00:00:00.433000192</td>\n",
              "      <td>2022-10-01 00:00:00.969885440</td>\n",
              "      <td>25095473369</td>\n",
              "      <td>19422.02</td>\n",
              "      <td>0.02000</td>\n",
              "      <td>19422.01</td>\n",
              "      <td>0.82559</td>\n",
              "      <td>19421.98</td>\n",
              "      <td>0.00122</td>\n",
              "      <td>19421.92</td>\n",
              "      <td>...</td>\n",
              "      <td>19424.29</td>\n",
              "      <td>0.00645</td>\n",
              "      <td>19424.37</td>\n",
              "      <td>0.01524</td>\n",
              "      <td>19424.56</td>\n",
              "      <td>0.00479</td>\n",
              "      <td>19424.57</td>\n",
              "      <td>0.34500</td>\n",
              "      <td>19424.64</td>\n",
              "      <td>0.10000</td>\n",
              "    </tr>\n",
              "    <tr>\n",
              "      <th>...</th>\n",
              "      <td>...</td>\n",
              "      <td>...</td>\n",
              "      <td>...</td>\n",
              "      <td>...</td>\n",
              "      <td>...</td>\n",
              "      <td>...</td>\n",
              "      <td>...</td>\n",
              "      <td>...</td>\n",
              "      <td>...</td>\n",
              "      <td>...</td>\n",
              "      <td>...</td>\n",
              "      <td>...</td>\n",
              "      <td>...</td>\n",
              "      <td>...</td>\n",
              "      <td>...</td>\n",
              "      <td>...</td>\n",
              "      <td>...</td>\n",
              "      <td>...</td>\n",
              "      <td>...</td>\n",
              "      <td>...</td>\n",
              "      <td>...</td>\n",
              "    </tr>\n",
              "    <tr>\n",
              "      <th>2590398</th>\n",
              "      <td>2022-10-03 23:59:59.519000064</td>\n",
              "      <td>2022-10-03 23:59:59.523761664</td>\n",
              "      <td>25210698129</td>\n",
              "      <td>19625.19</td>\n",
              "      <td>1.70863</td>\n",
              "      <td>19625.11</td>\n",
              "      <td>0.00056</td>\n",
              "      <td>19624.80</td>\n",
              "      <td>0.00114</td>\n",
              "      <td>19624.63</td>\n",
              "      <td>...</td>\n",
              "      <td>19627.94</td>\n",
              "      <td>0.01000</td>\n",
              "      <td>19628.31</td>\n",
              "      <td>0.08250</td>\n",
              "      <td>19628.33</td>\n",
              "      <td>0.00254</td>\n",
              "      <td>19628.44</td>\n",
              "      <td>0.00999</td>\n",
              "      <td>19628.64</td>\n",
              "      <td>0.01456</td>\n",
              "    </tr>\n",
              "    <tr>\n",
              "      <th>2590399</th>\n",
              "      <td>2022-10-03 23:59:59.619000064</td>\n",
              "      <td>2022-10-03 23:59:59.624189184</td>\n",
              "      <td>25210698185</td>\n",
              "      <td>19625.20</td>\n",
              "      <td>0.24378</td>\n",
              "      <td>19625.19</td>\n",
              "      <td>1.70744</td>\n",
              "      <td>19625.11</td>\n",
              "      <td>0.00056</td>\n",
              "      <td>19624.89</td>\n",
              "      <td>...</td>\n",
              "      <td>19627.94</td>\n",
              "      <td>0.01000</td>\n",
              "      <td>19628.31</td>\n",
              "      <td>0.08250</td>\n",
              "      <td>19628.33</td>\n",
              "      <td>0.00254</td>\n",
              "      <td>19628.44</td>\n",
              "      <td>0.00999</td>\n",
              "      <td>19628.64</td>\n",
              "      <td>0.01456</td>\n",
              "    </tr>\n",
              "    <tr>\n",
              "      <th>2590400</th>\n",
              "      <td>2022-10-03 23:59:59.719000064</td>\n",
              "      <td>2022-10-03 23:59:59.723825920</td>\n",
              "      <td>25210698232</td>\n",
              "      <td>19626.54</td>\n",
              "      <td>0.03437</td>\n",
              "      <td>19625.22</td>\n",
              "      <td>0.42000</td>\n",
              "      <td>19625.21</td>\n",
              "      <td>0.00887</td>\n",
              "      <td>19625.19</td>\n",
              "      <td>...</td>\n",
              "      <td>19627.94</td>\n",
              "      <td>0.01000</td>\n",
              "      <td>19628.31</td>\n",
              "      <td>0.08250</td>\n",
              "      <td>19628.33</td>\n",
              "      <td>0.00254</td>\n",
              "      <td>19628.44</td>\n",
              "      <td>0.00999</td>\n",
              "      <td>19628.64</td>\n",
              "      <td>0.01456</td>\n",
              "    </tr>\n",
              "    <tr>\n",
              "      <th>2590401</th>\n",
              "      <td>2022-10-03 23:59:59.819000064</td>\n",
              "      <td>2022-10-03 23:59:59.821303808</td>\n",
              "      <td>25210698456</td>\n",
              "      <td>19628.00</td>\n",
              "      <td>0.03437</td>\n",
              "      <td>19627.76</td>\n",
              "      <td>0.42000</td>\n",
              "      <td>19626.86</td>\n",
              "      <td>0.00898</td>\n",
              "      <td>19626.82</td>\n",
              "      <td>...</td>\n",
              "      <td>19630.25</td>\n",
              "      <td>0.00657</td>\n",
              "      <td>19630.33</td>\n",
              "      <td>0.00060</td>\n",
              "      <td>19630.41</td>\n",
              "      <td>0.12065</td>\n",
              "      <td>19630.61</td>\n",
              "      <td>0.01265</td>\n",
              "      <td>19630.67</td>\n",
              "      <td>0.01000</td>\n",
              "    </tr>\n",
              "    <tr>\n",
              "      <th>2590402</th>\n",
              "      <td>2022-10-03 23:59:59.918999808</td>\n",
              "      <td>2022-10-03 23:59:59.923665152</td>\n",
              "      <td>25210698530</td>\n",
              "      <td>19627.39</td>\n",
              "      <td>0.23124</td>\n",
              "      <td>19626.92</td>\n",
              "      <td>0.07422</td>\n",
              "      <td>19626.87</td>\n",
              "      <td>0.07485</td>\n",
              "      <td>19626.86</td>\n",
              "      <td>...</td>\n",
              "      <td>19630.03</td>\n",
              "      <td>0.50936</td>\n",
              "      <td>19630.12</td>\n",
              "      <td>0.27555</td>\n",
              "      <td>19630.16</td>\n",
              "      <td>0.37000</td>\n",
              "      <td>19630.22</td>\n",
              "      <td>0.42000</td>\n",
              "      <td>19630.25</td>\n",
              "      <td>0.00657</td>\n",
              "    </tr>\n",
              "  </tbody>\n",
              "</table>\n",
              "<p>2590403 rows × 83 columns</p>\n",
              "</div>\n",
              "      <button class=\"colab-df-convert\" onclick=\"convertToInteractive('df-f63ec69b-7eee-4ccf-9730-7411d1b01677')\"\n",
              "              title=\"Convert this dataframe to an interactive table.\"\n",
              "              style=\"display:none;\">\n",
              "        \n",
              "  <svg xmlns=\"http://www.w3.org/2000/svg\" height=\"24px\"viewBox=\"0 0 24 24\"\n",
              "       width=\"24px\">\n",
              "    <path d=\"M0 0h24v24H0V0z\" fill=\"none\"/>\n",
              "    <path d=\"M18.56 5.44l.94 2.06.94-2.06 2.06-.94-2.06-.94-.94-2.06-.94 2.06-2.06.94zm-11 1L8.5 8.5l.94-2.06 2.06-.94-2.06-.94L8.5 2.5l-.94 2.06-2.06.94zm10 10l.94 2.06.94-2.06 2.06-.94-2.06-.94-.94-2.06-.94 2.06-2.06.94z\"/><path d=\"M17.41 7.96l-1.37-1.37c-.4-.4-.92-.59-1.43-.59-.52 0-1.04.2-1.43.59L10.3 9.45l-7.72 7.72c-.78.78-.78 2.05 0 2.83L4 21.41c.39.39.9.59 1.41.59.51 0 1.02-.2 1.41-.59l7.78-7.78 2.81-2.81c.8-.78.8-2.07 0-2.86zM5.41 20L4 18.59l7.72-7.72 1.47 1.35L5.41 20z\"/>\n",
              "  </svg>\n",
              "      </button>\n",
              "      \n",
              "  <style>\n",
              "    .colab-df-container {\n",
              "      display:flex;\n",
              "      flex-wrap:wrap;\n",
              "      gap: 12px;\n",
              "    }\n",
              "\n",
              "    .colab-df-convert {\n",
              "      background-color: #E8F0FE;\n",
              "      border: none;\n",
              "      border-radius: 50%;\n",
              "      cursor: pointer;\n",
              "      display: none;\n",
              "      fill: #1967D2;\n",
              "      height: 32px;\n",
              "      padding: 0 0 0 0;\n",
              "      width: 32px;\n",
              "    }\n",
              "\n",
              "    .colab-df-convert:hover {\n",
              "      background-color: #E2EBFA;\n",
              "      box-shadow: 0px 1px 2px rgba(60, 64, 67, 0.3), 0px 1px 3px 1px rgba(60, 64, 67, 0.15);\n",
              "      fill: #174EA6;\n",
              "    }\n",
              "\n",
              "    [theme=dark] .colab-df-convert {\n",
              "      background-color: #3B4455;\n",
              "      fill: #D2E3FC;\n",
              "    }\n",
              "\n",
              "    [theme=dark] .colab-df-convert:hover {\n",
              "      background-color: #434B5C;\n",
              "      box-shadow: 0px 1px 3px 1px rgba(0, 0, 0, 0.15);\n",
              "      filter: drop-shadow(0px 1px 2px rgba(0, 0, 0, 0.3));\n",
              "      fill: #FFFFFF;\n",
              "    }\n",
              "  </style>\n",
              "\n",
              "      <script>\n",
              "        const buttonEl =\n",
              "          document.querySelector('#df-f63ec69b-7eee-4ccf-9730-7411d1b01677 button.colab-df-convert');\n",
              "        buttonEl.style.display =\n",
              "          google.colab.kernel.accessAllowed ? 'block' : 'none';\n",
              "\n",
              "        async function convertToInteractive(key) {\n",
              "          const element = document.querySelector('#df-f63ec69b-7eee-4ccf-9730-7411d1b01677');\n",
              "          const dataTable =\n",
              "            await google.colab.kernel.invokeFunction('convertToInteractive',\n",
              "                                                     [key], {});\n",
              "          if (!dataTable) return;\n",
              "\n",
              "          const docLinkHtml = 'Like what you see? Visit the ' +\n",
              "            '<a target=\"_blank\" href=https://colab.research.google.com/notebooks/data_table.ipynb>data table notebook</a>'\n",
              "            + ' to learn more about interactive tables.';\n",
              "          element.innerHTML = '';\n",
              "          dataTable['output_type'] = 'display_data';\n",
              "          await google.colab.output.renderOutput(dataTable, element);\n",
              "          const docLink = document.createElement('div');\n",
              "          docLink.innerHTML = docLinkHtml;\n",
              "          element.appendChild(docLink);\n",
              "        }\n",
              "      </script>\n",
              "    </div>\n",
              "  </div>\n",
              "  "
            ]
          },
          "metadata": {},
          "execution_count": 54
        }
      ]
    },
    {
      "cell_type": "code",
      "source": [
        "book_size = book.filter(like='size')\n",
        "book_bid_size = book_size.filter(like='bid')\n",
        "book_ask_size = book_size.filter(like='ask')\n",
        "book_bid_sum = book_bid_size.sum(axis=1)\n",
        "book_ask_sum = book_ask_size.sum(axis=1)"
      ],
      "metadata": {
        "id": "kFhWwTjzh3qI"
      },
      "execution_count": null,
      "outputs": []
    },
    {
      "cell_type": "code",
      "source": [
        "l2 = book[['bid_0_price', 'ask_0_price']]\n",
        "l2['bid_size'] = book_bid_sum\n",
        "l2['ask_size'] = book_ask_sum\n",
        "l2['mid_price'] = (l2['bid_0_price'] + l2['ask_0_price']) / 2\n",
        "l2['spread'] = round((l2['ask_0_price'] - l2['bid_0_price']) / ((l2['ask_0_price'] + l2['bid_0_price']) / 2) * 10000, 2)\n",
        "l2['log_returns'] = np.log(l2['mid_price'] / l2['mid_price'].shift(1))\n",
        "l2 = l2.dropna()\n",
        "l2['ratio'] = round(l2['bid_size'] / l2['ask_size'], 1)"
      ],
      "metadata": {
        "id": "BOh36rhKiy1s",
        "colab": {
          "base_uri": "https://localhost:8080/"
        },
        "outputId": "be704fbb-438b-4861-ecd1-3c8ac4c9746d"
      },
      "execution_count": null,
      "outputs": [
        {
          "output_type": "stream",
          "name": "stderr",
          "text": [
            "<ipython-input-56-2f6dd18f2e4c>:2: SettingWithCopyWarning: \n",
            "A value is trying to be set on a copy of a slice from a DataFrame.\n",
            "Try using .loc[row_indexer,col_indexer] = value instead\n",
            "\n",
            "See the caveats in the documentation: https://pandas.pydata.org/pandas-docs/stable/user_guide/indexing.html#returning-a-view-versus-a-copy\n",
            "  l2['bid_size'] = book_bid_sum\n",
            "<ipython-input-56-2f6dd18f2e4c>:3: SettingWithCopyWarning: \n",
            "A value is trying to be set on a copy of a slice from a DataFrame.\n",
            "Try using .loc[row_indexer,col_indexer] = value instead\n",
            "\n",
            "See the caveats in the documentation: https://pandas.pydata.org/pandas-docs/stable/user_guide/indexing.html#returning-a-view-versus-a-copy\n",
            "  l2['ask_size'] = book_ask_sum\n",
            "<ipython-input-56-2f6dd18f2e4c>:4: SettingWithCopyWarning: \n",
            "A value is trying to be set on a copy of a slice from a DataFrame.\n",
            "Try using .loc[row_indexer,col_indexer] = value instead\n",
            "\n",
            "See the caveats in the documentation: https://pandas.pydata.org/pandas-docs/stable/user_guide/indexing.html#returning-a-view-versus-a-copy\n",
            "  l2['mid_price'] = (l2['bid_0_price'] + l2['ask_0_price']) / 2\n",
            "<ipython-input-56-2f6dd18f2e4c>:5: SettingWithCopyWarning: \n",
            "A value is trying to be set on a copy of a slice from a DataFrame.\n",
            "Try using .loc[row_indexer,col_indexer] = value instead\n",
            "\n",
            "See the caveats in the documentation: https://pandas.pydata.org/pandas-docs/stable/user_guide/indexing.html#returning-a-view-versus-a-copy\n",
            "  l2['spread'] = round((l2['ask_0_price'] - l2['bid_0_price']) / ((l2['ask_0_price'] + l2['bid_0_price']) / 2) * 10000, 2)\n",
            "<ipython-input-56-2f6dd18f2e4c>:6: SettingWithCopyWarning: \n",
            "A value is trying to be set on a copy of a slice from a DataFrame.\n",
            "Try using .loc[row_indexer,col_indexer] = value instead\n",
            "\n",
            "See the caveats in the documentation: https://pandas.pydata.org/pandas-docs/stable/user_guide/indexing.html#returning-a-view-versus-a-copy\n",
            "  l2['log_returns'] = np.log(l2['mid_price'] / l2['mid_price'].shift(1))\n",
            "<ipython-input-56-2f6dd18f2e4c>:8: SettingWithCopyWarning: \n",
            "A value is trying to be set on a copy of a slice from a DataFrame.\n",
            "Try using .loc[row_indexer,col_indexer] = value instead\n",
            "\n",
            "See the caveats in the documentation: https://pandas.pydata.org/pandas-docs/stable/user_guide/indexing.html#returning-a-view-versus-a-copy\n",
            "  l2['ratio'] = round(l2['bid_size'] / l2['ask_size'], 1)\n"
          ]
        }
      ]
    },
    {
      "cell_type": "code",
      "source": [
        "l2"
      ],
      "metadata": {
        "colab": {
          "base_uri": "https://localhost:8080/",
          "height": 424
        },
        "id": "RujZb6RWkHET",
        "outputId": "40d210ff-f697-447e-a7ad-a96ac77c69fc"
      },
      "execution_count": null,
      "outputs": [
        {
          "output_type": "execute_result",
          "data": {
            "text/plain": [
              "         bid_0_price  ask_0_price  bid_size  ask_size  mid_price  spread  \\\n",
              "1           19422.32     19423.62   2.69670   5.67401  19422.970    0.67   \n",
              "2           19422.37     19423.48   5.53050   3.58300  19422.925    0.57   \n",
              "3           19422.38     19423.42   5.76182   4.63226  19422.900    0.54   \n",
              "4           19422.02     19423.35   5.92602   5.01891  19422.685    0.68   \n",
              "5           19422.33     19423.29   5.56949   5.19387  19422.810    0.49   \n",
              "...              ...          ...       ...       ...        ...     ...   \n",
              "2590398     19625.19     19626.57   5.70621   3.61410  19625.880    0.70   \n",
              "2590399     19625.20     19626.56   4.49719   3.73617  19625.880    0.69   \n",
              "2590400     19626.54     19626.55   4.57914   3.57755  19626.545    0.01   \n",
              "2590401     19628.00     19628.75   4.86506   1.59287  19628.375    0.38   \n",
              "2590402     19627.39     19628.19   4.00871   2.25661  19627.790    0.41   \n",
              "\n",
              "          log_returns  ratio  \n",
              "1       -1.518809e-05    0.5  \n",
              "2       -2.316847e-06    1.5  \n",
              "3       -1.287140e-06    1.2  \n",
              "4       -1.106947e-05    1.2  \n",
              "5        6.435753e-06    1.1  \n",
              "...               ...    ...  \n",
              "2590398  9.171605e-06    1.6  \n",
              "2590399  2.220446e-16    1.2  \n",
              "2590400  3.388326e-05    1.3  \n",
              "2590401  9.323672e-05    3.1  \n",
              "2590402 -2.980424e-05    1.8  \n",
              "\n",
              "[2590402 rows x 8 columns]"
            ],
            "text/html": [
              "\n",
              "  <div id=\"df-1e6e2b35-ba17-4035-a094-6872f4e246dd\">\n",
              "    <div class=\"colab-df-container\">\n",
              "      <div>\n",
              "<style scoped>\n",
              "    .dataframe tbody tr th:only-of-type {\n",
              "        vertical-align: middle;\n",
              "    }\n",
              "\n",
              "    .dataframe tbody tr th {\n",
              "        vertical-align: top;\n",
              "    }\n",
              "\n",
              "    .dataframe thead th {\n",
              "        text-align: right;\n",
              "    }\n",
              "</style>\n",
              "<table border=\"1\" class=\"dataframe\">\n",
              "  <thead>\n",
              "    <tr style=\"text-align: right;\">\n",
              "      <th></th>\n",
              "      <th>bid_0_price</th>\n",
              "      <th>ask_0_price</th>\n",
              "      <th>bid_size</th>\n",
              "      <th>ask_size</th>\n",
              "      <th>mid_price</th>\n",
              "      <th>spread</th>\n",
              "      <th>log_returns</th>\n",
              "      <th>ratio</th>\n",
              "    </tr>\n",
              "  </thead>\n",
              "  <tbody>\n",
              "    <tr>\n",
              "      <th>1</th>\n",
              "      <td>19422.32</td>\n",
              "      <td>19423.62</td>\n",
              "      <td>2.69670</td>\n",
              "      <td>5.67401</td>\n",
              "      <td>19422.970</td>\n",
              "      <td>0.67</td>\n",
              "      <td>-1.518809e-05</td>\n",
              "      <td>0.5</td>\n",
              "    </tr>\n",
              "    <tr>\n",
              "      <th>2</th>\n",
              "      <td>19422.37</td>\n",
              "      <td>19423.48</td>\n",
              "      <td>5.53050</td>\n",
              "      <td>3.58300</td>\n",
              "      <td>19422.925</td>\n",
              "      <td>0.57</td>\n",
              "      <td>-2.316847e-06</td>\n",
              "      <td>1.5</td>\n",
              "    </tr>\n",
              "    <tr>\n",
              "      <th>3</th>\n",
              "      <td>19422.38</td>\n",
              "      <td>19423.42</td>\n",
              "      <td>5.76182</td>\n",
              "      <td>4.63226</td>\n",
              "      <td>19422.900</td>\n",
              "      <td>0.54</td>\n",
              "      <td>-1.287140e-06</td>\n",
              "      <td>1.2</td>\n",
              "    </tr>\n",
              "    <tr>\n",
              "      <th>4</th>\n",
              "      <td>19422.02</td>\n",
              "      <td>19423.35</td>\n",
              "      <td>5.92602</td>\n",
              "      <td>5.01891</td>\n",
              "      <td>19422.685</td>\n",
              "      <td>0.68</td>\n",
              "      <td>-1.106947e-05</td>\n",
              "      <td>1.2</td>\n",
              "    </tr>\n",
              "    <tr>\n",
              "      <th>5</th>\n",
              "      <td>19422.33</td>\n",
              "      <td>19423.29</td>\n",
              "      <td>5.56949</td>\n",
              "      <td>5.19387</td>\n",
              "      <td>19422.810</td>\n",
              "      <td>0.49</td>\n",
              "      <td>6.435753e-06</td>\n",
              "      <td>1.1</td>\n",
              "    </tr>\n",
              "    <tr>\n",
              "      <th>...</th>\n",
              "      <td>...</td>\n",
              "      <td>...</td>\n",
              "      <td>...</td>\n",
              "      <td>...</td>\n",
              "      <td>...</td>\n",
              "      <td>...</td>\n",
              "      <td>...</td>\n",
              "      <td>...</td>\n",
              "    </tr>\n",
              "    <tr>\n",
              "      <th>2590398</th>\n",
              "      <td>19625.19</td>\n",
              "      <td>19626.57</td>\n",
              "      <td>5.70621</td>\n",
              "      <td>3.61410</td>\n",
              "      <td>19625.880</td>\n",
              "      <td>0.70</td>\n",
              "      <td>9.171605e-06</td>\n",
              "      <td>1.6</td>\n",
              "    </tr>\n",
              "    <tr>\n",
              "      <th>2590399</th>\n",
              "      <td>19625.20</td>\n",
              "      <td>19626.56</td>\n",
              "      <td>4.49719</td>\n",
              "      <td>3.73617</td>\n",
              "      <td>19625.880</td>\n",
              "      <td>0.69</td>\n",
              "      <td>2.220446e-16</td>\n",
              "      <td>1.2</td>\n",
              "    </tr>\n",
              "    <tr>\n",
              "      <th>2590400</th>\n",
              "      <td>19626.54</td>\n",
              "      <td>19626.55</td>\n",
              "      <td>4.57914</td>\n",
              "      <td>3.57755</td>\n",
              "      <td>19626.545</td>\n",
              "      <td>0.01</td>\n",
              "      <td>3.388326e-05</td>\n",
              "      <td>1.3</td>\n",
              "    </tr>\n",
              "    <tr>\n",
              "      <th>2590401</th>\n",
              "      <td>19628.00</td>\n",
              "      <td>19628.75</td>\n",
              "      <td>4.86506</td>\n",
              "      <td>1.59287</td>\n",
              "      <td>19628.375</td>\n",
              "      <td>0.38</td>\n",
              "      <td>9.323672e-05</td>\n",
              "      <td>3.1</td>\n",
              "    </tr>\n",
              "    <tr>\n",
              "      <th>2590402</th>\n",
              "      <td>19627.39</td>\n",
              "      <td>19628.19</td>\n",
              "      <td>4.00871</td>\n",
              "      <td>2.25661</td>\n",
              "      <td>19627.790</td>\n",
              "      <td>0.41</td>\n",
              "      <td>-2.980424e-05</td>\n",
              "      <td>1.8</td>\n",
              "    </tr>\n",
              "  </tbody>\n",
              "</table>\n",
              "<p>2590402 rows × 8 columns</p>\n",
              "</div>\n",
              "      <button class=\"colab-df-convert\" onclick=\"convertToInteractive('df-1e6e2b35-ba17-4035-a094-6872f4e246dd')\"\n",
              "              title=\"Convert this dataframe to an interactive table.\"\n",
              "              style=\"display:none;\">\n",
              "        \n",
              "  <svg xmlns=\"http://www.w3.org/2000/svg\" height=\"24px\"viewBox=\"0 0 24 24\"\n",
              "       width=\"24px\">\n",
              "    <path d=\"M0 0h24v24H0V0z\" fill=\"none\"/>\n",
              "    <path d=\"M18.56 5.44l.94 2.06.94-2.06 2.06-.94-2.06-.94-.94-2.06-.94 2.06-2.06.94zm-11 1L8.5 8.5l.94-2.06 2.06-.94-2.06-.94L8.5 2.5l-.94 2.06-2.06.94zm10 10l.94 2.06.94-2.06 2.06-.94-2.06-.94-.94-2.06-.94 2.06-2.06.94z\"/><path d=\"M17.41 7.96l-1.37-1.37c-.4-.4-.92-.59-1.43-.59-.52 0-1.04.2-1.43.59L10.3 9.45l-7.72 7.72c-.78.78-.78 2.05 0 2.83L4 21.41c.39.39.9.59 1.41.59.51 0 1.02-.2 1.41-.59l7.78-7.78 2.81-2.81c.8-.78.8-2.07 0-2.86zM5.41 20L4 18.59l7.72-7.72 1.47 1.35L5.41 20z\"/>\n",
              "  </svg>\n",
              "      </button>\n",
              "      \n",
              "  <style>\n",
              "    .colab-df-container {\n",
              "      display:flex;\n",
              "      flex-wrap:wrap;\n",
              "      gap: 12px;\n",
              "    }\n",
              "\n",
              "    .colab-df-convert {\n",
              "      background-color: #E8F0FE;\n",
              "      border: none;\n",
              "      border-radius: 50%;\n",
              "      cursor: pointer;\n",
              "      display: none;\n",
              "      fill: #1967D2;\n",
              "      height: 32px;\n",
              "      padding: 0 0 0 0;\n",
              "      width: 32px;\n",
              "    }\n",
              "\n",
              "    .colab-df-convert:hover {\n",
              "      background-color: #E2EBFA;\n",
              "      box-shadow: 0px 1px 2px rgba(60, 64, 67, 0.3), 0px 1px 3px 1px rgba(60, 64, 67, 0.15);\n",
              "      fill: #174EA6;\n",
              "    }\n",
              "\n",
              "    [theme=dark] .colab-df-convert {\n",
              "      background-color: #3B4455;\n",
              "      fill: #D2E3FC;\n",
              "    }\n",
              "\n",
              "    [theme=dark] .colab-df-convert:hover {\n",
              "      background-color: #434B5C;\n",
              "      box-shadow: 0px 1px 3px 1px rgba(0, 0, 0, 0.15);\n",
              "      filter: drop-shadow(0px 1px 2px rgba(0, 0, 0, 0.3));\n",
              "      fill: #FFFFFF;\n",
              "    }\n",
              "  </style>\n",
              "\n",
              "      <script>\n",
              "        const buttonEl =\n",
              "          document.querySelector('#df-1e6e2b35-ba17-4035-a094-6872f4e246dd button.colab-df-convert');\n",
              "        buttonEl.style.display =\n",
              "          google.colab.kernel.accessAllowed ? 'block' : 'none';\n",
              "\n",
              "        async function convertToInteractive(key) {\n",
              "          const element = document.querySelector('#df-1e6e2b35-ba17-4035-a094-6872f4e246dd');\n",
              "          const dataTable =\n",
              "            await google.colab.kernel.invokeFunction('convertToInteractive',\n",
              "                                                     [key], {});\n",
              "          if (!dataTable) return;\n",
              "\n",
              "          const docLinkHtml = 'Like what you see? Visit the ' +\n",
              "            '<a target=\"_blank\" href=https://colab.research.google.com/notebooks/data_table.ipynb>data table notebook</a>'\n",
              "            + ' to learn more about interactive tables.';\n",
              "          element.innerHTML = '';\n",
              "          dataTable['output_type'] = 'display_data';\n",
              "          await google.colab.output.renderOutput(dataTable, element);\n",
              "          const docLink = document.createElement('div');\n",
              "          docLink.innerHTML = docLinkHtml;\n",
              "          element.appendChild(docLink);\n",
              "        }\n",
              "      </script>\n",
              "    </div>\n",
              "  </div>\n",
              "  "
            ]
          },
          "metadata": {},
          "execution_count": 57
        }
      ]
    },
    {
      "cell_type": "markdown",
      "source": [
        "### Bid/Ask Volume Ratio L2\n",
        "\n",
        "Now that we have aggregated the L2 book, let's take another go round at the bid/ask volume ratio. "
      ],
      "metadata": {
        "id": "4M-U5TnVFDsW"
      }
    },
    {
      "cell_type": "code",
      "source": [
        "l2['ratio'].describe().round(2)"
      ],
      "metadata": {
        "colab": {
          "base_uri": "https://localhost:8080/"
        },
        "id": "mlMUfEeUk0sy",
        "outputId": "15335611-6832-4bfb-d540-17bbfe8a1d9d"
      },
      "execution_count": null,
      "outputs": [
        {
          "output_type": "execute_result",
          "data": {
            "text/plain": [
              "count    2590402.00\n",
              "mean           1.29\n",
              "std            1.40\n",
              "min            0.00\n",
              "25%            0.80\n",
              "50%            1.00\n",
              "75%            1.40\n",
              "max          312.00\n",
              "Name: ratio, dtype: float64"
            ]
          },
          "metadata": {},
          "execution_count": 58
        }
      ]
    },
    {
      "cell_type": "code",
      "source": [
        "fig, ax = plt.subplots()\n",
        "ax.scatter(x = l2['ratio'], y = l2['log_returns'])\n",
        "slope, intercept = np.polyfit(l2['ratio'], l2['log_returns'], 1)\n",
        "plt.xlim(0, 10)\n",
        "plt.plot(l2['ratio'], slope * l2['ratio'] + intercept, color = 'red')"
      ],
      "metadata": {
        "colab": {
          "base_uri": "https://localhost:8080/",
          "height": 282
        },
        "id": "FIp9DGC__6lz",
        "outputId": "b6b71843-f834-43a1-edd0-38887de71e09"
      },
      "execution_count": null,
      "outputs": [
        {
          "output_type": "execute_result",
          "data": {
            "text/plain": [
              "[<matplotlib.lines.Line2D at 0x7fa308a7d310>]"
            ]
          },
          "metadata": {},
          "execution_count": 59
        },
        {
          "output_type": "display_data",
          "data": {
            "text/plain": [
              "<Figure size 432x288 with 1 Axes>"
            ],
            "image/png": "[encoded data removed]"
          },
          "metadata": {
            "needs_background": "light"
          }
        }
      ]
    },
    {
      "cell_type": "markdown",
      "source": [
        "The scatter here is flat too. Same picture with L1 data where ratio number below 1 seems to result in more volatile returns in the next period. But notice I have the limiter in place for x-axis. The crypto market doesn't have circuit breaker (well unless you count exchange servers going down in the heat of frantic days)."
      ],
      "metadata": {
        "id": "RZ935GAICG2t"
      }
    },
    {
      "cell_type": "code",
      "source": [
        "fig, ax = plt.subplots()\n",
        "ax.scatter(x = l2['ratio'], y = l2['log_returns'])\n",
        "slope, intercept = np.polyfit(l2['ratio'], l2['log_returns'], 1)\n",
        "plt.plot(l2['ratio'], slope * l2['ratio'] + intercept, color = 'red')"
      ],
      "metadata": {
        "colab": {
          "base_uri": "https://localhost:8080/",
          "height": 282
        },
        "id": "94X5uG5cDWl_",
        "outputId": "5ca0ff95-ce38-45ec-e560-2734512e1694"
      },
      "execution_count": null,
      "outputs": [
        {
          "output_type": "execute_result",
          "data": {
            "text/plain": [
              "[<matplotlib.lines.Line2D at 0x7fa308bf9b80>]"
            ]
          },
          "metadata": {},
          "execution_count": 60
        },
        {
          "output_type": "display_data",
          "data": {
            "text/plain": [
              "<Figure size 432x288 with 1 Axes>"
            ],
            "image/png": "[encoded data removed]"
          },
          "metadata": {
            "needs_background": "light"
          }
        }
      ]
    },
    {
      "cell_type": "markdown",
      "source": [
        "With just a few days of data we have such big outliers already. And this is during a period where BTC-USDT isn't very volatile just look at the range in the plot above. The regression line sloping upwards. Really, this is much stronger than I expected of a hugely traded instrument like this. So big and small bid/ask ratios show up often in crypto. When the book gets super tilted on one side don't be a hero and get steamrolled."
      ],
      "metadata": {
        "id": "75pJpM--DcM2"
      }
    },
    {
      "cell_type": "markdown",
      "source": [
        "## Autocorrelation\n",
        "\n",
        "Does a feature correlates with its future self? We can measure the features with this. The trader term of this is stickiness. \n",
        "\n",
        "Unfortunately we're not in GCP BigQuery at the moment so crunching millions upon millions of rows take too long. I'll downsample the data so we can actually finish the computation before next supernova."
      ],
      "metadata": {
        "id": "V2wbn-vuHIom"
      }
    },
    {
      "cell_type": "code",
      "source": [
        "acf = l2.iloc[::100, :] # take every 100th row"
      ],
      "metadata": {
        "id": "Rg5bcUD6If64"
      },
      "execution_count": null,
      "outputs": []
    },
    {
      "cell_type": "markdown",
      "source": [
        "### Bid/Ask Ratio\n",
        "\n",
        "The left-most value is supposed to be 1 because a thing is always correlated with itself. However I'm not quite sure in the rest of it. It's mostly positive but how much is that?"
      ],
      "metadata": {
        "id": "4z1Y5UfXKbtZ"
      }
    },
    {
      "cell_type": "code",
      "source": [
        "plot_acf(acf['ratio'], alpha=0.05)"
      ],
      "metadata": {
        "colab": {
          "base_uri": "https://localhost:8080/",
          "height": 545
        },
        "id": "oOSbm_LEHAGt",
        "outputId": "090e1504-0fd3-4055-e298-740d45344227"
      },
      "execution_count": null,
      "outputs": [
        {
          "output_type": "execute_result",
          "data": {
            "text/plain": [
              "<Figure size 432x288 with 1 Axes>"
            ],
            "image/png": "[encoded data removed]"
          },
          "metadata": {},
          "execution_count": 62
        },
        {
          "output_type": "display_data",
          "data": {
            "text/plain": [
              "<Figure size 432x288 with 1 Axes>"
            ],
            "image/png": "[encoded data removed]"
          },
          "metadata": {
            "needs_background": "light"
          }
        }
      ]
    },
    {
      "cell_type": "markdown",
      "source": [
        "Let's zoom in by removing the 0th observation. Alpha = 0.05 means 95% confidence interval that this feature is autocorrelated. Oh wow, this is very strong. Orderbook skew tends to stay skewed. Even on this downsampled data too."
      ],
      "metadata": {
        "id": "CwhkfLIaK8kD"
      }
    },
    {
      "cell_type": "code",
      "source": [
        "plot_acf(acf['ratio'], alpha=0.05, zero=False)"
      ],
      "metadata": {
        "colab": {
          "base_uri": "https://localhost:8080/",
          "height": 545
        },
        "id": "INjBeoxdJxp-",
        "outputId": "ef110d52-7295-4dd6-916a-9d719969f950"
      },
      "execution_count": null,
      "outputs": [
        {
          "output_type": "execute_result",
          "data": {
            "text/plain": [
              "<Figure size 432x288 with 1 Axes>"
            ],
            "image/png": "[encoded data removed]"
          },
          "metadata": {},
          "execution_count": 63
        },
        {
          "output_type": "display_data",
          "data": {
            "text/plain": [
              "<Figure size 432x288 with 1 Axes>"
            ],
            "image/png": "[encoded data removed]"
          },
          "metadata": {
            "needs_background": "light"
          }
        }
      ]
    },
    {
      "cell_type": "markdown",
      "source": [
        "### Spread\n",
        "\n",
        "And I thought autocorrelation of bid/ask ratio was impressive. Turns out that the spread is much more sticky. It looks like market makers are programmed to maintain the spread very well. I wonder how the data of maybe more dynamically sizing of spreads on volatile periods look like."
      ],
      "metadata": {
        "id": "H1zfoXsSLi0D"
      }
    },
    {
      "cell_type": "code",
      "source": [
        "plot_acf(acf['spread'], alpha=0.05)"
      ],
      "metadata": {
        "colab": {
          "base_uri": "https://localhost:8080/",
          "height": 545
        },
        "id": "hRUQUr16Ll7M",
        "outputId": "586a04b5-0b71-43fe-e457-37794bb05b92"
      },
      "execution_count": null,
      "outputs": [
        {
          "output_type": "execute_result",
          "data": {
            "text/plain": [
              "<Figure size 432x288 with 1 Axes>"
            ],
            "image/png": "[encoded data removed]"
          },
          "metadata": {},
          "execution_count": 64
        },
        {
          "output_type": "display_data",
          "data": {
            "text/plain": [
              "<Figure size 432x288 with 1 Axes>"
            ],
            "image/png": "[encoded data removed]"
          },
          "metadata": {
            "needs_background": "light"
          }
        }
      ]
    },
    {
      "cell_type": "code",
      "source": [
        "plot_acf(acf['spread'], alpha=0.05, zero=False)"
      ],
      "metadata": {
        "colab": {
          "base_uri": "https://localhost:8080/",
          "height": 545
        },
        "id": "l-F9D9AKLrfm",
        "outputId": "6afa24bb-f83f-4bd6-f16d-41386eee7555"
      },
      "execution_count": null,
      "outputs": [
        {
          "output_type": "execute_result",
          "data": {
            "text/plain": [
              "<Figure size 432x288 with 1 Axes>"
            ],
            "image/png": "[encoded data removed]"
          },
          "metadata": {},
          "execution_count": 65
        },
        {
          "output_type": "display_data",
          "data": {
            "text/plain": [
              "<Figure size 432x288 with 1 Axes>"
            ],
            "image/png": "[encoded data removed]"
          },
          "metadata": {
            "needs_background": "light"
          }
        }
      ]
    },
    {
      "cell_type": "markdown",
      "source": [
        "### Returns\n",
        "\n",
        "To round off the acf series, let's return to the uncertain reality again. Most of the periods are well within the 95% confidence interval band. This is how most financial data features look like anyways."
      ],
      "metadata": {
        "id": "tOzKRswvLulR"
      }
    },
    {
      "cell_type": "code",
      "source": [
        "plot_acf(acf['log_returns'], alpha=0.05)"
      ],
      "metadata": {
        "colab": {
          "base_uri": "https://localhost:8080/",
          "height": 545
        },
        "id": "Vn-n5GzuL0oJ",
        "outputId": "78bb7624-a05d-43ed-de8f-a20f58b29d45"
      },
      "execution_count": null,
      "outputs": [
        {
          "output_type": "execute_result",
          "data": {
            "text/plain": [
              "<Figure size 432x288 with 1 Axes>"
            ],
            "image/png": "[encoded data removed]"
          },
          "metadata": {},
          "execution_count": 66
        },
        {
          "output_type": "display_data",
          "data": {
            "text/plain": [
              "<Figure size 432x288 with 1 Axes>"
            ],
            "image/png": "[encoded data removed]"
          },
          "metadata": {
            "needs_background": "light"
          }
        }
      ]
    },
    {
      "cell_type": "code",
      "source": [
        "plot_acf(acf['log_returns'], alpha=0.05, zero=False)"
      ],
      "metadata": {
        "colab": {
          "base_uri": "https://localhost:8080/",
          "height": 545
        },
        "id": "HXhW9pbbL4lL",
        "outputId": "d11d576b-4182-4e27-9566-79d689b34d5d"
      },
      "execution_count": null,
      "outputs": [
        {
          "output_type": "execute_result",
          "data": {
            "text/plain": [
              "<Figure size 432x288 with 1 Axes>"
            ],
            "image/png": "[encoded data removed]"
          },
          "metadata": {},
          "execution_count": 67
        },
        {
          "output_type": "display_data",
          "data": {
            "text/plain": [
              "<Figure size 432x288 with 1 Axes>"
            ],
            "image/png": "[encoded data removed]"
          },
          "metadata": {
            "needs_background": "light"
          }
        }
      ]
    },
    {
      "cell_type": "markdown",
      "source": [
        "## Backtest\n",
        "\n",
        "We've established that the bid-ask spread of BTC-USDT isn't profitable to market make on. I wonder what are the levels that we'll need to go until the pair is profitable. Using the function from [Hummingbot Backtest notebook](https://mybinder.org/v2/gh/crypto-lake/analysis-sharing/main?filepath=hummingbot_backtest.ipynb) I can conduct a stepped backtest of basis points."
      ],
      "metadata": {
        "id": "lgcIMLw6_Vh2"
      }
    },
    {
      "cell_type": "code",
      "source": [
        "results = []\n",
        "trades_lookahead = 1000\n",
        "tick_size_decimals = 5\n",
        "fees_bps = 10\n",
        "spread_to_plot = 200\n",
        "df_to_plot = None\n",
        "for spread_bps in range(1, 20, 1):\n",
        "\tdf['spread_bps'] = spread_bps\n",
        "\tdf['future_price'] = df.mid.shift(-trades_lookahead)\n",
        "\tdf['quote_bid'] = round(df.bid_0_price * (1 - df.spread_bps * 0.0001), tick_size_decimals)\n",
        "\tdf['quote_ask'] = round(df.ask_0_price * (1 + df.spread_bps * 0.0001), tick_size_decimals)\n",
        "\tdf['fill_sign'] = 0\n",
        "\tdf.loc[df.quote_bid > df.price, 'fill_sign'] = 1\n",
        "\tdf.loc[df.quote_bid > df.price, 'fill_price'] = df.quote_bid\n",
        "\tdf.loc[df.quote_ask < df.price, 'fill_sign'] = -1\n",
        "\tdf.loc[df.quote_ask < df.price, 'fill_price'] = df.quote_ask\n",
        "\tdf['gross_profitability_short_bps'] = 10_000 * (df.future_price - df.fill_price) / df.fill_price * df.fill_sign \n",
        "\tdf['net_profitability_short_bps'] = (df['gross_profitability_short_bps'] - 2*fees_bps) * df.fill_sign.abs()\n",
        "\tfill_count = df.fill_sign.abs().sum()\n",
        "\tresults.append((spread_bps, fill_count, df.gross_profitability_short_bps.sum() / fill_count))\n",
        "\tif spread_to_plot == spread_bps:\n",
        "\t\tdf_to_plot = df.copy()\n",
        "\n",
        "result_df = pd.DataFrame(results, columns = ['spread_bps', 'fill_count', 'gross_profitability_short_bps'])\n",
        "result_df['net_profitability_short_bps'] = result_df.gross_profitability_short_bps - 2*fees_bps\n",
        "result_df['total_gross_profit_bps'] = result_df.gross_profitability_short_bps * result_df.fill_count\n",
        "result_df['total_net_profit_bps'] = result_df.net_profitability_short_bps * result_df.fill_count\n",
        "result_df.round(2)"
      ],
      "metadata": {
        "colab": {
          "base_uri": "https://localhost:8080/",
          "height": 680
        },
        "id": "As9j3YLaWYyc",
        "outputId": "33607202-1419-4f35-b32c-70f1c92f4d2a"
      },
      "execution_count": null,
      "outputs": [
        {
          "output_type": "stream",
          "name": "stderr",
          "text": [
            "<ipython-input-76-5909a4e6f4af>:20: RuntimeWarning: invalid value encountered in double_scalars\n",
            "  results.append((spread_bps, fill_count, df.gross_profitability_short_bps.sum() / fill_count))\n"
          ]
        },
        {
          "output_type": "execute_result",
          "data": {
            "text/plain": [
              "    spread_bps  fill_count  gross_profitability_short_bps  \\\n",
              "0            1      729783                          -0.84   \n",
              "1            2      249915                          -0.93   \n",
              "2            3      104016                          -0.86   \n",
              "3            4       45764                          -0.73   \n",
              "4            5       21008                          -0.68   \n",
              "5            6       10459                          -0.52   \n",
              "6            7        5443                           0.02   \n",
              "7            8        2860                           0.92   \n",
              "8            9        1517                           1.44   \n",
              "9           10         880                           1.92   \n",
              "10          11         528                           3.53   \n",
              "11          12         313                           4.95   \n",
              "12          13         153                           5.83   \n",
              "13          14          44                           9.99   \n",
              "14          15          12                          13.90   \n",
              "15          16           5                          14.90   \n",
              "16          17           0                            NaN   \n",
              "17          18           0                            NaN   \n",
              "18          19           0                            NaN   \n",
              "\n",
              "    net_profitability_short_bps  total_gross_profit_bps  total_net_profit_bps  \n",
              "0                        -20.84              -613626.40          -15209286.40  \n",
              "1                        -20.93              -232732.83           -5231032.83  \n",
              "2                        -20.86               -89859.69           -2170179.69  \n",
              "3                        -20.73               -33366.36            -948646.36  \n",
              "4                        -20.68               -14285.94            -434445.94  \n",
              "5                        -20.52                -5445.31            -214625.31  \n",
              "6                        -19.98                  124.44            -108735.56  \n",
              "7                        -19.08                 2624.51             -54575.49  \n",
              "8                        -18.56                 2182.30             -28157.70  \n",
              "9                        -18.08                 1686.38             -15913.62  \n",
              "10                       -16.47                 1864.10              -8695.90  \n",
              "11                       -15.05                 1549.25              -4710.75  \n",
              "12                       -14.17                  892.50              -2167.50  \n",
              "13                       -10.01                  439.51               -440.49  \n",
              "14                        -6.10                  166.81                -73.19  \n",
              "15                        -5.10                   74.52                -25.48  \n",
              "16                          NaN                     NaN                   NaN  \n",
              "17                          NaN                     NaN                   NaN  \n",
              "18                          NaN                     NaN                   NaN  "
            ],
            "text/html": [
              "\n",
              "  <div id=\"df-dfea910a-7567-40fd-8eb3-87ef9383d89b\">\n",
              "    <div class=\"colab-df-container\">\n",
              "      <div>\n",
              "<style scoped>\n",
              "    .dataframe tbody tr th:only-of-type {\n",
              "        vertical-align: middle;\n",
              "    }\n",
              "\n",
              "    .dataframe tbody tr th {\n",
              "        vertical-align: top;\n",
              "    }\n",
              "\n",
              "    .dataframe thead th {\n",
              "        text-align: right;\n",
              "    }\n",
              "</style>\n",
              "<table border=\"1\" class=\"dataframe\">\n",
              "  <thead>\n",
              "    <tr style=\"text-align: right;\">\n",
              "      <th></th>\n",
              "      <th>spread_bps</th>\n",
              "      <th>fill_count</th>\n",
              "      <th>gross_profitability_short_bps</th>\n",
              "      <th>net_profitability_short_bps</th>\n",
              "      <th>total_gross_profit_bps</th>\n",
              "      <th>total_net_profit_bps</th>\n",
              "    </tr>\n",
              "  </thead>\n",
              "  <tbody>\n",
              "    <tr>\n",
              "      <th>0</th>\n",
              "      <td>1</td>\n",
              "      <td>729783</td>\n",
              "      <td>-0.84</td>\n",
              "      <td>-20.84</td>\n",
              "      <td>-613626.40</td>\n",
              "      <td>-15209286.40</td>\n",
              "    </tr>\n",
              "    <tr>\n",
              "      <th>1</th>\n",
              "      <td>2</td>\n",
              "      <td>249915</td>\n",
              "      <td>-0.93</td>\n",
              "      <td>-20.93</td>\n",
              "      <td>-232732.83</td>\n",
              "      <td>-5231032.83</td>\n",
              "    </tr>\n",
              "    <tr>\n",
              "      <th>2</th>\n",
              "      <td>3</td>\n",
              "      <td>104016</td>\n",
              "      <td>-0.86</td>\n",
              "      <td>-20.86</td>\n",
              "      <td>-89859.69</td>\n",
              "      <td>-2170179.69</td>\n",
              "    </tr>\n",
              "    <tr>\n",
              "      <th>3</th>\n",
              "      <td>4</td>\n",
              "      <td>45764</td>\n",
              "      <td>-0.73</td>\n",
              "      <td>-20.73</td>\n",
              "      <td>-33366.36</td>\n",
              "      <td>-948646.36</td>\n",
              "    </tr>\n",
              "    <tr>\n",
              "      <th>4</th>\n",
              "      <td>5</td>\n",
              "      <td>21008</td>\n",
              "      <td>-0.68</td>\n",
              "      <td>-20.68</td>\n",
              "      <td>-14285.94</td>\n",
              "      <td>-434445.94</td>\n",
              "    </tr>\n",
              "    <tr>\n",
              "      <th>5</th>\n",
              "      <td>6</td>\n",
              "      <td>10459</td>\n",
              "      <td>-0.52</td>\n",
              "      <td>-20.52</td>\n",
              "      <td>-5445.31</td>\n",
              "      <td>-214625.31</td>\n",
              "    </tr>\n",
              "    <tr>\n",
              "      <th>6</th>\n",
              "      <td>7</td>\n",
              "      <td>5443</td>\n",
              "      <td>0.02</td>\n",
              "      <td>-19.98</td>\n",
              "      <td>124.44</td>\n",
              "      <td>-108735.56</td>\n",
              "    </tr>\n",
              "    <tr>\n",
              "      <th>7</th>\n",
              "      <td>8</td>\n",
              "      <td>2860</td>\n",
              "      <td>0.92</td>\n",
              "      <td>-19.08</td>\n",
              "      <td>2624.51</td>\n",
              "      <td>-54575.49</td>\n",
              "    </tr>\n",
              "    <tr>\n",
              "      <th>8</th>\n",
              "      <td>9</td>\n",
              "      <td>1517</td>\n",
              "      <td>1.44</td>\n",
              "      <td>-18.56</td>\n",
              "      <td>2182.30</td>\n",
              "      <td>-28157.70</td>\n",
              "    </tr>\n",
              "    <tr>\n",
              "      <th>9</th>\n",
              "      <td>10</td>\n",
              "      <td>880</td>\n",
              "      <td>1.92</td>\n",
              "      <td>-18.08</td>\n",
              "      <td>1686.38</td>\n",
              "      <td>-15913.62</td>\n",
              "    </tr>\n",
              "    <tr>\n",
              "      <th>10</th>\n",
              "      <td>11</td>\n",
              "      <td>528</td>\n",
              "      <td>3.53</td>\n",
              "      <td>-16.47</td>\n",
              "      <td>1864.10</td>\n",
              "      <td>-8695.90</td>\n",
              "    </tr>\n",
              "    <tr>\n",
              "      <th>11</th>\n",
              "      <td>12</td>\n",
              "      <td>313</td>\n",
              "      <td>4.95</td>\n",
              "      <td>-15.05</td>\n",
              "      <td>1549.25</td>\n",
              "      <td>-4710.75</td>\n",
              "    </tr>\n",
              "    <tr>\n",
              "      <th>12</th>\n",
              "      <td>13</td>\n",
              "      <td>153</td>\n",
              "      <td>5.83</td>\n",
              "      <td>-14.17</td>\n",
              "      <td>892.50</td>\n",
              "      <td>-2167.50</td>\n",
              "    </tr>\n",
              "    <tr>\n",
              "      <th>13</th>\n",
              "      <td>14</td>\n",
              "      <td>44</td>\n",
              "      <td>9.99</td>\n",
              "      <td>-10.01</td>\n",
              "      <td>439.51</td>\n",
              "      <td>-440.49</td>\n",
              "    </tr>\n",
              "    <tr>\n",
              "      <th>14</th>\n",
              "      <td>15</td>\n",
              "      <td>12</td>\n",
              "      <td>13.90</td>\n",
              "      <td>-6.10</td>\n",
              "      <td>166.81</td>\n",
              "      <td>-73.19</td>\n",
              "    </tr>\n",
              "    <tr>\n",
              "      <th>15</th>\n",
              "      <td>16</td>\n",
              "      <td>5</td>\n",
              "      <td>14.90</td>\n",
              "      <td>-5.10</td>\n",
              "      <td>74.52</td>\n",
              "      <td>-25.48</td>\n",
              "    </tr>\n",
              "    <tr>\n",
              "      <th>16</th>\n",
              "      <td>17</td>\n",
              "      <td>0</td>\n",
              "      <td>NaN</td>\n",
              "      <td>NaN</td>\n",
              "      <td>NaN</td>\n",
              "      <td>NaN</td>\n",
              "    </tr>\n",
              "    <tr>\n",
              "      <th>17</th>\n",
              "      <td>18</td>\n",
              "      <td>0</td>\n",
              "      <td>NaN</td>\n",
              "      <td>NaN</td>\n",
              "      <td>NaN</td>\n",
              "      <td>NaN</td>\n",
              "    </tr>\n",
              "    <tr>\n",
              "      <th>18</th>\n",
              "      <td>19</td>\n",
              "      <td>0</td>\n",
              "      <td>NaN</td>\n",
              "      <td>NaN</td>\n",
              "      <td>NaN</td>\n",
              "      <td>NaN</td>\n",
              "    </tr>\n",
              "  </tbody>\n",
              "</table>\n",
              "</div>\n",
              "      <button class=\"colab-df-convert\" onclick=\"convertToInteractive('df-dfea910a-7567-40fd-8eb3-87ef9383d89b')\"\n",
              "              title=\"Convert this dataframe to an interactive table.\"\n",
              "              style=\"display:none;\">\n",
              "        \n",
              "  <svg xmlns=\"http://www.w3.org/2000/svg\" height=\"24px\"viewBox=\"0 0 24 24\"\n",
              "       width=\"24px\">\n",
              "    <path d=\"M0 0h24v24H0V0z\" fill=\"none\"/>\n",
              "    <path d=\"M18.56 5.44l.94 2.06.94-2.06 2.06-.94-2.06-.94-.94-2.06-.94 2.06-2.06.94zm-11 1L8.5 8.5l.94-2.06 2.06-.94-2.06-.94L8.5 2.5l-.94 2.06-2.06.94zm10 10l.94 2.06.94-2.06 2.06-.94-2.06-.94-.94-2.06-.94 2.06-2.06.94z\"/><path d=\"M17.41 7.96l-1.37-1.37c-.4-.4-.92-.59-1.43-.59-.52 0-1.04.2-1.43.59L10.3 9.45l-7.72 7.72c-.78.78-.78 2.05 0 2.83L4 21.41c.39.39.9.59 1.41.59.51 0 1.02-.2 1.41-.59l7.78-7.78 2.81-2.81c.8-.78.8-2.07 0-2.86zM5.41 20L4 18.59l7.72-7.72 1.47 1.35L5.41 20z\"/>\n",
              "  </svg>\n",
              "      </button>\n",
              "      \n",
              "  <style>\n",
              "    .colab-df-container {\n",
              "      display:flex;\n",
              "      flex-wrap:wrap;\n",
              "      gap: 12px;\n",
              "    }\n",
              "\n",
              "    .colab-df-convert {\n",
              "      background-color: #E8F0FE;\n",
              "      border: none;\n",
              "      border-radius: 50%;\n",
              "      cursor: pointer;\n",
              "      display: none;\n",
              "      fill: #1967D2;\n",
              "      height: 32px;\n",
              "      padding: 0 0 0 0;\n",
              "      width: 32px;\n",
              "    }\n",
              "\n",
              "    .colab-df-convert:hover {\n",
              "      background-color: #E2EBFA;\n",
              "      box-shadow: 0px 1px 2px rgba(60, 64, 67, 0.3), 0px 1px 3px 1px rgba(60, 64, 67, 0.15);\n",
              "      fill: #174EA6;\n",
              "    }\n",
              "\n",
              "    [theme=dark] .colab-df-convert {\n",
              "      background-color: #3B4455;\n",
              "      fill: #D2E3FC;\n",
              "    }\n",
              "\n",
              "    [theme=dark] .colab-df-convert:hover {\n",
              "      background-color: #434B5C;\n",
              "      box-shadow: 0px 1px 3px 1px rgba(0, 0, 0, 0.15);\n",
              "      filter: drop-shadow(0px 1px 2px rgba(0, 0, 0, 0.3));\n",
              "      fill: #FFFFFF;\n",
              "    }\n",
              "  </style>\n",
              "\n",
              "      <script>\n",
              "        const buttonEl =\n",
              "          document.querySelector('#df-dfea910a-7567-40fd-8eb3-87ef9383d89b button.colab-df-convert');\n",
              "        buttonEl.style.display =\n",
              "          google.colab.kernel.accessAllowed ? 'block' : 'none';\n",
              "\n",
              "        async function convertToInteractive(key) {\n",
              "          const element = document.querySelector('#df-dfea910a-7567-40fd-8eb3-87ef9383d89b');\n",
              "          const dataTable =\n",
              "            await google.colab.kernel.invokeFunction('convertToInteractive',\n",
              "                                                     [key], {});\n",
              "          if (!dataTable) return;\n",
              "\n",
              "          const docLinkHtml = 'Like what you see? Visit the ' +\n",
              "            '<a target=\"_blank\" href=https://colab.research.google.com/notebooks/data_table.ipynb>data table notebook</a>'\n",
              "            + ' to learn more about interactive tables.';\n",
              "          element.innerHTML = '';\n",
              "          dataTable['output_type'] = 'display_data';\n",
              "          await google.colab.output.renderOutput(dataTable, element);\n",
              "          const docLink = document.createElement('div');\n",
              "          docLink.innerHTML = docLinkHtml;\n",
              "          element.appendChild(docLink);\n",
              "        }\n",
              "      </script>\n",
              "    </div>\n",
              "  </div>\n",
              "  "
            ]
          },
          "metadata": {},
          "execution_count": 76
        }
      ]
    },
    {
      "cell_type": "markdown",
      "source": [
        "Result: NOPE! Find other sources of edges."
      ],
      "metadata": {
        "id": "tTPaEJXyaToc"
      }
    },
    {
      "cell_type": "markdown",
      "source": [
        "## Wrapping Up\n",
        "\n",
        "I got to plow through millions and million of rows thanks to [crypto-lake.com](https://crypto-lake.com/)'s sample/free market data. A lot of credit is due to my research companion [ChatGPT](https://chat.openai.com/chat). I got to explore many interesting features, stronger than I expected at the small but dense scale.\n",
        "\n",
        "## What's Next?\n",
        "\n",
        "I'm establishing some foundation in volatility land, there's more cool stuff to look it. Also the application side of markets too, where I try out lessons from research."
      ],
      "metadata": {
        "id": "CeerIE1a-erP"
      }
    }
  ]
}