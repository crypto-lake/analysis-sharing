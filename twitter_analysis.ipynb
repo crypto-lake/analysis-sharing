{
 "cells": [
  {
   "cell_type": "markdown",
   "metadata": {},
   "source": [
    "<div style=\"float:right; width:100px; text-align: center; margin: 10px;\">\n",
    "<img src=\"https://crypto-lake.com/assets/img/lake.png\" alt=\"Lake\"/>\n",
    "</div>\n",
    "\n",
    "# Twitter influencer analysis\n",
    "\n",
    "Backtest of a simple twitter influencer counter-trade strategy. Inspired by the well known Inverse-Cramer strategy.\n",
    "\n",
    "More information about this is in the original twitter thread: https://twitter.com/crypto_lake_com/status/1704111464573706242\n",
    "\n",
    "We use [crypto-lake.com](https://crypto-lake.com/#data) sample/free market data, BTC-USDT market on Binance. This notebook also requires your twitter credentils, see the following cells.\n",
    "\n",
    "Quick links:\n",
    "- [edit this notebook online](https://mybinder.org/v2/gh/crypto-lake/analysis-sharing/main?filepath=twitter_analysis.ipynb) using Binder\n",
    "- [follow our activity on twitter](https://twitter.com/intent/user?screen_name=crypto_lake_com)"
   ]
  },
  {
   "cell_type": "code",
   "execution_count": 14,
   "metadata": {},
   "outputs": [],
   "source": [
    "!pip install -q tweety-ns python-dotenv lakeapi cufflinks"
   ]
  },
  {
   "cell_type": "code",
   "execution_count": 2,
   "metadata": {},
   "outputs": [
    {
     "data": {
      "text/html": [
       "        <script type=\"text/javascript\">\n",
       "        window.PlotlyConfig = {MathJaxConfig: 'local'};\n",
       "        if (window.MathJax && window.MathJax.Hub && window.MathJax.Hub.Config) {window.MathJax.Hub.Config({SVG: {font: \"STIX-Web\"}});}\n",
       "        if (typeof require !== 'undefined') {\n",
       "        require.undef(\"plotly\");\n",
       "        requirejs.config({\n",
       "            paths: {\n",
       "                'plotly': ['https://cdn.plot.ly/plotly-2.25.2.min']\n",
       "            }\n",
       "        });\n",
       "        require(['plotly'], function(Plotly) {\n",
       "            window._Plotly = Plotly;\n",
       "        });\n",
       "        }\n",
       "        </script>\n",
       "        "
      ]
     },
     "metadata": {},
     "output_type": "display_data"
    },
    {
     "data": {
      "text/html": [
       "        <script type=\"text/javascript\">\n",
       "        window.PlotlyConfig = {MathJaxConfig: 'local'};\n",
       "        if (window.MathJax && window.MathJax.Hub && window.MathJax.Hub.Config) {window.MathJax.Hub.Config({SVG: {font: \"STIX-Web\"}});}\n",
       "        if (typeof require !== 'undefined') {\n",
       "        require.undef(\"plotly\");\n",
       "        requirejs.config({\n",
       "            paths: {\n",
       "                'plotly': ['https://cdn.plot.ly/plotly-2.25.2.min']\n",
       "            }\n",
       "        });\n",
       "        require(['plotly'], function(Plotly) {\n",
       "            window._Plotly = Plotly;\n",
       "        });\n",
       "        }\n",
       "        </script>\n",
       "        "
      ]
     },
     "metadata": {},
     "output_type": "display_data"
    }
   ],
   "source": [
    "import datetime\n",
    "import os\n",
    "\n",
    "import pandas as pd\n",
    "import cufflinks as cf\n",
    "\n",
    "import tweety\n",
    "import tweety.types\n",
    "import lakeapi\n",
    "import dotenv\n",
    "\n",
    "dotenv.load_dotenv()\n",
    "cf.go_offline()\n",
    "\n",
    "# Use free Lake sample data containing BTC minute candles between 2023-08-20 and 2023-09-20\n",
    "# For longer time frame, subscribe to Crypto Lake to get access key or use your own data\n",
    "lakeapi.use_sample_data(anonymous_access=True)"
   ]
  },
  {
   "cell_type": "code",
   "execution_count": 3,
   "metadata": {},
   "outputs": [],
   "source": [
    "pd.set_option('display.width', 1000)\n",
    "pd.set_option('display.max_columns', 30)\n",
    "pd.set_option('display.max_colwidth', 500)\n",
    "pd.set_option('display.max_rows', 30)\n",
    "pd.set_option('display.precision', 8)"
   ]
  },
  {
   "cell_type": "markdown",
   "metadata": {},
   "source": [
    "## Load & prepare data"
   ]
  },
  {
   "cell_type": "code",
   "execution_count": 4,
   "metadata": {},
   "outputs": [],
   "source": [
    "# Put your Twitter credentials in .env file or insert them here\n",
    "app = tweety.Twitter(\"session\")\n",
    "app.sign_in(os.environ['TWITTER_USERNAME'], os.environ['TWITTER_PASSWORD'])\n",
    "target_username = \"Vertox_DF\""
   ]
  },
  {
   "cell_type": "code",
   "execution_count": 5,
   "metadata": {},
   "outputs": [
    {
     "data": {
      "text/plain": [
       "155"
      ]
     },
     "execution_count": 5,
     "metadata": {},
     "output_type": "execute_result"
    }
   ],
   "source": [
    "# Download tweets from the user\n",
    "user = app.get_user_info(target_username)\n",
    "all_tweets = app.get_tweets(user, replies = True, pages = 10)\n",
    "\n",
    "len(all_tweets)"
   ]
  },
  {
   "cell_type": "code",
   "execution_count": 6,
   "metadata": {},
   "outputs": [
    {
     "data": {
      "text/plain": [
       "179"
      ]
     },
     "execution_count": 6,
     "metadata": {},
     "output_type": "execute_result"
    }
   ],
   "source": [
    "# Unpack threads\n",
    "tweets  = []\n",
    "for t in all_tweets:\n",
    "\tif type(t) == tweety.types.Tweet:\n",
    "\t\ttweets.append(t)\n",
    "\telif type(t) == tweety.types.SelfThread:\n",
    "\t\tfor t in t.tweets:\n",
    "\t\t\tif t.author.username == target_username:\n",
    "\t\t\t\ttweets.append(t)\n",
    "\telse:\n",
    "\t\traise ValueError(t)\n",
    "\n",
    "len(tweets)"
   ]
  },
  {
   "cell_type": "code",
   "execution_count": 7,
   "metadata": {},
   "outputs": [
    {
     "data": {
      "text/html": [
       "<div>\n",
       "<style scoped>\n",
       "    .dataframe tbody tr th:only-of-type {\n",
       "        vertical-align: middle;\n",
       "    }\n",
       "\n",
       "    .dataframe tbody tr th {\n",
       "        vertical-align: top;\n",
       "    }\n",
       "\n",
       "    .dataframe thead th {\n",
       "        text-align: right;\n",
       "    }\n",
       "</style>\n",
       "<table border=\"1\" class=\"dataframe\">\n",
       "  <thead>\n",
       "    <tr style=\"text-align: right;\">\n",
       "      <th></th>\n",
       "      <th>date</th>\n",
       "      <th>author</th>\n",
       "      <th>text</th>\n",
       "      <th>is_retweet</th>\n",
       "      <th>is_reply</th>\n",
       "      <th>url</th>\n",
       "    </tr>\n",
       "  </thead>\n",
       "  <tbody>\n",
       "    <tr>\n",
       "      <th>122</th>\n",
       "      <td>2023-08-28 15:01:34</td>\n",
       "      <td>Vertox_DF</td>\n",
       "      <td>@Message_RS I started off with cross exchange feather arbs. Would buy feather packs from the fisherman, extract the feathers and sell them on the GE.</td>\n",
       "      <td>False</td>\n",
       "      <td>True</td>\n",
       "      <td>https://twitter.com/Vertox_DF/status/1696176199326695930</td>\n",
       "    </tr>\n",
       "    <tr>\n",
       "      <th>151</th>\n",
       "      <td>2023-08-26 07:28:01</td>\n",
       "      <td>Vertox_DF</td>\n",
       "      <td>@spinGreekGod No clue what that is</td>\n",
       "      <td>False</td>\n",
       "      <td>True</td>\n",
       "      <td>https://twitter.com/Vertox_DF/status/1695337285321986060</td>\n",
       "    </tr>\n",
       "    <tr>\n",
       "      <th>49</th>\n",
       "      <td>2023-09-08 19:06:41</td>\n",
       "      <td>Vertox_DF</td>\n",
       "      <td>There are of course scenarios where if you hit capacity you can't add more capital but if you haven't you should add more.\\n\\n9/n</td>\n",
       "      <td>False</td>\n",
       "      <td>True</td>\n",
       "      <td>https://twitter.com/Vertox_DF/status/1700224153901490400</td>\n",
       "    </tr>\n",
       "  </tbody>\n",
       "</table>\n",
       "</div>"
      ],
      "text/plain": [
       "                   date     author                                                                                                                                                   text  is_retweet  is_reply                                                       url\n",
       "122 2023-08-28 15:01:34  Vertox_DF  @Message_RS I started off with cross exchange feather arbs. Would buy feather packs from the fisherman, extract the feathers and sell them on the GE.       False      True  https://twitter.com/Vertox_DF/status/1696176199326695930\n",
       "151 2023-08-26 07:28:01  Vertox_DF                                                                                                                     @spinGreekGod No clue what that is       False      True  https://twitter.com/Vertox_DF/status/1695337285321986060\n",
       "49  2023-09-08 19:06:41  Vertox_DF                      There are of course scenarios where if you hit capacity you can't add more capital but if you haven't you should add more.\\n\\n9/n       False      True  https://twitter.com/Vertox_DF/status/1700224153901490400"
      ]
     },
     "execution_count": 7,
     "metadata": {},
     "output_type": "execute_result"
    }
   ],
   "source": [
    "# Convert tweets to a dataframe\n",
    "def to_pandas(tweet):\n",
    "\treturn dict(tweet) | {'author': tweet.author.username}\n",
    "\n",
    "df = pd.DataFrame(map(to_pandas, tweets))\n",
    "df['date'] = pd.to_datetime(df['date']).dt.tz_localize(None)\n",
    "df = df[['date', 'author', 'text', 'is_retweet', 'is_reply', 'url']]\n",
    "df = df.dropna().sort_values('date')\n",
    "df.sample(3)"
   ]
  },
  {
   "cell_type": "code",
   "execution_count": 8,
   "metadata": {},
   "outputs": [],
   "source": [
    "# Optional: cache the data. This is useful for reusing so that Elon wont block you :)\n",
    "# df.to_csv(f'{target_username}_tweets.csv')"
   ]
  },
  {
   "cell_type": "code",
   "execution_count": 9,
   "metadata": {},
   "outputs": [],
   "source": [
    "# Here we hardcoded some common phrases, but you can use something more complex or sentiment analysis\n",
    "# Vertox often tweets just we're so back or it's so over, which makes our life easier\n",
    "influencer_up = df.text.str.contains('so back') | df.text.str.contains('pump [^a]') | df.text.str.match('.*(is|looks|will be) good.*', case = False) | df.text.str.contains('keeps going')\n",
    "influencer_down = df.text.str.contains('so over') | df.text.str.contains('[^d] dump') | df.text.str.match('.*(aren|isn|wasn).{,20}good.*', case = False) | df.text.str.match('.*what.{,20}is going on.*', case = False) | df.text.str.contains('liquidated|liquidations')\n",
    "\n",
    "# Trade against the sentiment\n",
    "df['prediction'] = 0\n",
    "df.loc[influencer_up & ~influencer_down, 'prediction'] = -1\n",
    "df.loc[influencer_down & ~influencer_up, 'prediction'] = +1\n",
    "# df[df.prediction != 0]"
   ]
  },
  {
   "cell_type": "code",
   "execution_count": 10,
   "metadata": {},
   "outputs": [
    {
     "data": {
      "application/vnd.jupyter.widget-view+json": {
       "model_id": "fc6652c0de3d459e8f336db2fc97d49f",
       "version_major": 2,
       "version_minor": 0
      },
      "text/plain": [
       "  0%|          | 0/27 [00:00<?, ?it/s]"
      ]
     },
     "metadata": {},
     "output_type": "display_data"
    },
    {
     "data": {
      "text/html": [
       "<div>\n",
       "<style scoped>\n",
       "    .dataframe tbody tr th:only-of-type {\n",
       "        vertical-align: middle;\n",
       "    }\n",
       "\n",
       "    .dataframe tbody tr th {\n",
       "        vertical-align: top;\n",
       "    }\n",
       "\n",
       "    .dataframe thead th {\n",
       "        text-align: right;\n",
       "    }\n",
       "</style>\n",
       "<table border=\"1\" class=\"dataframe\">\n",
       "  <thead>\n",
       "    <tr style=\"text-align: right;\">\n",
       "      <th></th>\n",
       "      <th>origin_time</th>\n",
       "      <th>open</th>\n",
       "      <th>high</th>\n",
       "      <th>low</th>\n",
       "      <th>close</th>\n",
       "      <th>volume</th>\n",
       "      <th>trades</th>\n",
       "      <th>received_time</th>\n",
       "      <th>start</th>\n",
       "      <th>stop</th>\n",
       "      <th>exchange</th>\n",
       "      <th>symbol</th>\n",
       "      <th>volume_24h</th>\n",
       "    </tr>\n",
       "  </thead>\n",
       "  <tbody>\n",
       "    <tr>\n",
       "      <th>38877</th>\n",
       "      <td>2023-09-19 23:57:00</td>\n",
       "      <td>27212.35</td>\n",
       "      <td>27212.36</td>\n",
       "      <td>27204.88</td>\n",
       "      <td>27204.89</td>\n",
       "      <td>5.14826</td>\n",
       "      <td>288</td>\n",
       "      <td>2023-09-19 23:57:00</td>\n",
       "      <td>1695167820.0</td>\n",
       "      <td>1695167880.0</td>\n",
       "      <td>BINANCE</td>\n",
       "      <td>BTC-USDT</td>\n",
       "      <td>36218.15856</td>\n",
       "    </tr>\n",
       "    <tr>\n",
       "      <th>38878</th>\n",
       "      <td>2023-09-19 23:58:00</td>\n",
       "      <td>27204.88</td>\n",
       "      <td>27205.54</td>\n",
       "      <td>27202.47</td>\n",
       "      <td>27205.54</td>\n",
       "      <td>7.29524</td>\n",
       "      <td>232</td>\n",
       "      <td>2023-09-19 23:58:00</td>\n",
       "      <td>1695167880.0</td>\n",
       "      <td>1695167940.0</td>\n",
       "      <td>BINANCE</td>\n",
       "      <td>BTC-USDT</td>\n",
       "      <td>36209.41612</td>\n",
       "    </tr>\n",
       "    <tr>\n",
       "      <th>38879</th>\n",
       "      <td>2023-09-19 23:59:00</td>\n",
       "      <td>27205.53</td>\n",
       "      <td>27210.26</td>\n",
       "      <td>27205.53</td>\n",
       "      <td>27210.26</td>\n",
       "      <td>2.70910</td>\n",
       "      <td>147</td>\n",
       "      <td>2023-09-19 23:59:00</td>\n",
       "      <td>1695167940.0</td>\n",
       "      <td>1695168000.0</td>\n",
       "      <td>BINANCE</td>\n",
       "      <td>BTC-USDT</td>\n",
       "      <td>36190.46175</td>\n",
       "    </tr>\n",
       "  </tbody>\n",
       "</table>\n",
       "</div>"
      ],
      "text/plain": [
       "              origin_time      open      high       low     close   volume  trades       received_time         start          stop exchange    symbol   volume_24h\n",
       "38877 2023-09-19 23:57:00  27212.35  27212.36  27204.88  27204.89  5.14826     288 2023-09-19 23:57:00  1695167820.0  1695167880.0  BINANCE  BTC-USDT  36218.15856\n",
       "38878 2023-09-19 23:58:00  27204.88  27205.54  27202.47  27205.54  7.29524     232 2023-09-19 23:58:00  1695167880.0  1695167940.0  BINANCE  BTC-USDT  36209.41612\n",
       "38879 2023-09-19 23:59:00  27205.53  27210.26  27205.53  27210.26  2.70910     147 2023-09-19 23:59:00  1695167940.0  1695168000.0  BINANCE  BTC-USDT  36190.46175"
      ]
     },
     "execution_count": 10,
     "metadata": {},
     "output_type": "execute_result"
    }
   ],
   "source": [
    "# We use free Lake sample data containing BTC minute candles between 2023-08-20 and 2023-09-20\n",
    "# For longer time frame, subscribe to Crypto Lake to get access key or use your own data\n",
    "candles = lakeapi.load_data(table = 'candles', start = df.iloc[0].date, symbols = ['BTC-USDT'], exchanges = ['BINANCE'])\n",
    "candles['volume_24h'] = candles['volume'].rolling(24*60, min_periods = 12*60).sum()\n",
    "candles.tail(3)"
   ]
  },
  {
   "cell_type": "code",
   "execution_count": 11,
   "metadata": {},
   "outputs": [],
   "source": [
    "# Merge tweet data and trading candle data\n",
    "df['future_date'] = df['date'] + datetime.timedelta(hours = 3*24)\n",
    "merged = pd.merge_asof(df, candles[['close', 'volume', 'volume_24h', 'received_time']], left_on = 'date', right_on = 'received_time', direction = 'nearest', tolerance = pd.Timedelta('5min'))\n",
    "merged = pd.merge_asof(merged, candles[['close', 'received_time']], left_on = 'future_date', right_on = 'received_time', direction = 'nearest', suffixes = ('', '_future'), tolerance = pd.Timedelta('5min'))\n",
    "merged = merged.drop(columns = ['received_time', 'received_time_future', 'future_date']).dropna()"
   ]
  },
  {
   "cell_type": "markdown",
   "metadata": {},
   "source": [
    "## Trading simulation"
   ]
  },
  {
   "cell_type": "code",
   "execution_count": 12,
   "metadata": {},
   "outputs": [
    {
     "data": {
      "text/html": [
       "<div>\n",
       "<style scoped>\n",
       "    .dataframe tbody tr th:only-of-type {\n",
       "        vertical-align: middle;\n",
       "    }\n",
       "\n",
       "    .dataframe tbody tr th {\n",
       "        vertical-align: top;\n",
       "    }\n",
       "\n",
       "    .dataframe thead th {\n",
       "        text-align: right;\n",
       "    }\n",
       "</style>\n",
       "<table border=\"1\" class=\"dataframe\">\n",
       "  <thead>\n",
       "    <tr style=\"text-align: right;\">\n",
       "      <th></th>\n",
       "      <th>date</th>\n",
       "      <th>author</th>\n",
       "      <th>text</th>\n",
       "      <th>is_retweet</th>\n",
       "      <th>is_reply</th>\n",
       "      <th>prediction</th>\n",
       "      <th>close</th>\n",
       "      <th>volume</th>\n",
       "      <th>volume_24h</th>\n",
       "      <th>close_future</th>\n",
       "      <th>btc_return</th>\n",
       "      <th>sizing</th>\n",
       "      <th>our_return</th>\n",
       "      <th>equity</th>\n",
       "    </tr>\n",
       "  </thead>\n",
       "  <tbody>\n",
       "    <tr>\n",
       "      <th>0</th>\n",
       "      <td>2023-08-24 14:59:02</td>\n",
       "      <td>Vertox_DF</td>\n",
       "      <td>@OHare888 It's so over for you bro</td>\n",
       "      <td>False</td>\n",
       "      <td>True</td>\n",
       "      <td>1</td>\n",
       "      <td>26116.05</td>\n",
       "      <td>18.03312</td>\n",
       "      <td>17613.46288</td>\n",
       "      <td>26145.28</td>\n",
       "      <td>0.00111924</td>\n",
       "      <td>2.0</td>\n",
       "      <td>0.00223847</td>\n",
       "      <td>0.00223847</td>\n",
       "    </tr>\n",
       "    <tr>\n",
       "      <th>9</th>\n",
       "      <td>2023-08-25 11:49:33</td>\n",
       "      <td>Vertox_DF</td>\n",
       "      <td>@VexTxs truly beautiful. The perfect dump</td>\n",
       "      <td>False</td>\n",
       "      <td>True</td>\n",
       "      <td>1</td>\n",
       "      <td>26092.01</td>\n",
       "      <td>2.98171</td>\n",
       "      <td>27792.49152</td>\n",
       "      <td>25967.00</td>\n",
       "      <td>-0.00479112</td>\n",
       "      <td>1.5</td>\n",
       "      <td>-0.00718668</td>\n",
       "      <td>-0.00494821</td>\n",
       "    </tr>\n",
       "    <tr>\n",
       "      <th>18</th>\n",
       "      <td>2023-08-25 20:53:00</td>\n",
       "      <td>Vertox_DF</td>\n",
       "      <td>The other day XRPUSD perp vs XRPUSDT perp on Bybit diverged over 50%! \\n\\nIf you were leveraged say 2-3x relatively early onto the trade would you have survived this trade without getting liquidated or similar?\\n\\n5/n https://t.co/I0Gf1c2vky</td>\n",
       "      <td>False</td>\n",
       "      <td>True</td>\n",
       "      <td>1</td>\n",
       "      <td>26034.01</td>\n",
       "      <td>7.56852</td>\n",
       "      <td>28359.20599</td>\n",
       "      <td>25998.71</td>\n",
       "      <td>-0.00135592</td>\n",
       "      <td>1.5</td>\n",
       "      <td>-0.00203388</td>\n",
       "      <td>-0.00698209</td>\n",
       "    </tr>\n",
       "    <tr>\n",
       "      <th>23</th>\n",
       "      <td>2023-08-26 06:09:53</td>\n",
       "      <td>Vertox_DF</td>\n",
       "      <td>@icebergy_ It's so over</td>\n",
       "      <td>False</td>\n",
       "      <td>True</td>\n",
       "      <td>1</td>\n",
       "      <td>26055.72</td>\n",
       "      <td>37.81869</td>\n",
       "      <td>26154.08846</td>\n",
       "      <td>26053.28</td>\n",
       "      <td>-0.00009365</td>\n",
       "      <td>1.5</td>\n",
       "      <td>-0.00014047</td>\n",
       "      <td>-0.00712256</td>\n",
       "    </tr>\n",
       "    <tr>\n",
       "      <th>27</th>\n",
       "      <td>2023-08-26 07:27:12</td>\n",
       "      <td>Vertox_DF</td>\n",
       "      <td>@pepecoineth We so back https://t.co/2vQtYQ6UAb</td>\n",
       "      <td>False</td>\n",
       "      <td>True</td>\n",
       "      <td>-1</td>\n",
       "      <td>26071.99</td>\n",
       "      <td>2.79305</td>\n",
       "      <td>25640.36122</td>\n",
       "      <td>26034.99</td>\n",
       "      <td>-0.00141915</td>\n",
       "      <td>1.5</td>\n",
       "      <td>0.00212872</td>\n",
       "      <td>-0.00499384</td>\n",
       "    </tr>\n",
       "  </tbody>\n",
       "</table>\n",
       "</div>"
      ],
      "text/plain": [
       "                  date     author                                                                                                                                                                                                                                               text  is_retweet  is_reply  prediction     close    volume   volume_24h  close_future  btc_return  sizing  our_return      equity\n",
       "0  2023-08-24 14:59:02  Vertox_DF                                                                                                                                                                                                                 @OHare888 It's so over for you bro       False      True           1  26116.05  18.03312  17613.46288      26145.28  0.00111924     2.0  0.00223847  0.00223847\n",
       "9  2023-08-25 11:49:33  Vertox_DF                                                                                                                                                                                                          @VexTxs truly beautiful. The perfect dump       False      True           1  26092.01   2.98171  27792.49152      25967.00 -0.00479112     1.5 -0.00718668 -0.00494821\n",
       "18 2023-08-25 20:53:00  Vertox_DF  The other day XRPUSD perp vs XRPUSDT perp on Bybit diverged over 50%! \\n\\nIf you were leveraged say 2-3x relatively early onto the trade would you have survived this trade without getting liquidated or similar?\\n\\n5/n https://t.co/I0Gf1c2vky       False      True           1  26034.01   7.56852  28359.20599      25998.71 -0.00135592     1.5 -0.00203388 -0.00698209\n",
       "23 2023-08-26 06:09:53  Vertox_DF                                                                                                                                                                                                                            @icebergy_ It's so over       False      True           1  26055.72  37.81869  26154.08846      26053.28 -0.00009365     1.5 -0.00014047 -0.00712256\n",
       "27 2023-08-26 07:27:12  Vertox_DF                                                                                                                                                                                                    @pepecoineth We so back https://t.co/2vQtYQ6UAb       False      True          -1  26071.99   2.79305  25640.36122      26034.99 -0.00141915     1.5  0.00212872 -0.00499384"
      ]
     },
     "execution_count": 12,
     "metadata": {},
     "output_type": "execute_result"
    }
   ],
   "source": [
    "def volume_based_sizing(volume):\n",
    "\t# Thresholds based on volume_24h histogram/percentiles\n",
    "\t# Sizing based on volatility is the common trick to improve stability and volume is a common proxy for volatility\n",
    "\tif volume < 20_000:\n",
    "\t\treturn 2\n",
    "\telif volume < 30_000:\n",
    "\t\treturn 1.5\n",
    "\telif volume < 40_000:\n",
    "\t\treturn 0.5\n",
    "\telse:\n",
    "\t\treturn 0.25\n",
    "\n",
    "merged['btc_return'] = merged['close_future'] / merged['close'] - 1\n",
    "merged['sizing'] = merged['volume_24h'].apply(volume_based_sizing)\n",
    "merged['our_return'] = merged['btc_return'] * merged['prediction'] * merged['sizing']\n",
    "merged['equity'] = merged['our_return'].cumsum()\n",
    "merged[merged.prediction != 0].drop(columns = 'url').head()"
   ]
  },
  {
   "cell_type": "markdown",
   "metadata": {},
   "source": [
    "## Evaluation"
   ]
  },
  {
   "cell_type": "code",
   "execution_count": 13,
   "metadata": {},
   "outputs": [
    {
     "data": {
      "application/vnd.plotly.v1+json": {
       "config": {
        "linkText": "Export to plot.ly",
        "plotlyServerURL": "https://plot.ly",
        "showLink": true
       },
       "data": [
        {
         "line": {
          "color": "rgba(226, 74, 51, 1.0)",
          "dash": "solid",
          "shape": "linear",
          "width": 1.3
         },
         "mode": "lines",
         "name": "equity",
         "text": "",
         "type": "scatter",
         "x": [
          "2023-08-24 14:59:02",
          "2023-08-24 20:10:37",
          "2023-08-24 20:23:16",
          "2023-08-24 20:23:38",
          "2023-08-24 21:10:45",
          "2023-08-25 08:53:26",
          "2023-08-25 11:02:58",
          "2023-08-25 11:03:03",
          "2023-08-25 11:03:24",
          "2023-08-25 11:49:33",
          "2023-08-25 13:28:13",
          "2023-08-25 14:43:44",
          "2023-08-25 14:46:13",
          "2023-08-25 20:12:43",
          "2023-08-25 20:52:57",
          "2023-08-25 20:52:57",
          "2023-08-25 20:53:00",
          "2023-08-25 20:53:00",
          "2023-08-25 20:53:00",
          "2023-08-25 20:53:01",
          "2023-08-25 21:00:50",
          "2023-08-25 21:21:20",
          "2023-08-26 06:06:29",
          "2023-08-26 06:09:53",
          "2023-08-26 06:51:00",
          "2023-08-26 07:00:18",
          "2023-08-26 07:07:37",
          "2023-08-26 07:27:12",
          "2023-08-26 07:28:01",
          "2023-08-26 07:30:23",
          "2023-08-26 11:20:31",
          "2023-08-26 13:10:05",
          "2023-08-26 13:13:54",
          "2023-08-26 13:15:20",
          "2023-08-26 13:21:19",
          "2023-08-26 14:18:03",
          "2023-08-26 14:28:38",
          "2023-08-26 14:28:38",
          "2023-08-26 14:28:38",
          "2023-08-26 14:28:38",
          "2023-08-26 14:29:26",
          "2023-08-26 14:40:12",
          "2023-08-26 14:41:00",
          "2023-08-26 20:42:37",
          "2023-08-26 20:46:03",
          "2023-08-27 10:28:59",
          "2023-08-27 12:59:45",
          "2023-08-27 13:10:19",
          "2023-08-28 08:08:57",
          "2023-08-28 08:29:06",
          "2023-08-28 13:46:34",
          "2023-08-28 14:01:56",
          "2023-08-28 14:02:38",
          "2023-08-28 14:03:10",
          "2023-08-28 14:05:03",
          "2023-08-28 14:05:03",
          "2023-08-28 14:11:52",
          "2023-08-28 14:12:06",
          "2023-08-28 15:01:34",
          "2023-08-28 17:39:29",
          "2023-08-28 18:23:04",
          "2023-08-29 09:49:16",
          "2023-08-29 10:55:33",
          "2023-08-29 14:06:07",
          "2023-08-29 14:12:07",
          "2023-08-29 14:24:46",
          "2023-08-29 14:37:23",
          "2023-08-29 14:56:09",
          "2023-08-29 16:52:26",
          "2023-08-29 16:52:46",
          "2023-08-29 18:51:23",
          "2023-08-29 18:51:23",
          "2023-08-29 18:51:27",
          "2023-08-29 18:51:28",
          "2023-08-29 18:51:28",
          "2023-08-29 18:51:28",
          "2023-08-29 18:55:52",
          "2023-08-29 19:04:09",
          "2023-08-29 20:40:20",
          "2023-08-29 21:22:54",
          "2023-08-30 07:35:36",
          "2023-08-30 07:38:34",
          "2023-08-30 14:56:15",
          "2023-08-30 14:57:35",
          "2023-08-30 16:04:13",
          "2023-08-30 18:46:47",
          "2023-08-30 18:58:54",
          "2023-08-30 19:02:11",
          "2023-08-30 21:02:24",
          "2023-08-31 08:12:17",
          "2023-08-31 14:50:55",
          "2023-08-31 14:53:45",
          "2023-08-31 14:54:35",
          "2023-08-31 14:56:54",
          "2023-08-31 17:59:25",
          "2023-08-31 18:08:37",
          "2023-08-31 18:11:04",
          "2023-08-31 20:08:54",
          "2023-09-01 04:04:13",
          "2023-09-01 07:28:35",
          "2023-09-01 07:30:54",
          "2023-09-01 10:11:49",
          "2023-09-01 10:45:55",
          "2023-09-02 20:23:16",
          "2023-09-04 14:34:52",
          "2023-09-05 08:33:10",
          "2023-09-05 12:04:53",
          "2023-09-05 21:00:10",
          "2023-09-05 22:09:09",
          "2023-09-05 22:14:48",
          "2023-09-06 07:14:21",
          "2023-09-06 11:43:06",
          "2023-09-06 12:25:45",
          "2023-09-06 15:16:59",
          "2023-09-07 09:16:20",
          "2023-09-07 09:16:52",
          "2023-09-07 13:16:47",
          "2023-09-07 14:53:34",
          "2023-09-07 14:54:18",
          "2023-09-07 14:58:52",
          "2023-09-08 08:48:12",
          "2023-09-08 14:03:15",
          "2023-09-08 14:04:35",
          "2023-09-08 14:11:22",
          "2023-09-08 14:27:21",
          "2023-09-08 15:14:50",
          "2023-09-08 15:34:10",
          "2023-09-08 17:11:07",
          "2023-09-08 18:54:17",
          "2023-09-08 19:06:37",
          "2023-09-08 19:06:41",
          "2023-09-08 19:06:41",
          "2023-09-08 23:22:18",
          "2023-09-09 07:03:38",
          "2023-09-09 08:16:29",
          "2023-09-09 12:02:08",
          "2023-09-09 14:39:20",
          "2023-09-09 15:00:59",
          "2023-09-09 15:04:51",
          "2023-09-09 16:33:49",
          "2023-09-10 09:29:45",
          "2023-09-10 09:34:44",
          "2023-09-10 11:57:42",
          "2023-09-10 18:32:31",
          "2023-09-11 09:51:51",
          "2023-09-11 21:21:47",
          "2023-09-11 21:27:03",
          "2023-09-11 21:30:50",
          "2023-09-12 09:32:52",
          "2023-09-12 09:39:20",
          "2023-09-12 09:44:29",
          "2023-09-12 19:25:09",
          "2023-09-13 12:21:37",
          "2023-09-13 12:27:20",
          "2023-09-13 12:29:03",
          "2023-09-13 16:29:52",
          "2023-09-14 14:21:32",
          "2023-09-14 14:57:37",
          "2023-09-14 20:57:20",
          "2023-09-15 11:14:38",
          "2023-09-15 11:21:16",
          "2023-09-15 11:34:25",
          "2023-09-15 13:23:18",
          "2023-09-15 15:09:30",
          "2023-09-15 18:13:27",
          "2023-09-15 19:10:58",
          "2023-09-15 19:39:41",
          "2023-09-15 20:17:27",
          "2023-09-15 20:42:14"
         ],
         "y": [
          0.0022384702127618006,
          0.0022384702127618006,
          0.0022384702127618006,
          0.0022384702127618006,
          0.0022384702127618006,
          0.0022384702127618006,
          0.0022384702127618006,
          0.0022384702127618006,
          0.0022384702127618006,
          -0.004948212606997848,
          -0.004948212606997848,
          -0.004948212606997848,
          -0.004948212606997848,
          -0.004948212606997848,
          -0.004948212606997848,
          -0.004948212606997848,
          -0.004948212606997848,
          -0.004948212606997848,
          -0.006982090599669644,
          -0.006982090599669644,
          -0.006982090599669644,
          -0.006982090599669644,
          -0.006982090599669644,
          -0.00712255879628837,
          -0.00712255879628837,
          -0.00712255879628837,
          -0.00712255879628837,
          -0.00499383751340976,
          -0.00499383751340976,
          -0.00499383751340976,
          -0.00722924088221627,
          -0.00722924088221627,
          -0.00722924088221627,
          -0.00722924088221627,
          -0.00722924088221627,
          -0.00722924088221627,
          -0.00722924088221627,
          -0.00722924088221627,
          -0.00722924088221627,
          -0.00722924088221627,
          -0.00722924088221627,
          -0.00722924088221627,
          -0.00722924088221627,
          -0.00722924088221627,
          -0.00722924088221627,
          -0.00722924088221627,
          0.09028501806119343,
          0.09028501806119343,
          0.09028501806119343,
          0.09028501806119343,
          0.09028501806119343,
          0.09028501806119343,
          0.09028501806119343,
          0.09028501806119343,
          0.15036248619382958,
          0.21043995432646573,
          0.21043995432646573,
          0.21043995432646573,
          0.21043995432646573,
          0.21043995432646573,
          0.21043995432646573,
          0.21043995432646573,
          0.21043995432646573,
          0.21043995432646573,
          0.21043995432646573,
          0.265269490383094,
          0.29358766417649534,
          0.29358766417649534,
          0.29358766417649534,
          0.29358766417649534,
          0.29358766417649534,
          0.29358766417649534,
          0.29358766417649534,
          0.29358766417649534,
          0.29358766417649534,
          0.29358766417649534,
          0.29358766417649534,
          0.29358766417649534,
          0.29358766417649534,
          0.29358766417649534,
          0.29358766417649534,
          0.29358766417649534,
          0.29358766417649534,
          0.29358766417649534,
          0.2817021580262713,
          0.2817021580262713,
          0.2817021580262713,
          0.2817021580262713,
          0.2817021580262713,
          0.2817021580262713,
          0.2817021580262713,
          0.2817021580262713,
          0.2817021580262713,
          0.2817021580262713,
          0.2775141065683201,
          0.2775141065683201,
          0.2775141065683201,
          0.2775141065683201,
          0.2766468384628523,
          0.2766468384628523,
          0.2766468384628523,
          0.2766468384628523,
          0.2766468384628523,
          0.2766468384628523,
          0.29498215429867025,
          0.29498215429867025,
          0.29498215429867025,
          0.29498215429867025,
          0.29498215429867025,
          0.29498215429867025,
          0.29498215429867025,
          0.29498215429867025,
          0.29498215429867025,
          0.3211921764821003,
          0.3211921764821003,
          0.3211921764821003,
          0.3265883598546223,
          0.3265883598546223,
          0.3265883598546223,
          0.3265883598546223,
          0.3265883598546223,
          0.3265883598546223,
          0.3265883598546223,
          0.3265883598546223,
          0.3265883598546223,
          0.3265883598546223,
          0.3265883598546223,
          0.3265883598546223,
          0.3265883598546223,
          0.3265883598546223,
          0.3265883598546223,
          0.3265883598546223,
          0.3265883598546223,
          0.3265883598546223,
          0.3265883598546223,
          0.3265883598546223,
          0.3265883598546223,
          0.3265883598546223,
          0.3265883598546223,
          0.3265883598546223,
          0.3265883598546223,
          0.3265883598546223,
          0.3265883598546223,
          0.3265883598546223,
          0.3265883598546223,
          0.3265883598546223,
          0.3408059480049601,
          0.3408059480049601,
          0.3408059480049601,
          0.3408059480049601,
          0.3408059480049601,
          0.3408059480049601,
          0.3408059480049601,
          0.3408059480049601,
          0.3408059480049601,
          0.3408059480049601,
          0.3408059480049601,
          0.3408059480049601,
          0.3408059480049601,
          0.3408059480049601,
          0.3408059480049601,
          0.3408059480049601,
          0.3408059480049601,
          0.3408059480049601,
          0.3408059480049601,
          0.3408059480049601,
          0.3408059480049601,
          0.3408059480049601,
          0.3408059480049601
         ]
        },
        {
         "line": {
          "color": "rgba(62, 111, 176, 1.0)",
          "dash": "solid",
          "shape": "linear",
          "width": 1.3
         },
         "mode": "lines",
         "name": "btc_return_benchmark",
         "text": "",
         "type": "scatter",
         "x": [
          "2023-08-24 14:59:02",
          "2023-08-24 20:10:37",
          "2023-08-24 20:23:16",
          "2023-08-24 20:23:38",
          "2023-08-24 21:10:45",
          "2023-08-25 08:53:26",
          "2023-08-25 11:02:58",
          "2023-08-25 11:03:03",
          "2023-08-25 11:03:24",
          "2023-08-25 11:49:33",
          "2023-08-25 13:28:13",
          "2023-08-25 14:43:44",
          "2023-08-25 14:46:13",
          "2023-08-25 20:12:43",
          "2023-08-25 20:52:57",
          "2023-08-25 20:52:57",
          "2023-08-25 20:53:00",
          "2023-08-25 20:53:00",
          "2023-08-25 20:53:00",
          "2023-08-25 20:53:01",
          "2023-08-25 21:00:50",
          "2023-08-25 21:21:20",
          "2023-08-26 06:06:29",
          "2023-08-26 06:09:53",
          "2023-08-26 06:51:00",
          "2023-08-26 07:00:18",
          "2023-08-26 07:07:37",
          "2023-08-26 07:27:12",
          "2023-08-26 07:28:01",
          "2023-08-26 07:30:23",
          "2023-08-26 11:20:31",
          "2023-08-26 13:10:05",
          "2023-08-26 13:13:54",
          "2023-08-26 13:15:20",
          "2023-08-26 13:21:19",
          "2023-08-26 14:18:03",
          "2023-08-26 14:28:38",
          "2023-08-26 14:28:38",
          "2023-08-26 14:28:38",
          "2023-08-26 14:28:38",
          "2023-08-26 14:29:26",
          "2023-08-26 14:40:12",
          "2023-08-26 14:41:00",
          "2023-08-26 20:42:37",
          "2023-08-26 20:46:03",
          "2023-08-27 10:28:59",
          "2023-08-27 12:59:45",
          "2023-08-27 13:10:19",
          "2023-08-28 08:08:57",
          "2023-08-28 08:29:06",
          "2023-08-28 13:46:34",
          "2023-08-28 14:01:56",
          "2023-08-28 14:02:38",
          "2023-08-28 14:03:10",
          "2023-08-28 14:05:03",
          "2023-08-28 14:05:03",
          "2023-08-28 14:11:52",
          "2023-08-28 14:12:06",
          "2023-08-28 15:01:34",
          "2023-08-28 17:39:29",
          "2023-08-28 18:23:04",
          "2023-08-29 09:49:16",
          "2023-08-29 10:55:33",
          "2023-08-29 14:06:07",
          "2023-08-29 14:12:07",
          "2023-08-29 14:24:46",
          "2023-08-29 14:37:23",
          "2023-08-29 14:56:09",
          "2023-08-29 16:52:26",
          "2023-08-29 16:52:46",
          "2023-08-29 18:51:23",
          "2023-08-29 18:51:23",
          "2023-08-29 18:51:27",
          "2023-08-29 18:51:28",
          "2023-08-29 18:51:28",
          "2023-08-29 18:51:28",
          "2023-08-29 18:55:52",
          "2023-08-29 19:04:09",
          "2023-08-29 20:40:20",
          "2023-08-29 21:22:54",
          "2023-08-30 07:35:36",
          "2023-08-30 07:38:34",
          "2023-08-30 14:56:15",
          "2023-08-30 14:57:35",
          "2023-08-30 16:04:13",
          "2023-08-30 18:46:47",
          "2023-08-30 18:58:54",
          "2023-08-30 19:02:11",
          "2023-08-30 21:02:24",
          "2023-08-31 08:12:17",
          "2023-08-31 14:50:55",
          "2023-08-31 14:53:45",
          "2023-08-31 14:54:35",
          "2023-08-31 14:56:54",
          "2023-08-31 17:59:25",
          "2023-08-31 18:08:37",
          "2023-08-31 18:11:04",
          "2023-08-31 20:08:54",
          "2023-09-01 04:04:13",
          "2023-09-01 07:28:35",
          "2023-09-01 07:30:54",
          "2023-09-01 10:11:49",
          "2023-09-01 10:45:55",
          "2023-09-02 20:23:16",
          "2023-09-04 14:34:52",
          "2023-09-05 08:33:10",
          "2023-09-05 12:04:53",
          "2023-09-05 21:00:10",
          "2023-09-05 22:09:09",
          "2023-09-05 22:14:48",
          "2023-09-06 07:14:21",
          "2023-09-06 11:43:06",
          "2023-09-06 12:25:45",
          "2023-09-06 15:16:59",
          "2023-09-07 09:16:20",
          "2023-09-07 09:16:52",
          "2023-09-07 13:16:47",
          "2023-09-07 14:53:34",
          "2023-09-07 14:54:18",
          "2023-09-07 14:58:52",
          "2023-09-08 08:48:12",
          "2023-09-08 14:03:15",
          "2023-09-08 14:04:35",
          "2023-09-08 14:11:22",
          "2023-09-08 14:27:21",
          "2023-09-08 15:14:50",
          "2023-09-08 15:34:10",
          "2023-09-08 17:11:07",
          "2023-09-08 18:54:17",
          "2023-09-08 19:06:37",
          "2023-09-08 19:06:41",
          "2023-09-08 19:06:41",
          "2023-09-08 23:22:18",
          "2023-09-09 07:03:38",
          "2023-09-09 08:16:29",
          "2023-09-09 12:02:08",
          "2023-09-09 14:39:20",
          "2023-09-09 15:00:59",
          "2023-09-09 15:04:51",
          "2023-09-09 16:33:49",
          "2023-09-10 09:29:45",
          "2023-09-10 09:34:44",
          "2023-09-10 11:57:42",
          "2023-09-10 18:32:31",
          "2023-09-11 09:51:51",
          "2023-09-11 21:21:47",
          "2023-09-11 21:27:03",
          "2023-09-11 21:30:50",
          "2023-09-12 09:32:52",
          "2023-09-12 09:39:20",
          "2023-09-12 09:44:29",
          "2023-09-12 19:25:09",
          "2023-09-13 12:21:37",
          "2023-09-13 12:27:20",
          "2023-09-13 12:29:03",
          "2023-09-13 16:29:52",
          "2023-09-14 14:21:32",
          "2023-09-14 14:57:37",
          "2023-09-14 20:57:20",
          "2023-09-15 11:14:38",
          "2023-09-15 11:21:16",
          "2023-09-15 11:34:25",
          "2023-09-15 13:23:18",
          "2023-09-15 15:09:30",
          "2023-09-15 18:13:27",
          "2023-09-15 19:10:58",
          "2023-09-15 19:39:41",
          "2023-09-15 20:17:27",
          "2023-09-15 20:42:14"
         ],
         "y": [
          0,
          -0.0009430982097216045,
          -0.001635009888555139,
          -0.0016304150129899941,
          -0.0020064289967279825,
          -0.0013799942946961519,
          -0.00032776779030507797,
          -0.00032776779030507797,
          -0.00032776779030507797,
          -0.0009205067381935494,
          0.001890025482414126,
          -0.007445230040530548,
          -0.006494090798570218,
          -0.003868502319454903,
          -0.0031413632612895537,
          -0.0031413632612895537,
          -0.0031413632612895537,
          -0.0031413632612895537,
          -0.0031413632612895537,
          -0.0031413632612895537,
          -0.0026665594529035053,
          -0.002529861904843944,
          -0.0023039471895633934,
          -0.002310073690316772,
          -0.001992261463735878,
          -0.0014133071425426191,
          -0.0012318095577240618,
          -0.0016870851449586333,
          -0.0016932116457120117,
          -0.0018590100723501202,
          -0.002567769628255334,
          -0.0032179445207066726,
          -0.003319414689434197,
          -0.003319031783137194,
          -0.003280358247131465,
          -0.0028867305737276805,
          -0.003266190714139361,
          -0.003266190714139361,
          -0.003266190714139361,
          -0.003266190714139361,
          -0.003266190714139361,
          -0.002146189795164233,
          -0.00214580688886723,
          -0.0034476882989579183,
          -0.003211818019953294,
          -0.0011023872293092207,
          -0.0016441996396850955,
          -0.0015274132190741252,
          -0.006813051744042453,
          -0.006957407418043737,
          0.0007416894974545674,
          -0.0007784485019747267,
          -0.0012015599602543947,
          -0.0012015599602543947,
          -0.0008707289195724055,
          -0.0008707289195724055,
          -0.00009878982464794905,
          -0.00009878982464794905,
          0.0007114398999850113,
          0.0022131983971542812,
          0.0007711732823301176,
          -0.005200250420718255,
          -0.004825002249574384,
          0.0026504773884259425,
          0.0024483028635648996,
          0.030168421334773043,
          0.049740676710299025,
          0.049737613459922114,
          0.06830895177486629,
          0.06981262480352113,
          0.07112446177733611,
          0.07112446177733611,
          0.07112446177733611,
          0.07112446177733611,
          0.07112446177733611,
          0.07112446177733611,
          0.07068297081679664,
          0.06830933468116362,
          0.060704432714748124,
          0.059970784249532505,
          0.05143503707490238,
          0.051533443993253325,
          0.03978128392310487,
          0.03953239482999926,
          0.041373791212683475,
          0.042024349011431816,
          0.04456761263667364,
          0.04361149561285105,
          0.04344033649805401,
          0.04303790197981705,
          0.04076497020031744,
          0.03997388579053873,
          0.03975371466971467,
          0.04007037817740433,
          0.00815666994051556,
          0.009838394397315042,
          0.010230107539233702,
          -0.0011192351063809003,
          -0.0013076250045469529,
          -0.004940257044997232,
          -0.004762205616852477,
          -0.0029097049515527385,
          -0.00472468079973809,
          -0.010306688798650598,
          -0.00853306683055055,
          -0.0160885738846418,
          -0.013550288041262015,
          -0.015245414218459485,
          -0.014618596610130541,
          -0.014067594448624487,
          -0.013389467396486054,
          -0.014298486945766964,
          -0.014376599830372427,
          -0.02147874582871445,
          -0.013829809638134405,
          -0.013829809638134405,
          -0.016405620298628687,
          -0.01420773815335774,
          -0.01420773815335774,
          -0.013297952791482714,
          0.003173910296541793,
          -0.008273073454829416,
          -0.007224293107112256,
          -0.008184622100202765,
          -0.007168771694034848,
          -0.008558721552455295,
          -0.009123891246953453,
          -0.012878670396173963,
          -0.012339921236174667,
          -0.011706977127092233,
          -0.011706977127092233,
          -0.011706977127092233,
          -0.007710201198113831,
          -0.008870790184579924,
          -0.0092253614156812,
          -0.009919570532297084,
          -0.011059865485017806,
          -0.01014280490349806,
          -0.008576335242121202,
          -0.007744279858554415,
          -0.009885874778153725,
          -0.010382887151770603,
          -0.012020577384405429,
          -0.01417289368032304,
          -0.014399191301900482,
          -0.035842326844986006,
          -0.03627654258588098,
          -0.03571252161027405,
          -0.012266403227134237,
          -0.012331497297638827,
          -0.011217622879417077,
          0.00043153539681539677,
          0.0033446865050419383,
          0.0022660394661520034,
          0.002984371679484621,
          0.009187836598566701,
          0.018567892158270594,
          0.02366016300321072,
          0.017405005734021817,
          0.016849791603247732,
          0.015220142402851966,
          0.01587529507716523,
          0.011759818196090066,
          0.006071745152884889,
          0.009074113428332309,
          0.01021862035032095,
          0.011423243560952034,
          0.010734778038792303,
          0.011534669293403965
         ]
        }
       ],
       "layout": {
        "height": 300,
        "legend": {
         "bgcolor": "#FFFFFF",
         "font": {
          "color": "#666666"
         }
        },
        "margin": {
         "b": 10,
         "l": 10,
         "r": 10,
         "t": 10
        },
        "paper_bgcolor": "#FFFFFF",
        "plot_bgcolor": "#E5E5E5",
        "template": {
         "data": {
          "bar": [
           {
            "error_x": {
             "color": "#2a3f5f"
            },
            "error_y": {
             "color": "#2a3f5f"
            },
            "marker": {
             "line": {
              "color": "#E5ECF6",
              "width": 0.5
             },
             "pattern": {
              "fillmode": "overlay",
              "size": 10,
              "solidity": 0.2
             }
            },
            "type": "bar"
           }
          ],
          "barpolar": [
           {
            "marker": {
             "line": {
              "color": "#E5ECF6",
              "width": 0.5
             },
             "pattern": {
              "fillmode": "overlay",
              "size": 10,
              "solidity": 0.2
             }
            },
            "type": "barpolar"
           }
          ],
          "carpet": [
           {
            "aaxis": {
             "endlinecolor": "#2a3f5f",
             "gridcolor": "white",
             "linecolor": "white",
             "minorgridcolor": "white",
             "startlinecolor": "#2a3f5f"
            },
            "baxis": {
             "endlinecolor": "#2a3f5f",
             "gridcolor": "white",
             "linecolor": "white",
             "minorgridcolor": "white",
             "startlinecolor": "#2a3f5f"
            },
            "type": "carpet"
           }
          ],
          "choropleth": [
           {
            "colorbar": {
             "outlinewidth": 0,
             "ticks": ""
            },
            "type": "choropleth"
           }
          ],
          "contour": [
           {
            "colorbar": {
             "outlinewidth": 0,
             "ticks": ""
            },
            "colorscale": [
             [
              0,
              "#0d0887"
             ],
             [
              0.1111111111111111,
              "#46039f"
             ],
             [
              0.2222222222222222,
              "#7201a8"
             ],
             [
              0.3333333333333333,
              "#9c179e"
             ],
             [
              0.4444444444444444,
              "#bd3786"
             ],
             [
              0.5555555555555556,
              "#d8576b"
             ],
             [
              0.6666666666666666,
              "#ed7953"
             ],
             [
              0.7777777777777778,
              "#fb9f3a"
             ],
             [
              0.8888888888888888,
              "#fdca26"
             ],
             [
              1,
              "#f0f921"
             ]
            ],
            "type": "contour"
           }
          ],
          "contourcarpet": [
           {
            "colorbar": {
             "outlinewidth": 0,
             "ticks": ""
            },
            "type": "contourcarpet"
           }
          ],
          "heatmap": [
           {
            "colorbar": {
             "outlinewidth": 0,
             "ticks": ""
            },
            "colorscale": [
             [
              0,
              "#0d0887"
             ],
             [
              0.1111111111111111,
              "#46039f"
             ],
             [
              0.2222222222222222,
              "#7201a8"
             ],
             [
              0.3333333333333333,
              "#9c179e"
             ],
             [
              0.4444444444444444,
              "#bd3786"
             ],
             [
              0.5555555555555556,
              "#d8576b"
             ],
             [
              0.6666666666666666,
              "#ed7953"
             ],
             [
              0.7777777777777778,
              "#fb9f3a"
             ],
             [
              0.8888888888888888,
              "#fdca26"
             ],
             [
              1,
              "#f0f921"
             ]
            ],
            "type": "heatmap"
           }
          ],
          "heatmapgl": [
           {
            "colorbar": {
             "outlinewidth": 0,
             "ticks": ""
            },
            "colorscale": [
             [
              0,
              "#0d0887"
             ],
             [
              0.1111111111111111,
              "#46039f"
             ],
             [
              0.2222222222222222,
              "#7201a8"
             ],
             [
              0.3333333333333333,
              "#9c179e"
             ],
             [
              0.4444444444444444,
              "#bd3786"
             ],
             [
              0.5555555555555556,
              "#d8576b"
             ],
             [
              0.6666666666666666,
              "#ed7953"
             ],
             [
              0.7777777777777778,
              "#fb9f3a"
             ],
             [
              0.8888888888888888,
              "#fdca26"
             ],
             [
              1,
              "#f0f921"
             ]
            ],
            "type": "heatmapgl"
           }
          ],
          "histogram": [
           {
            "marker": {
             "pattern": {
              "fillmode": "overlay",
              "size": 10,
              "solidity": 0.2
             }
            },
            "type": "histogram"
           }
          ],
          "histogram2d": [
           {
            "colorbar": {
             "outlinewidth": 0,
             "ticks": ""
            },
            "colorscale": [
             [
              0,
              "#0d0887"
             ],
             [
              0.1111111111111111,
              "#46039f"
             ],
             [
              0.2222222222222222,
              "#7201a8"
             ],
             [
              0.3333333333333333,
              "#9c179e"
             ],
             [
              0.4444444444444444,
              "#bd3786"
             ],
             [
              0.5555555555555556,
              "#d8576b"
             ],
             [
              0.6666666666666666,
              "#ed7953"
             ],
             [
              0.7777777777777778,
              "#fb9f3a"
             ],
             [
              0.8888888888888888,
              "#fdca26"
             ],
             [
              1,
              "#f0f921"
             ]
            ],
            "type": "histogram2d"
           }
          ],
          "histogram2dcontour": [
           {
            "colorbar": {
             "outlinewidth": 0,
             "ticks": ""
            },
            "colorscale": [
             [
              0,
              "#0d0887"
             ],
             [
              0.1111111111111111,
              "#46039f"
             ],
             [
              0.2222222222222222,
              "#7201a8"
             ],
             [
              0.3333333333333333,
              "#9c179e"
             ],
             [
              0.4444444444444444,
              "#bd3786"
             ],
             [
              0.5555555555555556,
              "#d8576b"
             ],
             [
              0.6666666666666666,
              "#ed7953"
             ],
             [
              0.7777777777777778,
              "#fb9f3a"
             ],
             [
              0.8888888888888888,
              "#fdca26"
             ],
             [
              1,
              "#f0f921"
             ]
            ],
            "type": "histogram2dcontour"
           }
          ],
          "mesh3d": [
           {
            "colorbar": {
             "outlinewidth": 0,
             "ticks": ""
            },
            "type": "mesh3d"
           }
          ],
          "parcoords": [
           {
            "line": {
             "colorbar": {
              "outlinewidth": 0,
              "ticks": ""
             }
            },
            "type": "parcoords"
           }
          ],
          "pie": [
           {
            "automargin": true,
            "type": "pie"
           }
          ],
          "scatter": [
           {
            "fillpattern": {
             "fillmode": "overlay",
             "size": 10,
             "solidity": 0.2
            },
            "type": "scatter"
           }
          ],
          "scatter3d": [
           {
            "line": {
             "colorbar": {
              "outlinewidth": 0,
              "ticks": ""
             }
            },
            "marker": {
             "colorbar": {
              "outlinewidth": 0,
              "ticks": ""
             }
            },
            "type": "scatter3d"
           }
          ],
          "scattercarpet": [
           {
            "marker": {
             "colorbar": {
              "outlinewidth": 0,
              "ticks": ""
             }
            },
            "type": "scattercarpet"
           }
          ],
          "scattergeo": [
           {
            "marker": {
             "colorbar": {
              "outlinewidth": 0,
              "ticks": ""
             }
            },
            "type": "scattergeo"
           }
          ],
          "scattergl": [
           {
            "marker": {
             "colorbar": {
              "outlinewidth": 0,
              "ticks": ""
             }
            },
            "type": "scattergl"
           }
          ],
          "scattermapbox": [
           {
            "marker": {
             "colorbar": {
              "outlinewidth": 0,
              "ticks": ""
             }
            },
            "type": "scattermapbox"
           }
          ],
          "scatterpolar": [
           {
            "marker": {
             "colorbar": {
              "outlinewidth": 0,
              "ticks": ""
             }
            },
            "type": "scatterpolar"
           }
          ],
          "scatterpolargl": [
           {
            "marker": {
             "colorbar": {
              "outlinewidth": 0,
              "ticks": ""
             }
            },
            "type": "scatterpolargl"
           }
          ],
          "scatterternary": [
           {
            "marker": {
             "colorbar": {
              "outlinewidth": 0,
              "ticks": ""
             }
            },
            "type": "scatterternary"
           }
          ],
          "surface": [
           {
            "colorbar": {
             "outlinewidth": 0,
             "ticks": ""
            },
            "colorscale": [
             [
              0,
              "#0d0887"
             ],
             [
              0.1111111111111111,
              "#46039f"
             ],
             [
              0.2222222222222222,
              "#7201a8"
             ],
             [
              0.3333333333333333,
              "#9c179e"
             ],
             [
              0.4444444444444444,
              "#bd3786"
             ],
             [
              0.5555555555555556,
              "#d8576b"
             ],
             [
              0.6666666666666666,
              "#ed7953"
             ],
             [
              0.7777777777777778,
              "#fb9f3a"
             ],
             [
              0.8888888888888888,
              "#fdca26"
             ],
             [
              1,
              "#f0f921"
             ]
            ],
            "type": "surface"
           }
          ],
          "table": [
           {
            "cells": {
             "fill": {
              "color": "#EBF0F8"
             },
             "line": {
              "color": "white"
             }
            },
            "header": {
             "fill": {
              "color": "#C8D4E3"
             },
             "line": {
              "color": "white"
             }
            },
            "type": "table"
           }
          ]
         },
         "layout": {
          "annotationdefaults": {
           "arrowcolor": "#2a3f5f",
           "arrowhead": 0,
           "arrowwidth": 1
          },
          "autotypenumbers": "strict",
          "coloraxis": {
           "colorbar": {
            "outlinewidth": 0,
            "ticks": ""
           }
          },
          "colorscale": {
           "diverging": [
            [
             0,
             "#8e0152"
            ],
            [
             0.1,
             "#c51b7d"
            ],
            [
             0.2,
             "#de77ae"
            ],
            [
             0.3,
             "#f1b6da"
            ],
            [
             0.4,
             "#fde0ef"
            ],
            [
             0.5,
             "#f7f7f7"
            ],
            [
             0.6,
             "#e6f5d0"
            ],
            [
             0.7,
             "#b8e186"
            ],
            [
             0.8,
             "#7fbc41"
            ],
            [
             0.9,
             "#4d9221"
            ],
            [
             1,
             "#276419"
            ]
           ],
           "sequential": [
            [
             0,
             "#0d0887"
            ],
            [
             0.1111111111111111,
             "#46039f"
            ],
            [
             0.2222222222222222,
             "#7201a8"
            ],
            [
             0.3333333333333333,
             "#9c179e"
            ],
            [
             0.4444444444444444,
             "#bd3786"
            ],
            [
             0.5555555555555556,
             "#d8576b"
            ],
            [
             0.6666666666666666,
             "#ed7953"
            ],
            [
             0.7777777777777778,
             "#fb9f3a"
            ],
            [
             0.8888888888888888,
             "#fdca26"
            ],
            [
             1,
             "#f0f921"
            ]
           ],
           "sequentialminus": [
            [
             0,
             "#0d0887"
            ],
            [
             0.1111111111111111,
             "#46039f"
            ],
            [
             0.2222222222222222,
             "#7201a8"
            ],
            [
             0.3333333333333333,
             "#9c179e"
            ],
            [
             0.4444444444444444,
             "#bd3786"
            ],
            [
             0.5555555555555556,
             "#d8576b"
            ],
            [
             0.6666666666666666,
             "#ed7953"
            ],
            [
             0.7777777777777778,
             "#fb9f3a"
            ],
            [
             0.8888888888888888,
             "#fdca26"
            ],
            [
             1,
             "#f0f921"
            ]
           ]
          },
          "colorway": [
           "#636efa",
           "#EF553B",
           "#00cc96",
           "#ab63fa",
           "#FFA15A",
           "#19d3f3",
           "#FF6692",
           "#B6E880",
           "#FF97FF",
           "#FECB52"
          ],
          "font": {
           "color": "#2a3f5f"
          },
          "geo": {
           "bgcolor": "white",
           "lakecolor": "white",
           "landcolor": "#E5ECF6",
           "showlakes": true,
           "showland": true,
           "subunitcolor": "white"
          },
          "hoverlabel": {
           "align": "left"
          },
          "hovermode": "closest",
          "mapbox": {
           "style": "light"
          },
          "paper_bgcolor": "white",
          "plot_bgcolor": "#E5ECF6",
          "polar": {
           "angularaxis": {
            "gridcolor": "white",
            "linecolor": "white",
            "ticks": ""
           },
           "bgcolor": "#E5ECF6",
           "radialaxis": {
            "gridcolor": "white",
            "linecolor": "white",
            "ticks": ""
           }
          },
          "scene": {
           "xaxis": {
            "backgroundcolor": "#E5ECF6",
            "gridcolor": "white",
            "gridwidth": 2,
            "linecolor": "white",
            "showbackground": true,
            "ticks": "",
            "zerolinecolor": "white"
           },
           "yaxis": {
            "backgroundcolor": "#E5ECF6",
            "gridcolor": "white",
            "gridwidth": 2,
            "linecolor": "white",
            "showbackground": true,
            "ticks": "",
            "zerolinecolor": "white"
           },
           "zaxis": {
            "backgroundcolor": "#E5ECF6",
            "gridcolor": "white",
            "gridwidth": 2,
            "linecolor": "white",
            "showbackground": true,
            "ticks": "",
            "zerolinecolor": "white"
           }
          },
          "shapedefaults": {
           "line": {
            "color": "#2a3f5f"
           }
          },
          "ternary": {
           "aaxis": {
            "gridcolor": "white",
            "linecolor": "white",
            "ticks": ""
           },
           "baxis": {
            "gridcolor": "white",
            "linecolor": "white",
            "ticks": ""
           },
           "bgcolor": "#E5ECF6",
           "caxis": {
            "gridcolor": "white",
            "linecolor": "white",
            "ticks": ""
           }
          },
          "title": {
           "x": 0.05
          },
          "xaxis": {
           "automargin": true,
           "gridcolor": "white",
           "linecolor": "white",
           "ticks": "",
           "title": {
            "standoff": 15
           },
           "zerolinecolor": "white",
           "zerolinewidth": 2
          },
          "yaxis": {
           "automargin": true,
           "gridcolor": "white",
           "linecolor": "white",
           "ticks": "",
           "title": {
            "standoff": 15
           },
           "zerolinecolor": "white",
           "zerolinewidth": 2
          }
         }
        },
        "title": {
         "font": {
          "color": "#151516"
         }
        },
        "xaxis": {
         "gridcolor": "#F6F6F6",
         "showgrid": true,
         "tickfont": {
          "color": "#666666"
         },
         "title": {
          "font": {
           "color": "#666666"
          },
          "text": ""
         },
         "zerolinecolor": "#F6F6F6"
        },
        "yaxis": {
         "gridcolor": "#F6F6F6",
         "showgrid": true,
         "tickfont": {
          "color": "#666666"
         },
         "title": {
          "font": {
           "color": "#666666"
          },
          "text": "Return"
         },
         "zerolinecolor": "#F6F6F6"
        }
       }
      },
      "text/html": [
       "<div>                            <div id=\"f20e364d-13ae-4b13-8c37-45baafeecf27\" class=\"plotly-graph-div\" style=\"height:300px; width:100%;\"></div>            <script type=\"text/javascript\">                require([\"plotly\"], function(Plotly) {                    window.PLOTLYENV=window.PLOTLYENV || {};\n",
       "                    window.PLOTLYENV.BASE_URL='https://plot.ly';                                    if (document.getElementById(\"f20e364d-13ae-4b13-8c37-45baafeecf27\")) {                    Plotly.newPlot(                        \"f20e364d-13ae-4b13-8c37-45baafeecf27\",                        [{\"line\":{\"color\":\"rgba(226, 74, 51, 1.0)\",\"dash\":\"solid\",\"shape\":\"linear\",\"width\":1.3},\"mode\":\"lines\",\"name\":\"equity\",\"text\":\"\",\"x\":[\"2023-08-24 14:59:02\",\"2023-08-24 20:10:37\",\"2023-08-24 20:23:16\",\"2023-08-24 20:23:38\",\"2023-08-24 21:10:45\",\"2023-08-25 08:53:26\",\"2023-08-25 11:02:58\",\"2023-08-25 11:03:03\",\"2023-08-25 11:03:24\",\"2023-08-25 11:49:33\",\"2023-08-25 13:28:13\",\"2023-08-25 14:43:44\",\"2023-08-25 14:46:13\",\"2023-08-25 20:12:43\",\"2023-08-25 20:52:57\",\"2023-08-25 20:52:57\",\"2023-08-25 20:53:00\",\"2023-08-25 20:53:00\",\"2023-08-25 20:53:00\",\"2023-08-25 20:53:01\",\"2023-08-25 21:00:50\",\"2023-08-25 21:21:20\",\"2023-08-26 06:06:29\",\"2023-08-26 06:09:53\",\"2023-08-26 06:51:00\",\"2023-08-26 07:00:18\",\"2023-08-26 07:07:37\",\"2023-08-26 07:27:12\",\"2023-08-26 07:28:01\",\"2023-08-26 07:30:23\",\"2023-08-26 11:20:31\",\"2023-08-26 13:10:05\",\"2023-08-26 13:13:54\",\"2023-08-26 13:15:20\",\"2023-08-26 13:21:19\",\"2023-08-26 14:18:03\",\"2023-08-26 14:28:38\",\"2023-08-26 14:28:38\",\"2023-08-26 14:28:38\",\"2023-08-26 14:28:38\",\"2023-08-26 14:29:26\",\"2023-08-26 14:40:12\",\"2023-08-26 14:41:00\",\"2023-08-26 20:42:37\",\"2023-08-26 20:46:03\",\"2023-08-27 10:28:59\",\"2023-08-27 12:59:45\",\"2023-08-27 13:10:19\",\"2023-08-28 08:08:57\",\"2023-08-28 08:29:06\",\"2023-08-28 13:46:34\",\"2023-08-28 14:01:56\",\"2023-08-28 14:02:38\",\"2023-08-28 14:03:10\",\"2023-08-28 14:05:03\",\"2023-08-28 14:05:03\",\"2023-08-28 14:11:52\",\"2023-08-28 14:12:06\",\"2023-08-28 15:01:34\",\"2023-08-28 17:39:29\",\"2023-08-28 18:23:04\",\"2023-08-29 09:49:16\",\"2023-08-29 10:55:33\",\"2023-08-29 14:06:07\",\"2023-08-29 14:12:07\",\"2023-08-29 14:24:46\",\"2023-08-29 14:37:23\",\"2023-08-29 14:56:09\",\"2023-08-29 16:52:26\",\"2023-08-29 16:52:46\",\"2023-08-29 18:51:23\",\"2023-08-29 18:51:23\",\"2023-08-29 18:51:27\",\"2023-08-29 18:51:28\",\"2023-08-29 18:51:28\",\"2023-08-29 18:51:28\",\"2023-08-29 18:55:52\",\"2023-08-29 19:04:09\",\"2023-08-29 20:40:20\",\"2023-08-29 21:22:54\",\"2023-08-30 07:35:36\",\"2023-08-30 07:38:34\",\"2023-08-30 14:56:15\",\"2023-08-30 14:57:35\",\"2023-08-30 16:04:13\",\"2023-08-30 18:46:47\",\"2023-08-30 18:58:54\",\"2023-08-30 19:02:11\",\"2023-08-30 21:02:24\",\"2023-08-31 08:12:17\",\"2023-08-31 14:50:55\",\"2023-08-31 14:53:45\",\"2023-08-31 14:54:35\",\"2023-08-31 14:56:54\",\"2023-08-31 17:59:25\",\"2023-08-31 18:08:37\",\"2023-08-31 18:11:04\",\"2023-08-31 20:08:54\",\"2023-09-01 04:04:13\",\"2023-09-01 07:28:35\",\"2023-09-01 07:30:54\",\"2023-09-01 10:11:49\",\"2023-09-01 10:45:55\",\"2023-09-02 20:23:16\",\"2023-09-04 14:34:52\",\"2023-09-05 08:33:10\",\"2023-09-05 12:04:53\",\"2023-09-05 21:00:10\",\"2023-09-05 22:09:09\",\"2023-09-05 22:14:48\",\"2023-09-06 07:14:21\",\"2023-09-06 11:43:06\",\"2023-09-06 12:25:45\",\"2023-09-06 15:16:59\",\"2023-09-07 09:16:20\",\"2023-09-07 09:16:52\",\"2023-09-07 13:16:47\",\"2023-09-07 14:53:34\",\"2023-09-07 14:54:18\",\"2023-09-07 14:58:52\",\"2023-09-08 08:48:12\",\"2023-09-08 14:03:15\",\"2023-09-08 14:04:35\",\"2023-09-08 14:11:22\",\"2023-09-08 14:27:21\",\"2023-09-08 15:14:50\",\"2023-09-08 15:34:10\",\"2023-09-08 17:11:07\",\"2023-09-08 18:54:17\",\"2023-09-08 19:06:37\",\"2023-09-08 19:06:41\",\"2023-09-08 19:06:41\",\"2023-09-08 23:22:18\",\"2023-09-09 07:03:38\",\"2023-09-09 08:16:29\",\"2023-09-09 12:02:08\",\"2023-09-09 14:39:20\",\"2023-09-09 15:00:59\",\"2023-09-09 15:04:51\",\"2023-09-09 16:33:49\",\"2023-09-10 09:29:45\",\"2023-09-10 09:34:44\",\"2023-09-10 11:57:42\",\"2023-09-10 18:32:31\",\"2023-09-11 09:51:51\",\"2023-09-11 21:21:47\",\"2023-09-11 21:27:03\",\"2023-09-11 21:30:50\",\"2023-09-12 09:32:52\",\"2023-09-12 09:39:20\",\"2023-09-12 09:44:29\",\"2023-09-12 19:25:09\",\"2023-09-13 12:21:37\",\"2023-09-13 12:27:20\",\"2023-09-13 12:29:03\",\"2023-09-13 16:29:52\",\"2023-09-14 14:21:32\",\"2023-09-14 14:57:37\",\"2023-09-14 20:57:20\",\"2023-09-15 11:14:38\",\"2023-09-15 11:21:16\",\"2023-09-15 11:34:25\",\"2023-09-15 13:23:18\",\"2023-09-15 15:09:30\",\"2023-09-15 18:13:27\",\"2023-09-15 19:10:58\",\"2023-09-15 19:39:41\",\"2023-09-15 20:17:27\",\"2023-09-15 20:42:14\"],\"y\":[0.0022384702127618006,0.0022384702127618006,0.0022384702127618006,0.0022384702127618006,0.0022384702127618006,0.0022384702127618006,0.0022384702127618006,0.0022384702127618006,0.0022384702127618006,-0.004948212606997848,-0.004948212606997848,-0.004948212606997848,-0.004948212606997848,-0.004948212606997848,-0.004948212606997848,-0.004948212606997848,-0.004948212606997848,-0.004948212606997848,-0.006982090599669644,-0.006982090599669644,-0.006982090599669644,-0.006982090599669644,-0.006982090599669644,-0.00712255879628837,-0.00712255879628837,-0.00712255879628837,-0.00712255879628837,-0.00499383751340976,-0.00499383751340976,-0.00499383751340976,-0.00722924088221627,-0.00722924088221627,-0.00722924088221627,-0.00722924088221627,-0.00722924088221627,-0.00722924088221627,-0.00722924088221627,-0.00722924088221627,-0.00722924088221627,-0.00722924088221627,-0.00722924088221627,-0.00722924088221627,-0.00722924088221627,-0.00722924088221627,-0.00722924088221627,-0.00722924088221627,0.09028501806119343,0.09028501806119343,0.09028501806119343,0.09028501806119343,0.09028501806119343,0.09028501806119343,0.09028501806119343,0.09028501806119343,0.15036248619382958,0.21043995432646573,0.21043995432646573,0.21043995432646573,0.21043995432646573,0.21043995432646573,0.21043995432646573,0.21043995432646573,0.21043995432646573,0.21043995432646573,0.21043995432646573,0.265269490383094,0.29358766417649534,0.29358766417649534,0.29358766417649534,0.29358766417649534,0.29358766417649534,0.29358766417649534,0.29358766417649534,0.29358766417649534,0.29358766417649534,0.29358766417649534,0.29358766417649534,0.29358766417649534,0.29358766417649534,0.29358766417649534,0.29358766417649534,0.29358766417649534,0.29358766417649534,0.29358766417649534,0.2817021580262713,0.2817021580262713,0.2817021580262713,0.2817021580262713,0.2817021580262713,0.2817021580262713,0.2817021580262713,0.2817021580262713,0.2817021580262713,0.2817021580262713,0.2775141065683201,0.2775141065683201,0.2775141065683201,0.2775141065683201,0.2766468384628523,0.2766468384628523,0.2766468384628523,0.2766468384628523,0.2766468384628523,0.2766468384628523,0.29498215429867025,0.29498215429867025,0.29498215429867025,0.29498215429867025,0.29498215429867025,0.29498215429867025,0.29498215429867025,0.29498215429867025,0.29498215429867025,0.3211921764821003,0.3211921764821003,0.3211921764821003,0.3265883598546223,0.3265883598546223,0.3265883598546223,0.3265883598546223,0.3265883598546223,0.3265883598546223,0.3265883598546223,0.3265883598546223,0.3265883598546223,0.3265883598546223,0.3265883598546223,0.3265883598546223,0.3265883598546223,0.3265883598546223,0.3265883598546223,0.3265883598546223,0.3265883598546223,0.3265883598546223,0.3265883598546223,0.3265883598546223,0.3265883598546223,0.3265883598546223,0.3265883598546223,0.3265883598546223,0.3265883598546223,0.3265883598546223,0.3265883598546223,0.3265883598546223,0.3265883598546223,0.3265883598546223,0.3408059480049601,0.3408059480049601,0.3408059480049601,0.3408059480049601,0.3408059480049601,0.3408059480049601,0.3408059480049601,0.3408059480049601,0.3408059480049601,0.3408059480049601,0.3408059480049601,0.3408059480049601,0.3408059480049601,0.3408059480049601,0.3408059480049601,0.3408059480049601,0.3408059480049601,0.3408059480049601,0.3408059480049601,0.3408059480049601,0.3408059480049601,0.3408059480049601,0.3408059480049601],\"type\":\"scatter\"},{\"line\":{\"color\":\"rgba(62, 111, 176, 1.0)\",\"dash\":\"solid\",\"shape\":\"linear\",\"width\":1.3},\"mode\":\"lines\",\"name\":\"btc_return_benchmark\",\"text\":\"\",\"x\":[\"2023-08-24 14:59:02\",\"2023-08-24 20:10:37\",\"2023-08-24 20:23:16\",\"2023-08-24 20:23:38\",\"2023-08-24 21:10:45\",\"2023-08-25 08:53:26\",\"2023-08-25 11:02:58\",\"2023-08-25 11:03:03\",\"2023-08-25 11:03:24\",\"2023-08-25 11:49:33\",\"2023-08-25 13:28:13\",\"2023-08-25 14:43:44\",\"2023-08-25 14:46:13\",\"2023-08-25 20:12:43\",\"2023-08-25 20:52:57\",\"2023-08-25 20:52:57\",\"2023-08-25 20:53:00\",\"2023-08-25 20:53:00\",\"2023-08-25 20:53:00\",\"2023-08-25 20:53:01\",\"2023-08-25 21:00:50\",\"2023-08-25 21:21:20\",\"2023-08-26 06:06:29\",\"2023-08-26 06:09:53\",\"2023-08-26 06:51:00\",\"2023-08-26 07:00:18\",\"2023-08-26 07:07:37\",\"2023-08-26 07:27:12\",\"2023-08-26 07:28:01\",\"2023-08-26 07:30:23\",\"2023-08-26 11:20:31\",\"2023-08-26 13:10:05\",\"2023-08-26 13:13:54\",\"2023-08-26 13:15:20\",\"2023-08-26 13:21:19\",\"2023-08-26 14:18:03\",\"2023-08-26 14:28:38\",\"2023-08-26 14:28:38\",\"2023-08-26 14:28:38\",\"2023-08-26 14:28:38\",\"2023-08-26 14:29:26\",\"2023-08-26 14:40:12\",\"2023-08-26 14:41:00\",\"2023-08-26 20:42:37\",\"2023-08-26 20:46:03\",\"2023-08-27 10:28:59\",\"2023-08-27 12:59:45\",\"2023-08-27 13:10:19\",\"2023-08-28 08:08:57\",\"2023-08-28 08:29:06\",\"2023-08-28 13:46:34\",\"2023-08-28 14:01:56\",\"2023-08-28 14:02:38\",\"2023-08-28 14:03:10\",\"2023-08-28 14:05:03\",\"2023-08-28 14:05:03\",\"2023-08-28 14:11:52\",\"2023-08-28 14:12:06\",\"2023-08-28 15:01:34\",\"2023-08-28 17:39:29\",\"2023-08-28 18:23:04\",\"2023-08-29 09:49:16\",\"2023-08-29 10:55:33\",\"2023-08-29 14:06:07\",\"2023-08-29 14:12:07\",\"2023-08-29 14:24:46\",\"2023-08-29 14:37:23\",\"2023-08-29 14:56:09\",\"2023-08-29 16:52:26\",\"2023-08-29 16:52:46\",\"2023-08-29 18:51:23\",\"2023-08-29 18:51:23\",\"2023-08-29 18:51:27\",\"2023-08-29 18:51:28\",\"2023-08-29 18:51:28\",\"2023-08-29 18:51:28\",\"2023-08-29 18:55:52\",\"2023-08-29 19:04:09\",\"2023-08-29 20:40:20\",\"2023-08-29 21:22:54\",\"2023-08-30 07:35:36\",\"2023-08-30 07:38:34\",\"2023-08-30 14:56:15\",\"2023-08-30 14:57:35\",\"2023-08-30 16:04:13\",\"2023-08-30 18:46:47\",\"2023-08-30 18:58:54\",\"2023-08-30 19:02:11\",\"2023-08-30 21:02:24\",\"2023-08-31 08:12:17\",\"2023-08-31 14:50:55\",\"2023-08-31 14:53:45\",\"2023-08-31 14:54:35\",\"2023-08-31 14:56:54\",\"2023-08-31 17:59:25\",\"2023-08-31 18:08:37\",\"2023-08-31 18:11:04\",\"2023-08-31 20:08:54\",\"2023-09-01 04:04:13\",\"2023-09-01 07:28:35\",\"2023-09-01 07:30:54\",\"2023-09-01 10:11:49\",\"2023-09-01 10:45:55\",\"2023-09-02 20:23:16\",\"2023-09-04 14:34:52\",\"2023-09-05 08:33:10\",\"2023-09-05 12:04:53\",\"2023-09-05 21:00:10\",\"2023-09-05 22:09:09\",\"2023-09-05 22:14:48\",\"2023-09-06 07:14:21\",\"2023-09-06 11:43:06\",\"2023-09-06 12:25:45\",\"2023-09-06 15:16:59\",\"2023-09-07 09:16:20\",\"2023-09-07 09:16:52\",\"2023-09-07 13:16:47\",\"2023-09-07 14:53:34\",\"2023-09-07 14:54:18\",\"2023-09-07 14:58:52\",\"2023-09-08 08:48:12\",\"2023-09-08 14:03:15\",\"2023-09-08 14:04:35\",\"2023-09-08 14:11:22\",\"2023-09-08 14:27:21\",\"2023-09-08 15:14:50\",\"2023-09-08 15:34:10\",\"2023-09-08 17:11:07\",\"2023-09-08 18:54:17\",\"2023-09-08 19:06:37\",\"2023-09-08 19:06:41\",\"2023-09-08 19:06:41\",\"2023-09-08 23:22:18\",\"2023-09-09 07:03:38\",\"2023-09-09 08:16:29\",\"2023-09-09 12:02:08\",\"2023-09-09 14:39:20\",\"2023-09-09 15:00:59\",\"2023-09-09 15:04:51\",\"2023-09-09 16:33:49\",\"2023-09-10 09:29:45\",\"2023-09-10 09:34:44\",\"2023-09-10 11:57:42\",\"2023-09-10 18:32:31\",\"2023-09-11 09:51:51\",\"2023-09-11 21:21:47\",\"2023-09-11 21:27:03\",\"2023-09-11 21:30:50\",\"2023-09-12 09:32:52\",\"2023-09-12 09:39:20\",\"2023-09-12 09:44:29\",\"2023-09-12 19:25:09\",\"2023-09-13 12:21:37\",\"2023-09-13 12:27:20\",\"2023-09-13 12:29:03\",\"2023-09-13 16:29:52\",\"2023-09-14 14:21:32\",\"2023-09-14 14:57:37\",\"2023-09-14 20:57:20\",\"2023-09-15 11:14:38\",\"2023-09-15 11:21:16\",\"2023-09-15 11:34:25\",\"2023-09-15 13:23:18\",\"2023-09-15 15:09:30\",\"2023-09-15 18:13:27\",\"2023-09-15 19:10:58\",\"2023-09-15 19:39:41\",\"2023-09-15 20:17:27\",\"2023-09-15 20:42:14\"],\"y\":[0.0,-0.0009430982097216045,-0.001635009888555139,-0.0016304150129899941,-0.0020064289967279825,-0.0013799942946961519,-0.00032776779030507797,-0.00032776779030507797,-0.00032776779030507797,-0.0009205067381935494,0.001890025482414126,-0.007445230040530548,-0.006494090798570218,-0.003868502319454903,-0.0031413632612895537,-0.0031413632612895537,-0.0031413632612895537,-0.0031413632612895537,-0.0031413632612895537,-0.0031413632612895537,-0.0026665594529035053,-0.002529861904843944,-0.0023039471895633934,-0.002310073690316772,-0.001992261463735878,-0.0014133071425426191,-0.0012318095577240618,-0.0016870851449586333,-0.0016932116457120117,-0.0018590100723501202,-0.002567769628255334,-0.0032179445207066726,-0.003319414689434197,-0.003319031783137194,-0.003280358247131465,-0.0028867305737276805,-0.003266190714139361,-0.003266190714139361,-0.003266190714139361,-0.003266190714139361,-0.003266190714139361,-0.002146189795164233,-0.00214580688886723,-0.0034476882989579183,-0.003211818019953294,-0.0011023872293092207,-0.0016441996396850955,-0.0015274132190741252,-0.006813051744042453,-0.006957407418043737,0.0007416894974545674,-0.0007784485019747267,-0.0012015599602543947,-0.0012015599602543947,-0.0008707289195724055,-0.0008707289195724055,-9.878982464794905e-05,-9.878982464794905e-05,0.0007114398999850113,0.0022131983971542812,0.0007711732823301176,-0.005200250420718255,-0.004825002249574384,0.0026504773884259425,0.0024483028635648996,0.030168421334773043,0.049740676710299025,0.049737613459922114,0.06830895177486629,0.06981262480352113,0.07112446177733611,0.07112446177733611,0.07112446177733611,0.07112446177733611,0.07112446177733611,0.07112446177733611,0.07068297081679664,0.06830933468116362,0.060704432714748124,0.059970784249532505,0.05143503707490238,0.051533443993253325,0.03978128392310487,0.03953239482999926,0.041373791212683475,0.042024349011431816,0.04456761263667364,0.04361149561285105,0.04344033649805401,0.04303790197981705,0.04076497020031744,0.03997388579053873,0.03975371466971467,0.04007037817740433,0.00815666994051556,0.009838394397315042,0.010230107539233702,-0.0011192351063809003,-0.0013076250045469529,-0.004940257044997232,-0.004762205616852477,-0.0029097049515527385,-0.00472468079973809,-0.010306688798650598,-0.00853306683055055,-0.0160885738846418,-0.013550288041262015,-0.015245414218459485,-0.014618596610130541,-0.014067594448624487,-0.013389467396486054,-0.014298486945766964,-0.014376599830372427,-0.02147874582871445,-0.013829809638134405,-0.013829809638134405,-0.016405620298628687,-0.01420773815335774,-0.01420773815335774,-0.013297952791482714,0.003173910296541793,-0.008273073454829416,-0.007224293107112256,-0.008184622100202765,-0.007168771694034848,-0.008558721552455295,-0.009123891246953453,-0.012878670396173963,-0.012339921236174667,-0.011706977127092233,-0.011706977127092233,-0.011706977127092233,-0.007710201198113831,-0.008870790184579924,-0.0092253614156812,-0.009919570532297084,-0.011059865485017806,-0.01014280490349806,-0.008576335242121202,-0.007744279858554415,-0.009885874778153725,-0.010382887151770603,-0.012020577384405429,-0.01417289368032304,-0.014399191301900482,-0.035842326844986006,-0.03627654258588098,-0.03571252161027405,-0.012266403227134237,-0.012331497297638827,-0.011217622879417077,0.00043153539681539677,0.0033446865050419383,0.0022660394661520034,0.002984371679484621,0.009187836598566701,0.018567892158270594,0.02366016300321072,0.017405005734021817,0.016849791603247732,0.015220142402851966,0.01587529507716523,0.011759818196090066,0.006071745152884889,0.009074113428332309,0.01021862035032095,0.011423243560952034,0.010734778038792303,0.011534669293403965],\"type\":\"scatter\"}],                        {\"height\":300,\"legend\":{\"bgcolor\":\"#FFFFFF\",\"font\":{\"color\":\"#666666\"}},\"margin\":{\"b\":10,\"l\":10,\"r\":10,\"t\":10},\"paper_bgcolor\":\"#FFFFFF\",\"plot_bgcolor\":\"#E5E5E5\",\"template\":{\"data\":{\"barpolar\":[{\"marker\":{\"line\":{\"color\":\"#E5ECF6\",\"width\":0.5},\"pattern\":{\"fillmode\":\"overlay\",\"size\":10,\"solidity\":0.2}},\"type\":\"barpolar\"}],\"bar\":[{\"error_x\":{\"color\":\"#2a3f5f\"},\"error_y\":{\"color\":\"#2a3f5f\"},\"marker\":{\"line\":{\"color\":\"#E5ECF6\",\"width\":0.5},\"pattern\":{\"fillmode\":\"overlay\",\"size\":10,\"solidity\":0.2}},\"type\":\"bar\"}],\"carpet\":[{\"aaxis\":{\"endlinecolor\":\"#2a3f5f\",\"gridcolor\":\"white\",\"linecolor\":\"white\",\"minorgridcolor\":\"white\",\"startlinecolor\":\"#2a3f5f\"},\"baxis\":{\"endlinecolor\":\"#2a3f5f\",\"gridcolor\":\"white\",\"linecolor\":\"white\",\"minorgridcolor\":\"white\",\"startlinecolor\":\"#2a3f5f\"},\"type\":\"carpet\"}],\"choropleth\":[{\"colorbar\":{\"outlinewidth\":0,\"ticks\":\"\"},\"type\":\"choropleth\"}],\"contourcarpet\":[{\"colorbar\":{\"outlinewidth\":0,\"ticks\":\"\"},\"type\":\"contourcarpet\"}],\"contour\":[{\"colorbar\":{\"outlinewidth\":0,\"ticks\":\"\"},\"colorscale\":[[0.0,\"#0d0887\"],[0.1111111111111111,\"#46039f\"],[0.2222222222222222,\"#7201a8\"],[0.3333333333333333,\"#9c179e\"],[0.4444444444444444,\"#bd3786\"],[0.5555555555555556,\"#d8576b\"],[0.6666666666666666,\"#ed7953\"],[0.7777777777777778,\"#fb9f3a\"],[0.8888888888888888,\"#fdca26\"],[1.0,\"#f0f921\"]],\"type\":\"contour\"}],\"heatmapgl\":[{\"colorbar\":{\"outlinewidth\":0,\"ticks\":\"\"},\"colorscale\":[[0.0,\"#0d0887\"],[0.1111111111111111,\"#46039f\"],[0.2222222222222222,\"#7201a8\"],[0.3333333333333333,\"#9c179e\"],[0.4444444444444444,\"#bd3786\"],[0.5555555555555556,\"#d8576b\"],[0.6666666666666666,\"#ed7953\"],[0.7777777777777778,\"#fb9f3a\"],[0.8888888888888888,\"#fdca26\"],[1.0,\"#f0f921\"]],\"type\":\"heatmapgl\"}],\"heatmap\":[{\"colorbar\":{\"outlinewidth\":0,\"ticks\":\"\"},\"colorscale\":[[0.0,\"#0d0887\"],[0.1111111111111111,\"#46039f\"],[0.2222222222222222,\"#7201a8\"],[0.3333333333333333,\"#9c179e\"],[0.4444444444444444,\"#bd3786\"],[0.5555555555555556,\"#d8576b\"],[0.6666666666666666,\"#ed7953\"],[0.7777777777777778,\"#fb9f3a\"],[0.8888888888888888,\"#fdca26\"],[1.0,\"#f0f921\"]],\"type\":\"heatmap\"}],\"histogram2dcontour\":[{\"colorbar\":{\"outlinewidth\":0,\"ticks\":\"\"},\"colorscale\":[[0.0,\"#0d0887\"],[0.1111111111111111,\"#46039f\"],[0.2222222222222222,\"#7201a8\"],[0.3333333333333333,\"#9c179e\"],[0.4444444444444444,\"#bd3786\"],[0.5555555555555556,\"#d8576b\"],[0.6666666666666666,\"#ed7953\"],[0.7777777777777778,\"#fb9f3a\"],[0.8888888888888888,\"#fdca26\"],[1.0,\"#f0f921\"]],\"type\":\"histogram2dcontour\"}],\"histogram2d\":[{\"colorbar\":{\"outlinewidth\":0,\"ticks\":\"\"},\"colorscale\":[[0.0,\"#0d0887\"],[0.1111111111111111,\"#46039f\"],[0.2222222222222222,\"#7201a8\"],[0.3333333333333333,\"#9c179e\"],[0.4444444444444444,\"#bd3786\"],[0.5555555555555556,\"#d8576b\"],[0.6666666666666666,\"#ed7953\"],[0.7777777777777778,\"#fb9f3a\"],[0.8888888888888888,\"#fdca26\"],[1.0,\"#f0f921\"]],\"type\":\"histogram2d\"}],\"histogram\":[{\"marker\":{\"pattern\":{\"fillmode\":\"overlay\",\"size\":10,\"solidity\":0.2}},\"type\":\"histogram\"}],\"mesh3d\":[{\"colorbar\":{\"outlinewidth\":0,\"ticks\":\"\"},\"type\":\"mesh3d\"}],\"parcoords\":[{\"line\":{\"colorbar\":{\"outlinewidth\":0,\"ticks\":\"\"}},\"type\":\"parcoords\"}],\"pie\":[{\"automargin\":true,\"type\":\"pie\"}],\"scatter3d\":[{\"line\":{\"colorbar\":{\"outlinewidth\":0,\"ticks\":\"\"}},\"marker\":{\"colorbar\":{\"outlinewidth\":0,\"ticks\":\"\"}},\"type\":\"scatter3d\"}],\"scattercarpet\":[{\"marker\":{\"colorbar\":{\"outlinewidth\":0,\"ticks\":\"\"}},\"type\":\"scattercarpet\"}],\"scattergeo\":[{\"marker\":{\"colorbar\":{\"outlinewidth\":0,\"ticks\":\"\"}},\"type\":\"scattergeo\"}],\"scattergl\":[{\"marker\":{\"colorbar\":{\"outlinewidth\":0,\"ticks\":\"\"}},\"type\":\"scattergl\"}],\"scattermapbox\":[{\"marker\":{\"colorbar\":{\"outlinewidth\":0,\"ticks\":\"\"}},\"type\":\"scattermapbox\"}],\"scatterpolargl\":[{\"marker\":{\"colorbar\":{\"outlinewidth\":0,\"ticks\":\"\"}},\"type\":\"scatterpolargl\"}],\"scatterpolar\":[{\"marker\":{\"colorbar\":{\"outlinewidth\":0,\"ticks\":\"\"}},\"type\":\"scatterpolar\"}],\"scatter\":[{\"fillpattern\":{\"fillmode\":\"overlay\",\"size\":10,\"solidity\":0.2},\"type\":\"scatter\"}],\"scatterternary\":[{\"marker\":{\"colorbar\":{\"outlinewidth\":0,\"ticks\":\"\"}},\"type\":\"scatterternary\"}],\"surface\":[{\"colorbar\":{\"outlinewidth\":0,\"ticks\":\"\"},\"colorscale\":[[0.0,\"#0d0887\"],[0.1111111111111111,\"#46039f\"],[0.2222222222222222,\"#7201a8\"],[0.3333333333333333,\"#9c179e\"],[0.4444444444444444,\"#bd3786\"],[0.5555555555555556,\"#d8576b\"],[0.6666666666666666,\"#ed7953\"],[0.7777777777777778,\"#fb9f3a\"],[0.8888888888888888,\"#fdca26\"],[1.0,\"#f0f921\"]],\"type\":\"surface\"}],\"table\":[{\"cells\":{\"fill\":{\"color\":\"#EBF0F8\"},\"line\":{\"color\":\"white\"}},\"header\":{\"fill\":{\"color\":\"#C8D4E3\"},\"line\":{\"color\":\"white\"}},\"type\":\"table\"}]},\"layout\":{\"annotationdefaults\":{\"arrowcolor\":\"#2a3f5f\",\"arrowhead\":0,\"arrowwidth\":1},\"autotypenumbers\":\"strict\",\"coloraxis\":{\"colorbar\":{\"outlinewidth\":0,\"ticks\":\"\"}},\"colorscale\":{\"diverging\":[[0,\"#8e0152\"],[0.1,\"#c51b7d\"],[0.2,\"#de77ae\"],[0.3,\"#f1b6da\"],[0.4,\"#fde0ef\"],[0.5,\"#f7f7f7\"],[0.6,\"#e6f5d0\"],[0.7,\"#b8e186\"],[0.8,\"#7fbc41\"],[0.9,\"#4d9221\"],[1,\"#276419\"]],\"sequential\":[[0.0,\"#0d0887\"],[0.1111111111111111,\"#46039f\"],[0.2222222222222222,\"#7201a8\"],[0.3333333333333333,\"#9c179e\"],[0.4444444444444444,\"#bd3786\"],[0.5555555555555556,\"#d8576b\"],[0.6666666666666666,\"#ed7953\"],[0.7777777777777778,\"#fb9f3a\"],[0.8888888888888888,\"#fdca26\"],[1.0,\"#f0f921\"]],\"sequentialminus\":[[0.0,\"#0d0887\"],[0.1111111111111111,\"#46039f\"],[0.2222222222222222,\"#7201a8\"],[0.3333333333333333,\"#9c179e\"],[0.4444444444444444,\"#bd3786\"],[0.5555555555555556,\"#d8576b\"],[0.6666666666666666,\"#ed7953\"],[0.7777777777777778,\"#fb9f3a\"],[0.8888888888888888,\"#fdca26\"],[1.0,\"#f0f921\"]]},\"colorway\":[\"#636efa\",\"#EF553B\",\"#00cc96\",\"#ab63fa\",\"#FFA15A\",\"#19d3f3\",\"#FF6692\",\"#B6E880\",\"#FF97FF\",\"#FECB52\"],\"font\":{\"color\":\"#2a3f5f\"},\"geo\":{\"bgcolor\":\"white\",\"lakecolor\":\"white\",\"landcolor\":\"#E5ECF6\",\"showlakes\":true,\"showland\":true,\"subunitcolor\":\"white\"},\"hoverlabel\":{\"align\":\"left\"},\"hovermode\":\"closest\",\"mapbox\":{\"style\":\"light\"},\"paper_bgcolor\":\"white\",\"plot_bgcolor\":\"#E5ECF6\",\"polar\":{\"angularaxis\":{\"gridcolor\":\"white\",\"linecolor\":\"white\",\"ticks\":\"\"},\"bgcolor\":\"#E5ECF6\",\"radialaxis\":{\"gridcolor\":\"white\",\"linecolor\":\"white\",\"ticks\":\"\"}},\"scene\":{\"xaxis\":{\"backgroundcolor\":\"#E5ECF6\",\"gridcolor\":\"white\",\"gridwidth\":2,\"linecolor\":\"white\",\"showbackground\":true,\"ticks\":\"\",\"zerolinecolor\":\"white\"},\"yaxis\":{\"backgroundcolor\":\"#E5ECF6\",\"gridcolor\":\"white\",\"gridwidth\":2,\"linecolor\":\"white\",\"showbackground\":true,\"ticks\":\"\",\"zerolinecolor\":\"white\"},\"zaxis\":{\"backgroundcolor\":\"#E5ECF6\",\"gridcolor\":\"white\",\"gridwidth\":2,\"linecolor\":\"white\",\"showbackground\":true,\"ticks\":\"\",\"zerolinecolor\":\"white\"}},\"shapedefaults\":{\"line\":{\"color\":\"#2a3f5f\"}},\"ternary\":{\"aaxis\":{\"gridcolor\":\"white\",\"linecolor\":\"white\",\"ticks\":\"\"},\"baxis\":{\"gridcolor\":\"white\",\"linecolor\":\"white\",\"ticks\":\"\"},\"bgcolor\":\"#E5ECF6\",\"caxis\":{\"gridcolor\":\"white\",\"linecolor\":\"white\",\"ticks\":\"\"}},\"title\":{\"x\":0.05},\"xaxis\":{\"automargin\":true,\"gridcolor\":\"white\",\"linecolor\":\"white\",\"ticks\":\"\",\"title\":{\"standoff\":15},\"zerolinecolor\":\"white\",\"zerolinewidth\":2},\"yaxis\":{\"automargin\":true,\"gridcolor\":\"white\",\"linecolor\":\"white\",\"ticks\":\"\",\"title\":{\"standoff\":15},\"zerolinecolor\":\"white\",\"zerolinewidth\":2}}},\"title\":{\"font\":{\"color\":\"#151516\"}},\"xaxis\":{\"gridcolor\":\"#F6F6F6\",\"showgrid\":true,\"tickfont\":{\"color\":\"#666666\"},\"title\":{\"font\":{\"color\":\"#666666\"},\"text\":\"\"},\"zerolinecolor\":\"#F6F6F6\"},\"yaxis\":{\"gridcolor\":\"#F6F6F6\",\"showgrid\":true,\"tickfont\":{\"color\":\"#666666\"},\"title\":{\"font\":{\"color\":\"#666666\"},\"text\":\"Return\"},\"zerolinecolor\":\"#F6F6F6\"}},                        {\"showLink\": true, \"linkText\": \"Export to plot.ly\", \"plotlyServerURL\": \"https://plot.ly\", \"responsive\": true}                    ).then(function(){\n",
       "                            \n",
       "var gd = document.getElementById('f20e364d-13ae-4b13-8c37-45baafeecf27');\n",
       "var x = new MutationObserver(function (mutations, observer) {{\n",
       "        var display = window.getComputedStyle(gd).display;\n",
       "        if (!display || display === 'none') {{\n",
       "            console.log([gd, 'removed!']);\n",
       "            Plotly.purge(gd);\n",
       "            observer.disconnect();\n",
       "        }}\n",
       "}});\n",
       "\n",
       "// Listen for the removal of the full notebook cells\n",
       "var notebookContainer = gd.closest('#notebook-container');\n",
       "if (notebookContainer) {{\n",
       "    x.observe(notebookContainer, {childList: true});\n",
       "}}\n",
       "\n",
       "// Listen for the clearing of the current output cell\n",
       "var outputEl = gd.closest('.output');\n",
       "if (outputEl) {{\n",
       "    x.observe(outputEl, {childList: true});\n",
       "}}\n",
       "\n",
       "                        })                };                });            </script>        </div>"
      ]
     },
     "metadata": {},
     "output_type": "display_data"
    }
   ],
   "source": [
    "merged['btc_return_benchmark'] = merged['close'] / merged['close'].iloc[0] - 1\n",
    "merged.set_index('date')[['equity', 'btc_return_benchmark']].iplot(yTitle = 'Return')"
   ]
  }
 ],
 "metadata": {
  "kernelspec": {
   "display_name": "Python 3.10.6 ('env': venv)",
   "language": "python",
   "name": "python3"
  },
  "language_info": {
   "codemirror_mode": {
    "name": "ipython",
    "version": 3
   },
   "file_extension": ".py",
   "mimetype": "text/x-python",
   "name": "python",
   "nbconvert_exporter": "python",
   "pygments_lexer": "ipython3",
   "version": "3.11.4"
  },
  "orig_nbformat": 4,
  "vscode": {
   "interpreter": {
    "hash": "7291192e6945a3c8ed0f956f4124ad6de62ed7ea9152f7ae8e29637075883be3"
   }
  }
 },
 "nbformat": 4,
 "nbformat_minor": 2
}
